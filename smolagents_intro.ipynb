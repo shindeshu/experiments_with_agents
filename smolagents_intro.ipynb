{
 "cells": [
  {
   "cell_type": "code",
   "execution_count": 29,
   "id": "40414c89-4ced-460c-b310-bd02d4c3dcc8",
   "metadata": {},
   "outputs": [],
   "source": [
    "# !pip install smolagents\n",
    "# !pip install prettyprinter gradio-client --quiet\n",
    "# !pip install arize-phoenix opentelemetry-sdk opentelemetry-exporter-otlp openinference-instrumentation-smolagents --quiet"
   ]
  },
  {
   "cell_type": "code",
   "execution_count": 2,
   "id": "f6291c03-0445-425e-9959-5f8561d83ba4",
   "metadata": {},
   "outputs": [],
   "source": [
    "from prettyprinter import pprint"
   ]
  },
  {
   "cell_type": "markdown",
   "id": "b9500857-9053-462c-b2b3-098905d9e0df",
   "metadata": {},
   "source": [
    "## Setup Model and Telemetry\n",
    "\n",
    "### Model: 4o-mini"
   ]
  },
  {
   "cell_type": "code",
   "execution_count": 3,
   "id": "3f7cb110-0286-40bc-89a0-4da0497c5076",
   "metadata": {},
   "outputs": [],
   "source": [
    "import os\n",
    "from smolagents import CodeAgent, LiteLLMModel\n",
    "from smolagents import OpenAIServerModel\n",
    "\n",
    "model = OpenAIServerModel(\n",
    "    model_id=\"gpt-4o-mini\",\n",
    "    api_base=\"https://api.openai.com/v1\",\n",
    "    api_key=os.environ[\"OPENAI_API_KEY\"],\n",
    ")"
   ]
  },
  {
   "cell_type": "markdown",
   "id": "e68315e9-b5ed-4473-9a0f-5ee50580da4e",
   "metadata": {},
   "source": [
    "### Telemetry\n",
    "\n",
    "This is useful for tracking the inputs and outputs, since tracking usage of agents is complicated we use OpenTelemetry.\n",
    "\n",
    "Run\n",
    "\n",
    "```bash\n",
    "python -m phoenix.server.main serve\n",
    "```\n",
    "and check at  http://0.0.0.0:6006/projects/  to see your usage"
   ]
  },
  {
   "cell_type": "code",
   "execution_count": 30,
   "id": "2a8e748c-a0fe-47f8-920e-d521c906bc43",
   "metadata": {},
   "outputs": [],
   "source": [
    "# from opentelemetry import trace\n",
    "# from opentelemetry.sdk.trace import TracerProvider\n",
    "# from opentelemetry.sdk.trace.export import BatchSpanProcessor\n",
    "\n",
    "# from openinference.instrumentation.smolagents import SmolagentsInstrumentor\n",
    "# from opentelemetry.exporter.otlp.proto.http.trace_exporter import OTLPSpanExporter\n",
    "# from opentelemetry.sdk.trace.export import ConsoleSpanExporter, SimpleSpanProcessor\n",
    "\n",
    "# endpoint = \"http://0.0.0.0:6006/v1/traces\"\n",
    "# trace_provider = TracerProvider()\n",
    "# trace_provider.add_span_processor(SimpleSpanProcessor(OTLPSpanExporter(endpoint)))\n",
    "\n",
    "# SmolagentsInstrumentor().instrument(tracer_provider=trace_provider)"
   ]
  },
  {
   "cell_type": "markdown",
   "id": "d4c90109-38e1-44c3-92f0-1c00ed5a5ffb",
   "metadata": {},
   "source": [
    "## Basic Query without any Tools"
   ]
  },
  {
   "cell_type": "code",
   "execution_count": 9,
   "id": "c7fd7652-7a81-4513-9ed6-d426e45f473c",
   "metadata": {},
   "outputs": [],
   "source": [
    "agent = CodeAgent(tools=[], model=model, add_base_tools=False)"
   ]
  },
  {
   "cell_type": "code",
   "execution_count": 10,
   "id": "bf6acaad-087e-44ab-a69e-2298689b2300",
   "metadata": {},
   "outputs": [
    {
     "data": {
      "text/html": [
       "<pre style=\"white-space:pre;overflow-x:auto;line-height:normal;font-family:Menlo,'DejaVu Sans Mono',consolas,'Courier New',monospace\"><span style=\"color: #d4b702; text-decoration-color: #d4b702\">╭──────────────────────────────────────────────────── </span><span style=\"color: #d4b702; text-decoration-color: #d4b702; font-weight: bold\">New run</span><span style=\"color: #d4b702; text-decoration-color: #d4b702\"> ────────────────────────────────────────────────────╮</span>\n",
       "<span style=\"color: #d4b702; text-decoration-color: #d4b702\">│</span>                                                                                                                 <span style=\"color: #d4b702; text-decoration-color: #d4b702\">│</span>\n",
       "<span style=\"color: #d4b702; text-decoration-color: #d4b702\">│</span> <span style=\"font-weight: bold\">Could you give me the 118th number in the Fibonacci sequence?</span>                                                   <span style=\"color: #d4b702; text-decoration-color: #d4b702\">│</span>\n",
       "<span style=\"color: #d4b702; text-decoration-color: #d4b702\">│</span>                                                                                                                 <span style=\"color: #d4b702; text-decoration-color: #d4b702\">│</span>\n",
       "<span style=\"color: #d4b702; text-decoration-color: #d4b702\">╰─ OpenAIServerModel - gpt-4o ────────────────────────────────────────────────────────────────────────────────────╯</span>\n",
       "</pre>\n"
      ],
      "text/plain": [
       "\u001b[38;2;212;183;2m╭─\u001b[0m\u001b[38;2;212;183;2m───────────────────────────────────────────────────\u001b[0m\u001b[38;2;212;183;2m \u001b[0m\u001b[1;38;2;212;183;2mNew run\u001b[0m\u001b[38;2;212;183;2m \u001b[0m\u001b[38;2;212;183;2m───────────────────────────────────────────────────\u001b[0m\u001b[38;2;212;183;2m─╮\u001b[0m\n",
       "\u001b[38;2;212;183;2m│\u001b[0m                                                                                                                 \u001b[38;2;212;183;2m│\u001b[0m\n",
       "\u001b[38;2;212;183;2m│\u001b[0m \u001b[1mCould you give me the 118th number in the Fibonacci sequence?\u001b[0m                                                   \u001b[38;2;212;183;2m│\u001b[0m\n",
       "\u001b[38;2;212;183;2m│\u001b[0m                                                                                                                 \u001b[38;2;212;183;2m│\u001b[0m\n",
       "\u001b[38;2;212;183;2m╰─\u001b[0m\u001b[38;2;212;183;2m OpenAIServerModel - gpt-4o \u001b[0m\u001b[38;2;212;183;2m───────────────────────────────────────────────────────────────────────────────────\u001b[0m\u001b[38;2;212;183;2m─╯\u001b[0m\n"
      ]
     },
     "metadata": {},
     "output_type": "display_data"
    },
    {
     "data": {
      "text/html": [
       "<pre style=\"white-space:pre;overflow-x:auto;line-height:normal;font-family:Menlo,'DejaVu Sans Mono',consolas,'Courier New',monospace\"><span style=\"color: #d4b702; text-decoration-color: #d4b702\">━━━━━━━━━━━━━━━━━━━━━━━━━━━━━━━━━━━━━━━━━━━━━━━━━━━━━ </span><span style=\"font-weight: bold\">Step </span><span style=\"color: #008080; text-decoration-color: #008080; font-weight: bold\">1</span><span style=\"color: #d4b702; text-decoration-color: #d4b702\"> ━━━━━━━━━━━━━━━━━━━━━━━━━━━━━━━━━━━━━━━━━━━━━━━━━━━━━━</span>\n",
       "</pre>\n"
      ],
      "text/plain": [
       "\u001b[38;2;212;183;2m━━━━━━━━━━━━━━━━━━━━━━━━━━━━━━━━━━━━━━━━━━━━━━━━━━━━━ \u001b[0m\u001b[1mStep \u001b[0m\u001b[1;36m1\u001b[0m\u001b[38;2;212;183;2m ━━━━━━━━━━━━━━━━━━━━━━━━━━━━━━━━━━━━━━━━━━━━━━━━━━━━━━\u001b[0m\n"
      ]
     },
     "metadata": {},
     "output_type": "display_data"
    },
    {
     "data": {
      "text/html": [
       "<pre style=\"white-space:pre;overflow-x:auto;line-height:normal;font-family:Menlo,'DejaVu Sans Mono',consolas,'Courier New',monospace\"> ─ <span style=\"font-weight: bold\">Executing parsed code:</span> ──────────────────────────────────────────────────────────────────────────────────────── \n",
       "  <span style=\"color: #ff4689; text-decoration-color: #ff4689; background-color: #272822\">import</span><span style=\"color: #f8f8f2; text-decoration-color: #f8f8f2; background-color: #272822\"> math</span><span style=\"background-color: #272822\">                                                                                                    </span>  \n",
       "  <span style=\"background-color: #272822\">                                                                                                               </span>  \n",
       "  <span style=\"color: #66d9ef; text-decoration-color: #66d9ef; background-color: #272822\">def</span><span style=\"color: #f8f8f2; text-decoration-color: #f8f8f2; background-color: #272822\"> </span><span style=\"color: #a6e22e; text-decoration-color: #a6e22e; background-color: #272822\">fibonacci</span><span style=\"color: #f8f8f2; text-decoration-color: #f8f8f2; background-color: #272822\">(n):</span><span style=\"background-color: #272822\">                                                                                              </span>  \n",
       "  <span style=\"color: #f8f8f2; text-decoration-color: #f8f8f2; background-color: #272822\">    a, b </span><span style=\"color: #ff4689; text-decoration-color: #ff4689; background-color: #272822\">=</span><span style=\"color: #f8f8f2; text-decoration-color: #f8f8f2; background-color: #272822\"> </span><span style=\"color: #ae81ff; text-decoration-color: #ae81ff; background-color: #272822\">0</span><span style=\"color: #f8f8f2; text-decoration-color: #f8f8f2; background-color: #272822\">, </span><span style=\"color: #ae81ff; text-decoration-color: #ae81ff; background-color: #272822\">1</span><span style=\"background-color: #272822\">                                                                                                </span>  \n",
       "  <span style=\"color: #f8f8f2; text-decoration-color: #f8f8f2; background-color: #272822\">    </span><span style=\"color: #66d9ef; text-decoration-color: #66d9ef; background-color: #272822\">for</span><span style=\"color: #f8f8f2; text-decoration-color: #f8f8f2; background-color: #272822\"> _ </span><span style=\"color: #ff4689; text-decoration-color: #ff4689; background-color: #272822\">in</span><span style=\"color: #f8f8f2; text-decoration-color: #f8f8f2; background-color: #272822\"> range(n):</span><span style=\"background-color: #272822\">                                                                                         </span>  \n",
       "  <span style=\"color: #f8f8f2; text-decoration-color: #f8f8f2; background-color: #272822\">        a, b </span><span style=\"color: #ff4689; text-decoration-color: #ff4689; background-color: #272822\">=</span><span style=\"color: #f8f8f2; text-decoration-color: #f8f8f2; background-color: #272822\"> b, a </span><span style=\"color: #ff4689; text-decoration-color: #ff4689; background-color: #272822\">+</span><span style=\"color: #f8f8f2; text-decoration-color: #f8f8f2; background-color: #272822\"> b</span><span style=\"background-color: #272822\">                                                                                        </span>  \n",
       "  <span style=\"color: #f8f8f2; text-decoration-color: #f8f8f2; background-color: #272822\">    </span><span style=\"color: #66d9ef; text-decoration-color: #66d9ef; background-color: #272822\">return</span><span style=\"color: #f8f8f2; text-decoration-color: #f8f8f2; background-color: #272822\"> a</span><span style=\"background-color: #272822\">                                                                                                   </span>  \n",
       "  <span style=\"background-color: #272822\">                                                                                                               </span>  \n",
       "  <span style=\"color: #f8f8f2; text-decoration-color: #f8f8f2; background-color: #272822\">fibonacci_118 </span><span style=\"color: #ff4689; text-decoration-color: #ff4689; background-color: #272822\">=</span><span style=\"color: #f8f8f2; text-decoration-color: #f8f8f2; background-color: #272822\"> fibonacci(</span><span style=\"color: #ae81ff; text-decoration-color: #ae81ff; background-color: #272822\">118</span><span style=\"color: #f8f8f2; text-decoration-color: #f8f8f2; background-color: #272822\">)</span><span style=\"background-color: #272822\">                                                                                 </span>  \n",
       "  <span style=\"color: #f8f8f2; text-decoration-color: #f8f8f2; background-color: #272822\">final_answer(fibonacci_118)</span><span style=\"background-color: #272822\">                                                                                    </span>  \n",
       " ───────────────────────────────────────────────────────────────────────────────────────────────────────────────── \n",
       "</pre>\n"
      ],
      "text/plain": [
       " ─ \u001b[1mExecuting parsed code:\u001b[0m ──────────────────────────────────────────────────────────────────────────────────────── \n",
       "  \u001b[38;2;255;70;137;48;2;39;40;34mimport\u001b[0m\u001b[38;2;248;248;242;48;2;39;40;34m \u001b[0m\u001b[38;2;248;248;242;48;2;39;40;34mmath\u001b[0m\u001b[48;2;39;40;34m                                                                                                    \u001b[0m  \n",
       "  \u001b[48;2;39;40;34m                                                                                                               \u001b[0m  \n",
       "  \u001b[38;2;102;217;239;48;2;39;40;34mdef\u001b[0m\u001b[38;2;248;248;242;48;2;39;40;34m \u001b[0m\u001b[38;2;166;226;46;48;2;39;40;34mfibonacci\u001b[0m\u001b[38;2;248;248;242;48;2;39;40;34m(\u001b[0m\u001b[38;2;248;248;242;48;2;39;40;34mn\u001b[0m\u001b[38;2;248;248;242;48;2;39;40;34m)\u001b[0m\u001b[38;2;248;248;242;48;2;39;40;34m:\u001b[0m\u001b[48;2;39;40;34m                                                                                              \u001b[0m  \n",
       "  \u001b[38;2;248;248;242;48;2;39;40;34m    \u001b[0m\u001b[38;2;248;248;242;48;2;39;40;34ma\u001b[0m\u001b[38;2;248;248;242;48;2;39;40;34m,\u001b[0m\u001b[38;2;248;248;242;48;2;39;40;34m \u001b[0m\u001b[38;2;248;248;242;48;2;39;40;34mb\u001b[0m\u001b[38;2;248;248;242;48;2;39;40;34m \u001b[0m\u001b[38;2;255;70;137;48;2;39;40;34m=\u001b[0m\u001b[38;2;248;248;242;48;2;39;40;34m \u001b[0m\u001b[38;2;174;129;255;48;2;39;40;34m0\u001b[0m\u001b[38;2;248;248;242;48;2;39;40;34m,\u001b[0m\u001b[38;2;248;248;242;48;2;39;40;34m \u001b[0m\u001b[38;2;174;129;255;48;2;39;40;34m1\u001b[0m\u001b[48;2;39;40;34m                                                                                                \u001b[0m  \n",
       "  \u001b[38;2;248;248;242;48;2;39;40;34m    \u001b[0m\u001b[38;2;102;217;239;48;2;39;40;34mfor\u001b[0m\u001b[38;2;248;248;242;48;2;39;40;34m \u001b[0m\u001b[38;2;248;248;242;48;2;39;40;34m_\u001b[0m\u001b[38;2;248;248;242;48;2;39;40;34m \u001b[0m\u001b[38;2;255;70;137;48;2;39;40;34min\u001b[0m\u001b[38;2;248;248;242;48;2;39;40;34m \u001b[0m\u001b[38;2;248;248;242;48;2;39;40;34mrange\u001b[0m\u001b[38;2;248;248;242;48;2;39;40;34m(\u001b[0m\u001b[38;2;248;248;242;48;2;39;40;34mn\u001b[0m\u001b[38;2;248;248;242;48;2;39;40;34m)\u001b[0m\u001b[38;2;248;248;242;48;2;39;40;34m:\u001b[0m\u001b[48;2;39;40;34m                                                                                         \u001b[0m  \n",
       "  \u001b[38;2;248;248;242;48;2;39;40;34m        \u001b[0m\u001b[38;2;248;248;242;48;2;39;40;34ma\u001b[0m\u001b[38;2;248;248;242;48;2;39;40;34m,\u001b[0m\u001b[38;2;248;248;242;48;2;39;40;34m \u001b[0m\u001b[38;2;248;248;242;48;2;39;40;34mb\u001b[0m\u001b[38;2;248;248;242;48;2;39;40;34m \u001b[0m\u001b[38;2;255;70;137;48;2;39;40;34m=\u001b[0m\u001b[38;2;248;248;242;48;2;39;40;34m \u001b[0m\u001b[38;2;248;248;242;48;2;39;40;34mb\u001b[0m\u001b[38;2;248;248;242;48;2;39;40;34m,\u001b[0m\u001b[38;2;248;248;242;48;2;39;40;34m \u001b[0m\u001b[38;2;248;248;242;48;2;39;40;34ma\u001b[0m\u001b[38;2;248;248;242;48;2;39;40;34m \u001b[0m\u001b[38;2;255;70;137;48;2;39;40;34m+\u001b[0m\u001b[38;2;248;248;242;48;2;39;40;34m \u001b[0m\u001b[38;2;248;248;242;48;2;39;40;34mb\u001b[0m\u001b[48;2;39;40;34m                                                                                        \u001b[0m  \n",
       "  \u001b[38;2;248;248;242;48;2;39;40;34m    \u001b[0m\u001b[38;2;102;217;239;48;2;39;40;34mreturn\u001b[0m\u001b[38;2;248;248;242;48;2;39;40;34m \u001b[0m\u001b[38;2;248;248;242;48;2;39;40;34ma\u001b[0m\u001b[48;2;39;40;34m                                                                                                   \u001b[0m  \n",
       "  \u001b[48;2;39;40;34m                                                                                                               \u001b[0m  \n",
       "  \u001b[38;2;248;248;242;48;2;39;40;34mfibonacci_118\u001b[0m\u001b[38;2;248;248;242;48;2;39;40;34m \u001b[0m\u001b[38;2;255;70;137;48;2;39;40;34m=\u001b[0m\u001b[38;2;248;248;242;48;2;39;40;34m \u001b[0m\u001b[38;2;248;248;242;48;2;39;40;34mfibonacci\u001b[0m\u001b[38;2;248;248;242;48;2;39;40;34m(\u001b[0m\u001b[38;2;174;129;255;48;2;39;40;34m118\u001b[0m\u001b[38;2;248;248;242;48;2;39;40;34m)\u001b[0m\u001b[48;2;39;40;34m                                                                                 \u001b[0m  \n",
       "  \u001b[38;2;248;248;242;48;2;39;40;34mfinal_answer\u001b[0m\u001b[38;2;248;248;242;48;2;39;40;34m(\u001b[0m\u001b[38;2;248;248;242;48;2;39;40;34mfibonacci_118\u001b[0m\u001b[38;2;248;248;242;48;2;39;40;34m)\u001b[0m\u001b[48;2;39;40;34m                                                                                    \u001b[0m  \n",
       " ───────────────────────────────────────────────────────────────────────────────────────────────────────────────── \n"
      ]
     },
     "metadata": {},
     "output_type": "display_data"
    },
    {
     "data": {
      "text/html": [
       "<pre style=\"white-space:pre;overflow-x:auto;line-height:normal;font-family:Menlo,'DejaVu Sans Mono',consolas,'Courier New',monospace\"><span style=\"color: #d4b702; text-decoration-color: #d4b702; font-weight: bold\">Out - Final answer: 2046711111473984623691759</span>\n",
       "</pre>\n"
      ],
      "text/plain": [
       "\u001b[1;38;2;212;183;2mOut - Final answer: 2046711111473984623691759\u001b[0m\n"
      ]
     },
     "metadata": {},
     "output_type": "display_data"
    },
    {
     "data": {
      "text/html": [
       "<pre style=\"white-space:pre;overflow-x:auto;line-height:normal;font-family:Menlo,'DejaVu Sans Mono',consolas,'Courier New',monospace\"><span style=\"color: #7f7f7f; text-decoration-color: #7f7f7f\">[Step 0: Duration 3.12 seconds| Input tokens: 1,961 | Output tokens: 129]</span>\n",
       "</pre>\n"
      ],
      "text/plain": [
       "\u001b[2m[Step 0: Duration 3.12 seconds| Input tokens: 1,961 | Output tokens: 129]\u001b[0m\n"
      ]
     },
     "metadata": {},
     "output_type": "display_data"
    },
    {
     "data": {
      "text/plain": [
       "2046711111473984623691759"
      ]
     },
     "execution_count": 10,
     "metadata": {},
     "output_type": "execute_result"
    }
   ],
   "source": [
    "agent.run(\n",
    "    \"Could you give me the 118th number in the Fibonacci sequence?\",\n",
    ")"
   ]
  },
  {
   "cell_type": "code",
   "execution_count": 12,
   "id": "f3d7c25c-5806-4c6a-b84f-a4bedc051c69",
   "metadata": {},
   "outputs": [
    {
     "data": {
      "text/html": [
       "<pre style=\"white-space:pre;overflow-x:auto;line-height:normal;font-family:Menlo,'DejaVu Sans Mono',consolas,'Courier New',monospace\"><span style=\"color: #d4b702; text-decoration-color: #d4b702\">╭──────────────────────────────────────────────────── </span><span style=\"color: #d4b702; text-decoration-color: #d4b702; font-weight: bold\">New run</span><span style=\"color: #d4b702; text-decoration-color: #d4b702\"> ────────────────────────────────────────────────────╮</span>\n",
       "<span style=\"color: #d4b702; text-decoration-color: #d4b702\">│</span>                                                                                                                 <span style=\"color: #d4b702; text-decoration-color: #d4b702\">│</span>\n",
       "<span style=\"color: #d4b702; text-decoration-color: #d4b702\">│</span> <span style=\"font-weight: bold\">What is the capital of france?</span>                                                                                  <span style=\"color: #d4b702; text-decoration-color: #d4b702\">│</span>\n",
       "<span style=\"color: #d4b702; text-decoration-color: #d4b702\">│</span>                                                                                                                 <span style=\"color: #d4b702; text-decoration-color: #d4b702\">│</span>\n",
       "<span style=\"color: #d4b702; text-decoration-color: #d4b702\">╰─ OpenAIServerModel - gpt-4o ────────────────────────────────────────────────────────────────────────────────────╯</span>\n",
       "</pre>\n"
      ],
      "text/plain": [
       "\u001b[38;2;212;183;2m╭─\u001b[0m\u001b[38;2;212;183;2m───────────────────────────────────────────────────\u001b[0m\u001b[38;2;212;183;2m \u001b[0m\u001b[1;38;2;212;183;2mNew run\u001b[0m\u001b[38;2;212;183;2m \u001b[0m\u001b[38;2;212;183;2m───────────────────────────────────────────────────\u001b[0m\u001b[38;2;212;183;2m─╮\u001b[0m\n",
       "\u001b[38;2;212;183;2m│\u001b[0m                                                                                                                 \u001b[38;2;212;183;2m│\u001b[0m\n",
       "\u001b[38;2;212;183;2m│\u001b[0m \u001b[1mWhat is the capital of france?\u001b[0m                                                                                  \u001b[38;2;212;183;2m│\u001b[0m\n",
       "\u001b[38;2;212;183;2m│\u001b[0m                                                                                                                 \u001b[38;2;212;183;2m│\u001b[0m\n",
       "\u001b[38;2;212;183;2m╰─\u001b[0m\u001b[38;2;212;183;2m OpenAIServerModel - gpt-4o \u001b[0m\u001b[38;2;212;183;2m───────────────────────────────────────────────────────────────────────────────────\u001b[0m\u001b[38;2;212;183;2m─╯\u001b[0m\n"
      ]
     },
     "metadata": {},
     "output_type": "display_data"
    },
    {
     "data": {
      "text/html": [
       "<pre style=\"white-space:pre;overflow-x:auto;line-height:normal;font-family:Menlo,'DejaVu Sans Mono',consolas,'Courier New',monospace\"><span style=\"color: #d4b702; text-decoration-color: #d4b702\">━━━━━━━━━━━━━━━━━━━━━━━━━━━━━━━━━━━━━━━━━━━━━━━━━━━━━ </span><span style=\"font-weight: bold\">Step </span><span style=\"color: #008080; text-decoration-color: #008080; font-weight: bold\">1</span><span style=\"color: #d4b702; text-decoration-color: #d4b702\"> ━━━━━━━━━━━━━━━━━━━━━━━━━━━━━━━━━━━━━━━━━━━━━━━━━━━━━━</span>\n",
       "</pre>\n"
      ],
      "text/plain": [
       "\u001b[38;2;212;183;2m━━━━━━━━━━━━━━━━━━━━━━━━━━━━━━━━━━━━━━━━━━━━━━━━━━━━━ \u001b[0m\u001b[1mStep \u001b[0m\u001b[1;36m1\u001b[0m\u001b[38;2;212;183;2m ━━━━━━━━━━━━━━━━━━━━━━━━━━━━━━━━━━━━━━━━━━━━━━━━━━━━━━\u001b[0m\n"
      ]
     },
     "metadata": {},
     "output_type": "display_data"
    },
    {
     "data": {
      "text/html": [
       "<pre style=\"white-space:pre;overflow-x:auto;line-height:normal;font-family:Menlo,'DejaVu Sans Mono',consolas,'Courier New',monospace\"> ─ <span style=\"font-weight: bold\">Executing parsed code:</span> ──────────────────────────────────────────────────────────────────────────────────────── \n",
       "  <span style=\"color: #f8f8f2; text-decoration-color: #f8f8f2; background-color: #272822\">final_answer(</span><span style=\"color: #e6db74; text-decoration-color: #e6db74; background-color: #272822\">\"Paris\"</span><span style=\"color: #f8f8f2; text-decoration-color: #f8f8f2; background-color: #272822\">)</span><span style=\"background-color: #272822\">                                                                                          </span>  \n",
       " ───────────────────────────────────────────────────────────────────────────────────────────────────────────────── \n",
       "</pre>\n"
      ],
      "text/plain": [
       " ─ \u001b[1mExecuting parsed code:\u001b[0m ──────────────────────────────────────────────────────────────────────────────────────── \n",
       "  \u001b[38;2;248;248;242;48;2;39;40;34mfinal_answer\u001b[0m\u001b[38;2;248;248;242;48;2;39;40;34m(\u001b[0m\u001b[38;2;230;219;116;48;2;39;40;34m\"\u001b[0m\u001b[38;2;230;219;116;48;2;39;40;34mParis\u001b[0m\u001b[38;2;230;219;116;48;2;39;40;34m\"\u001b[0m\u001b[38;2;248;248;242;48;2;39;40;34m)\u001b[0m\u001b[48;2;39;40;34m                                                                                          \u001b[0m  \n",
       " ───────────────────────────────────────────────────────────────────────────────────────────────────────────────── \n"
      ]
     },
     "metadata": {},
     "output_type": "display_data"
    },
    {
     "data": {
      "text/html": [
       "<pre style=\"white-space:pre;overflow-x:auto;line-height:normal;font-family:Menlo,'DejaVu Sans Mono',consolas,'Courier New',monospace\"><span style=\"color: #d4b702; text-decoration-color: #d4b702; font-weight: bold\">Out - Final answer: Paris</span>\n",
       "</pre>\n"
      ],
      "text/plain": [
       "\u001b[1;38;2;212;183;2mOut - Final answer: Paris\u001b[0m\n"
      ]
     },
     "metadata": {},
     "output_type": "display_data"
    },
    {
     "data": {
      "text/html": [
       "<pre style=\"white-space:pre;overflow-x:auto;line-height:normal;font-family:Menlo,'DejaVu Sans Mono',consolas,'Courier New',monospace\"><span style=\"color: #7f7f7f; text-decoration-color: #7f7f7f\">[Step 0: Duration 2.16 seconds| Input tokens: 1,954 | Output tokens: 37]</span>\n",
       "</pre>\n"
      ],
      "text/plain": [
       "\u001b[2m[Step 0: Duration 2.16 seconds| Input tokens: 1,954 | Output tokens: 37]\u001b[0m\n"
      ]
     },
     "metadata": {},
     "output_type": "display_data"
    },
    {
     "data": {
      "text/plain": [
       "'Paris'"
      ]
     },
     "execution_count": 12,
     "metadata": {},
     "output_type": "execute_result"
    }
   ],
   "source": [
    "agent.run(\n",
    "    \"What is the capital of france?\",\n",
    ")"
   ]
  },
  {
   "cell_type": "markdown",
   "id": "3e9677bb-51e9-4881-9410-b93f4d0d3b27",
   "metadata": {},
   "source": [
    "## Basic Query with Base Tools"
   ]
  },
  {
   "cell_type": "markdown",
   "id": "096265bc-16c1-4e5d-bb2a-d3365d3770ed",
   "metadata": {},
   "source": [
    "Base tools: DuckDuckGo search tool, visit webpage tool, python interpreter tool, and audio transcription tool"
   ]
  },
  {
   "cell_type": "code",
   "execution_count": 5,
   "id": "77fcaa29-2d26-4726-bf8d-898d038be2c3",
   "metadata": {},
   "outputs": [],
   "source": [
    "agent = CodeAgent(tools=[], model=model, add_base_tools=True)"
   ]
  },
  {
   "cell_type": "code",
   "execution_count": 6,
   "id": "b42a5151-19e2-4798-b7d6-cb0274c15f9a",
   "metadata": {},
   "outputs": [
    {
     "data": {
      "text/html": [
       "<pre style=\"white-space:pre;overflow-x:auto;line-height:normal;font-family:Menlo,'DejaVu Sans Mono',consolas,'Courier New',monospace\"><span style=\"color: #d4b702; text-decoration-color: #d4b702\">╭──────────────────────────────────────────────────── </span><span style=\"color: #d4b702; text-decoration-color: #d4b702; font-weight: bold\">New run</span><span style=\"color: #d4b702; text-decoration-color: #d4b702\"> ────────────────────────────────────────────────────╮</span>\n",
       "<span style=\"color: #d4b702; text-decoration-color: #d4b702\">│</span>                                                                                                                 <span style=\"color: #d4b702; text-decoration-color: #d4b702\">│</span>\n",
       "<span style=\"color: #d4b702; text-decoration-color: #d4b702\">│</span> <span style=\"font-weight: bold\">Could you give me the 118th number in the Fibonacci sequence?</span>                                                   <span style=\"color: #d4b702; text-decoration-color: #d4b702\">│</span>\n",
       "<span style=\"color: #d4b702; text-decoration-color: #d4b702\">│</span>                                                                                                                 <span style=\"color: #d4b702; text-decoration-color: #d4b702\">│</span>\n",
       "<span style=\"color: #d4b702; text-decoration-color: #d4b702\">╰─ OpenAIServerModel - gpt-4o-mini ───────────────────────────────────────────────────────────────────────────────╯</span>\n",
       "</pre>\n"
      ],
      "text/plain": [
       "\u001b[38;2;212;183;2m╭─\u001b[0m\u001b[38;2;212;183;2m───────────────────────────────────────────────────\u001b[0m\u001b[38;2;212;183;2m \u001b[0m\u001b[1;38;2;212;183;2mNew run\u001b[0m\u001b[38;2;212;183;2m \u001b[0m\u001b[38;2;212;183;2m───────────────────────────────────────────────────\u001b[0m\u001b[38;2;212;183;2m─╮\u001b[0m\n",
       "\u001b[38;2;212;183;2m│\u001b[0m                                                                                                                 \u001b[38;2;212;183;2m│\u001b[0m\n",
       "\u001b[38;2;212;183;2m│\u001b[0m \u001b[1mCould you give me the 118th number in the Fibonacci sequence?\u001b[0m                                                   \u001b[38;2;212;183;2m│\u001b[0m\n",
       "\u001b[38;2;212;183;2m│\u001b[0m                                                                                                                 \u001b[38;2;212;183;2m│\u001b[0m\n",
       "\u001b[38;2;212;183;2m╰─\u001b[0m\u001b[38;2;212;183;2m OpenAIServerModel - gpt-4o-mini \u001b[0m\u001b[38;2;212;183;2m──────────────────────────────────────────────────────────────────────────────\u001b[0m\u001b[38;2;212;183;2m─╯\u001b[0m\n"
      ]
     },
     "metadata": {},
     "output_type": "display_data"
    },
    {
     "data": {
      "text/html": [
       "<pre style=\"white-space:pre;overflow-x:auto;line-height:normal;font-family:Menlo,'DejaVu Sans Mono',consolas,'Courier New',monospace\"><span style=\"color: #d4b702; text-decoration-color: #d4b702\">━━━━━━━━━━━━━━━━━━━━━━━━━━━━━━━━━━━━━━━━━━━━━━━━━━━━━ </span><span style=\"font-weight: bold\">Step </span><span style=\"color: #008080; text-decoration-color: #008080; font-weight: bold\">1</span><span style=\"color: #d4b702; text-decoration-color: #d4b702\"> ━━━━━━━━━━━━━━━━━━━━━━━━━━━━━━━━━━━━━━━━━━━━━━━━━━━━━━</span>\n",
       "</pre>\n"
      ],
      "text/plain": [
       "\u001b[38;2;212;183;2m━━━━━━━━━━━━━━━━━━━━━━━━━━━━━━━━━━━━━━━━━━━━━━━━━━━━━ \u001b[0m\u001b[1mStep \u001b[0m\u001b[1;36m1\u001b[0m\u001b[38;2;212;183;2m ━━━━━━━━━━━━━━━━━━━━━━━━━━━━━━━━━━━━━━━━━━━━━━━━━━━━━━\u001b[0m\n"
      ]
     },
     "metadata": {},
     "output_type": "display_data"
    },
    {
     "data": {
      "text/html": [
       "<pre style=\"white-space:pre;overflow-x:auto;line-height:normal;font-family:Menlo,'DejaVu Sans Mono',consolas,'Courier New',monospace\"> ─ <span style=\"font-weight: bold\">Executing parsed code:</span> ──────────────────────────────────────────────────────────────────────────────────────── \n",
       "  <span style=\"color: #66d9ef; text-decoration-color: #66d9ef; background-color: #272822\">def</span><span style=\"color: #f8f8f2; text-decoration-color: #f8f8f2; background-color: #272822\"> </span><span style=\"color: #a6e22e; text-decoration-color: #a6e22e; background-color: #272822\">fibonacci</span><span style=\"color: #f8f8f2; text-decoration-color: #f8f8f2; background-color: #272822\">(n):</span><span style=\"background-color: #272822\">                                                                                              </span>  \n",
       "  <span style=\"color: #f8f8f2; text-decoration-color: #f8f8f2; background-color: #272822\">    a, b </span><span style=\"color: #ff4689; text-decoration-color: #ff4689; background-color: #272822\">=</span><span style=\"color: #f8f8f2; text-decoration-color: #f8f8f2; background-color: #272822\"> </span><span style=\"color: #ae81ff; text-decoration-color: #ae81ff; background-color: #272822\">0</span><span style=\"color: #f8f8f2; text-decoration-color: #f8f8f2; background-color: #272822\">, </span><span style=\"color: #ae81ff; text-decoration-color: #ae81ff; background-color: #272822\">1</span><span style=\"background-color: #272822\">                                                                                                </span>  \n",
       "  <span style=\"color: #f8f8f2; text-decoration-color: #f8f8f2; background-color: #272822\">    </span><span style=\"color: #66d9ef; text-decoration-color: #66d9ef; background-color: #272822\">for</span><span style=\"color: #f8f8f2; text-decoration-color: #f8f8f2; background-color: #272822\"> _ </span><span style=\"color: #ff4689; text-decoration-color: #ff4689; background-color: #272822\">in</span><span style=\"color: #f8f8f2; text-decoration-color: #f8f8f2; background-color: #272822\"> range(n):</span><span style=\"background-color: #272822\">                                                                                         </span>  \n",
       "  <span style=\"color: #f8f8f2; text-decoration-color: #f8f8f2; background-color: #272822\">        a, b </span><span style=\"color: #ff4689; text-decoration-color: #ff4689; background-color: #272822\">=</span><span style=\"color: #f8f8f2; text-decoration-color: #f8f8f2; background-color: #272822\"> b, a </span><span style=\"color: #ff4689; text-decoration-color: #ff4689; background-color: #272822\">+</span><span style=\"color: #f8f8f2; text-decoration-color: #f8f8f2; background-color: #272822\"> b</span><span style=\"background-color: #272822\">                                                                                        </span>  \n",
       "  <span style=\"color: #f8f8f2; text-decoration-color: #f8f8f2; background-color: #272822\">    </span><span style=\"color: #66d9ef; text-decoration-color: #66d9ef; background-color: #272822\">return</span><span style=\"color: #f8f8f2; text-decoration-color: #f8f8f2; background-color: #272822\"> a</span><span style=\"background-color: #272822\">                                                                                                   </span>  \n",
       "  <span style=\"background-color: #272822\">                                                                                                               </span>  \n",
       "  <span style=\"color: #f8f8f2; text-decoration-color: #f8f8f2; background-color: #272822\">fib_118 </span><span style=\"color: #ff4689; text-decoration-color: #ff4689; background-color: #272822\">=</span><span style=\"color: #f8f8f2; text-decoration-color: #f8f8f2; background-color: #272822\"> fibonacci(</span><span style=\"color: #ae81ff; text-decoration-color: #ae81ff; background-color: #272822\">118</span><span style=\"color: #f8f8f2; text-decoration-color: #f8f8f2; background-color: #272822\">)</span><span style=\"background-color: #272822\">                                                                                       </span>  \n",
       "  <span style=\"color: #f8f8f2; text-decoration-color: #f8f8f2; background-color: #272822\">print(fib_118)</span><span style=\"background-color: #272822\">                                                                                                 </span>  \n",
       " ───────────────────────────────────────────────────────────────────────────────────────────────────────────────── \n",
       "</pre>\n"
      ],
      "text/plain": [
       " ─ \u001b[1mExecuting parsed code:\u001b[0m ──────────────────────────────────────────────────────────────────────────────────────── \n",
       "  \u001b[38;2;102;217;239;48;2;39;40;34mdef\u001b[0m\u001b[38;2;248;248;242;48;2;39;40;34m \u001b[0m\u001b[38;2;166;226;46;48;2;39;40;34mfibonacci\u001b[0m\u001b[38;2;248;248;242;48;2;39;40;34m(\u001b[0m\u001b[38;2;248;248;242;48;2;39;40;34mn\u001b[0m\u001b[38;2;248;248;242;48;2;39;40;34m)\u001b[0m\u001b[38;2;248;248;242;48;2;39;40;34m:\u001b[0m\u001b[48;2;39;40;34m                                                                                              \u001b[0m  \n",
       "  \u001b[38;2;248;248;242;48;2;39;40;34m    \u001b[0m\u001b[38;2;248;248;242;48;2;39;40;34ma\u001b[0m\u001b[38;2;248;248;242;48;2;39;40;34m,\u001b[0m\u001b[38;2;248;248;242;48;2;39;40;34m \u001b[0m\u001b[38;2;248;248;242;48;2;39;40;34mb\u001b[0m\u001b[38;2;248;248;242;48;2;39;40;34m \u001b[0m\u001b[38;2;255;70;137;48;2;39;40;34m=\u001b[0m\u001b[38;2;248;248;242;48;2;39;40;34m \u001b[0m\u001b[38;2;174;129;255;48;2;39;40;34m0\u001b[0m\u001b[38;2;248;248;242;48;2;39;40;34m,\u001b[0m\u001b[38;2;248;248;242;48;2;39;40;34m \u001b[0m\u001b[38;2;174;129;255;48;2;39;40;34m1\u001b[0m\u001b[48;2;39;40;34m                                                                                                \u001b[0m  \n",
       "  \u001b[38;2;248;248;242;48;2;39;40;34m    \u001b[0m\u001b[38;2;102;217;239;48;2;39;40;34mfor\u001b[0m\u001b[38;2;248;248;242;48;2;39;40;34m \u001b[0m\u001b[38;2;248;248;242;48;2;39;40;34m_\u001b[0m\u001b[38;2;248;248;242;48;2;39;40;34m \u001b[0m\u001b[38;2;255;70;137;48;2;39;40;34min\u001b[0m\u001b[38;2;248;248;242;48;2;39;40;34m \u001b[0m\u001b[38;2;248;248;242;48;2;39;40;34mrange\u001b[0m\u001b[38;2;248;248;242;48;2;39;40;34m(\u001b[0m\u001b[38;2;248;248;242;48;2;39;40;34mn\u001b[0m\u001b[38;2;248;248;242;48;2;39;40;34m)\u001b[0m\u001b[38;2;248;248;242;48;2;39;40;34m:\u001b[0m\u001b[48;2;39;40;34m                                                                                         \u001b[0m  \n",
       "  \u001b[38;2;248;248;242;48;2;39;40;34m        \u001b[0m\u001b[38;2;248;248;242;48;2;39;40;34ma\u001b[0m\u001b[38;2;248;248;242;48;2;39;40;34m,\u001b[0m\u001b[38;2;248;248;242;48;2;39;40;34m \u001b[0m\u001b[38;2;248;248;242;48;2;39;40;34mb\u001b[0m\u001b[38;2;248;248;242;48;2;39;40;34m \u001b[0m\u001b[38;2;255;70;137;48;2;39;40;34m=\u001b[0m\u001b[38;2;248;248;242;48;2;39;40;34m \u001b[0m\u001b[38;2;248;248;242;48;2;39;40;34mb\u001b[0m\u001b[38;2;248;248;242;48;2;39;40;34m,\u001b[0m\u001b[38;2;248;248;242;48;2;39;40;34m \u001b[0m\u001b[38;2;248;248;242;48;2;39;40;34ma\u001b[0m\u001b[38;2;248;248;242;48;2;39;40;34m \u001b[0m\u001b[38;2;255;70;137;48;2;39;40;34m+\u001b[0m\u001b[38;2;248;248;242;48;2;39;40;34m \u001b[0m\u001b[38;2;248;248;242;48;2;39;40;34mb\u001b[0m\u001b[48;2;39;40;34m                                                                                        \u001b[0m  \n",
       "  \u001b[38;2;248;248;242;48;2;39;40;34m    \u001b[0m\u001b[38;2;102;217;239;48;2;39;40;34mreturn\u001b[0m\u001b[38;2;248;248;242;48;2;39;40;34m \u001b[0m\u001b[38;2;248;248;242;48;2;39;40;34ma\u001b[0m\u001b[48;2;39;40;34m                                                                                                   \u001b[0m  \n",
       "  \u001b[48;2;39;40;34m                                                                                                               \u001b[0m  \n",
       "  \u001b[38;2;248;248;242;48;2;39;40;34mfib_118\u001b[0m\u001b[38;2;248;248;242;48;2;39;40;34m \u001b[0m\u001b[38;2;255;70;137;48;2;39;40;34m=\u001b[0m\u001b[38;2;248;248;242;48;2;39;40;34m \u001b[0m\u001b[38;2;248;248;242;48;2;39;40;34mfibonacci\u001b[0m\u001b[38;2;248;248;242;48;2;39;40;34m(\u001b[0m\u001b[38;2;174;129;255;48;2;39;40;34m118\u001b[0m\u001b[38;2;248;248;242;48;2;39;40;34m)\u001b[0m\u001b[48;2;39;40;34m                                                                                       \u001b[0m  \n",
       "  \u001b[38;2;248;248;242;48;2;39;40;34mprint\u001b[0m\u001b[38;2;248;248;242;48;2;39;40;34m(\u001b[0m\u001b[38;2;248;248;242;48;2;39;40;34mfib_118\u001b[0m\u001b[38;2;248;248;242;48;2;39;40;34m)\u001b[0m\u001b[48;2;39;40;34m                                                                                                 \u001b[0m  \n",
       " ───────────────────────────────────────────────────────────────────────────────────────────────────────────────── \n"
      ]
     },
     "metadata": {},
     "output_type": "display_data"
    },
    {
     "data": {
      "text/html": [
       "<pre style=\"white-space:pre;overflow-x:auto;line-height:normal;font-family:Menlo,'DejaVu Sans Mono',consolas,'Courier New',monospace\"><span style=\"font-weight: bold\">Execution logs:</span>\n",
       "2046711111473984623691759\n",
       "\n",
       "Out: None\n",
       "</pre>\n"
      ],
      "text/plain": [
       "\u001b[1mExecution logs:\u001b[0m\n",
       "2046711111473984623691759\n",
       "\n",
       "Out: None\n"
      ]
     },
     "metadata": {},
     "output_type": "display_data"
    },
    {
     "data": {
      "text/html": [
       "<pre style=\"white-space:pre;overflow-x:auto;line-height:normal;font-family:Menlo,'DejaVu Sans Mono',consolas,'Courier New',monospace\"><span style=\"color: #7f7f7f; text-decoration-color: #7f7f7f\">[Step 0: Duration 6.01 seconds| Input tokens: 2,084 | Output tokens: 114]</span>\n",
       "</pre>\n"
      ],
      "text/plain": [
       "\u001b[2m[Step 0: Duration 6.01 seconds| Input tokens: 2,084 | Output tokens: 114]\u001b[0m\n"
      ]
     },
     "metadata": {},
     "output_type": "display_data"
    },
    {
     "data": {
      "text/html": [
       "<pre style=\"white-space:pre;overflow-x:auto;line-height:normal;font-family:Menlo,'DejaVu Sans Mono',consolas,'Courier New',monospace\"><span style=\"color: #d4b702; text-decoration-color: #d4b702\">━━━━━━━━━━━━━━━━━━━━━━━━━━━━━━━━━━━━━━━━━━━━━━━━━━━━━ </span><span style=\"font-weight: bold\">Step </span><span style=\"color: #008080; text-decoration-color: #008080; font-weight: bold\">2</span><span style=\"color: #d4b702; text-decoration-color: #d4b702\"> ━━━━━━━━━━━━━━━━━━━━━━━━━━━━━━━━━━━━━━━━━━━━━━━━━━━━━━</span>\n",
       "</pre>\n"
      ],
      "text/plain": [
       "\u001b[38;2;212;183;2m━━━━━━━━━━━━━━━━━━━━━━━━━━━━━━━━━━━━━━━━━━━━━━━━━━━━━ \u001b[0m\u001b[1mStep \u001b[0m\u001b[1;36m2\u001b[0m\u001b[38;2;212;183;2m ━━━━━━━━━━━━━━━━━━━━━━━━━━━━━━━━━━━━━━━━━━━━━━━━━━━━━━\u001b[0m\n"
      ]
     },
     "metadata": {},
     "output_type": "display_data"
    },
    {
     "data": {
      "text/html": [
       "<pre style=\"white-space:pre;overflow-x:auto;line-height:normal;font-family:Menlo,'DejaVu Sans Mono',consolas,'Courier New',monospace\"> ─ <span style=\"font-weight: bold\">Executing parsed code:</span> ──────────────────────────────────────────────────────────────────────────────────────── \n",
       "  <span style=\"color: #f8f8f2; text-decoration-color: #f8f8f2; background-color: #272822\">final_answer(</span><span style=\"color: #ae81ff; text-decoration-color: #ae81ff; background-color: #272822\">2046711111473984623691759</span><span style=\"color: #f8f8f2; text-decoration-color: #f8f8f2; background-color: #272822\">)</span><span style=\"background-color: #272822\">                                                                        </span>  \n",
       " ───────────────────────────────────────────────────────────────────────────────────────────────────────────────── \n",
       "</pre>\n"
      ],
      "text/plain": [
       " ─ \u001b[1mExecuting parsed code:\u001b[0m ──────────────────────────────────────────────────────────────────────────────────────── \n",
       "  \u001b[38;2;248;248;242;48;2;39;40;34mfinal_answer\u001b[0m\u001b[38;2;248;248;242;48;2;39;40;34m(\u001b[0m\u001b[38;2;174;129;255;48;2;39;40;34m2046711111473984623691759\u001b[0m\u001b[38;2;248;248;242;48;2;39;40;34m)\u001b[0m\u001b[48;2;39;40;34m                                                                        \u001b[0m  \n",
       " ───────────────────────────────────────────────────────────────────────────────────────────────────────────────── \n"
      ]
     },
     "metadata": {},
     "output_type": "display_data"
    },
    {
     "data": {
      "text/html": [
       "<pre style=\"white-space:pre;overflow-x:auto;line-height:normal;font-family:Menlo,'DejaVu Sans Mono',consolas,'Courier New',monospace\"><span style=\"color: #d4b702; text-decoration-color: #d4b702; font-weight: bold\">Out - Final answer: 2046711111473984623691759</span>\n",
       "</pre>\n"
      ],
      "text/plain": [
       "\u001b[1;38;2;212;183;2mOut - Final answer: 2046711111473984623691759\u001b[0m\n"
      ]
     },
     "metadata": {},
     "output_type": "display_data"
    },
    {
     "data": {
      "text/html": [
       "<pre style=\"white-space:pre;overflow-x:auto;line-height:normal;font-family:Menlo,'DejaVu Sans Mono',consolas,'Courier New',monospace\"><span style=\"color: #7f7f7f; text-decoration-color: #7f7f7f\">[Step 1: Duration 2.30 seconds| Input tokens: 4,411 | Output tokens: 175]</span>\n",
       "</pre>\n"
      ],
      "text/plain": [
       "\u001b[2m[Step 1: Duration 2.30 seconds| Input tokens: 4,411 | Output tokens: 175]\u001b[0m\n"
      ]
     },
     "metadata": {},
     "output_type": "display_data"
    },
    {
     "data": {
      "text/plain": [
       "2046711111473984623691759"
      ]
     },
     "execution_count": 6,
     "metadata": {},
     "output_type": "execute_result"
    }
   ],
   "source": [
    "agent.run(\n",
    "    \"Could you give me the 118th number in the Fibonacci sequence?\",\n",
    ")"
   ]
  },
  {
   "cell_type": "markdown",
   "id": "4c404625-819a-4b02-bd53-dc2089efa9f7",
   "metadata": {},
   "source": [
    "Since its a code agent, the agent first creates code to solve the given problem, the code is executed to give output and the LLM again verifies the answer to give the final answer."
   ]
  },
  {
   "cell_type": "code",
   "execution_count": 7,
   "id": "3a99b9c6-d41f-467e-b18d-7ed9a3b6ae6b",
   "metadata": {},
   "outputs": [
    {
     "data": {
      "text/html": [
       "<pre style=\"white-space:pre;overflow-x:auto;line-height:normal;font-family:Menlo,'DejaVu Sans Mono',consolas,'Courier New',monospace\"><span style=\"color: #d4b702; text-decoration-color: #d4b702\">╭──────────────────────────────────────────────────── </span><span style=\"color: #d4b702; text-decoration-color: #d4b702; font-weight: bold\">New run</span><span style=\"color: #d4b702; text-decoration-color: #d4b702\"> ────────────────────────────────────────────────────╮</span>\n",
       "<span style=\"color: #d4b702; text-decoration-color: #d4b702\">│</span>                                                                                                                 <span style=\"color: #d4b702; text-decoration-color: #d4b702\">│</span>\n",
       "<span style=\"color: #d4b702; text-decoration-color: #d4b702\">│</span> <span style=\"font-weight: bold\">What is the capital of france?</span>                                                                                  <span style=\"color: #d4b702; text-decoration-color: #d4b702\">│</span>\n",
       "<span style=\"color: #d4b702; text-decoration-color: #d4b702\">│</span>                                                                                                                 <span style=\"color: #d4b702; text-decoration-color: #d4b702\">│</span>\n",
       "<span style=\"color: #d4b702; text-decoration-color: #d4b702\">╰─ OpenAIServerModel - gpt-4o-mini ───────────────────────────────────────────────────────────────────────────────╯</span>\n",
       "</pre>\n"
      ],
      "text/plain": [
       "\u001b[38;2;212;183;2m╭─\u001b[0m\u001b[38;2;212;183;2m───────────────────────────────────────────────────\u001b[0m\u001b[38;2;212;183;2m \u001b[0m\u001b[1;38;2;212;183;2mNew run\u001b[0m\u001b[38;2;212;183;2m \u001b[0m\u001b[38;2;212;183;2m───────────────────────────────────────────────────\u001b[0m\u001b[38;2;212;183;2m─╮\u001b[0m\n",
       "\u001b[38;2;212;183;2m│\u001b[0m                                                                                                                 \u001b[38;2;212;183;2m│\u001b[0m\n",
       "\u001b[38;2;212;183;2m│\u001b[0m \u001b[1mWhat is the capital of france?\u001b[0m                                                                                  \u001b[38;2;212;183;2m│\u001b[0m\n",
       "\u001b[38;2;212;183;2m│\u001b[0m                                                                                                                 \u001b[38;2;212;183;2m│\u001b[0m\n",
       "\u001b[38;2;212;183;2m╰─\u001b[0m\u001b[38;2;212;183;2m OpenAIServerModel - gpt-4o-mini \u001b[0m\u001b[38;2;212;183;2m──────────────────────────────────────────────────────────────────────────────\u001b[0m\u001b[38;2;212;183;2m─╯\u001b[0m\n"
      ]
     },
     "metadata": {},
     "output_type": "display_data"
    },
    {
     "data": {
      "text/html": [
       "<pre style=\"white-space:pre;overflow-x:auto;line-height:normal;font-family:Menlo,'DejaVu Sans Mono',consolas,'Courier New',monospace\"><span style=\"color: #d4b702; text-decoration-color: #d4b702\">━━━━━━━━━━━━━━━━━━━━━━━━━━━━━━━━━━━━━━━━━━━━━━━━━━━━━ </span><span style=\"font-weight: bold\">Step </span><span style=\"color: #008080; text-decoration-color: #008080; font-weight: bold\">1</span><span style=\"color: #d4b702; text-decoration-color: #d4b702\"> ━━━━━━━━━━━━━━━━━━━━━━━━━━━━━━━━━━━━━━━━━━━━━━━━━━━━━━</span>\n",
       "</pre>\n"
      ],
      "text/plain": [
       "\u001b[38;2;212;183;2m━━━━━━━━━━━━━━━━━━━━━━━━━━━━━━━━━━━━━━━━━━━━━━━━━━━━━ \u001b[0m\u001b[1mStep \u001b[0m\u001b[1;36m1\u001b[0m\u001b[38;2;212;183;2m ━━━━━━━━━━━━━━━━━━━━━━━━━━━━━━━━━━━━━━━━━━━━━━━━━━━━━━\u001b[0m\n"
      ]
     },
     "metadata": {},
     "output_type": "display_data"
    },
    {
     "data": {
      "text/html": [
       "<pre style=\"white-space:pre;overflow-x:auto;line-height:normal;font-family:Menlo,'DejaVu Sans Mono',consolas,'Courier New',monospace\"> ─ <span style=\"font-weight: bold\">Executing parsed code:</span> ──────────────────────────────────────────────────────────────────────────────────────── \n",
       "  <span style=\"color: #f8f8f2; text-decoration-color: #f8f8f2; background-color: #272822\">capital_of_france </span><span style=\"color: #ff4689; text-decoration-color: #ff4689; background-color: #272822\">=</span><span style=\"color: #f8f8f2; text-decoration-color: #f8f8f2; background-color: #272822\"> web_search(query</span><span style=\"color: #ff4689; text-decoration-color: #ff4689; background-color: #272822\">=</span><span style=\"color: #e6db74; text-decoration-color: #e6db74; background-color: #272822\">\"What is the capital of France?\"</span><span style=\"color: #f8f8f2; text-decoration-color: #f8f8f2; background-color: #272822\">)</span><span style=\"background-color: #272822\">                                         </span>  \n",
       "  <span style=\"color: #f8f8f2; text-decoration-color: #f8f8f2; background-color: #272822\">print(capital_of_france)</span><span style=\"background-color: #272822\">                                                                                       </span>  \n",
       " ───────────────────────────────────────────────────────────────────────────────────────────────────────────────── \n",
       "</pre>\n"
      ],
      "text/plain": [
       " ─ \u001b[1mExecuting parsed code:\u001b[0m ──────────────────────────────────────────────────────────────────────────────────────── \n",
       "  \u001b[38;2;248;248;242;48;2;39;40;34mcapital_of_france\u001b[0m\u001b[38;2;248;248;242;48;2;39;40;34m \u001b[0m\u001b[38;2;255;70;137;48;2;39;40;34m=\u001b[0m\u001b[38;2;248;248;242;48;2;39;40;34m \u001b[0m\u001b[38;2;248;248;242;48;2;39;40;34mweb_search\u001b[0m\u001b[38;2;248;248;242;48;2;39;40;34m(\u001b[0m\u001b[38;2;248;248;242;48;2;39;40;34mquery\u001b[0m\u001b[38;2;255;70;137;48;2;39;40;34m=\u001b[0m\u001b[38;2;230;219;116;48;2;39;40;34m\"\u001b[0m\u001b[38;2;230;219;116;48;2;39;40;34mWhat is the capital of France?\u001b[0m\u001b[38;2;230;219;116;48;2;39;40;34m\"\u001b[0m\u001b[38;2;248;248;242;48;2;39;40;34m)\u001b[0m\u001b[48;2;39;40;34m                                         \u001b[0m  \n",
       "  \u001b[38;2;248;248;242;48;2;39;40;34mprint\u001b[0m\u001b[38;2;248;248;242;48;2;39;40;34m(\u001b[0m\u001b[38;2;248;248;242;48;2;39;40;34mcapital_of_france\u001b[0m\u001b[38;2;248;248;242;48;2;39;40;34m)\u001b[0m\u001b[48;2;39;40;34m                                                                                       \u001b[0m  \n",
       " ───────────────────────────────────────────────────────────────────────────────────────────────────────────────── \n"
      ]
     },
     "metadata": {},
     "output_type": "display_data"
    },
    {
     "data": {
      "text/html": [
       "<pre style=\"white-space:pre;overflow-x:auto;line-height:normal;font-family:Menlo,'DejaVu Sans Mono',consolas,'Courier New',monospace\"><span style=\"font-weight: bold\">Execution logs:</span>\n",
       "## Search Results\n",
       "\n",
       "[Paris - Wikipedia](https://en.wikipedia.org/wiki/Paris)\n",
       "Paris is a global centre of finance, diplomacy, culture, and gastronomy, with an estimated population of 2.1 \n",
       "million in 2023. It has many famous landmarks, museums, and historical districts, and is home to several \n",
       "international organizations and sports clubs.\n",
       "\n",
       "[Paris | Definition, Map, Population, Facts, &amp; History | Britannica](https://www.britannica.com/place/Paris)\n",
       "Paris, city and capital of France, located along the Seine River, in the north-central part of the country. Paris \n",
       "is one of the world's most important and attractive cities, famed for its gastronomy, haute couture, painting, \n",
       "literature, and intellectual community. Learn more about Paris in this article.\n",
       "\n",
       "[What is the Capital of France? - \n",
       "WorldAtlas](https://www.worldatlas.com/articles/what-is-the-capital-of-france.html)\n",
       "Learn about Paris, the largest and most populous city in France, and its history, geography, economy, tourism, and \n",
       "administration. Find out why Paris is called the City of Light and the City of Love.\n",
       "\n",
       "[France | History, Maps, Flag, Population, Cities, Capital, &amp; Facts ...](https://www.britannica.com/place/France)\n",
       "France, a country of northwestern Europe, is historically and culturally among the most important countries in the \n",
       "Western world. It has also played a highly significant role in international affairs for centuries. Its capital is \n",
       "Paris, one of the most important cultural and commercial centers in the world.\n",
       "\n",
       "[Paris - Simple English Wikipedia, the free encyclopedia](https://simple.wikipedia.org/wiki/Paris)\n",
       "Paris is the capital city of France and the largest city in France. It has a rich history, many art museums, \n",
       "historical buildings, and a famous landmark, the Eiffel Tower.\n",
       "\n",
       "[List of capitals of France - Wikipedia](https://en.wikipedia.org/wiki/List_of_capitals_of_France)\n",
       "The capital of France has been Paris since its liberation in 1944. Learn about the historical and provisional seats\n",
       "of the government of France from 486 to 1944.\n",
       "\n",
       "[Paris: Facts &amp; Related Content - Encyclopedia Britannica](https://www.britannica.com/facts/Paris)\n",
       "Paris is the capital of France, located in the north-central part of the country. It is a major centre of commerce,\n",
       "culture, and tourism, with famous landmarks such as the Eiffel Tower, the Louvre Museum, and Notre-Dame de Paris.\n",
       "\n",
       "[Capital of France - Simple English Wikipedia, the free \n",
       "encyclopedia](https://simple.wikipedia.org/wiki/Capital_of_France)\n",
       "Learn about the history and current status of the capital of France, which is Paris. Find out which other cities \n",
       "have been the national capital in different periods of time.\n",
       "\n",
       "[What is the Capital of France? - GeeksforGeeks](https://www.geeksforgeeks.org/what-is-the-capital-of-france/)\n",
       "Learn that the capital of France is Paris, a global center for art, fashion, culture, and history. Find out more \n",
       "about Paris' landmarks, history, districts, and time difference with the United States.\n",
       "\n",
       "[What is the Capital of France? - Mappr](https://www.mappr.co/capital-cities/france/)\n",
       "Learn why Paris is the capital of France and how it became a global city with a rich cultural heritage. Discover \n",
       "its geography, climate, population, landmarks, and industries.\n",
       "\n",
       "Out: None\n",
       "</pre>\n"
      ],
      "text/plain": [
       "\u001b[1mExecution logs:\u001b[0m\n",
       "## Search Results\n",
       "\n",
       "[Paris - Wikipedia](https://en.wikipedia.org/wiki/Paris)\n",
       "Paris is a global centre of finance, diplomacy, culture, and gastronomy, with an estimated population of 2.1 \n",
       "million in 2023. It has many famous landmarks, museums, and historical districts, and is home to several \n",
       "international organizations and sports clubs.\n",
       "\n",
       "[Paris | Definition, Map, Population, Facts, & History | Britannica](https://www.britannica.com/place/Paris)\n",
       "Paris, city and capital of France, located along the Seine River, in the north-central part of the country. Paris \n",
       "is one of the world's most important and attractive cities, famed for its gastronomy, haute couture, painting, \n",
       "literature, and intellectual community. Learn more about Paris in this article.\n",
       "\n",
       "[What is the Capital of France? - \n",
       "WorldAtlas](https://www.worldatlas.com/articles/what-is-the-capital-of-france.html)\n",
       "Learn about Paris, the largest and most populous city in France, and its history, geography, economy, tourism, and \n",
       "administration. Find out why Paris is called the City of Light and the City of Love.\n",
       "\n",
       "[France | History, Maps, Flag, Population, Cities, Capital, & Facts ...](https://www.britannica.com/place/France)\n",
       "France, a country of northwestern Europe, is historically and culturally among the most important countries in the \n",
       "Western world. It has also played a highly significant role in international affairs for centuries. Its capital is \n",
       "Paris, one of the most important cultural and commercial centers in the world.\n",
       "\n",
       "[Paris - Simple English Wikipedia, the free encyclopedia](https://simple.wikipedia.org/wiki/Paris)\n",
       "Paris is the capital city of France and the largest city in France. It has a rich history, many art museums, \n",
       "historical buildings, and a famous landmark, the Eiffel Tower.\n",
       "\n",
       "[List of capitals of France - Wikipedia](https://en.wikipedia.org/wiki/List_of_capitals_of_France)\n",
       "The capital of France has been Paris since its liberation in 1944. Learn about the historical and provisional seats\n",
       "of the government of France from 486 to 1944.\n",
       "\n",
       "[Paris: Facts & Related Content - Encyclopedia Britannica](https://www.britannica.com/facts/Paris)\n",
       "Paris is the capital of France, located in the north-central part of the country. It is a major centre of commerce,\n",
       "culture, and tourism, with famous landmarks such as the Eiffel Tower, the Louvre Museum, and Notre-Dame de Paris.\n",
       "\n",
       "[Capital of France - Simple English Wikipedia, the free \n",
       "encyclopedia](https://simple.wikipedia.org/wiki/Capital_of_France)\n",
       "Learn about the history and current status of the capital of France, which is Paris. Find out which other cities \n",
       "have been the national capital in different periods of time.\n",
       "\n",
       "[What is the Capital of France? - GeeksforGeeks](https://www.geeksforgeeks.org/what-is-the-capital-of-france/)\n",
       "Learn that the capital of France is Paris, a global center for art, fashion, culture, and history. Find out more \n",
       "about Paris' landmarks, history, districts, and time difference with the United States.\n",
       "\n",
       "[What is the Capital of France? - Mappr](https://www.mappr.co/capital-cities/france/)\n",
       "Learn why Paris is the capital of France and how it became a global city with a rich cultural heritage. Discover \n",
       "its geography, climate, population, landmarks, and industries.\n",
       "\n",
       "Out: None\n"
      ]
     },
     "metadata": {},
     "output_type": "display_data"
    },
    {
     "data": {
      "text/html": [
       "<pre style=\"white-space:pre;overflow-x:auto;line-height:normal;font-family:Menlo,'DejaVu Sans Mono',consolas,'Courier New',monospace\"><span style=\"color: #7f7f7f; text-decoration-color: #7f7f7f\">[Step 0: Duration 4.02 seconds| Input tokens: 2,077 | Output tokens: 63]</span>\n",
       "</pre>\n"
      ],
      "text/plain": [
       "\u001b[2m[Step 0: Duration 4.02 seconds| Input tokens: 2,077 | Output tokens: 63]\u001b[0m\n"
      ]
     },
     "metadata": {},
     "output_type": "display_data"
    },
    {
     "data": {
      "text/html": [
       "<pre style=\"white-space:pre;overflow-x:auto;line-height:normal;font-family:Menlo,'DejaVu Sans Mono',consolas,'Courier New',monospace\"><span style=\"color: #d4b702; text-decoration-color: #d4b702\">━━━━━━━━━━━━━━━━━━━━━━━━━━━━━━━━━━━━━━━━━━━━━━━━━━━━━ </span><span style=\"font-weight: bold\">Step </span><span style=\"color: #008080; text-decoration-color: #008080; font-weight: bold\">2</span><span style=\"color: #d4b702; text-decoration-color: #d4b702\"> ━━━━━━━━━━━━━━━━━━━━━━━━━━━━━━━━━━━━━━━━━━━━━━━━━━━━━━</span>\n",
       "</pre>\n"
      ],
      "text/plain": [
       "\u001b[38;2;212;183;2m━━━━━━━━━━━━━━━━━━━━━━━━━━━━━━━━━━━━━━━━━━━━━━━━━━━━━ \u001b[0m\u001b[1mStep \u001b[0m\u001b[1;36m2\u001b[0m\u001b[38;2;212;183;2m ━━━━━━━━━━━━━━━━━━━━━━━━━━━━━━━━━━━━━━━━━━━━━━━━━━━━━━\u001b[0m\n"
      ]
     },
     "metadata": {},
     "output_type": "display_data"
    },
    {
     "data": {
      "text/html": [
       "<pre style=\"white-space:pre;overflow-x:auto;line-height:normal;font-family:Menlo,'DejaVu Sans Mono',consolas,'Courier New',monospace\"> ─ <span style=\"font-weight: bold\">Executing parsed code:</span> ──────────────────────────────────────────────────────────────────────────────────────── \n",
       "  <span style=\"color: #f8f8f2; text-decoration-color: #f8f8f2; background-color: #272822\">final_answer(</span><span style=\"color: #e6db74; text-decoration-color: #e6db74; background-color: #272822\">\"Paris\"</span><span style=\"color: #f8f8f2; text-decoration-color: #f8f8f2; background-color: #272822\">)</span><span style=\"background-color: #272822\">                                                                                          </span>  \n",
       " ───────────────────────────────────────────────────────────────────────────────────────────────────────────────── \n",
       "</pre>\n"
      ],
      "text/plain": [
       " ─ \u001b[1mExecuting parsed code:\u001b[0m ──────────────────────────────────────────────────────────────────────────────────────── \n",
       "  \u001b[38;2;248;248;242;48;2;39;40;34mfinal_answer\u001b[0m\u001b[38;2;248;248;242;48;2;39;40;34m(\u001b[0m\u001b[38;2;230;219;116;48;2;39;40;34m\"\u001b[0m\u001b[38;2;230;219;116;48;2;39;40;34mParis\u001b[0m\u001b[38;2;230;219;116;48;2;39;40;34m\"\u001b[0m\u001b[38;2;248;248;242;48;2;39;40;34m)\u001b[0m\u001b[48;2;39;40;34m                                                                                          \u001b[0m  \n",
       " ───────────────────────────────────────────────────────────────────────────────────────────────────────────────── \n"
      ]
     },
     "metadata": {},
     "output_type": "display_data"
    },
    {
     "data": {
      "text/html": [
       "<pre style=\"white-space:pre;overflow-x:auto;line-height:normal;font-family:Menlo,'DejaVu Sans Mono',consolas,'Courier New',monospace\"><span style=\"color: #d4b702; text-decoration-color: #d4b702; font-weight: bold\">Out - Final answer: Paris</span>\n",
       "</pre>\n"
      ],
      "text/plain": [
       "\u001b[1;38;2;212;183;2mOut - Final answer: Paris\u001b[0m\n"
      ]
     },
     "metadata": {},
     "output_type": "display_data"
    },
    {
     "data": {
      "text/html": [
       "<pre style=\"white-space:pre;overflow-x:auto;line-height:normal;font-family:Menlo,'DejaVu Sans Mono',consolas,'Courier New',monospace\"><span style=\"color: #7f7f7f; text-decoration-color: #7f7f7f\">[Step 1: Duration 2.26 seconds| Input tokens: 5,001 | Output tokens: 108]</span>\n",
       "</pre>\n"
      ],
      "text/plain": [
       "\u001b[2m[Step 1: Duration 2.26 seconds| Input tokens: 5,001 | Output tokens: 108]\u001b[0m\n"
      ]
     },
     "metadata": {},
     "output_type": "display_data"
    },
    {
     "data": {
      "text/plain": [
       "'Paris'"
      ]
     },
     "execution_count": 7,
     "metadata": {},
     "output_type": "execute_result"
    }
   ],
   "source": [
    "agent.run(\n",
    "    \"What is the capital of france?\",\n",
    ")"
   ]
  },
  {
   "cell_type": "code",
   "execution_count": 4,
   "id": "8f9b87e6-ccce-4ef1-8787-63cc37adfd29",
   "metadata": {},
   "outputs": [],
   "source": [
    "# help(agent)"
   ]
  },
  {
   "cell_type": "markdown",
   "id": "a19cb60b-70f5-44bf-aec7-71a49d75895a",
   "metadata": {},
   "source": [
    "## Examining the Messages internal to Agent"
   ]
  },
  {
   "cell_type": "code",
   "execution_count": 8,
   "id": "d5257229-5a40-4302-9b11-a316bfc8875e",
   "metadata": {},
   "outputs": [
    {
     "data": {
      "text/plain": [
       "3"
      ]
     },
     "execution_count": 8,
     "metadata": {},
     "output_type": "execute_result"
    }
   ],
   "source": [
    "len(agent.memory.steps)"
   ]
  },
  {
   "cell_type": "code",
   "execution_count": 9,
   "id": "86eea41c-caf0-401c-9565-f1e34489c3f2",
   "metadata": {},
   "outputs": [
    {
     "data": {
      "text/plain": [
       "('model_input_messages',\n",
       " 'tool_calls',\n",
       " 'start_time',\n",
       " 'end_time',\n",
       " 'step_number',\n",
       " 'error',\n",
       " 'duration',\n",
       " 'model_output_message',\n",
       " 'model_output',\n",
       " 'observations',\n",
       " 'observations_images',\n",
       " 'action_output')"
      ]
     },
     "execution_count": 9,
     "metadata": {},
     "output_type": "execute_result"
    }
   ],
   "source": [
    "agent.memory.steps[1].__match_args__"
   ]
  },
  {
   "cell_type": "code",
   "execution_count": 14,
   "id": "7a60bdc8-e94d-412c-9948-1376fd23fa1f",
   "metadata": {},
   "outputs": [],
   "source": [
    "# pprint(agent.memory.steps[-1].model_input_messages)"
   ]
  },
  {
   "cell_type": "code",
   "execution_count": 13,
   "id": "05b28683-1ebb-4f4f-8945-c2eb1c7a90ad",
   "metadata": {},
   "outputs": [
    {
     "name": "stdout",
     "output_type": "stream",
     "text": [
      "[\n",
      "    {\n",
      "        'role': smolagents.models.MessageRole(''),\n",
      "        'content': [\n",
      "            {\n",
      "                'type': 'text',\n",
      "                'text':\n",
      "                    \"You are an expert assistant who can solve any task using \"\n",
      "                    \"code blobs. You will be given a task to solve as best you \"\n",
      "                    \"can.\\nTo do so, you have been given access to a list of \"\n",
      "                    \"tools: these tools are basically Python functions which you \"\n",
      "                    \"can call with code.\\nTo solve the task, you must plan \"\n",
      "                    \"forward to proceed in a series of steps, in a cycle of \"\n",
      "                    \"'Thought:', 'Code:', and 'Observation:' sequences.\\n\\nAt \"\n",
      "                    \"each step, in the 'Thought:' sequence, you should first \"\n",
      "                    \"explain your reasoning towards solving the task and the \"\n",
      "                    \"tools that you want to use.\\nThen in the 'Code:' sequence, \"\n",
      "                    \"you should write the code in simple Python. The code \"\n",
      "                    \"sequence must end with '<end_code>' sequence.\\nDuring each \"\n",
      "                    \"intermediate step, you can use 'print()' to save whatever \"\n",
      "                    \"important information you will then need.\\nThese print \"\n",
      "                    \"outputs will then appear in the 'Observation:' field, which \"\n",
      "                    \"will be available as input for the next step.\\nIn the end \"\n",
      "                    \"you have to return a final answer using the `final_answer` \"\n",
      "                    \"tool.\\n\\nHere are a few examples using notional tools:\\n---\\n\"\n",
      "                    \"Task: \\\"Generate an image of the oldest person in this \"\n",
      "                    \"document.\\\"\\n\\nThought: I will proceed step by step and use \"\n",
      "                    \"the following tools: `document_qa` to find the oldest person \"\n",
      "                    \"in the document, then `image_generator` to generate an image \"\n",
      "                    \"according to the answer.\\nCode:\\n```py\\nanswer = \"\n",
      "                    \"document_qa(document=document, question=\\\"Who is the oldest \"\n",
      "                    \"person mentioned?\\\")\\nprint(answer)\\n```<end_code>\\n\"\n",
      "                    \"Observation: \\\"The oldest person in the document is John \"\n",
      "                    \"Doe, a 55 year old lumberjack living in Newfoundland.\\\"\\n\\n\"\n",
      "                    \"Thought: I will now generate an image showcasing the oldest \"\n",
      "                    \"person.\\nCode:\\n```py\\nimage = image_generator(\\\"A portrait \"\n",
      "                    \"of John Doe, a 55-year-old man living in Canada.\\\")\\n\"\n",
      "                    \"final_answer(image)\\n```<end_code>\\n\\n---\\nTask: \\\"What is \"\n",
      "                    \"the result of the following operation: 5 + 3 + 1294.678?\\\"\\n\\n\"\n",
      "                    \"Thought: I will use python code to compute the result of the \"\n",
      "                    \"operation and then return the final answer using the \"\n",
      "                    \"`final_answer` tool\\nCode:\\n```py\\nresult = 5 + 3 + 1294.678\\n\"\n",
      "                    \"final_answer(result)\\n```<end_code>\\n\\n---\\nTask:\\n\\\"Answer \"\n",
      "                    \"the question in the variable `question` about the image \"\n",
      "                    \"stored in the variable `image`. The question is in French.\\n\"\n",
      "                    \"You have been provided with these additional arguments, that \"\n",
      "                    \"you can access using the keys as variables in your python \"\n",
      "                    \"code:\\n{'question': 'Quel est l'animal sur l'image?', \"\n",
      "                    \"'image': 'path/to/image.jpg'}\\\"\\n\\nThought: I will use the \"\n",
      "                    \"following tools: `translator` to translate the question into \"\n",
      "                    \"English and then `image_qa` to answer the question on the \"\n",
      "                    \"input image.\\nCode:\\n```py\\ntranslated_question = \"\n",
      "                    \"translator(question=question, src_lang=\\\"French\\\", \"\n",
      "                    \"tgt_lang=\\\"English\\\")\\nprint(f\\\"The translated question is \"\n",
      "                    \"{translated_question}.\\\")\\nanswer = image_qa(image=image, \"\n",
      "                    \"question=translated_question)\\nfinal_answer(f\\\"The answer is \"\n",
      "                    \"{answer}\\\")\\n```<end_code>\\n\\n---\\nTask:\\nIn a 1979 \"\n",
      "                    \"interview, Stanislaus Ulam discusses with Martin Sherwin \"\n",
      "                    \"about other great physicists of his time, including \"\n",
      "                    \"Oppenheimer.\\nWhat does he say was the consequence of \"\n",
      "                    \"Einstein learning too much math on his creativity, in one \"\n",
      "                    \"word?\\n\\nThought: I need to find and read the 1979 interview \"\n",
      "                    \"of Stanislaus Ulam with Martin Sherwin.\\nCode:\\n```py\\npages \"\n",
      "                    \"= search(query=\\\"1979 interview Stanislaus Ulam Martin \"\n",
      "                    \"Sherwin physicists Einstein\\\")\\nprint(pages)\\n```<end_code>\\n\"\n",
      "                    \"Observation:\\nNo result found for query \\\"1979 interview \"\n",
      "                    \"Stanislaus Ulam Martin Sherwin physicists Einstein\\\".\\n\\n\"\n",
      "                    \"Thought: The query was maybe too restrictive and did not \"\n",
      "                    \"find any results. Let's try again with a broader query.\\n\"\n",
      "                    \"Code:\\n```py\\npages = search(query=\\\"1979 interview \"\n",
      "                    \"Stanislaus Ulam\\\")\\nprint(pages)\\n```<end_code>\\n\"\n",
      "                    \"Observation:\\nFound 6 pages:\\n[Stanislaus Ulam 1979 \"\n",
      "                    \"interview](https://ahf.nuclearmuseum.org/voices/oral-historie\"\n",
      "                    \"s/stanislaus-ulams-interview-1979/)\\n\\n[Ulam discusses \"\n",
      "                    \"Manhattan \"\n",
      "                    \"Project](https://ahf.nuclearmuseum.org/manhattan-project/ulam\"\n",
      "                    \"-manhattan-project/)\\n\\n(truncated)\\n\\nThought: I will read \"\n",
      "                    \"the first 2 pages to know more.\\nCode:\\n```py\\nfor url in \"\n",
      "                    \"[\\\"https://ahf.nuclearmuseum.org/voices/oral-histories/stanisl\"\n",
      "                    \"aus-ulams-interview-1979/\\\", \"\n",
      "                    \"\\\"https://ahf.nuclearmuseum.org/manhattan-project/ulam-manhatt\"\n",
      "                    \"an-project/\\\"]:\\n    whole_page = visit_webpage(url)\\n    \"\n",
      "                    \"print(whole_page)\\n    print(\\\"\\n\\\" + \\\"=\\\"*80 + \\\"\\n\\\")  # \"\n",
      "                    \"Print separator between pages\\n```<end_code>\\nObservation:\\n\"\n",
      "                    \"Manhattan Project Locations:\\nLos Alamos, NM\\nStanislaus \"\n",
      "                    \"Ulam was a Polish-American mathematician. He worked on the \"\n",
      "                    \"Manhattan Project at Los Alamos and later helped design the \"\n",
      "                    \"hydrogen bomb. In this interview, he discusses his work at\\n\"\n",
      "                    \"(truncated)\\n\\nThought: I now have the final answer: from \"\n",
      "                    \"the webpages visited, Stanislaus Ulam says of Einstein: \\\"He \"\n",
      "                    \"learned too much mathematics and sort of diminished, it \"\n",
      "                    \"seems to me personally, it seems to me his purely physics \"\n",
      "                    \"creativity.\\\" Let's answer in one word.\\nCode:\\n```py\\n\"\n",
      "                    \"final_answer(\\\"diminished\\\")\\n```<end_code>\\n\\n---\\nTask: \"\n",
      "                    \"\\\"Which city has the highest population: Guangzhou or \"\n",
      "                    \"Shanghai?\\\"\\n\\nThought: I need to get the populations for \"\n",
      "                    \"both cities and compare them: I will use the tool `search` \"\n",
      "                    \"to get the population of both cities.\\nCode:\\n```py\\nfor \"\n",
      "                    \"city in [\\\"Guangzhou\\\", \\\"Shanghai\\\"]:\\n    \"\n",
      "                    \"print(f\\\"Population {city}:\\\", search(f\\\"{city} \"\n",
      "                    \"population\\\")\\n```<end_code>\\nObservation:\\nPopulation \"\n",
      "                    \"Guangzhou: ['Guangzhou has a population of 15 million \"\n",
      "                    \"inhabitants as of 2021.']\\nPopulation Shanghai: '26 million \"\n",
      "                    \"(2019)'\\n\\nThought: Now I know that Shanghai has the highest \"\n",
      "                    \"population.\\nCode:\\n```py\\nfinal_answer(\\\"Shanghai\\\")\\n\"\n",
      "                    \"```<end_code>\\n\\n---\\nTask: \\\"What is the current age of the \"\n",
      "                    \"pope, raised to the power 0.36?\\\"\\n\\nThought: I will use the \"\n",
      "                    \"tool `wiki` to get the age of the pope, and confirm that \"\n",
      "                    \"with a web search.\\nCode:\\n```py\\npope_age_wiki = \"\n",
      "                    \"wiki(query=\\\"current pope age\\\")\\nprint(\\\"Pope age as per \"\n",
      "                    \"wikipedia:\\\", pope_age_wiki)\\npope_age_search = \"\n",
      "                    \"web_search(query=\\\"current pope age\\\")\\nprint(\\\"Pope age as \"\n",
      "                    \"per google search:\\\", pope_age_search)\\n```<end_code>\\n\"\n",
      "                    \"Observation:\\nPope age: \\\"The pope Francis is currently 88 \"\n",
      "                    \"years old.\\\"\\n\\nThought: I know that the pope is 88 years \"\n",
      "                    \"old. Let's compute the result using python code.\\nCode:\\n\"\n",
      "                    \"```py\\npope_current_age = 88 ** 0.36\\n\"\n",
      "                    \"final_answer(pope_current_age)\\n```<end_code>\\n\\nAbove \"\n",
      "                    \"example were using notional tools that might not exist for \"\n",
      "                    \"you. On top of performing computations in the Python code \"\n",
      "                    \"snippets that you create, you only have access to these \"\n",
      "                    \"tools:\\n\\n\\n- web_search: Performs a duckduckgo web search \"\n",
      "                    \"based on your query (think a Google search) then returns the \"\n",
      "                    \"top search results.\\n    Takes inputs: {'query': {'type': \"\n",
      "                    \"'string', 'description': 'The search query to perform.'}}\\n   \"\n",
      "                    \" Returns an output of type: string\\n\\n- visit_webpage: \"\n",
      "                    \"Visits a webpage at the given url and reads its content as a \"\n",
      "                    \"markdown string. Use this to browse webpages.\\n    Takes \"\n",
      "                    \"inputs: {'url': {'type': 'string', 'description': 'The url \"\n",
      "                    \"of the webpage to visit.'}}\\n    Returns an output of type: \"\n",
      "                    \"string\\n\\n- final_answer: Provides a final answer to the \"\n",
      "                    \"given problem.\\n    Takes inputs: {'answer': {'type': 'any', \"\n",
      "                    \"'description': 'The final answer to the problem'}}\\n    \"\n",
      "                    \"Returns an output of type: any\\n\\n\\n\\nHere are the rules you \"\n",
      "                    \"should always follow to solve your task:\\n1. Always provide \"\n",
      "                    \"a 'Thought:' sequence, and a 'Code:\\n```py' sequence ending \"\n",
      "                    \"with '```<end_code>' sequence, else you will fail.\\n2. Use \"\n",
      "                    \"only variables that you have defined!\\n3. Always use the \"\n",
      "                    \"right arguments for the tools. DO NOT pass the arguments as \"\n",
      "                    \"a dict as in 'answer = wiki({'query': \\\"What is the place \"\n",
      "                    \"where James Bond lives?\\\"})', but use the arguments directly \"\n",
      "                    \"as in 'answer = wiki(query=\\\"What is the place where James \"\n",
      "                    \"Bond lives?\\\")'.\\n4. Take care to not chain too many \"\n",
      "                    \"sequential tool calls in the same code block, especially \"\n",
      "                    \"when the output format is unpredictable. For instance, a \"\n",
      "                    \"call to search has an unpredictable return format, so do not \"\n",
      "                    \"have another tool call that depends on its output in the \"\n",
      "                    \"same block: rather output results with print() to use them \"\n",
      "                    \"in the next block.\\n5. Call a tool only when needed, and \"\n",
      "                    \"never re-do a tool call that you previously did with the \"\n",
      "                    \"exact same parameters.\\n6. Don't name any new variable with \"\n",
      "                    \"the same name as a tool: for instance don't name a variable \"\n",
      "                    \"'final_answer'.\\n7. Never create any notional variables in \"\n",
      "                    \"our code, as having these in your logs will derail you from \"\n",
      "                    \"the true variables.\\n8. You can use imports in your code, \"\n",
      "                    \"but only from the following list of modules: ['itertools', \"\n",
      "                    \"'re', 'math', 'random', 'statistics', 'queue', 'stat', \"\n",
      "                    \"'time', 'datetime', 'collections', 'unicodedata']\\n9. The \"\n",
      "                    \"state persists between code executions: so if in one step \"\n",
      "                    \"you've created variables or imported modules, these will all \"\n",
      "                    \"persist.\\n10. Don't give up! You're in charge of solving the \"\n",
      "                    \"task, not providing directions to solve it.\\n\\nNow Begin! If \"\n",
      "                    \"you solve the task correctly, you will receive a reward of \"\n",
      "                    \"$1,000,000.\"\n",
      "            }\n",
      "        ]\n",
      "    },\n",
      "    {\n",
      "        'role': smolagents.models.MessageRole(''),\n",
      "        'content': [\n",
      "            {\n",
      "                'type': 'text',\n",
      "                'text': 'New task:\\nWhat is the capital of france?'\n",
      "            }\n",
      "        ]\n",
      "    },\n",
      "    {\n",
      "        'role': smolagents.models.MessageRole(''),\n",
      "        'content': [\n",
      "            {\n",
      "                'type': 'text',\n",
      "                'text':\n",
      "                    'Thought: To find the capital of France, I will perform a web '\n",
      "                    'search to retrieve the relevant information. Once I obtain '\n",
      "                    'the result, I can finalize the answer. \\n\\nCode:\\n```py\\n'\n",
      "                    'capital_of_france = web_search(query=\"What is the capital of '\n",
      "                    'France?\")\\nprint(capital_of_france)\\n```'\n",
      "            }\n",
      "        ]\n",
      "    },\n",
      "    {\n",
      "        'role': smolagents.models.MessageRole(''),\n",
      "        'content': [\n",
      "            {\n",
      "                'type': 'text',\n",
      "                'text':\n",
      "                    \"Calling tools:\\n[{'id': 'call_1', 'type': 'function', \"\n",
      "                    \"'function': {'name': 'python_interpreter', 'arguments': \"\n",
      "                    \"'capital_of_france = web_search(query=\\\"What is the capital \"\n",
      "                    \"of France?\\\")\\\\nprint(capital_of_france)'}}]\"\n",
      "            }\n",
      "        ]\n",
      "    },\n",
      "    {\n",
      "        'role': smolagents.models.MessageRole(''),\n",
      "        'content': [\n",
      "            {\n",
      "                'type': 'text',\n",
      "                'text':\n",
      "                    \"Call id: call_1\\nObservation:\\nExecution logs:\\n## Search \"\n",
      "                    \"Results\\n\\n[Paris - \"\n",
      "                    \"Wikipedia](https://en.wikipedia.org/wiki/Paris)\\nParis is a \"\n",
      "                    \"global centre of finance, diplomacy, culture, and \"\n",
      "                    \"gastronomy, with an estimated population of 2.1 million in \"\n",
      "                    \"2023. It has many famous landmarks, museums, and historical \"\n",
      "                    \"districts, and is home to several international \"\n",
      "                    \"organizations and sports clubs.\\n\\n[Paris | Definition, Map, \"\n",
      "                    \"Population, Facts, & History | \"\n",
      "                    \"Britannica](https://www.britannica.com/place/Paris)\\nParis, \"\n",
      "                    \"city and capital of France, located along the Seine River, \"\n",
      "                    \"in the north-central part of the country. Paris is one of \"\n",
      "                    \"the world's most important and attractive cities, famed for \"\n",
      "                    \"its gastronomy, haute couture, painting, literature, and \"\n",
      "                    \"intellectual community. Learn more about Paris in this \"\n",
      "                    \"article.\\n\\n[What is the Capital of France? - \"\n",
      "                    \"WorldAtlas](https://www.worldatlas.com/articles/what-is-the-c\"\n",
      "                    \"apital-of-france.html)\\nLearn about Paris, the largest and \"\n",
      "                    \"most populous city in France, and its history, geography, \"\n",
      "                    \"economy, tourism, and administration. Find out why Paris is \"\n",
      "                    \"called the City of Light and the City of Love.\\n\\n[France | \"\n",
      "                    \"History, Maps, Flag, Population, Cities, Capital, & Facts \"\n",
      "                    \"...](https://www.britannica.com/place/France)\\nFrance, a \"\n",
      "                    \"country of northwestern Europe, is historically and \"\n",
      "                    \"culturally among the most important countries in the Western \"\n",
      "                    \"world. It has also played a highly significant role in \"\n",
      "                    \"international affairs for centuries. Its capital is Paris, \"\n",
      "                    \"one of the most important cultural and commercial centers in \"\n",
      "                    \"the world.\\n\\n[Paris - Simple English Wikipedia, the free \"\n",
      "                    \"encyclopedia](https://simple.wikipedia.org/wiki/Paris)\\n\"\n",
      "                    \"Paris is the capital city of France and the largest city in \"\n",
      "                    \"France. It has a rich history, many art museums, historical \"\n",
      "                    \"buildings, and a famous landmark, the Eiffel Tower.\\n\\n[List \"\n",
      "                    \"of capitals of France - \"\n",
      "                    \"Wikipedia](https://en.wikipedia.org/wiki/List_of_capitals_of_\"\n",
      "                    \"France)\\nThe capital of France has been Paris since its \"\n",
      "                    \"liberation in 1944. Learn about the historical and \"\n",
      "                    \"provisional seats of the government of France from 486 to \"\n",
      "                    \"1944.\\n\\n[Paris: Facts & Related Content - Encyclopedia \"\n",
      "                    \"Britannica](https://www.britannica.com/facts/Paris)\\nParis \"\n",
      "                    \"is the capital of France, located in the north-central part \"\n",
      "                    \"of the country. It is a major centre of commerce, culture, \"\n",
      "                    \"and tourism, with famous landmarks such as the Eiffel Tower, \"\n",
      "                    \"the Louvre Museum, and Notre-Dame de Paris.\\n\\n[Capital of \"\n",
      "                    \"France - Simple English Wikipedia, the free \"\n",
      "                    \"encyclopedia](https://simple.wikipedia.org/wiki/Capital_of_Fr\"\n",
      "                    \"ance)\\nLearn about the history and current status of the \"\n",
      "                    \"capital of France, which is Paris. Find out which other \"\n",
      "                    \"cities have been the national capital in different periods \"\n",
      "                    \"of time.\\n\\n[What is the Capital of France? - \"\n",
      "                    \"GeeksforGeeks](https://www.geeksforgeeks.org/what-is-the-capi\"\n",
      "                    \"tal-of-france/)\\nLearn that the capital of France is Paris, \"\n",
      "                    \"a global center for art, fashion, culture, and history. Find \"\n",
      "                    \"out more about Paris' landmarks, history, districts, and \"\n",
      "                    \"time difference with the United States.\\n\\n[What is the \"\n",
      "                    \"Capital of France? - \"\n",
      "                    \"Mappr](https://www.mappr.co/capital-cities/france/)\\nLearn \"\n",
      "                    \"why Paris is the capital of France and how it became a \"\n",
      "                    \"global city with a rich cultural heritage. Discover its \"\n",
      "                    \"geography, climate, population, landmarks, and industries.\\n\"\n",
      "                    \"Last output from code snippet:\\nNone\"\n",
      "            }\n",
      "        ]\n",
      "    },\n",
      "    {\n",
      "        'role': smolagents.models.MessageRole(''),\n",
      "        'content': [\n",
      "            {\n",
      "                'type': 'text',\n",
      "                'text':\n",
      "                    'Thought: From the search results, I can see that the capital '\n",
      "                    'of France is clearly stated multiple times. I will summarize '\n",
      "                    'the information and prepare to provide the final answer.\\n\\n'\n",
      "                    'Code:\\n```py\\nfinal_answer(\"Paris\")\\n```'\n",
      "            }\n",
      "        ]\n",
      "    },\n",
      "    {\n",
      "        'role': smolagents.models.MessageRole(''),\n",
      "        'content': [\n",
      "            {\n",
      "                'type': 'text',\n",
      "                'text':\n",
      "                    \"Calling tools:\\n[{'id': 'call_2', 'type': 'function', \"\n",
      "                    \"'function': {'name': 'python_interpreter', 'arguments': \"\n",
      "                    \"'final_answer(\\\"Paris\\\")'}}]\"\n",
      "            }\n",
      "        ]\n",
      "    },\n",
      "    {\n",
      "        'role': smolagents.models.MessageRole(''),\n",
      "        'content': [\n",
      "            {\n",
      "                'type': 'text',\n",
      "                'text':\n",
      "                    'Call id: call_2\\nObservation:\\nExecution logs:\\nLast output '\n",
      "                    'from code snippet:\\nParis'\n",
      "            }\n",
      "        ]\n",
      "    }\n",
      "]\n"
     ]
    }
   ],
   "source": [
    "pprint(agent.write_memory_to_messages())"
   ]
  },
  {
   "cell_type": "markdown",
   "id": "de81d2e8-77ac-4fee-9f32-5a1f788ec0b8",
   "metadata": {},
   "source": [
    "## Tool Calling Agent\n",
    "\n",
    "Instead of code uses JSON structured output"
   ]
  },
  {
   "cell_type": "code",
   "execution_count": 52,
   "id": "3dd0661e-78ce-4124-a124-cbfa5100eef7",
   "metadata": {
    "collapsed": true,
    "jupyter": {
     "outputs_hidden": true
    },
    "scrolled": true
   },
   "outputs": [
    {
     "data": {
      "text/html": [
       "<pre style=\"white-space:pre;overflow-x:auto;line-height:normal;font-family:Menlo,'DejaVu Sans Mono',consolas,'Courier New',monospace\"><span style=\"color: #d4b702; text-decoration-color: #d4b702\">╭──────────────────────────────────────────────────── </span><span style=\"color: #d4b702; text-decoration-color: #d4b702; font-weight: bold\">New run</span><span style=\"color: #d4b702; text-decoration-color: #d4b702\"> ────────────────────────────────────────────────────╮</span>\n",
       "<span style=\"color: #d4b702; text-decoration-color: #d4b702\">│</span>                                                                                                                 <span style=\"color: #d4b702; text-decoration-color: #d4b702\">│</span>\n",
       "<span style=\"color: #d4b702; text-decoration-color: #d4b702\">│</span> <span style=\"font-weight: bold\">Could you get me the title of the page at url 'https://huggingface.co/blog'?</span>                                    <span style=\"color: #d4b702; text-decoration-color: #d4b702\">│</span>\n",
       "<span style=\"color: #d4b702; text-decoration-color: #d4b702\">│</span>                                                                                                                 <span style=\"color: #d4b702; text-decoration-color: #d4b702\">│</span>\n",
       "<span style=\"color: #d4b702; text-decoration-color: #d4b702\">╰─ OpenAIServerModel - gpt-4o ────────────────────────────────────────────────────────────────────────────────────╯</span>\n",
       "</pre>\n"
      ],
      "text/plain": [
       "\u001b[38;2;212;183;2m╭─\u001b[0m\u001b[38;2;212;183;2m───────────────────────────────────────────────────\u001b[0m\u001b[38;2;212;183;2m \u001b[0m\u001b[1;38;2;212;183;2mNew run\u001b[0m\u001b[38;2;212;183;2m \u001b[0m\u001b[38;2;212;183;2m───────────────────────────────────────────────────\u001b[0m\u001b[38;2;212;183;2m─╮\u001b[0m\n",
       "\u001b[38;2;212;183;2m│\u001b[0m                                                                                                                 \u001b[38;2;212;183;2m│\u001b[0m\n",
       "\u001b[38;2;212;183;2m│\u001b[0m \u001b[1mCould you get me the title of the page at url 'https://huggingface.co/blog'?\u001b[0m                                    \u001b[38;2;212;183;2m│\u001b[0m\n",
       "\u001b[38;2;212;183;2m│\u001b[0m                                                                                                                 \u001b[38;2;212;183;2m│\u001b[0m\n",
       "\u001b[38;2;212;183;2m╰─\u001b[0m\u001b[38;2;212;183;2m OpenAIServerModel - gpt-4o \u001b[0m\u001b[38;2;212;183;2m───────────────────────────────────────────────────────────────────────────────────\u001b[0m\u001b[38;2;212;183;2m─╯\u001b[0m\n"
      ]
     },
     "metadata": {},
     "output_type": "display_data"
    },
    {
     "data": {
      "text/html": [
       "<pre style=\"white-space:pre;overflow-x:auto;line-height:normal;font-family:Menlo,'DejaVu Sans Mono',consolas,'Courier New',monospace\"><span style=\"color: #d4b702; text-decoration-color: #d4b702\">━━━━━━━━━━━━━━━━━━━━━━━━━━━━━━━━━━━━━━━━━━━━━━━━━━━━━ </span><span style=\"font-weight: bold\">Step </span><span style=\"color: #008080; text-decoration-color: #008080; font-weight: bold\">1</span><span style=\"color: #d4b702; text-decoration-color: #d4b702\"> ━━━━━━━━━━━━━━━━━━━━━━━━━━━━━━━━━━━━━━━━━━━━━━━━━━━━━━</span>\n",
       "</pre>\n"
      ],
      "text/plain": [
       "\u001b[38;2;212;183;2m━━━━━━━━━━━━━━━━━━━━━━━━━━━━━━━━━━━━━━━━━━━━━━━━━━━━━ \u001b[0m\u001b[1mStep \u001b[0m\u001b[1;36m1\u001b[0m\u001b[38;2;212;183;2m ━━━━━━━━━━━━━━━━━━━━━━━━━━━━━━━━━━━━━━━━━━━━━━━━━━━━━━\u001b[0m\n"
      ]
     },
     "metadata": {},
     "output_type": "display_data"
    },
    {
     "data": {
      "text/html": [
       "<pre style=\"white-space:pre;overflow-x:auto;line-height:normal;font-family:Menlo,'DejaVu Sans Mono',consolas,'Courier New',monospace\">╭─────────────────────────────────────────────────────────────────────────────────────────────────────────────────╮\n",
       "│ Calling tool: 'visit_webpage' with arguments: {'url': 'https://huggingface.co/blog'}                            │\n",
       "╰─────────────────────────────────────────────────────────────────────────────────────────────────────────────────╯\n",
       "</pre>\n"
      ],
      "text/plain": [
       "╭─────────────────────────────────────────────────────────────────────────────────────────────────────────────────╮\n",
       "│ Calling tool: 'visit_webpage' with arguments: {'url': 'https://huggingface.co/blog'}                            │\n",
       "╰─────────────────────────────────────────────────────────────────────────────────────────────────────────────────╯\n"
      ]
     },
     "metadata": {},
     "output_type": "display_data"
    },
    {
     "data": {
      "text/html": [
       "<pre style=\"white-space:pre;overflow-x:auto;line-height:normal;font-family:Menlo,'DejaVu Sans Mono',consolas,'Courier New',monospace\">Observations: Hugging Face – Blog\n",
       "\n",
       "|!|Hugging Face's logo<span style=\"font-weight: bold\">](</span><span style=\"color: #800080; text-decoration-color: #800080\">/front/assets/</span><span style=\"color: #ff00ff; text-decoration-color: #ff00ff\">huggingface_logo-noborder.svg</span><span style=\"font-weight: bold\">)</span>\n",
       "Hugging Face<span style=\"font-weight: bold\">](</span><span style=\"color: #800080; text-decoration-color: #800080\">/</span><span style=\"font-weight: bold\">)</span>\n",
       "\n",
       "* |Models<span style=\"font-weight: bold\">](</span><span style=\"color: #800080; text-decoration-color: #800080\">/</span><span style=\"color: #ff00ff; text-decoration-color: #ff00ff\">models</span><span style=\"font-weight: bold\">)</span>\n",
       "* |Datasets<span style=\"font-weight: bold\">](</span><span style=\"color: #800080; text-decoration-color: #800080\">/</span><span style=\"color: #ff00ff; text-decoration-color: #ff00ff\">datasets</span><span style=\"font-weight: bold\">)</span>\n",
       "* |Spaces<span style=\"font-weight: bold\">](</span><span style=\"color: #800080; text-decoration-color: #800080\">/</span><span style=\"color: #ff00ff; text-decoration-color: #ff00ff\">spaces</span><span style=\"font-weight: bold\">)</span>\n",
       "* |Posts<span style=\"font-weight: bold\">](</span><span style=\"color: #800080; text-decoration-color: #800080\">/</span><span style=\"color: #ff00ff; text-decoration-color: #ff00ff\">posts</span><span style=\"font-weight: bold\">)</span>\n",
       "* |Docs<span style=\"font-weight: bold\">](</span><span style=\"color: #800080; text-decoration-color: #800080\">/</span><span style=\"color: #ff00ff; text-decoration-color: #ff00ff\">docs</span><span style=\"font-weight: bold\">)</span>\n",
       "* |Enterprise<span style=\"font-weight: bold\">](</span><span style=\"color: #800080; text-decoration-color: #800080\">/</span><span style=\"color: #ff00ff; text-decoration-color: #ff00ff\">enterprise</span><span style=\"font-weight: bold\">)</span>\n",
       "* |Pricing<span style=\"font-weight: bold\">](</span><span style=\"color: #800080; text-decoration-color: #800080\">/</span><span style=\"color: #ff00ff; text-decoration-color: #ff00ff\">pricing</span><span style=\"font-weight: bold\">)</span>\n",
       "* ---\n",
       "* |Log In<span style=\"font-weight: bold\">](</span><span style=\"color: #800080; text-decoration-color: #800080\">/</span><span style=\"color: #ff00ff; text-decoration-color: #ff00ff\">login</span><span style=\"font-weight: bold\">)</span>\n",
       "* |Sign Up<span style=\"font-weight: bold\">](</span><span style=\"color: #800080; text-decoration-color: #800080\">/</span><span style=\"color: #ff00ff; text-decoration-color: #ff00ff\">join</span><span style=\"font-weight: bold\">)</span>\n",
       "\n",
       "Blog, Articles, and discussions\n",
       "===============================\n",
       "\n",
       "New Article\n",
       "\n",
       "|Everything<span style=\"font-weight: bold\">](</span><span style=\"color: #800080; text-decoration-color: #800080\">/</span><span style=\"color: #ff00ff; text-decoration-color: #ff00ff\">blog</span><span style=\"font-weight: bold\">)</span>\n",
       "|community<span style=\"font-weight: bold\">](</span><span style=\"color: #800080; text-decoration-color: #800080\">/</span><span style=\"color: #ff00ff; text-decoration-color: #ff00ff\">blog</span>?<span style=\"color: #808000; text-decoration-color: #808000\">tag</span>=<span style=\"color: #800080; text-decoration-color: #800080\">community</span><span style=\"font-weight: bold\">)</span>|guide<span style=\"font-weight: bold\">](</span><span style=\"color: #800080; text-decoration-color: #800080\">/</span><span style=\"color: #ff00ff; text-decoration-color: #ff00ff\">blog</span>?<span style=\"color: #808000; text-decoration-color: #808000\">tag</span>=<span style=\"color: #800080; text-decoration-color: #800080\">guide</span><span style=\"font-weight: bold\">)</span>|open source \n",
       "collab<span style=\"font-weight: bold\">](</span><span style=\"color: #800080; text-decoration-color: #800080\">/</span><span style=\"color: #ff00ff; text-decoration-color: #ff00ff\">blog</span>?<span style=\"color: #808000; text-decoration-color: #808000\">tag</span>=<span style=\"color: #800080; text-decoration-color: #800080\">open</span>-source-collab<span style=\"font-weight: bold\">)</span>|partnerships<span style=\"font-weight: bold\">](</span><span style=\"color: #800080; text-decoration-color: #800080\">/</span><span style=\"color: #ff00ff; text-decoration-color: #ff00ff\">blog</span>?<span style=\"color: #808000; text-decoration-color: #808000\">tag</span>=<span style=\"color: #800080; text-decoration-color: #800080\">partnerships</span><span style=\"font-weight: bold\">)</span>|research<span style=\"font-weight: bold\">](</span><span style=\"color: #800080; text-decoration-color: #800080\">/</span><span style=\"color: #ff00ff; text-decoration-color: #ff00ff\">blog</span>?<span style=\"color: #808000; text-decoration-color: #808000\">tag</span>=<span style=\"color: #800080; text-decoration-color: #800080\">research</span><span style=\"font-weight: bold\">)</span>|NLP<span style=\"font-weight: bold\">](</span><span style=\"color: #800080; text-decoration-color: #800080\">/</span><span style=\"color: #ff00ff; text-decoration-color: #ff00ff\">blo</span>\n",
       "<span style=\"color: #ff00ff; text-decoration-color: #ff00ff\">g</span>?<span style=\"color: #808000; text-decoration-color: #808000\">tag</span>=<span style=\"color: #800080; text-decoration-color: #800080\">nlp</span><span style=\"font-weight: bold\">)</span>|Audio<span style=\"font-weight: bold\">](</span><span style=\"color: #800080; text-decoration-color: #800080\">/</span><span style=\"color: #ff00ff; text-decoration-color: #ff00ff\">blog</span>?<span style=\"color: #808000; text-decoration-color: #808000\">tag</span>=<span style=\"color: #800080; text-decoration-color: #800080\">audio</span><span style=\"font-weight: bold\">)</span>|CV<span style=\"font-weight: bold\">](</span><span style=\"color: #800080; text-decoration-color: #800080\">/</span><span style=\"color: #ff00ff; text-decoration-color: #ff00ff\">blog</span>?<span style=\"color: #808000; text-decoration-color: #808000\">tag</span>=<span style=\"color: #800080; text-decoration-color: #800080\">cv</span><span style=\"font-weight: bold\">)</span>|RL<span style=\"font-weight: bold\">](</span><span style=\"color: #800080; text-decoration-color: #800080\">/</span><span style=\"color: #ff00ff; text-decoration-color: #ff00ff\">blog</span>?<span style=\"color: #808000; text-decoration-color: #808000\">tag</span>=<span style=\"color: #800080; text-decoration-color: #800080\">rl</span><span style=\"font-weight: bold\">)</span>|ethics<span style=\"font-weight: bold\">](</span><span style=\"color: #800080; text-decoration-color: #800080\">/</span><span style=\"color: #ff00ff; text-decoration-color: #ff00ff\">blog</span>?<span style=\"color: #808000; text-decoration-color: #808000\">tag</span>=<span style=\"color: #800080; text-decoration-color: #800080\">ethics</span><span style=\"font-weight: bold\">)</span>|Diffusion<span style=\"font-weight: bold\">](</span><span style=\"color: #800080; text-decoration-color: #800080\">/</span><span style=\"color: #ff00ff; text-decoration-color: #ff00ff\">blog</span>?<span style=\"color: #808000; text-decoration-color: #808000\">t</span>\n",
       "<span style=\"color: #808000; text-decoration-color: #808000\">ag</span>=<span style=\"color: #800080; text-decoration-color: #800080\">diffusion</span><span style=\"font-weight: bold\">)</span>|Game Development<span style=\"font-weight: bold\">](</span><span style=\"color: #800080; text-decoration-color: #800080\">/</span><span style=\"color: #ff00ff; text-decoration-color: #ff00ff\">blog</span>?<span style=\"color: #808000; text-decoration-color: #808000\">tag</span>=<span style=\"color: #800080; text-decoration-color: #800080\">game</span>-dev<span style=\"font-weight: bold\">)</span>|RLHF<span style=\"font-weight: bold\">](</span><span style=\"color: #800080; text-decoration-color: #800080\">/</span><span style=\"color: #ff00ff; text-decoration-color: #ff00ff\">blog</span>?<span style=\"color: #808000; text-decoration-color: #808000\">tag</span>=<span style=\"color: #800080; text-decoration-color: #800080\">rlhf</span><span style=\"font-weight: bold\">)</span>|Leaderboard<span style=\"font-weight: bold\">](</span><span style=\"color: #800080; text-decoration-color: #800080\">/</span><span style=\"color: #ff00ff; text-decoration-color: #ff00ff\">blog</span>?<span style=\"color: #808000; text-decoration-color: #808000\">tag</span>=<span style=\"color: #800080; text-decoration-color: #800080\">leaderboard</span><span style=\"font-weight: bold\">)</span>|Case \n",
       "Studies<span style=\"font-weight: bold\">](</span><span style=\"color: #800080; text-decoration-color: #800080\">/</span><span style=\"color: #ff00ff; text-decoration-color: #ff00ff\">blog</span>?<span style=\"color: #808000; text-decoration-color: #808000\">tag</span>=<span style=\"color: #800080; text-decoration-color: #800080\">case</span>-studies<span style=\"font-weight: bold\">)</span>\n",
       "\n",
       "|!|<span style=\"font-weight: bold\">](</span><span style=\"color: #800080; text-decoration-color: #800080\">/blog/assets/ai_art_newsletter_1/</span><span style=\"color: #ff00ff; text-decoration-color: #ff00ff\">thumbnail.png</span><span style=\"font-weight: bold\">)</span>\n",
       "\n",
       "The AI tools for Art Newsletter - Issue <span style=\"color: #008080; text-decoration-color: #008080; font-weight: bold\">1</span>\n",
       "-----------------------------------------\n",
       "\n",
       "By \n",
       "|linoyts<span style=\"font-weight: bold\">](</span><span style=\"color: #800080; text-decoration-color: #800080\">/</span><span style=\"color: #ff00ff; text-decoration-color: #ff00ff\">linoyts</span><span style=\"font-weight: bold\">)</span>\n",
       "\n",
       "January <span style=\"color: #008080; text-decoration-color: #008080; font-weight: bold\">31</span>, <span style=\"color: #008080; text-decoration-color: #008080; font-weight: bold\">2025</span>\n",
       "•\n",
       "\n",
       "<span style=\"color: #008080; text-decoration-color: #008080; font-weight: bold\">29</span><span style=\"font-weight: bold\">](</span><span style=\"color: #800080; text-decoration-color: #800080\">/blog/</span><span style=\"color: #ff00ff; text-decoration-color: #ff00ff\">ai-art-newsletter-jan-25</span><span style=\"font-weight: bold\">)</span>\n",
       "Community Articles\n",
       "|view all<span style=\"font-weight: bold\">](</span><span style=\"color: #800080; text-decoration-color: #800080\">/blog/</span><span style=\"color: #ff00ff; text-decoration-color: #ff00ff\">community</span><span style=\"font-weight: bold\">)</span>\n",
       "|#### o3-mini vs Deepseek-R1\n",
       "\n",
       "By\n",
       "|!|<span style=\"font-weight: bold\">](</span><span style=\"color: #0000ff; text-decoration-color: #0000ff; text-decoration: underline\">https://cdn-avatars.huggingface.co/v1/production/uploads/65bb837dbfb878f46c77de4c/UVtVbF_3rdt0DC8xTkpL1.jpeg)</span>\n",
       "prithivMLmods<span style=\"font-weight: bold\">](</span><span style=\"color: #800080; text-decoration-color: #800080\">/</span><span style=\"color: #ff00ff; text-decoration-color: #ff00ff\">prithivMLmods</span><span style=\"font-weight: bold\">)</span>\n",
       "• \n",
       "about <span style=\"color: #008080; text-decoration-color: #008080; font-weight: bold\">2</span> hours ago\n",
       "•\n",
       "\n",
       "<span style=\"color: #008080; text-decoration-color: #008080; font-weight: bold\">7</span><span style=\"font-weight: bold\">](</span><span style=\"color: #800080; text-decoration-color: #800080\">/blog/prithivMLmods/</span><span style=\"color: #ff00ff; text-decoration-color: #ff00ff\">o3-mini-vs-deepseek-r1</span><span style=\"font-weight: bold\">)</span>\n",
       "|#### Activation Steering: A New Frontier in AI Control—But Does It Scale?\n",
       "\n",
       "By\n",
       "|!|<span style=\"font-weight: bold\">](</span><span style=\"color: #800080; text-decoration-color: #800080\">/avatars/</span><span style=\"color: #ff00ff; text-decoration-color: #ff00ff\">494015182ac0d9f56eecbd5764eb4805.svg</span><span style=\"font-weight: bold\">)</span>\n",
       "royswastik<span style=\"font-weight: bold\">](</span><span style=\"color: #800080; text-decoration-color: #800080\">/</span><span style=\"color: #ff00ff; text-decoration-color: #ff00ff\">royswastik</span><span style=\"font-weight: bold\">)</span>\n",
       "• \n",
       "about <span style=\"color: #008080; text-decoration-color: #008080; font-weight: bold\">8</span> hours ago<span style=\"font-weight: bold\">](</span><span style=\"color: #800080; text-decoration-color: #800080\">/blog/royswastik/</span><span style=\"color: #ff00ff; text-decoration-color: #ff00ff\">activation-steering</span><span style=\"font-weight: bold\">)</span>\n",
       "|#### Open-R1: Update #<span style=\"color: #008080; text-decoration-color: #008080; font-weight: bold\">1</span>\n",
       "\n",
       "By\n",
       "|!|<span style=\"font-weight: bold\">](</span><span style=\"color: #0000ff; text-decoration-color: #0000ff; text-decoration: underline\">https://cdn-avatars.huggingface.co/v1/production/uploads/651e96991b97c9f33d26bde6/QG_uzb2VV3OeKO0c61ynh.png)</span>\n",
       "open-r1<span style=\"font-weight: bold\">](</span><span style=\"color: #800080; text-decoration-color: #800080\">/</span><span style=\"color: #ff00ff; text-decoration-color: #ff00ff\">open-r1</span><span style=\"font-weight: bold\">)</span>\n",
       "• \n",
       "about <span style=\"color: #008080; text-decoration-color: #008080; font-weight: bold\">11</span> hours ago\n",
       "•\n",
       "\n",
       "<span style=\"color: #008080; text-decoration-color: #008080; font-weight: bold\">26</span><span style=\"font-weight: bold\">](</span><span style=\"color: #800080; text-decoration-color: #800080\">/blog/open-r1/</span><span style=\"color: #ff00ff; text-decoration-color: #ff00ff\">update-1</span><span style=\"font-weight: bold\">)</span>\n",
       "|#### The AHA Indicator\n",
       "\n",
       "By\n",
       "|!|<span style=\"font-weight: bold\">](</span><span style=\"color: #800080; text-decoration-color: #800080\">/avatars/</span><span style=\"color: #ff00ff; text-decoration-color: #ff00ff\">cf21cf2c8f1c9d5a8fb35761acdef04b.svg</span><span style=\"font-weight: bold\">)</span>\n",
       "etemiz<span style=\"font-weight: bold\">](</span><span style=\"color: #800080; text-decoration-color: #800080\">/</span><span style=\"color: #ff00ff; text-decoration-color: #ff00ff\">etemiz</span><span style=\"font-weight: bold\">)</span>\n",
       "• \n",
       "about <span style=\"color: #008080; text-decoration-color: #008080; font-weight: bold\">18</span> hours ago\n",
       "•\n",
       "\n",
       "<span style=\"color: #008080; text-decoration-color: #008080; font-weight: bold\">1</span><span style=\"font-weight: bold\">](</span><span style=\"color: #800080; text-decoration-color: #800080\">/blog/etemiz/</span><span style=\"color: #ff00ff; text-decoration-color: #ff00ff\">aha-indicator</span><span style=\"font-weight: bold\">)</span>\n",
       "|#### LLM Dataset Formats <span style=\"color: #008080; text-decoration-color: #008080; font-weight: bold\">101</span>: A No‐BS Guide for Hugging Face Devs\n",
       "\n",
       "By\n",
       "|!|<span style=\"font-weight: bold\">](</span><span style=\"color: #0000ff; text-decoration-color: #0000ff; text-decoration: underline\">https://cdn-avatars.huggingface.co/v1/production/uploads/6702d5463fe7cea28adbc921/fbchFJFH9oGyJuPhJ-E-Q.png)</span>\n",
       "tegridydev<span style=\"font-weight: bold\">](</span><span style=\"color: #800080; text-decoration-color: #800080\">/</span><span style=\"color: #ff00ff; text-decoration-color: #ff00ff\">tegridydev</span><span style=\"font-weight: bold\">)</span>\n",
       "• \n",
       "<span style=\"color: #008080; text-decoration-color: #008080; font-weight: bold\">1</span> day ago\n",
       "•\n",
       "\n",
       "<span style=\"color: #008080; text-decoration-color: #008080; font-weight: bold\">3</span><span style=\"font-weight: bold\">](</span><span style=\"color: #800080; text-decoration-color: #800080\">/blog/tegridydev/</span><span style=\"color: #ff00ff; text-decoration-color: #ff00ff\">llm-dataset-formats-101-hugging-face</span><span style=\"font-weight: bold\">)</span>\n",
       "|#### Why we <span style=\"font-weight: bold\">(</span>don't<span style=\"font-weight: bold\">)</span> need export control\n",
       "\n",
       "By\n",
       "|!|<span style=\"font-weight: bold\">](</span><span style=\"color: #0000ff; text-decoration-color: #0000ff; text-decoration: underline\">https://cdn-avatars.huggingface.co/v1/production/uploads/65e330e7edc2f7306e252448/oYAOGhbPaXDTbEoJoSLMB.jpeg)</span>\n",
       "as-cle-bert<span style=\"font-weight: bold\">](</span><span style=\"color: #800080; text-decoration-color: #800080\">/</span><span style=\"color: #ff00ff; text-decoration-color: #ff00ff\">as-cle-bert</span><span style=\"font-weight: bold\">)</span>\n",
       "• \n",
       "<span style=\"color: #008080; text-decoration-color: #008080; font-weight: bold\">1</span> day ago\n",
       "•\n",
       "\n",
       "<span style=\"color: #008080; text-decoration-color: #008080; font-weight: bold\">7</span><span style=\"font-weight: bold\">](</span><span style=\"color: #800080; text-decoration-color: #800080\">/blog/as-cle-bert/</span><span style=\"color: #ff00ff; text-decoration-color: #ff00ff\">why-we-dont-need-export-control</span><span style=\"font-weight: bold\">)</span>\n",
       "|#### AI Agents for Trip Planning: Automating Itinerary Generation with KaibanJS\n",
       "\n",
       "By\n",
       "|!|<span style=\"font-weight: bold\">](</span><span style=\"color: #0000ff; text-decoration-color: #0000ff; text-decoration: underline\">https://cdn-avatars.huggingface.co/v1/production/uploads/noauth/19rKxRAjkXIGrtUg0iwFz.jpeg)</span>\n",
       "darielnoel<span style=\"font-weight: bold\">](</span><span style=\"color: #800080; text-decoration-color: #800080\">/</span><span style=\"color: #ff00ff; text-decoration-color: #ff00ff\">darielnoel</span><span style=\"font-weight: bold\">)</span>\n",
       "• \n",
       "<span style=\"color: #008080; text-decoration-color: #008080; font-weight: bold\">2</span> days ago<span style=\"font-weight: bold\">](</span><span style=\"color: #800080; text-decoration-color: #800080\">/blog/darielnoel/</span><span style=\"color: #ff00ff; text-decoration-color: #ff00ff\">ai-agents-trip-planning-kaibanjs</span><span style=\"font-weight: bold\">)</span>\n",
       "|#### Replicating DeepSeek R1 for Information Extraction\n",
       "\n",
       "By\n",
       "|!|<span style=\"font-weight: bold\">](</span><span style=\"color: #0000ff; text-decoration-color: #0000ff; text-decoration: underline\">https://cdn-avatars.huggingface.co/v1/production/uploads/1658166666371-noauth.png)</span>\n",
       "Ihor<span style=\"font-weight: bold\">](</span><span style=\"color: #800080; text-decoration-color: #800080\">/</span><span style=\"color: #ff00ff; text-decoration-color: #ff00ff\">Ihor</span><span style=\"font-weight: bold\">)</span>\n",
       "• \n",
       "<span style=\"color: #008080; text-decoration-color: #008080; font-weight: bold\">2</span> days ago\n",
       "•\n",
       "\n",
       "<span style=\"color: #008080; text-decoration-color: #008080; font-weight: bold\">14</span><span style=\"font-weight: bold\">](</span><span style=\"color: #800080; text-decoration-color: #800080\">/blog/Ihor/</span><span style=\"color: #ff00ff; text-decoration-color: #ff00ff\">replicating-deepseek-r1-for-information-extraction</span><span style=\"font-weight: bold\">)</span>\n",
       "|#### Enhancing AI Agents with the TextFile RAG Search Tool in KaibanJS\n",
       "\n",
       "By\n",
       "|!|<span style=\"font-weight: bold\">](</span><span style=\"color: #0000ff; text-decoration-color: #0000ff; text-decoration: underline\">https://cdn-avatars.huggingface.co/v1/production/uploads/noauth/19rKxRAjkXIGrtUg0iwFz.jpeg)</span>\n",
       "darielnoel<span style=\"font-weight: bold\">](</span><span style=\"color: #800080; text-decoration-color: #800080\">/</span><span style=\"color: #ff00ff; text-decoration-color: #ff00ff\">darielnoel</span><span style=\"font-weight: bold\">)</span>\n",
       "• \n",
       "<span style=\"color: #008080; text-decoration-color: #008080; font-weight: bold\">2</span> days ago<span style=\"font-weight: bold\">](</span><span style=\"color: #800080; text-decoration-color: #800080\">/blog/darielnoel/</span><span style=\"color: #ff00ff; text-decoration-color: #ff00ff\">enhancing-ai-agents-textfile-rag-kaibanjs</span><span style=\"font-weight: bold\">)</span>\n",
       "|#### Mini-R1: Reproduce Deepseek R1 „aha moment“ a RL tutorial\n",
       "\n",
       "By\n",
       "|!|<span style=\"font-weight: bold\">](</span><span style=\"color: #0000ff; text-decoration-color: #0000ff; text-decoration: underline\">https://cdn-avatars.huggingface.co/v1/production/uploads/651e96991b97c9f33d26bde6/QG_uzb2VV3OeKO0c61ynh.png)</span>\n",
       "open-r1<span style=\"font-weight: bold\">](</span><span style=\"color: #800080; text-decoration-color: #800080\">/</span><span style=\"color: #ff00ff; text-decoration-color: #ff00ff\">open-r1</span><span style=\"font-weight: bold\">)</span>\n",
       "• \n",
       "<span style=\"color: #008080; text-decoration-color: #008080; font-weight: bold\">2</span> days ago\n",
       "•\n",
       "\n",
       "<span style=\"color: #008080; text-decoration-color: #008080; font-weight: bold\">21</span><span style=\"font-weight: bold\">](</span><span style=\"color: #800080; text-decoration-color: #800080\">/blog/open-r1/</span><span style=\"color: #ff00ff; text-decoration-color: #ff00ff\">mini-r1-contdown-game</span><span style=\"font-weight: bold\">)</span>\n",
       "|#### The Power of Open-Source AI\n",
       "\n",
       "By\n",
       "|!|<span style=\"font-weight: bold\">](</span><span style=\"color: #800080; text-decoration-color: #800080\">/avatars/</span><span style=\"color: #ff00ff; text-decoration-color: #ff00ff\">b70e38c2ecb3c7d27feebbd7b3df8ee8.svg</span><span style=\"font-weight: bold\">)</span>\n",
       "mediiiiii3<span style=\"font-weight: bold\">](</span><span style=\"color: #800080; text-decoration-color: #800080\">/</span><span style=\"color: #ff00ff; text-decoration-color: #ff00ff\">mediiiiii3</span><span style=\"font-weight: bold\">)</span>\n",
       "• \n",
       "<span style=\"color: #008080; text-decoration-color: #008080; font-weight: bold\">2</span> days ago<span style=\"font-weight: bold\">](</span><span style=\"color: #800080; text-decoration-color: #800080\">/blog/mediiiiii3/../../blog/mediiiiii/</span><span style=\"color: #ff00ff; text-decoration-color: #ff00ff\">intro-to-ai-part1</span><span style=\"font-weight: bold\">)</span>\n",
       "|#### The Power of Open-Source AI\n",
       "\n",
       "By\n",
       "|!|<span style=\"font-weight: bold\">](</span><span style=\"color: #800080; text-decoration-color: #800080\">/avatars/</span><span style=\"color: #ff00ff; text-decoration-color: #ff00ff\">b70e38c2ecb3c7d27feebbd7b3df8ee8.svg</span><span style=\"font-weight: bold\">)</span>\n",
       "mediiiiii3<span style=\"font-weight: bold\">](</span><span style=\"color: #800080; text-decoration-color: #800080\">/</span><span style=\"color: #ff00ff; text-decoration-color: #ff00ff\">mediiiiii3</span><span style=\"font-weight: bold\">)</span>\n",
       "• \n",
       "<span style=\"color: #008080; text-decoration-color: #008080; font-weight: bold\">2</span> days ago<span style=\"font-weight: bold\">](</span><span style=\"color: #800080; text-decoration-color: #800080\">/blog/mediiiiii3/../../mediiiiii/</span><span style=\"color: #ff00ff; text-decoration-color: #ff00ff\">intro-to-ai-part1</span><span style=\"font-weight: bold\">)</span>\n",
       "|#### Introduction to Artificial Intelligence\n",
       "\n",
       "By\n",
       "|!|<span style=\"font-weight: bold\">](</span><span style=\"color: #800080; text-decoration-color: #800080\">/avatars/</span><span style=\"color: #ff00ff; text-decoration-color: #ff00ff\">fd1e6d385822a7d8db1e06b8f64b10ba.svg</span><span style=\"font-weight: bold\">)</span>\n",
       "mediiiiii<span style=\"font-weight: bold\">](</span><span style=\"color: #800080; text-decoration-color: #800080\">/</span><span style=\"color: #ff00ff; text-decoration-color: #ff00ff\">mediiiiii</span><span style=\"font-weight: bold\">)</span>\n",
       "• \n",
       "<span style=\"color: #008080; text-decoration-color: #008080; font-weight: bold\">2</span> days ago<span style=\"font-weight: bold\">](</span><span style=\"color: #800080; text-decoration-color: #800080\">/blog/mediiiiii/</span><span style=\"color: #ff00ff; text-decoration-color: #ff00ff\">intro-to-ai-part1</span><span style=\"font-weight: bold\">)</span>\n",
       "|#### Opensource Low Resource Language Datasets to Supervised Finetune Language Models\n",
       "\n",
       "By\n",
       "|!|<span style=\"font-weight: bold\">](</span><span style=\"color: #0000ff; text-decoration-color: #0000ff; text-decoration: underline\">https://cdn-avatars.huggingface.co/v1/production/uploads/1678198534680-63ff6038e7767a895335bd48.jpeg)</span>\n",
       "jojo-ai-mst<span style=\"font-weight: bold\">](</span><span style=\"color: #800080; text-decoration-color: #800080\">/</span><span style=\"color: #ff00ff; text-decoration-color: #ff00ff\">jojo-ai-mst</span><span style=\"font-weight: bold\">)</span>\n",
       "• \n",
       "<span style=\"color: #008080; text-decoration-color: #008080; font-weight: bold\">2</span> days ago\n",
       "•\n",
       "\n",
       "<span style=\"color: #008080; text-decoration-color: #008080; font-weight: bold\">1</span><span style=\"font-weight: bold\">](</span><span style=\"color: #800080; text-decoration-color: #800080\">/blog/jojo-ai-mst/</span><span style=\"color: #ff00ff; text-decoration-color: #ff00ff\">opensource-low-resouce-language-datasets-sft-llm</span><span style=\"font-weight: bold\">)</span>\n",
       "|#### 🦸🏻#<span style=\"color: #008080; text-decoration-color: #008080; font-weight: bold\">8</span>: Rewriting the Rules of Knowledge: How Modern Agents Learn to Adapt\n",
       "\n",
       "By\n",
       "|!|<span style=\"font-weight: bold\">](</span><span style=\"color: #0000ff; text-decoration-color: #0000ff; text-decoration: underline\">https://cdn-avatars.huggingface.co/v1/production/uploads/64838b28c235ef76b63e4999/ZhQCYoU3vps71Ag7Jezj6.jpeg)</span>\n",
       "Kseniase<span style=\"font-weight: bold\">](</span><span style=\"color: #800080; text-decoration-color: #800080\">/</span><span style=\"color: #ff00ff; text-decoration-color: #ff00ff\">Kseniase</span><span style=\"font-weight: bold\">)</span>\n",
       "• \n",
       "<span style=\"color: #008080; text-decoration-color: #008080; font-weight: bold\">2</span> days ago\n",
       "•\n",
       "\n",
       "<span style=\"color: #008080; text-decoration-color: #008080; font-weight: bold\">4</span><span style=\"font-weight: bold\">](</span><span style=\"color: #800080; text-decoration-color: #800080\">/blog/Kseniase/</span><span style=\"color: #ff00ff; text-decoration-color: #ff00ff\">knowledge</span><span style=\"font-weight: bold\">)</span>\n",
       "|#### \\*\\*The Copyright Office Draws a Line in Silicon: AI and the Soul of Creation\\*\\*\n",
       "\n",
       "By\n",
       "|!|<span style=\"font-weight: bold\">](</span><span style=\"color: #0000ff; text-decoration-color: #0000ff; text-decoration: underline\">https://cdn-avatars.huggingface.co/v1/production/uploads/6593502ca2607099284523db/svxu-iTvwsgmiYNgaFGIN.png)</span>\n",
       "fuzzy-mittenz<span style=\"font-weight: bold\">](</span><span style=\"color: #800080; text-decoration-color: #800080\">/</span><span style=\"color: #ff00ff; text-decoration-color: #ff00ff\">fuzzy-mittenz</span><span style=\"font-weight: bold\">)</span>\n",
       "• \n",
       "<span style=\"color: #008080; text-decoration-color: #008080; font-weight: bold\">3</span> days ago\n",
       "•\n",
       "\n",
       "<span style=\"color: #008080; text-decoration-color: #008080; font-weight: bold\">1</span><span style=\"font-weight: bold\">](</span><span style=\"color: #800080; text-decoration-color: #800080\">/blog/fuzzy-mittenz/</span><span style=\"color: #ff00ff; text-decoration-color: #ff00ff\">copyright-in-ai</span><span style=\"font-weight: bold\">)</span>\n",
       "|#### How to run Sentient’s Dobby-Mini local\n",
       "<span style=\"color: #808000; text-decoration-color: #808000\">...</span>_This content has been truncated to stay below <span style=\"color: #008080; text-decoration-color: #008080; font-weight: bold\">10000</span> characters_<span style=\"color: #808000; text-decoration-color: #808000\">...</span>\n",
       "TkpL1.jpeg<span style=\"font-weight: bold\">)</span>\n",
       "prithivMLmods<span style=\"font-weight: bold\">](</span><span style=\"color: #800080; text-decoration-color: #800080\">/</span><span style=\"color: #ff00ff; text-decoration-color: #ff00ff\">prithivMLmods</span><span style=\"font-weight: bold\">)</span>\n",
       "• \n",
       "about <span style=\"color: #008080; text-decoration-color: #008080; font-weight: bold\">2</span> hours ago\n",
       "•\n",
       "\n",
       "<span style=\"color: #008080; text-decoration-color: #008080; font-weight: bold\">7</span><span style=\"font-weight: bold\">](</span><span style=\"color: #800080; text-decoration-color: #800080\">/blog/prithivMLmods/</span><span style=\"color: #ff00ff; text-decoration-color: #ff00ff\">o3-mini-vs-deepseek-r1</span><span style=\"font-weight: bold\">)</span>\n",
       "|#### Activation Steering: A New Frontier in AI Control—But Does It Scale?\n",
       "\n",
       "By\n",
       "|!|<span style=\"font-weight: bold\">](</span><span style=\"color: #800080; text-decoration-color: #800080\">/avatars/</span><span style=\"color: #ff00ff; text-decoration-color: #ff00ff\">494015182ac0d9f56eecbd5764eb4805.svg</span><span style=\"font-weight: bold\">)</span>\n",
       "royswastik<span style=\"font-weight: bold\">](</span><span style=\"color: #800080; text-decoration-color: #800080\">/</span><span style=\"color: #ff00ff; text-decoration-color: #ff00ff\">royswastik</span><span style=\"font-weight: bold\">)</span>\n",
       "• \n",
       "about <span style=\"color: #008080; text-decoration-color: #008080; font-weight: bold\">8</span> hours ago<span style=\"font-weight: bold\">](</span><span style=\"color: #800080; text-decoration-color: #800080\">/blog/royswastik/</span><span style=\"color: #ff00ff; text-decoration-color: #ff00ff\">activation-steering</span><span style=\"font-weight: bold\">)</span>\n",
       "|#### Open-R1: Update #<span style=\"color: #008080; text-decoration-color: #008080; font-weight: bold\">1</span>\n",
       "\n",
       "By\n",
       "|!|<span style=\"font-weight: bold\">](</span><span style=\"color: #0000ff; text-decoration-color: #0000ff; text-decoration: underline\">https://cdn-avatars.huggingface.co/v1/production/uploads/651e96991b97c9f33d26bde6/QG_uzb2VV3OeKO0c61ynh.png)</span>\n",
       "open-r1<span style=\"font-weight: bold\">](</span><span style=\"color: #800080; text-decoration-color: #800080\">/</span><span style=\"color: #ff00ff; text-decoration-color: #ff00ff\">open-r1</span><span style=\"font-weight: bold\">)</span>\n",
       "• \n",
       "about <span style=\"color: #008080; text-decoration-color: #008080; font-weight: bold\">11</span> hours ago\n",
       "•\n",
       "\n",
       "<span style=\"color: #008080; text-decoration-color: #008080; font-weight: bold\">26</span><span style=\"font-weight: bold\">](</span><span style=\"color: #800080; text-decoration-color: #800080\">/blog/open-r1/</span><span style=\"color: #ff00ff; text-decoration-color: #ff00ff\">update-1</span><span style=\"font-weight: bold\">)</span>\n",
       "|#### The AHA Indicator\n",
       "\n",
       "By\n",
       "|!|<span style=\"font-weight: bold\">](</span><span style=\"color: #800080; text-decoration-color: #800080\">/avatars/</span><span style=\"color: #ff00ff; text-decoration-color: #ff00ff\">cf21cf2c8f1c9d5a8fb35761acdef04b.svg</span><span style=\"font-weight: bold\">)</span>\n",
       "etemiz<span style=\"font-weight: bold\">](</span><span style=\"color: #800080; text-decoration-color: #800080\">/</span><span style=\"color: #ff00ff; text-decoration-color: #ff00ff\">etemiz</span><span style=\"font-weight: bold\">)</span>\n",
       "• \n",
       "about <span style=\"color: #008080; text-decoration-color: #008080; font-weight: bold\">18</span> hours ago\n",
       "•\n",
       "\n",
       "<span style=\"color: #008080; text-decoration-color: #008080; font-weight: bold\">1</span><span style=\"font-weight: bold\">](</span><span style=\"color: #800080; text-decoration-color: #800080\">/blog/etemiz/</span><span style=\"color: #ff00ff; text-decoration-color: #ff00ff\">aha-indicator</span><span style=\"font-weight: bold\">)</span>\n",
       "|#### LLM Dataset Formats <span style=\"color: #008080; text-decoration-color: #008080; font-weight: bold\">101</span>: A No‐BS Guide for Hugging Face Devs\n",
       "\n",
       "By\n",
       "|!|<span style=\"font-weight: bold\">](</span><span style=\"color: #0000ff; text-decoration-color: #0000ff; text-decoration: underline\">https://cdn-avatars.huggingface.co/v1/production/uploads/6702d5463fe7cea28adbc921/fbchFJFH9oGyJuPhJ-E-Q.png)</span>\n",
       "tegridydev<span style=\"font-weight: bold\">](</span><span style=\"color: #800080; text-decoration-color: #800080\">/</span><span style=\"color: #ff00ff; text-decoration-color: #ff00ff\">tegridydev</span><span style=\"font-weight: bold\">)</span>\n",
       "• \n",
       "<span style=\"color: #008080; text-decoration-color: #008080; font-weight: bold\">1</span> day ago\n",
       "•\n",
       "\n",
       "<span style=\"color: #008080; text-decoration-color: #008080; font-weight: bold\">3</span><span style=\"font-weight: bold\">](</span><span style=\"color: #800080; text-decoration-color: #800080\">/blog/tegridydev/</span><span style=\"color: #ff00ff; text-decoration-color: #ff00ff\">llm-dataset-formats-101-hugging-face</span><span style=\"font-weight: bold\">)</span>\n",
       "|#### Why we <span style=\"font-weight: bold\">(</span>don't<span style=\"font-weight: bold\">)</span> need export control\n",
       "\n",
       "By\n",
       "|!|<span style=\"font-weight: bold\">](</span><span style=\"color: #0000ff; text-decoration-color: #0000ff; text-decoration: underline\">https://cdn-avatars.huggingface.co/v1/production/uploads/65e330e7edc2f7306e252448/oYAOGhbPaXDTbEoJoSLMB.jpeg)</span>\n",
       "as-cle-bert<span style=\"font-weight: bold\">](</span><span style=\"color: #800080; text-decoration-color: #800080\">/</span><span style=\"color: #ff00ff; text-decoration-color: #ff00ff\">as-cle-bert</span><span style=\"font-weight: bold\">)</span>\n",
       "• \n",
       "<span style=\"color: #008080; text-decoration-color: #008080; font-weight: bold\">1</span> day ago\n",
       "•\n",
       "\n",
       "<span style=\"color: #008080; text-decoration-color: #008080; font-weight: bold\">7</span><span style=\"font-weight: bold\">](</span><span style=\"color: #800080; text-decoration-color: #800080\">/blog/as-cle-bert/</span><span style=\"color: #ff00ff; text-decoration-color: #ff00ff\">why-we-dont-need-export-control</span><span style=\"font-weight: bold\">)</span>\n",
       "|#### AI Agents for Trip Planning: Automating Itinerary Generation with KaibanJS\n",
       "\n",
       "By\n",
       "|!|<span style=\"font-weight: bold\">](</span><span style=\"color: #0000ff; text-decoration-color: #0000ff; text-decoration: underline\">https://cdn-avatars.huggingface.co/v1/production/uploads/noauth/19rKxRAjkXIGrtUg0iwFz.jpeg)</span>\n",
       "darielnoel<span style=\"font-weight: bold\">](</span><span style=\"color: #800080; text-decoration-color: #800080\">/</span><span style=\"color: #ff00ff; text-decoration-color: #ff00ff\">darielnoel</span><span style=\"font-weight: bold\">)</span>\n",
       "• \n",
       "<span style=\"color: #008080; text-decoration-color: #008080; font-weight: bold\">2</span> days ago<span style=\"font-weight: bold\">](</span><span style=\"color: #800080; text-decoration-color: #800080\">/blog/darielnoel/</span><span style=\"color: #ff00ff; text-decoration-color: #ff00ff\">ai-agents-trip-planning-kaibanjs</span><span style=\"font-weight: bold\">)</span>\n",
       "|#### Replicating DeepSeek R1 for Information Extraction\n",
       "\n",
       "By\n",
       "|!|<span style=\"font-weight: bold\">](</span><span style=\"color: #0000ff; text-decoration-color: #0000ff; text-decoration: underline\">https://cdn-avatars.huggingface.co/v1/production/uploads/1658166666371-noauth.png)</span>\n",
       "Ihor<span style=\"font-weight: bold\">](</span><span style=\"color: #800080; text-decoration-color: #800080\">/</span><span style=\"color: #ff00ff; text-decoration-color: #ff00ff\">Ihor</span><span style=\"font-weight: bold\">)</span>\n",
       "• \n",
       "<span style=\"color: #008080; text-decoration-color: #008080; font-weight: bold\">2</span> days ago\n",
       "•\n",
       "\n",
       "<span style=\"color: #008080; text-decoration-color: #008080; font-weight: bold\">14</span><span style=\"font-weight: bold\">](</span><span style=\"color: #800080; text-decoration-color: #800080\">/blog/Ihor/</span><span style=\"color: #ff00ff; text-decoration-color: #ff00ff\">replicating-deepseek-r1-for-information-extraction</span><span style=\"font-weight: bold\">)</span>\n",
       "|#### Enhancing AI Agents with the TextFile RAG Search Tool in KaibanJS\n",
       "\n",
       "By\n",
       "|!|<span style=\"font-weight: bold\">](</span><span style=\"color: #0000ff; text-decoration-color: #0000ff; text-decoration: underline\">https://cdn-avatars.huggingface.co/v1/production/uploads/noauth/19rKxRAjkXIGrtUg0iwFz.jpeg)</span>\n",
       "darielnoel<span style=\"font-weight: bold\">](</span><span style=\"color: #800080; text-decoration-color: #800080\">/</span><span style=\"color: #ff00ff; text-decoration-color: #ff00ff\">darielnoel</span><span style=\"font-weight: bold\">)</span>\n",
       "• \n",
       "<span style=\"color: #008080; text-decoration-color: #008080; font-weight: bold\">2</span> days ago<span style=\"font-weight: bold\">](</span><span style=\"color: #800080; text-decoration-color: #800080\">/blog/darielnoel/</span><span style=\"color: #ff00ff; text-decoration-color: #ff00ff\">enhancing-ai-agents-textfile-rag-kaibanjs</span><span style=\"font-weight: bold\">)</span>\n",
       "|#### Mini-R1: Reproduce Deepseek R1 „aha moment“ a RL tutorial\n",
       "\n",
       "By\n",
       "|!|<span style=\"font-weight: bold\">](</span><span style=\"color: #0000ff; text-decoration-color: #0000ff; text-decoration: underline\">https://cdn-avatars.huggingface.co/v1/production/uploads/651e96991b97c9f33d26bde6/QG_uzb2VV3OeKO0c61ynh.png)</span>\n",
       "open-r1<span style=\"font-weight: bold\">](</span><span style=\"color: #800080; text-decoration-color: #800080\">/</span><span style=\"color: #ff00ff; text-decoration-color: #ff00ff\">open-r1</span><span style=\"font-weight: bold\">)</span>\n",
       "• \n",
       "<span style=\"color: #008080; text-decoration-color: #008080; font-weight: bold\">2</span> days ago\n",
       "•\n",
       "\n",
       "<span style=\"color: #008080; text-decoration-color: #008080; font-weight: bold\">21</span><span style=\"font-weight: bold\">](</span><span style=\"color: #800080; text-decoration-color: #800080\">/blog/open-r1/</span><span style=\"color: #ff00ff; text-decoration-color: #ff00ff\">mini-r1-contdown-game</span><span style=\"font-weight: bold\">)</span>\n",
       "|#### The Power of Open-Source AI\n",
       "\n",
       "By\n",
       "|!|<span style=\"font-weight: bold\">](</span><span style=\"color: #800080; text-decoration-color: #800080\">/avatars/</span><span style=\"color: #ff00ff; text-decoration-color: #ff00ff\">b70e38c2ecb3c7d27feebbd7b3df8ee8.svg</span><span style=\"font-weight: bold\">)</span>\n",
       "mediiiiii3<span style=\"font-weight: bold\">](</span><span style=\"color: #800080; text-decoration-color: #800080\">/</span><span style=\"color: #ff00ff; text-decoration-color: #ff00ff\">mediiiiii3</span><span style=\"font-weight: bold\">)</span>\n",
       "• \n",
       "<span style=\"color: #008080; text-decoration-color: #008080; font-weight: bold\">2</span> days ago<span style=\"font-weight: bold\">](</span><span style=\"color: #800080; text-decoration-color: #800080\">/blog/mediiiiii3/../../blog/mediiiiii/</span><span style=\"color: #ff00ff; text-decoration-color: #ff00ff\">intro-to-ai-part1</span><span style=\"font-weight: bold\">)</span>\n",
       "|#### The Power of Open-Source AI\n",
       "\n",
       "By\n",
       "|!|<span style=\"font-weight: bold\">](</span><span style=\"color: #800080; text-decoration-color: #800080\">/avatars/</span><span style=\"color: #ff00ff; text-decoration-color: #ff00ff\">b70e38c2ecb3c7d27feebbd7b3df8ee8.svg</span><span style=\"font-weight: bold\">)</span>\n",
       "mediiiiii3<span style=\"font-weight: bold\">](</span><span style=\"color: #800080; text-decoration-color: #800080\">/</span><span style=\"color: #ff00ff; text-decoration-color: #ff00ff\">mediiiiii3</span><span style=\"font-weight: bold\">)</span>\n",
       "• \n",
       "<span style=\"color: #008080; text-decoration-color: #008080; font-weight: bold\">2</span> days ago<span style=\"font-weight: bold\">](</span><span style=\"color: #800080; text-decoration-color: #800080\">/blog/mediiiiii3/../../mediiiiii/</span><span style=\"color: #ff00ff; text-decoration-color: #ff00ff\">intro-to-ai-part1</span><span style=\"font-weight: bold\">)</span>\n",
       "|#### Introduction to Artificial Intelligence\n",
       "\n",
       "By\n",
       "|!|<span style=\"font-weight: bold\">](</span><span style=\"color: #800080; text-decoration-color: #800080\">/avatars/</span><span style=\"color: #ff00ff; text-decoration-color: #ff00ff\">fd1e6d385822a7d8db1e06b8f64b10ba.svg</span><span style=\"font-weight: bold\">)</span>\n",
       "mediiiiii<span style=\"font-weight: bold\">](</span><span style=\"color: #800080; text-decoration-color: #800080\">/</span><span style=\"color: #ff00ff; text-decoration-color: #ff00ff\">mediiiiii</span><span style=\"font-weight: bold\">)</span>\n",
       "• \n",
       "<span style=\"color: #008080; text-decoration-color: #008080; font-weight: bold\">2</span> days ago<span style=\"font-weight: bold\">](</span><span style=\"color: #800080; text-decoration-color: #800080\">/blog/mediiiiii/</span><span style=\"color: #ff00ff; text-decoration-color: #ff00ff\">intro-to-ai-part1</span><span style=\"font-weight: bold\">)</span>\n",
       "|#### Opensource Low Resource Language Datasets to Supervised Finetune Language Models\n",
       "\n",
       "By\n",
       "|!|<span style=\"font-weight: bold\">](</span><span style=\"color: #0000ff; text-decoration-color: #0000ff; text-decoration: underline\">https://cdn-avatars.huggingface.co/v1/production/uploads/1678198534680-63ff6038e7767a895335bd48.jpeg)</span>\n",
       "jojo-ai-mst<span style=\"font-weight: bold\">](</span><span style=\"color: #800080; text-decoration-color: #800080\">/</span><span style=\"color: #ff00ff; text-decoration-color: #ff00ff\">jojo-ai-mst</span><span style=\"font-weight: bold\">)</span>\n",
       "• \n",
       "<span style=\"color: #008080; text-decoration-color: #008080; font-weight: bold\">2</span> days ago\n",
       "•\n",
       "\n",
       "<span style=\"color: #008080; text-decoration-color: #008080; font-weight: bold\">1</span><span style=\"font-weight: bold\">](</span><span style=\"color: #800080; text-decoration-color: #800080\">/blog/jojo-ai-mst/</span><span style=\"color: #ff00ff; text-decoration-color: #ff00ff\">opensource-low-resouce-language-datasets-sft-llm</span><span style=\"font-weight: bold\">)</span>\n",
       "|#### 🦸🏻#<span style=\"color: #008080; text-decoration-color: #008080; font-weight: bold\">8</span>: Rewriting the Rules of Knowledge: How Modern Agents Learn to Adapt\n",
       "\n",
       "By\n",
       "|!|<span style=\"font-weight: bold\">](</span><span style=\"color: #0000ff; text-decoration-color: #0000ff; text-decoration: underline\">https://cdn-avatars.huggingface.co/v1/production/uploads/64838b28c235ef76b63e4999/ZhQCYoU3vps71Ag7Jezj6.jpeg)</span>\n",
       "Kseniase<span style=\"font-weight: bold\">](</span><span style=\"color: #800080; text-decoration-color: #800080\">/</span><span style=\"color: #ff00ff; text-decoration-color: #ff00ff\">Kseniase</span><span style=\"font-weight: bold\">)</span>\n",
       "• \n",
       "<span style=\"color: #008080; text-decoration-color: #008080; font-weight: bold\">2</span> days ago\n",
       "•\n",
       "\n",
       "<span style=\"color: #008080; text-decoration-color: #008080; font-weight: bold\">4</span><span style=\"font-weight: bold\">](</span><span style=\"color: #800080; text-decoration-color: #800080\">/blog/Kseniase/</span><span style=\"color: #ff00ff; text-decoration-color: #ff00ff\">knowledge</span><span style=\"font-weight: bold\">)</span>\n",
       "|#### \\*\\*The Copyright Office Draws a Line in Silicon: AI and the Soul of Creation\\*\\*\n",
       "\n",
       "By\n",
       "|!|<span style=\"font-weight: bold\">](</span><span style=\"color: #0000ff; text-decoration-color: #0000ff; text-decoration: underline\">https://cdn-avatars.huggingface.co/v1/production/uploads/6593502ca2607099284523db/svxu-iTvwsgmiYNgaFGIN.png)</span>\n",
       "fuzzy-mittenz<span style=\"font-weight: bold\">](</span><span style=\"color: #800080; text-decoration-color: #800080\">/</span><span style=\"color: #ff00ff; text-decoration-color: #ff00ff\">fuzzy-mittenz</span><span style=\"font-weight: bold\">)</span>\n",
       "• \n",
       "<span style=\"color: #008080; text-decoration-color: #008080; font-weight: bold\">3</span> days ago\n",
       "•\n",
       "\n",
       "<span style=\"color: #008080; text-decoration-color: #008080; font-weight: bold\">1</span><span style=\"font-weight: bold\">](</span><span style=\"color: #800080; text-decoration-color: #800080\">/blog/fuzzy-mittenz/</span><span style=\"color: #ff00ff; text-decoration-color: #ff00ff\">copyright-in-ai</span><span style=\"font-weight: bold\">)</span>\n",
       "|#### How to run Sentient’s Dobby-Mini locally with Ollama\n",
       "\n",
       "By\n",
       "|!|<span style=\"font-weight: bold\">](</span><span style=\"color: #0000ff; text-decoration-color: #0000ff; text-decoration: underline\">https://cdn-avatars.huggingface.co/v1/production/uploads/679a3ecf4a78cf7ec176f491/zK6Ukf9wptxmOpAYw9g1g.jpeg)</span>\n",
       "chrisaubin<span style=\"font-weight: bold\">](</span><span style=\"color: #800080; text-decoration-color: #800080\">/</span><span style=\"color: #ff00ff; text-decoration-color: #ff00ff\">chrisaubin</span><span style=\"font-weight: bold\">)</span>\n",
       "• \n",
       "<span style=\"color: #008080; text-decoration-color: #008080; font-weight: bold\">3</span> days ago\n",
       "•\n",
       "\n",
       "<span style=\"color: #008080; text-decoration-color: #008080; font-weight: bold\">9</span><span style=\"font-weight: bold\">](</span><span style=\"color: #800080; text-decoration-color: #800080\">/blog/chrisaubin/</span><span style=\"color: #ff00ff; text-decoration-color: #ff00ff\">hosting-dobby-mini</span><span style=\"font-weight: bold\">)</span>\n",
       "|#### Anthropic CEO: is DeepSeek-R1 a revolution in AI?\n",
       "\n",
       "By\n",
       "|!|<span style=\"font-weight: bold\">](</span><span style=\"color: #0000ff; text-decoration-color: #0000ff; text-decoration: underline\">https://cdn-avatars.huggingface.co/v1/production/uploads/63d10d4e8eaa4831005e92b5/7p7-OmWM6PqqCs7ZStPGD.jpeg)</span>\n",
       "m-ric<span style=\"font-weight: bold\">](</span><span style=\"color: #800080; text-decoration-color: #800080\">/</span><span style=\"color: #ff00ff; text-decoration-color: #ff00ff\">m-ric</span><span style=\"font-weight: bold\">)</span>\n",
       "• \n",
       "<span style=\"color: #008080; text-decoration-color: #008080; font-weight: bold\">3</span> days ago\n",
       "•\n",
       "\n",
       "<span style=\"color: #008080; text-decoration-color: #008080; font-weight: bold\">4</span><span style=\"font-weight: bold\">](</span><span style=\"color: #800080; text-decoration-color: #800080\">/blog/m-ric/</span><span style=\"color: #ff00ff; text-decoration-color: #ff00ff\">dario-amodei-on-deepseek-r1</span><span style=\"font-weight: bold\">)</span>\n",
       "|#### AI Multi-Agent System Automation: Leveraging the Zapier Webhook Tool in KaibanJS\n",
       "\n",
       "By\n",
       "|!|<span style=\"font-weight: bold\">](</span><span style=\"color: #0000ff; text-decoration-color: #0000ff; text-decoration: underline\">https://cdn-avatars.huggingface.co/v1/production/uploads/noauth/19rKxRAjkXIGrtUg0iwFz.jpeg)</span>\n",
       "darielnoel<span style=\"font-weight: bold\">](</span><span style=\"color: #800080; text-decoration-color: #800080\">/</span><span style=\"color: #ff00ff; text-decoration-color: #ff00ff\">darielnoel</span><span style=\"font-weight: bold\">)</span>\n",
       "• \n",
       "<span style=\"color: #008080; text-decoration-color: #008080; font-weight: bold\">3</span> days ago<span style=\"font-weight: bold\">](</span><span style=\"color: #800080; text-decoration-color: #800080\">/blog/darielnoel/</span><span style=\"color: #ff00ff; text-decoration-color: #ff00ff\">multi-agent-automation-zapier-kaibanjs</span><span style=\"font-weight: bold\">)</span>\n",
       "|#### KV Caching Explained: Optimizing Transformer Inference Efficiency\n",
       "\n",
       "By\n",
       "|!|<span style=\"font-weight: bold\">](</span><span style=\"color: #0000ff; text-decoration-color: #0000ff; text-decoration: underline\">https://cdn-avatars.huggingface.co/v1/production/uploads/6527e89a8808d80ccff88b7a/CuGNmF1Et8KMQ0mCd1NEJ.jpeg)</span>\n",
       "not-lain<span style=\"font-weight: bold\">](</span><span style=\"color: #800080; text-decoration-color: #800080\">/</span><span style=\"color: #ff00ff; text-decoration-color: #ff00ff\">not-lain</span><span style=\"font-weight: bold\">)</span>\n",
       "• \n",
       "<span style=\"color: #008080; text-decoration-color: #008080; font-weight: bold\">3</span> days ago\n",
       "•\n",
       "\n",
       "<span style=\"color: #008080; text-decoration-color: #008080; font-weight: bold\">22</span><span style=\"font-weight: bold\">](</span><span style=\"color: #800080; text-decoration-color: #800080\">/blog/not-lain/</span><span style=\"color: #ff00ff; text-decoration-color: #ff00ff\">kv-caching</span><span style=\"font-weight: bold\">)</span>\n",
       "\n",
       "System theme\n",
       "\n",
       "Company\n",
       "|TOS<span style=\"font-weight: bold\">](</span><span style=\"color: #800080; text-decoration-color: #800080\">/</span><span style=\"color: #ff00ff; text-decoration-color: #ff00ff\">terms-of-service</span><span style=\"font-weight: bold\">)</span>\n",
       "|Privacy<span style=\"font-weight: bold\">](</span><span style=\"color: #800080; text-decoration-color: #800080\">/</span><span style=\"color: #ff00ff; text-decoration-color: #ff00ff\">privacy</span><span style=\"font-weight: bold\">)</span>\n",
       "|About<span style=\"font-weight: bold\">](</span><span style=\"color: #800080; text-decoration-color: #800080\">/</span><span style=\"color: #ff00ff; text-decoration-color: #ff00ff\">huggingface</span><span style=\"font-weight: bold\">)</span>\n",
       "|Jobs<span style=\"font-weight: bold\">](</span><span style=\"color: #0000ff; text-decoration-color: #0000ff; text-decoration: underline\">https://apply.workable.com/huggingface/)</span>\n",
       "\n",
       "Website\n",
       "|Models<span style=\"font-weight: bold\">](</span><span style=\"color: #800080; text-decoration-color: #800080\">/</span><span style=\"color: #ff00ff; text-decoration-color: #ff00ff\">models</span><span style=\"font-weight: bold\">)</span>\n",
       "|Datasets<span style=\"font-weight: bold\">](</span><span style=\"color: #800080; text-decoration-color: #800080\">/</span><span style=\"color: #ff00ff; text-decoration-color: #ff00ff\">datasets</span><span style=\"font-weight: bold\">)</span>\n",
       "|Spaces<span style=\"font-weight: bold\">](</span><span style=\"color: #800080; text-decoration-color: #800080\">/</span><span style=\"color: #ff00ff; text-decoration-color: #ff00ff\">spaces</span><span style=\"font-weight: bold\">)</span>\n",
       "|Pricing<span style=\"font-weight: bold\">](</span><span style=\"color: #800080; text-decoration-color: #800080\">/</span><span style=\"color: #ff00ff; text-decoration-color: #ff00ff\">pricing</span><span style=\"font-weight: bold\">)</span>\n",
       "|Docs<span style=\"font-weight: bold\">](</span><span style=\"color: #800080; text-decoration-color: #800080\">/</span><span style=\"color: #ff00ff; text-decoration-color: #ff00ff\">docs</span><span style=\"font-weight: bold\">)</span>\n",
       "</pre>\n"
      ],
      "text/plain": [
       "Observations: Hugging Face – Blog\n",
       "\n",
       "|!|Hugging Face's logo\u001b[1m]\u001b[0m\u001b[1m(\u001b[0m\u001b[35m/front/assets/\u001b[0m\u001b[95mhuggingface_logo-noborder.svg\u001b[0m\u001b[1m)\u001b[0m\n",
       "Hugging Face\u001b[1m]\u001b[0m\u001b[1m(\u001b[0m\u001b[35m/\u001b[0m\u001b[1m)\u001b[0m\n",
       "\n",
       "* |Models\u001b[1m]\u001b[0m\u001b[1m(\u001b[0m\u001b[35m/\u001b[0m\u001b[95mmodels\u001b[0m\u001b[1m)\u001b[0m\n",
       "* |Datasets\u001b[1m]\u001b[0m\u001b[1m(\u001b[0m\u001b[35m/\u001b[0m\u001b[95mdatasets\u001b[0m\u001b[1m)\u001b[0m\n",
       "* |Spaces\u001b[1m]\u001b[0m\u001b[1m(\u001b[0m\u001b[35m/\u001b[0m\u001b[95mspaces\u001b[0m\u001b[1m)\u001b[0m\n",
       "* |Posts\u001b[1m]\u001b[0m\u001b[1m(\u001b[0m\u001b[35m/\u001b[0m\u001b[95mposts\u001b[0m\u001b[1m)\u001b[0m\n",
       "* |Docs\u001b[1m]\u001b[0m\u001b[1m(\u001b[0m\u001b[35m/\u001b[0m\u001b[95mdocs\u001b[0m\u001b[1m)\u001b[0m\n",
       "* |Enterprise\u001b[1m]\u001b[0m\u001b[1m(\u001b[0m\u001b[35m/\u001b[0m\u001b[95menterprise\u001b[0m\u001b[1m)\u001b[0m\n",
       "* |Pricing\u001b[1m]\u001b[0m\u001b[1m(\u001b[0m\u001b[35m/\u001b[0m\u001b[95mpricing\u001b[0m\u001b[1m)\u001b[0m\n",
       "* ---\n",
       "* |Log In\u001b[1m]\u001b[0m\u001b[1m(\u001b[0m\u001b[35m/\u001b[0m\u001b[95mlogin\u001b[0m\u001b[1m)\u001b[0m\n",
       "* |Sign Up\u001b[1m]\u001b[0m\u001b[1m(\u001b[0m\u001b[35m/\u001b[0m\u001b[95mjoin\u001b[0m\u001b[1m)\u001b[0m\n",
       "\n",
       "Blog, Articles, and discussions\n",
       "===============================\n",
       "\n",
       "New Article\n",
       "\n",
       "|Everything\u001b[1m]\u001b[0m\u001b[1m(\u001b[0m\u001b[35m/\u001b[0m\u001b[95mblog\u001b[0m\u001b[1m)\u001b[0m\n",
       "|community\u001b[1m]\u001b[0m\u001b[1m(\u001b[0m\u001b[35m/\u001b[0m\u001b[95mblog\u001b[0m?\u001b[33mtag\u001b[0m=\u001b[35mcommunity\u001b[0m\u001b[1m)\u001b[0m|guide\u001b[1m]\u001b[0m\u001b[1m(\u001b[0m\u001b[35m/\u001b[0m\u001b[95mblog\u001b[0m?\u001b[33mtag\u001b[0m=\u001b[35mguide\u001b[0m\u001b[1m)\u001b[0m|open source \n",
       "collab\u001b[1m]\u001b[0m\u001b[1m(\u001b[0m\u001b[35m/\u001b[0m\u001b[95mblog\u001b[0m?\u001b[33mtag\u001b[0m=\u001b[35mopen\u001b[0m-source-collab\u001b[1m)\u001b[0m|partnerships\u001b[1m]\u001b[0m\u001b[1m(\u001b[0m\u001b[35m/\u001b[0m\u001b[95mblog\u001b[0m?\u001b[33mtag\u001b[0m=\u001b[35mpartnerships\u001b[0m\u001b[1m)\u001b[0m|research\u001b[1m]\u001b[0m\u001b[1m(\u001b[0m\u001b[35m/\u001b[0m\u001b[95mblog\u001b[0m?\u001b[33mtag\u001b[0m=\u001b[35mresearch\u001b[0m\u001b[1m)\u001b[0m|NLP\u001b[1m]\u001b[0m\u001b[1m(\u001b[0m\u001b[35m/\u001b[0m\u001b[95mblo\u001b[0m\n",
       "\u001b[95mg\u001b[0m?\u001b[33mtag\u001b[0m=\u001b[35mnlp\u001b[0m\u001b[1m)\u001b[0m|Audio\u001b[1m]\u001b[0m\u001b[1m(\u001b[0m\u001b[35m/\u001b[0m\u001b[95mblog\u001b[0m?\u001b[33mtag\u001b[0m=\u001b[35maudio\u001b[0m\u001b[1m)\u001b[0m|CV\u001b[1m]\u001b[0m\u001b[1m(\u001b[0m\u001b[35m/\u001b[0m\u001b[95mblog\u001b[0m?\u001b[33mtag\u001b[0m=\u001b[35mcv\u001b[0m\u001b[1m)\u001b[0m|RL\u001b[1m]\u001b[0m\u001b[1m(\u001b[0m\u001b[35m/\u001b[0m\u001b[95mblog\u001b[0m?\u001b[33mtag\u001b[0m=\u001b[35mrl\u001b[0m\u001b[1m)\u001b[0m|ethics\u001b[1m]\u001b[0m\u001b[1m(\u001b[0m\u001b[35m/\u001b[0m\u001b[95mblog\u001b[0m?\u001b[33mtag\u001b[0m=\u001b[35methics\u001b[0m\u001b[1m)\u001b[0m|Diffusion\u001b[1m]\u001b[0m\u001b[1m(\u001b[0m\u001b[35m/\u001b[0m\u001b[95mblog\u001b[0m?\u001b[33mt\u001b[0m\n",
       "\u001b[33mag\u001b[0m=\u001b[35mdiffusion\u001b[0m\u001b[1m)\u001b[0m|Game Development\u001b[1m]\u001b[0m\u001b[1m(\u001b[0m\u001b[35m/\u001b[0m\u001b[95mblog\u001b[0m?\u001b[33mtag\u001b[0m=\u001b[35mgame\u001b[0m-dev\u001b[1m)\u001b[0m|RLHF\u001b[1m]\u001b[0m\u001b[1m(\u001b[0m\u001b[35m/\u001b[0m\u001b[95mblog\u001b[0m?\u001b[33mtag\u001b[0m=\u001b[35mrlhf\u001b[0m\u001b[1m)\u001b[0m|Leaderboard\u001b[1m]\u001b[0m\u001b[1m(\u001b[0m\u001b[35m/\u001b[0m\u001b[95mblog\u001b[0m?\u001b[33mtag\u001b[0m=\u001b[35mleaderboard\u001b[0m\u001b[1m)\u001b[0m|Case \n",
       "Studies\u001b[1m]\u001b[0m\u001b[1m(\u001b[0m\u001b[35m/\u001b[0m\u001b[95mblog\u001b[0m?\u001b[33mtag\u001b[0m=\u001b[35mcase\u001b[0m-studies\u001b[1m)\u001b[0m\n",
       "\n",
       "|!|\u001b[1m]\u001b[0m\u001b[1m(\u001b[0m\u001b[35m/blog/assets/ai_art_newsletter_1/\u001b[0m\u001b[95mthumbnail.png\u001b[0m\u001b[1m)\u001b[0m\n",
       "\n",
       "The AI tools for Art Newsletter - Issue \u001b[1;36m1\u001b[0m\n",
       "-----------------------------------------\n",
       "\n",
       "By \n",
       "|linoyts\u001b[1m]\u001b[0m\u001b[1m(\u001b[0m\u001b[35m/\u001b[0m\u001b[95mlinoyts\u001b[0m\u001b[1m)\u001b[0m\n",
       "\n",
       "January \u001b[1;36m31\u001b[0m, \u001b[1;36m2025\u001b[0m\n",
       "•\n",
       "\n",
       "\u001b[1;36m29\u001b[0m\u001b[1m]\u001b[0m\u001b[1m(\u001b[0m\u001b[35m/blog/\u001b[0m\u001b[95mai-art-newsletter-jan-25\u001b[0m\u001b[1m)\u001b[0m\n",
       "Community Articles\n",
       "|view all\u001b[1m]\u001b[0m\u001b[1m(\u001b[0m\u001b[35m/blog/\u001b[0m\u001b[95mcommunity\u001b[0m\u001b[1m)\u001b[0m\n",
       "|#### o3-mini vs Deepseek-R1\n",
       "\n",
       "By\n",
       "|!|\u001b[1m]\u001b[0m\u001b[1m(\u001b[0m\u001b[4;94mhttps://cdn-avatars.huggingface.co/v1/production/uploads/65bb837dbfb878f46c77de4c/UVtVbF_3rdt0DC8xTkpL1.jpeg\u001b[0m\u001b[4;94m)\u001b[0m\n",
       "prithivMLmods\u001b[1m]\u001b[0m\u001b[1m(\u001b[0m\u001b[35m/\u001b[0m\u001b[95mprithivMLmods\u001b[0m\u001b[1m)\u001b[0m\n",
       "• \n",
       "about \u001b[1;36m2\u001b[0m hours ago\n",
       "•\n",
       "\n",
       "\u001b[1;36m7\u001b[0m\u001b[1m]\u001b[0m\u001b[1m(\u001b[0m\u001b[35m/blog/prithivMLmods/\u001b[0m\u001b[95mo3-mini-vs-deepseek-r1\u001b[0m\u001b[1m)\u001b[0m\n",
       "|#### Activation Steering: A New Frontier in AI Control—But Does It Scale?\n",
       "\n",
       "By\n",
       "|!|\u001b[1m]\u001b[0m\u001b[1m(\u001b[0m\u001b[35m/avatars/\u001b[0m\u001b[95m494015182ac0d9f56eecbd5764eb4805.svg\u001b[0m\u001b[1m)\u001b[0m\n",
       "royswastik\u001b[1m]\u001b[0m\u001b[1m(\u001b[0m\u001b[35m/\u001b[0m\u001b[95mroyswastik\u001b[0m\u001b[1m)\u001b[0m\n",
       "• \n",
       "about \u001b[1;36m8\u001b[0m hours ago\u001b[1m]\u001b[0m\u001b[1m(\u001b[0m\u001b[35m/blog/royswastik/\u001b[0m\u001b[95mactivation-steering\u001b[0m\u001b[1m)\u001b[0m\n",
       "|#### Open-R1: Update #\u001b[1;36m1\u001b[0m\n",
       "\n",
       "By\n",
       "|!|\u001b[1m]\u001b[0m\u001b[1m(\u001b[0m\u001b[4;94mhttps://cdn-avatars.huggingface.co/v1/production/uploads/651e96991b97c9f33d26bde6/QG_uzb2VV3OeKO0c61ynh.png\u001b[0m\u001b[4;94m)\u001b[0m\n",
       "open-r1\u001b[1m]\u001b[0m\u001b[1m(\u001b[0m\u001b[35m/\u001b[0m\u001b[95mopen-r1\u001b[0m\u001b[1m)\u001b[0m\n",
       "• \n",
       "about \u001b[1;36m11\u001b[0m hours ago\n",
       "•\n",
       "\n",
       "\u001b[1;36m26\u001b[0m\u001b[1m]\u001b[0m\u001b[1m(\u001b[0m\u001b[35m/blog/open-r1/\u001b[0m\u001b[95mupdate-1\u001b[0m\u001b[1m)\u001b[0m\n",
       "|#### The AHA Indicator\n",
       "\n",
       "By\n",
       "|!|\u001b[1m]\u001b[0m\u001b[1m(\u001b[0m\u001b[35m/avatars/\u001b[0m\u001b[95mcf21cf2c8f1c9d5a8fb35761acdef04b.svg\u001b[0m\u001b[1m)\u001b[0m\n",
       "etemiz\u001b[1m]\u001b[0m\u001b[1m(\u001b[0m\u001b[35m/\u001b[0m\u001b[95metemiz\u001b[0m\u001b[1m)\u001b[0m\n",
       "• \n",
       "about \u001b[1;36m18\u001b[0m hours ago\n",
       "•\n",
       "\n",
       "\u001b[1;36m1\u001b[0m\u001b[1m]\u001b[0m\u001b[1m(\u001b[0m\u001b[35m/blog/etemiz/\u001b[0m\u001b[95maha-indicator\u001b[0m\u001b[1m)\u001b[0m\n",
       "|#### LLM Dataset Formats \u001b[1;36m101\u001b[0m: A No‐BS Guide for Hugging Face Devs\n",
       "\n",
       "By\n",
       "|!|\u001b[1m]\u001b[0m\u001b[1m(\u001b[0m\u001b[4;94mhttps://cdn-avatars.huggingface.co/v1/production/uploads/6702d5463fe7cea28adbc921/fbchFJFH9oGyJuPhJ-E-Q.png\u001b[0m\u001b[4;94m)\u001b[0m\n",
       "tegridydev\u001b[1m]\u001b[0m\u001b[1m(\u001b[0m\u001b[35m/\u001b[0m\u001b[95mtegridydev\u001b[0m\u001b[1m)\u001b[0m\n",
       "• \n",
       "\u001b[1;36m1\u001b[0m day ago\n",
       "•\n",
       "\n",
       "\u001b[1;36m3\u001b[0m\u001b[1m]\u001b[0m\u001b[1m(\u001b[0m\u001b[35m/blog/tegridydev/\u001b[0m\u001b[95mllm-dataset-formats-101-hugging-face\u001b[0m\u001b[1m)\u001b[0m\n",
       "|#### Why we \u001b[1m(\u001b[0mdon't\u001b[1m)\u001b[0m need export control\n",
       "\n",
       "By\n",
       "|!|\u001b[1m]\u001b[0m\u001b[1m(\u001b[0m\u001b[4;94mhttps://cdn-avatars.huggingface.co/v1/production/uploads/65e330e7edc2f7306e252448/oYAOGhbPaXDTbEoJoSLMB.jpeg\u001b[0m\u001b[4;94m)\u001b[0m\n",
       "as-cle-bert\u001b[1m]\u001b[0m\u001b[1m(\u001b[0m\u001b[35m/\u001b[0m\u001b[95mas-cle-bert\u001b[0m\u001b[1m)\u001b[0m\n",
       "• \n",
       "\u001b[1;36m1\u001b[0m day ago\n",
       "•\n",
       "\n",
       "\u001b[1;36m7\u001b[0m\u001b[1m]\u001b[0m\u001b[1m(\u001b[0m\u001b[35m/blog/as-cle-bert/\u001b[0m\u001b[95mwhy-we-dont-need-export-control\u001b[0m\u001b[1m)\u001b[0m\n",
       "|#### AI Agents for Trip Planning: Automating Itinerary Generation with KaibanJS\n",
       "\n",
       "By\n",
       "|!|\u001b[1m]\u001b[0m\u001b[1m(\u001b[0m\u001b[4;94mhttps://cdn-avatars.huggingface.co/v1/production/uploads/noauth/19rKxRAjkXIGrtUg0iwFz.jpeg\u001b[0m\u001b[4;94m)\u001b[0m\n",
       "darielnoel\u001b[1m]\u001b[0m\u001b[1m(\u001b[0m\u001b[35m/\u001b[0m\u001b[95mdarielnoel\u001b[0m\u001b[1m)\u001b[0m\n",
       "• \n",
       "\u001b[1;36m2\u001b[0m days ago\u001b[1m]\u001b[0m\u001b[1m(\u001b[0m\u001b[35m/blog/darielnoel/\u001b[0m\u001b[95mai-agents-trip-planning-kaibanjs\u001b[0m\u001b[1m)\u001b[0m\n",
       "|#### Replicating DeepSeek R1 for Information Extraction\n",
       "\n",
       "By\n",
       "|!|\u001b[1m]\u001b[0m\u001b[1m(\u001b[0m\u001b[4;94mhttps://cdn-avatars.huggingface.co/v1/production/uploads/1658166666371-noauth.png\u001b[0m\u001b[4;94m)\u001b[0m\n",
       "Ihor\u001b[1m]\u001b[0m\u001b[1m(\u001b[0m\u001b[35m/\u001b[0m\u001b[95mIhor\u001b[0m\u001b[1m)\u001b[0m\n",
       "• \n",
       "\u001b[1;36m2\u001b[0m days ago\n",
       "•\n",
       "\n",
       "\u001b[1;36m14\u001b[0m\u001b[1m]\u001b[0m\u001b[1m(\u001b[0m\u001b[35m/blog/Ihor/\u001b[0m\u001b[95mreplicating-deepseek-r1-for-information-extraction\u001b[0m\u001b[1m)\u001b[0m\n",
       "|#### Enhancing AI Agents with the TextFile RAG Search Tool in KaibanJS\n",
       "\n",
       "By\n",
       "|!|\u001b[1m]\u001b[0m\u001b[1m(\u001b[0m\u001b[4;94mhttps://cdn-avatars.huggingface.co/v1/production/uploads/noauth/19rKxRAjkXIGrtUg0iwFz.jpeg\u001b[0m\u001b[4;94m)\u001b[0m\n",
       "darielnoel\u001b[1m]\u001b[0m\u001b[1m(\u001b[0m\u001b[35m/\u001b[0m\u001b[95mdarielnoel\u001b[0m\u001b[1m)\u001b[0m\n",
       "• \n",
       "\u001b[1;36m2\u001b[0m days ago\u001b[1m]\u001b[0m\u001b[1m(\u001b[0m\u001b[35m/blog/darielnoel/\u001b[0m\u001b[95menhancing-ai-agents-textfile-rag-kaibanjs\u001b[0m\u001b[1m)\u001b[0m\n",
       "|#### Mini-R1: Reproduce Deepseek R1 „aha moment“ a RL tutorial\n",
       "\n",
       "By\n",
       "|!|\u001b[1m]\u001b[0m\u001b[1m(\u001b[0m\u001b[4;94mhttps://cdn-avatars.huggingface.co/v1/production/uploads/651e96991b97c9f33d26bde6/QG_uzb2VV3OeKO0c61ynh.png\u001b[0m\u001b[4;94m)\u001b[0m\n",
       "open-r1\u001b[1m]\u001b[0m\u001b[1m(\u001b[0m\u001b[35m/\u001b[0m\u001b[95mopen-r1\u001b[0m\u001b[1m)\u001b[0m\n",
       "• \n",
       "\u001b[1;36m2\u001b[0m days ago\n",
       "•\n",
       "\n",
       "\u001b[1;36m21\u001b[0m\u001b[1m]\u001b[0m\u001b[1m(\u001b[0m\u001b[35m/blog/open-r1/\u001b[0m\u001b[95mmini-r1-contdown-game\u001b[0m\u001b[1m)\u001b[0m\n",
       "|#### The Power of Open-Source AI\n",
       "\n",
       "By\n",
       "|!|\u001b[1m]\u001b[0m\u001b[1m(\u001b[0m\u001b[35m/avatars/\u001b[0m\u001b[95mb70e38c2ecb3c7d27feebbd7b3df8ee8.svg\u001b[0m\u001b[1m)\u001b[0m\n",
       "mediiiiii3\u001b[1m]\u001b[0m\u001b[1m(\u001b[0m\u001b[35m/\u001b[0m\u001b[95mmediiiiii3\u001b[0m\u001b[1m)\u001b[0m\n",
       "• \n",
       "\u001b[1;36m2\u001b[0m days ago\u001b[1m]\u001b[0m\u001b[1m(\u001b[0m\u001b[35m/blog/mediiiiii3/../../blog/mediiiiii/\u001b[0m\u001b[95mintro-to-ai-part1\u001b[0m\u001b[1m)\u001b[0m\n",
       "|#### The Power of Open-Source AI\n",
       "\n",
       "By\n",
       "|!|\u001b[1m]\u001b[0m\u001b[1m(\u001b[0m\u001b[35m/avatars/\u001b[0m\u001b[95mb70e38c2ecb3c7d27feebbd7b3df8ee8.svg\u001b[0m\u001b[1m)\u001b[0m\n",
       "mediiiiii3\u001b[1m]\u001b[0m\u001b[1m(\u001b[0m\u001b[35m/\u001b[0m\u001b[95mmediiiiii3\u001b[0m\u001b[1m)\u001b[0m\n",
       "• \n",
       "\u001b[1;36m2\u001b[0m days ago\u001b[1m]\u001b[0m\u001b[1m(\u001b[0m\u001b[35m/blog/mediiiiii3/../../mediiiiii/\u001b[0m\u001b[95mintro-to-ai-part1\u001b[0m\u001b[1m)\u001b[0m\n",
       "|#### Introduction to Artificial Intelligence\n",
       "\n",
       "By\n",
       "|!|\u001b[1m]\u001b[0m\u001b[1m(\u001b[0m\u001b[35m/avatars/\u001b[0m\u001b[95mfd1e6d385822a7d8db1e06b8f64b10ba.svg\u001b[0m\u001b[1m)\u001b[0m\n",
       "mediiiiii\u001b[1m]\u001b[0m\u001b[1m(\u001b[0m\u001b[35m/\u001b[0m\u001b[95mmediiiiii\u001b[0m\u001b[1m)\u001b[0m\n",
       "• \n",
       "\u001b[1;36m2\u001b[0m days ago\u001b[1m]\u001b[0m\u001b[1m(\u001b[0m\u001b[35m/blog/mediiiiii/\u001b[0m\u001b[95mintro-to-ai-part1\u001b[0m\u001b[1m)\u001b[0m\n",
       "|#### Opensource Low Resource Language Datasets to Supervised Finetune Language Models\n",
       "\n",
       "By\n",
       "|!|\u001b[1m]\u001b[0m\u001b[1m(\u001b[0m\u001b[4;94mhttps://cdn-avatars.huggingface.co/v1/production/uploads/1678198534680-63ff6038e7767a895335bd48.jpeg\u001b[0m\u001b[4;94m)\u001b[0m\n",
       "jojo-ai-mst\u001b[1m]\u001b[0m\u001b[1m(\u001b[0m\u001b[35m/\u001b[0m\u001b[95mjojo-ai-mst\u001b[0m\u001b[1m)\u001b[0m\n",
       "• \n",
       "\u001b[1;36m2\u001b[0m days ago\n",
       "•\n",
       "\n",
       "\u001b[1;36m1\u001b[0m\u001b[1m]\u001b[0m\u001b[1m(\u001b[0m\u001b[35m/blog/jojo-ai-mst/\u001b[0m\u001b[95mopensource-low-resouce-language-datasets-sft-llm\u001b[0m\u001b[1m)\u001b[0m\n",
       "|#### 🦸🏻#\u001b[1;36m8\u001b[0m: Rewriting the Rules of Knowledge: How Modern Agents Learn to Adapt\n",
       "\n",
       "By\n",
       "|!|\u001b[1m]\u001b[0m\u001b[1m(\u001b[0m\u001b[4;94mhttps://cdn-avatars.huggingface.co/v1/production/uploads/64838b28c235ef76b63e4999/ZhQCYoU3vps71Ag7Jezj6.jpeg\u001b[0m\u001b[4;94m)\u001b[0m\n",
       "Kseniase\u001b[1m]\u001b[0m\u001b[1m(\u001b[0m\u001b[35m/\u001b[0m\u001b[95mKseniase\u001b[0m\u001b[1m)\u001b[0m\n",
       "• \n",
       "\u001b[1;36m2\u001b[0m days ago\n",
       "•\n",
       "\n",
       "\u001b[1;36m4\u001b[0m\u001b[1m]\u001b[0m\u001b[1m(\u001b[0m\u001b[35m/blog/Kseniase/\u001b[0m\u001b[95mknowledge\u001b[0m\u001b[1m)\u001b[0m\n",
       "|#### \\*\\*The Copyright Office Draws a Line in Silicon: AI and the Soul of Creation\\*\\*\n",
       "\n",
       "By\n",
       "|!|\u001b[1m]\u001b[0m\u001b[1m(\u001b[0m\u001b[4;94mhttps://cdn-avatars.huggingface.co/v1/production/uploads/6593502ca2607099284523db/svxu-iTvwsgmiYNgaFGIN.png\u001b[0m\u001b[4;94m)\u001b[0m\n",
       "fuzzy-mittenz\u001b[1m]\u001b[0m\u001b[1m(\u001b[0m\u001b[35m/\u001b[0m\u001b[95mfuzzy-mittenz\u001b[0m\u001b[1m)\u001b[0m\n",
       "• \n",
       "\u001b[1;36m3\u001b[0m days ago\n",
       "•\n",
       "\n",
       "\u001b[1;36m1\u001b[0m\u001b[1m]\u001b[0m\u001b[1m(\u001b[0m\u001b[35m/blog/fuzzy-mittenz/\u001b[0m\u001b[95mcopyright-in-ai\u001b[0m\u001b[1m)\u001b[0m\n",
       "|#### How to run Sentient’s Dobby-Mini local\n",
       "\u001b[33m...\u001b[0m_This content has been truncated to stay below \u001b[1;36m10000\u001b[0m characters_\u001b[33m...\u001b[0m\n",
       "TkpL1.jpeg\u001b[1m)\u001b[0m\n",
       "prithivMLmods\u001b[1m]\u001b[0m\u001b[1m(\u001b[0m\u001b[35m/\u001b[0m\u001b[95mprithivMLmods\u001b[0m\u001b[1m)\u001b[0m\n",
       "• \n",
       "about \u001b[1;36m2\u001b[0m hours ago\n",
       "•\n",
       "\n",
       "\u001b[1;36m7\u001b[0m\u001b[1m]\u001b[0m\u001b[1m(\u001b[0m\u001b[35m/blog/prithivMLmods/\u001b[0m\u001b[95mo3-mini-vs-deepseek-r1\u001b[0m\u001b[1m)\u001b[0m\n",
       "|#### Activation Steering: A New Frontier in AI Control—But Does It Scale?\n",
       "\n",
       "By\n",
       "|!|\u001b[1m]\u001b[0m\u001b[1m(\u001b[0m\u001b[35m/avatars/\u001b[0m\u001b[95m494015182ac0d9f56eecbd5764eb4805.svg\u001b[0m\u001b[1m)\u001b[0m\n",
       "royswastik\u001b[1m]\u001b[0m\u001b[1m(\u001b[0m\u001b[35m/\u001b[0m\u001b[95mroyswastik\u001b[0m\u001b[1m)\u001b[0m\n",
       "• \n",
       "about \u001b[1;36m8\u001b[0m hours ago\u001b[1m]\u001b[0m\u001b[1m(\u001b[0m\u001b[35m/blog/royswastik/\u001b[0m\u001b[95mactivation-steering\u001b[0m\u001b[1m)\u001b[0m\n",
       "|#### Open-R1: Update #\u001b[1;36m1\u001b[0m\n",
       "\n",
       "By\n",
       "|!|\u001b[1m]\u001b[0m\u001b[1m(\u001b[0m\u001b[4;94mhttps://cdn-avatars.huggingface.co/v1/production/uploads/651e96991b97c9f33d26bde6/QG_uzb2VV3OeKO0c61ynh.png\u001b[0m\u001b[4;94m)\u001b[0m\n",
       "open-r1\u001b[1m]\u001b[0m\u001b[1m(\u001b[0m\u001b[35m/\u001b[0m\u001b[95mopen-r1\u001b[0m\u001b[1m)\u001b[0m\n",
       "• \n",
       "about \u001b[1;36m11\u001b[0m hours ago\n",
       "•\n",
       "\n",
       "\u001b[1;36m26\u001b[0m\u001b[1m]\u001b[0m\u001b[1m(\u001b[0m\u001b[35m/blog/open-r1/\u001b[0m\u001b[95mupdate-1\u001b[0m\u001b[1m)\u001b[0m\n",
       "|#### The AHA Indicator\n",
       "\n",
       "By\n",
       "|!|\u001b[1m]\u001b[0m\u001b[1m(\u001b[0m\u001b[35m/avatars/\u001b[0m\u001b[95mcf21cf2c8f1c9d5a8fb35761acdef04b.svg\u001b[0m\u001b[1m)\u001b[0m\n",
       "etemiz\u001b[1m]\u001b[0m\u001b[1m(\u001b[0m\u001b[35m/\u001b[0m\u001b[95metemiz\u001b[0m\u001b[1m)\u001b[0m\n",
       "• \n",
       "about \u001b[1;36m18\u001b[0m hours ago\n",
       "•\n",
       "\n",
       "\u001b[1;36m1\u001b[0m\u001b[1m]\u001b[0m\u001b[1m(\u001b[0m\u001b[35m/blog/etemiz/\u001b[0m\u001b[95maha-indicator\u001b[0m\u001b[1m)\u001b[0m\n",
       "|#### LLM Dataset Formats \u001b[1;36m101\u001b[0m: A No‐BS Guide for Hugging Face Devs\n",
       "\n",
       "By\n",
       "|!|\u001b[1m]\u001b[0m\u001b[1m(\u001b[0m\u001b[4;94mhttps://cdn-avatars.huggingface.co/v1/production/uploads/6702d5463fe7cea28adbc921/fbchFJFH9oGyJuPhJ-E-Q.png\u001b[0m\u001b[4;94m)\u001b[0m\n",
       "tegridydev\u001b[1m]\u001b[0m\u001b[1m(\u001b[0m\u001b[35m/\u001b[0m\u001b[95mtegridydev\u001b[0m\u001b[1m)\u001b[0m\n",
       "• \n",
       "\u001b[1;36m1\u001b[0m day ago\n",
       "•\n",
       "\n",
       "\u001b[1;36m3\u001b[0m\u001b[1m]\u001b[0m\u001b[1m(\u001b[0m\u001b[35m/blog/tegridydev/\u001b[0m\u001b[95mllm-dataset-formats-101-hugging-face\u001b[0m\u001b[1m)\u001b[0m\n",
       "|#### Why we \u001b[1m(\u001b[0mdon't\u001b[1m)\u001b[0m need export control\n",
       "\n",
       "By\n",
       "|!|\u001b[1m]\u001b[0m\u001b[1m(\u001b[0m\u001b[4;94mhttps://cdn-avatars.huggingface.co/v1/production/uploads/65e330e7edc2f7306e252448/oYAOGhbPaXDTbEoJoSLMB.jpeg\u001b[0m\u001b[4;94m)\u001b[0m\n",
       "as-cle-bert\u001b[1m]\u001b[0m\u001b[1m(\u001b[0m\u001b[35m/\u001b[0m\u001b[95mas-cle-bert\u001b[0m\u001b[1m)\u001b[0m\n",
       "• \n",
       "\u001b[1;36m1\u001b[0m day ago\n",
       "•\n",
       "\n",
       "\u001b[1;36m7\u001b[0m\u001b[1m]\u001b[0m\u001b[1m(\u001b[0m\u001b[35m/blog/as-cle-bert/\u001b[0m\u001b[95mwhy-we-dont-need-export-control\u001b[0m\u001b[1m)\u001b[0m\n",
       "|#### AI Agents for Trip Planning: Automating Itinerary Generation with KaibanJS\n",
       "\n",
       "By\n",
       "|!|\u001b[1m]\u001b[0m\u001b[1m(\u001b[0m\u001b[4;94mhttps://cdn-avatars.huggingface.co/v1/production/uploads/noauth/19rKxRAjkXIGrtUg0iwFz.jpeg\u001b[0m\u001b[4;94m)\u001b[0m\n",
       "darielnoel\u001b[1m]\u001b[0m\u001b[1m(\u001b[0m\u001b[35m/\u001b[0m\u001b[95mdarielnoel\u001b[0m\u001b[1m)\u001b[0m\n",
       "• \n",
       "\u001b[1;36m2\u001b[0m days ago\u001b[1m]\u001b[0m\u001b[1m(\u001b[0m\u001b[35m/blog/darielnoel/\u001b[0m\u001b[95mai-agents-trip-planning-kaibanjs\u001b[0m\u001b[1m)\u001b[0m\n",
       "|#### Replicating DeepSeek R1 for Information Extraction\n",
       "\n",
       "By\n",
       "|!|\u001b[1m]\u001b[0m\u001b[1m(\u001b[0m\u001b[4;94mhttps://cdn-avatars.huggingface.co/v1/production/uploads/1658166666371-noauth.png\u001b[0m\u001b[4;94m)\u001b[0m\n",
       "Ihor\u001b[1m]\u001b[0m\u001b[1m(\u001b[0m\u001b[35m/\u001b[0m\u001b[95mIhor\u001b[0m\u001b[1m)\u001b[0m\n",
       "• \n",
       "\u001b[1;36m2\u001b[0m days ago\n",
       "•\n",
       "\n",
       "\u001b[1;36m14\u001b[0m\u001b[1m]\u001b[0m\u001b[1m(\u001b[0m\u001b[35m/blog/Ihor/\u001b[0m\u001b[95mreplicating-deepseek-r1-for-information-extraction\u001b[0m\u001b[1m)\u001b[0m\n",
       "|#### Enhancing AI Agents with the TextFile RAG Search Tool in KaibanJS\n",
       "\n",
       "By\n",
       "|!|\u001b[1m]\u001b[0m\u001b[1m(\u001b[0m\u001b[4;94mhttps://cdn-avatars.huggingface.co/v1/production/uploads/noauth/19rKxRAjkXIGrtUg0iwFz.jpeg\u001b[0m\u001b[4;94m)\u001b[0m\n",
       "darielnoel\u001b[1m]\u001b[0m\u001b[1m(\u001b[0m\u001b[35m/\u001b[0m\u001b[95mdarielnoel\u001b[0m\u001b[1m)\u001b[0m\n",
       "• \n",
       "\u001b[1;36m2\u001b[0m days ago\u001b[1m]\u001b[0m\u001b[1m(\u001b[0m\u001b[35m/blog/darielnoel/\u001b[0m\u001b[95menhancing-ai-agents-textfile-rag-kaibanjs\u001b[0m\u001b[1m)\u001b[0m\n",
       "|#### Mini-R1: Reproduce Deepseek R1 „aha moment“ a RL tutorial\n",
       "\n",
       "By\n",
       "|!|\u001b[1m]\u001b[0m\u001b[1m(\u001b[0m\u001b[4;94mhttps://cdn-avatars.huggingface.co/v1/production/uploads/651e96991b97c9f33d26bde6/QG_uzb2VV3OeKO0c61ynh.png\u001b[0m\u001b[4;94m)\u001b[0m\n",
       "open-r1\u001b[1m]\u001b[0m\u001b[1m(\u001b[0m\u001b[35m/\u001b[0m\u001b[95mopen-r1\u001b[0m\u001b[1m)\u001b[0m\n",
       "• \n",
       "\u001b[1;36m2\u001b[0m days ago\n",
       "•\n",
       "\n",
       "\u001b[1;36m21\u001b[0m\u001b[1m]\u001b[0m\u001b[1m(\u001b[0m\u001b[35m/blog/open-r1/\u001b[0m\u001b[95mmini-r1-contdown-game\u001b[0m\u001b[1m)\u001b[0m\n",
       "|#### The Power of Open-Source AI\n",
       "\n",
       "By\n",
       "|!|\u001b[1m]\u001b[0m\u001b[1m(\u001b[0m\u001b[35m/avatars/\u001b[0m\u001b[95mb70e38c2ecb3c7d27feebbd7b3df8ee8.svg\u001b[0m\u001b[1m)\u001b[0m\n",
       "mediiiiii3\u001b[1m]\u001b[0m\u001b[1m(\u001b[0m\u001b[35m/\u001b[0m\u001b[95mmediiiiii3\u001b[0m\u001b[1m)\u001b[0m\n",
       "• \n",
       "\u001b[1;36m2\u001b[0m days ago\u001b[1m]\u001b[0m\u001b[1m(\u001b[0m\u001b[35m/blog/mediiiiii3/../../blog/mediiiiii/\u001b[0m\u001b[95mintro-to-ai-part1\u001b[0m\u001b[1m)\u001b[0m\n",
       "|#### The Power of Open-Source AI\n",
       "\n",
       "By\n",
       "|!|\u001b[1m]\u001b[0m\u001b[1m(\u001b[0m\u001b[35m/avatars/\u001b[0m\u001b[95mb70e38c2ecb3c7d27feebbd7b3df8ee8.svg\u001b[0m\u001b[1m)\u001b[0m\n",
       "mediiiiii3\u001b[1m]\u001b[0m\u001b[1m(\u001b[0m\u001b[35m/\u001b[0m\u001b[95mmediiiiii3\u001b[0m\u001b[1m)\u001b[0m\n",
       "• \n",
       "\u001b[1;36m2\u001b[0m days ago\u001b[1m]\u001b[0m\u001b[1m(\u001b[0m\u001b[35m/blog/mediiiiii3/../../mediiiiii/\u001b[0m\u001b[95mintro-to-ai-part1\u001b[0m\u001b[1m)\u001b[0m\n",
       "|#### Introduction to Artificial Intelligence\n",
       "\n",
       "By\n",
       "|!|\u001b[1m]\u001b[0m\u001b[1m(\u001b[0m\u001b[35m/avatars/\u001b[0m\u001b[95mfd1e6d385822a7d8db1e06b8f64b10ba.svg\u001b[0m\u001b[1m)\u001b[0m\n",
       "mediiiiii\u001b[1m]\u001b[0m\u001b[1m(\u001b[0m\u001b[35m/\u001b[0m\u001b[95mmediiiiii\u001b[0m\u001b[1m)\u001b[0m\n",
       "• \n",
       "\u001b[1;36m2\u001b[0m days ago\u001b[1m]\u001b[0m\u001b[1m(\u001b[0m\u001b[35m/blog/mediiiiii/\u001b[0m\u001b[95mintro-to-ai-part1\u001b[0m\u001b[1m)\u001b[0m\n",
       "|#### Opensource Low Resource Language Datasets to Supervised Finetune Language Models\n",
       "\n",
       "By\n",
       "|!|\u001b[1m]\u001b[0m\u001b[1m(\u001b[0m\u001b[4;94mhttps://cdn-avatars.huggingface.co/v1/production/uploads/1678198534680-63ff6038e7767a895335bd48.jpeg\u001b[0m\u001b[4;94m)\u001b[0m\n",
       "jojo-ai-mst\u001b[1m]\u001b[0m\u001b[1m(\u001b[0m\u001b[35m/\u001b[0m\u001b[95mjojo-ai-mst\u001b[0m\u001b[1m)\u001b[0m\n",
       "• \n",
       "\u001b[1;36m2\u001b[0m days ago\n",
       "•\n",
       "\n",
       "\u001b[1;36m1\u001b[0m\u001b[1m]\u001b[0m\u001b[1m(\u001b[0m\u001b[35m/blog/jojo-ai-mst/\u001b[0m\u001b[95mopensource-low-resouce-language-datasets-sft-llm\u001b[0m\u001b[1m)\u001b[0m\n",
       "|#### 🦸🏻#\u001b[1;36m8\u001b[0m: Rewriting the Rules of Knowledge: How Modern Agents Learn to Adapt\n",
       "\n",
       "By\n",
       "|!|\u001b[1m]\u001b[0m\u001b[1m(\u001b[0m\u001b[4;94mhttps://cdn-avatars.huggingface.co/v1/production/uploads/64838b28c235ef76b63e4999/ZhQCYoU3vps71Ag7Jezj6.jpeg\u001b[0m\u001b[4;94m)\u001b[0m\n",
       "Kseniase\u001b[1m]\u001b[0m\u001b[1m(\u001b[0m\u001b[35m/\u001b[0m\u001b[95mKseniase\u001b[0m\u001b[1m)\u001b[0m\n",
       "• \n",
       "\u001b[1;36m2\u001b[0m days ago\n",
       "•\n",
       "\n",
       "\u001b[1;36m4\u001b[0m\u001b[1m]\u001b[0m\u001b[1m(\u001b[0m\u001b[35m/blog/Kseniase/\u001b[0m\u001b[95mknowledge\u001b[0m\u001b[1m)\u001b[0m\n",
       "|#### \\*\\*The Copyright Office Draws a Line in Silicon: AI and the Soul of Creation\\*\\*\n",
       "\n",
       "By\n",
       "|!|\u001b[1m]\u001b[0m\u001b[1m(\u001b[0m\u001b[4;94mhttps://cdn-avatars.huggingface.co/v1/production/uploads/6593502ca2607099284523db/svxu-iTvwsgmiYNgaFGIN.png\u001b[0m\u001b[4;94m)\u001b[0m\n",
       "fuzzy-mittenz\u001b[1m]\u001b[0m\u001b[1m(\u001b[0m\u001b[35m/\u001b[0m\u001b[95mfuzzy-mittenz\u001b[0m\u001b[1m)\u001b[0m\n",
       "• \n",
       "\u001b[1;36m3\u001b[0m days ago\n",
       "•\n",
       "\n",
       "\u001b[1;36m1\u001b[0m\u001b[1m]\u001b[0m\u001b[1m(\u001b[0m\u001b[35m/blog/fuzzy-mittenz/\u001b[0m\u001b[95mcopyright-in-ai\u001b[0m\u001b[1m)\u001b[0m\n",
       "|#### How to run Sentient’s Dobby-Mini locally with Ollama\n",
       "\n",
       "By\n",
       "|!|\u001b[1m]\u001b[0m\u001b[1m(\u001b[0m\u001b[4;94mhttps://cdn-avatars.huggingface.co/v1/production/uploads/679a3ecf4a78cf7ec176f491/zK6Ukf9wptxmOpAYw9g1g.jpeg\u001b[0m\u001b[4;94m)\u001b[0m\n",
       "chrisaubin\u001b[1m]\u001b[0m\u001b[1m(\u001b[0m\u001b[35m/\u001b[0m\u001b[95mchrisaubin\u001b[0m\u001b[1m)\u001b[0m\n",
       "• \n",
       "\u001b[1;36m3\u001b[0m days ago\n",
       "•\n",
       "\n",
       "\u001b[1;36m9\u001b[0m\u001b[1m]\u001b[0m\u001b[1m(\u001b[0m\u001b[35m/blog/chrisaubin/\u001b[0m\u001b[95mhosting-dobby-mini\u001b[0m\u001b[1m)\u001b[0m\n",
       "|#### Anthropic CEO: is DeepSeek-R1 a revolution in AI?\n",
       "\n",
       "By\n",
       "|!|\u001b[1m]\u001b[0m\u001b[1m(\u001b[0m\u001b[4;94mhttps://cdn-avatars.huggingface.co/v1/production/uploads/63d10d4e8eaa4831005e92b5/7p7-OmWM6PqqCs7ZStPGD.jpeg\u001b[0m\u001b[4;94m)\u001b[0m\n",
       "m-ric\u001b[1m]\u001b[0m\u001b[1m(\u001b[0m\u001b[35m/\u001b[0m\u001b[95mm-ric\u001b[0m\u001b[1m)\u001b[0m\n",
       "• \n",
       "\u001b[1;36m3\u001b[0m days ago\n",
       "•\n",
       "\n",
       "\u001b[1;36m4\u001b[0m\u001b[1m]\u001b[0m\u001b[1m(\u001b[0m\u001b[35m/blog/m-ric/\u001b[0m\u001b[95mdario-amodei-on-deepseek-r1\u001b[0m\u001b[1m)\u001b[0m\n",
       "|#### AI Multi-Agent System Automation: Leveraging the Zapier Webhook Tool in KaibanJS\n",
       "\n",
       "By\n",
       "|!|\u001b[1m]\u001b[0m\u001b[1m(\u001b[0m\u001b[4;94mhttps://cdn-avatars.huggingface.co/v1/production/uploads/noauth/19rKxRAjkXIGrtUg0iwFz.jpeg\u001b[0m\u001b[4;94m)\u001b[0m\n",
       "darielnoel\u001b[1m]\u001b[0m\u001b[1m(\u001b[0m\u001b[35m/\u001b[0m\u001b[95mdarielnoel\u001b[0m\u001b[1m)\u001b[0m\n",
       "• \n",
       "\u001b[1;36m3\u001b[0m days ago\u001b[1m]\u001b[0m\u001b[1m(\u001b[0m\u001b[35m/blog/darielnoel/\u001b[0m\u001b[95mmulti-agent-automation-zapier-kaibanjs\u001b[0m\u001b[1m)\u001b[0m\n",
       "|#### KV Caching Explained: Optimizing Transformer Inference Efficiency\n",
       "\n",
       "By\n",
       "|!|\u001b[1m]\u001b[0m\u001b[1m(\u001b[0m\u001b[4;94mhttps://cdn-avatars.huggingface.co/v1/production/uploads/6527e89a8808d80ccff88b7a/CuGNmF1Et8KMQ0mCd1NEJ.jpeg\u001b[0m\u001b[4;94m)\u001b[0m\n",
       "not-lain\u001b[1m]\u001b[0m\u001b[1m(\u001b[0m\u001b[35m/\u001b[0m\u001b[95mnot-lain\u001b[0m\u001b[1m)\u001b[0m\n",
       "• \n",
       "\u001b[1;36m3\u001b[0m days ago\n",
       "•\n",
       "\n",
       "\u001b[1;36m22\u001b[0m\u001b[1m]\u001b[0m\u001b[1m(\u001b[0m\u001b[35m/blog/not-lain/\u001b[0m\u001b[95mkv-caching\u001b[0m\u001b[1m)\u001b[0m\n",
       "\n",
       "System theme\n",
       "\n",
       "Company\n",
       "|TOS\u001b[1m]\u001b[0m\u001b[1m(\u001b[0m\u001b[35m/\u001b[0m\u001b[95mterms-of-service\u001b[0m\u001b[1m)\u001b[0m\n",
       "|Privacy\u001b[1m]\u001b[0m\u001b[1m(\u001b[0m\u001b[35m/\u001b[0m\u001b[95mprivacy\u001b[0m\u001b[1m)\u001b[0m\n",
       "|About\u001b[1m]\u001b[0m\u001b[1m(\u001b[0m\u001b[35m/\u001b[0m\u001b[95mhuggingface\u001b[0m\u001b[1m)\u001b[0m\n",
       "|Jobs\u001b[1m]\u001b[0m\u001b[1m(\u001b[0m\u001b[4;94mhttps://apply.workable.com/huggingface/\u001b[0m\u001b[4;94m)\u001b[0m\n",
       "\n",
       "Website\n",
       "|Models\u001b[1m]\u001b[0m\u001b[1m(\u001b[0m\u001b[35m/\u001b[0m\u001b[95mmodels\u001b[0m\u001b[1m)\u001b[0m\n",
       "|Datasets\u001b[1m]\u001b[0m\u001b[1m(\u001b[0m\u001b[35m/\u001b[0m\u001b[95mdatasets\u001b[0m\u001b[1m)\u001b[0m\n",
       "|Spaces\u001b[1m]\u001b[0m\u001b[1m(\u001b[0m\u001b[35m/\u001b[0m\u001b[95mspaces\u001b[0m\u001b[1m)\u001b[0m\n",
       "|Pricing\u001b[1m]\u001b[0m\u001b[1m(\u001b[0m\u001b[35m/\u001b[0m\u001b[95mpricing\u001b[0m\u001b[1m)\u001b[0m\n",
       "|Docs\u001b[1m]\u001b[0m\u001b[1m(\u001b[0m\u001b[35m/\u001b[0m\u001b[95mdocs\u001b[0m\u001b[1m)\u001b[0m\n"
      ]
     },
     "metadata": {},
     "output_type": "display_data"
    },
    {
     "data": {
      "text/html": [
       "<pre style=\"white-space:pre;overflow-x:auto;line-height:normal;font-family:Menlo,'DejaVu Sans Mono',consolas,'Courier New',monospace\"><span style=\"color: #7f7f7f; text-decoration-color: #7f7f7f\">[Step 0: Duration 3.76 seconds| Input tokens: 1,270 | Output tokens: 21]</span>\n",
       "</pre>\n"
      ],
      "text/plain": [
       "\u001b[2m[Step 0: Duration 3.76 seconds| Input tokens: 1,270 | Output tokens: 21]\u001b[0m\n"
      ]
     },
     "metadata": {},
     "output_type": "display_data"
    },
    {
     "data": {
      "text/html": [
       "<pre style=\"white-space:pre;overflow-x:auto;line-height:normal;font-family:Menlo,'DejaVu Sans Mono',consolas,'Courier New',monospace\"><span style=\"color: #d4b702; text-decoration-color: #d4b702\">━━━━━━━━━━━━━━━━━━━━━━━━━━━━━━━━━━━━━━━━━━━━━━━━━━━━━ </span><span style=\"font-weight: bold\">Step </span><span style=\"color: #008080; text-decoration-color: #008080; font-weight: bold\">2</span><span style=\"color: #d4b702; text-decoration-color: #d4b702\"> ━━━━━━━━━━━━━━━━━━━━━━━━━━━━━━━━━━━━━━━━━━━━━━━━━━━━━━</span>\n",
       "</pre>\n"
      ],
      "text/plain": [
       "\u001b[38;2;212;183;2m━━━━━━━━━━━━━━━━━━━━━━━━━━━━━━━━━━━━━━━━━━━━━━━━━━━━━ \u001b[0m\u001b[1mStep \u001b[0m\u001b[1;36m2\u001b[0m\u001b[38;2;212;183;2m ━━━━━━━━━━━━━━━━━━━━━━━━━━━━━━━━━━━━━━━━━━━━━━━━━━━━━━\u001b[0m\n"
      ]
     },
     "metadata": {},
     "output_type": "display_data"
    },
    {
     "data": {
      "text/html": [
       "<pre style=\"white-space:pre;overflow-x:auto;line-height:normal;font-family:Menlo,'DejaVu Sans Mono',consolas,'Courier New',monospace\">╭─────────────────────────────────────────────────────────────────────────────────────────────────────────────────╮\n",
       "│ Calling tool: 'final_answer' with arguments: {'answer': 'Hugging Face – Blog'}                                  │\n",
       "╰─────────────────────────────────────────────────────────────────────────────────────────────────────────────────╯\n",
       "</pre>\n"
      ],
      "text/plain": [
       "╭─────────────────────────────────────────────────────────────────────────────────────────────────────────────────╮\n",
       "│ Calling tool: 'final_answer' with arguments: {'answer': 'Hugging Face – Blog'}                                  │\n",
       "╰─────────────────────────────────────────────────────────────────────────────────────────────────────────────────╯\n"
      ]
     },
     "metadata": {},
     "output_type": "display_data"
    },
    {
     "data": {
      "text/html": [
       "<pre style=\"white-space:pre;overflow-x:auto;line-height:normal;font-family:Menlo,'DejaVu Sans Mono',consolas,'Courier New',monospace\"><span style=\"color: #d4b702; text-decoration-color: #d4b702; font-weight: bold\">Final answer: Hugging Face – Blog</span>\n",
       "</pre>\n"
      ],
      "text/plain": [
       "\u001b[1;38;2;212;183;2mFinal answer: Hugging Face – Blog\u001b[0m\n"
      ]
     },
     "metadata": {},
     "output_type": "display_data"
    },
    {
     "data": {
      "text/html": [
       "<pre style=\"white-space:pre;overflow-x:auto;line-height:normal;font-family:Menlo,'DejaVu Sans Mono',consolas,'Courier New',monospace\"><span style=\"color: #7f7f7f; text-decoration-color: #7f7f7f\">[Step 1: Duration 1.80 seconds| Input tokens: 6,337 | Output tokens: 40]</span>\n",
       "</pre>\n"
      ],
      "text/plain": [
       "\u001b[2m[Step 1: Duration 1.80 seconds| Input tokens: 6,337 | Output tokens: 40]\u001b[0m\n"
      ]
     },
     "metadata": {},
     "output_type": "display_data"
    },
    {
     "data": {
      "text/plain": [
       "'Hugging Face – Blog'"
      ]
     },
     "execution_count": 52,
     "metadata": {},
     "output_type": "execute_result"
    }
   ],
   "source": [
    "from smolagents import ToolCallingAgent\n",
    "\n",
    "agent = ToolCallingAgent(tools=[], model=model, add_base_tools=True)\n",
    "agent.run(\"Could you get me the title of the page at url 'https://huggingface.co/blog'?\")"
   ]
  },
  {
   "cell_type": "code",
   "execution_count": 55,
   "id": "8dd482c0-2146-46c9-800a-00ae1ef457e0",
   "metadata": {},
   "outputs": [
    {
     "name": "stdout",
     "output_type": "stream",
     "text": [
      "[\n",
      "    {\n",
      "        'role': smolagents.models.MessageRole(''),\n",
      "        'content': [\n",
      "            {\n",
      "                'type': 'text',\n",
      "                'text':\n",
      "                    'You are an expert assistant who can solve any task using  '\n",
      "                    'tool calls. You will be given a task to solve as best you '\n",
      "                    'can.\\nTo do so, you have been given access to the following '\n",
      "                    'tools: \\'python_interpreter\\', \\'web_search\\', '\n",
      "                    '\\'visit_webpage\\', \\'final_answer\\'\\n\\nThe tool call you '\n",
      "                    'write is an action: after the tool is executed, you will get '\n",
      "                    'the result of the tool call as an \"observation\".\\nThis '\n",
      "                    'Action/Observation can repeat N times, you should take '\n",
      "                    'several steps when needed.\\n\\nYou can use the result of the '\n",
      "                    'previous action as input for the next action.\\nThe '\n",
      "                    'observation will always be a string: it can represent a '\n",
      "                    'file, like \"image_1.jpg\".\\nThen you can use it as input for '\n",
      "                    'the next action. You can do it for instance as follows:\\n\\n'\n",
      "                    'Observation: \"image_1.jpg\"\\n\\nAction:\\n{\\n  \"name\": '\n",
      "                    '\"image_transformer\",\\n  \"arguments\": {\"image\": '\n",
      "                    '\"image_1.jpg\"}\\n}\\n\\nTo provide the final answer to the '\n",
      "                    'task, use an action blob with \"name\": \"final_answer\" tool. '\n",
      "                    'It is the only way to complete the task, else you will be '\n",
      "                    'stuck on a loop. So your final output should look like this:\\n'\n",
      "                    'Action:\\n{\\n  \"name\": \"final_answer\",\\n  \"arguments\": '\n",
      "                    '{\"answer\": \"insert your final answer here\"}\\n}\\n\\n\\nHere are '\n",
      "                    'a few examples using notional tools:\\n---\\nTask: \"Generate '\n",
      "                    'an image of the oldest person in this document.\"\\n\\nAction:\\n'\n",
      "                    '{\\n  \"name\": \"document_qa\",\\n  \"arguments\": {\"document\": '\n",
      "                    '\"document.pdf\", \"question\": \"Who is the oldest person '\n",
      "                    'mentioned?\"}\\n}\\nObservation: \"The oldest person in the '\n",
      "                    'document is John Doe, a 55 year old lumberjack living in '\n",
      "                    'Newfoundland.\"\\n\\nAction:\\n{\\n  \"name\": \"image_generator\",\\n  '\n",
      "                    '\"arguments\": {\"prompt\": \"A portrait of John Doe, a '\n",
      "                    '55-year-old man living in Canada.\"}\\n}\\nObservation: '\n",
      "                    '\"image.png\"\\n\\nAction:\\n{\\n  \"name\": \"final_answer\",\\n  '\n",
      "                    '\"arguments\": \"image.png\"\\n}\\n\\n---\\nTask: \"What is the '\n",
      "                    'result of the following operation: 5 + 3 + 1294.678?\"\\n\\n'\n",
      "                    'Action:\\n{\\n    \"name\": \"python_interpreter\",\\n    '\n",
      "                    '\"arguments\": {\"code\": \"5 + 3 + 1294.678\"}\\n}\\nObservation: '\n",
      "                    '1302.678\\n\\nAction:\\n{\\n  \"name\": \"final_answer\",\\n  '\n",
      "                    '\"arguments\": \"1302.678\"\\n}\\n\\n---\\nTask: \"Which city has the '\n",
      "                    'highest population , Guangzhou or Shanghai?\"\\n\\nAction:\\n{\\n  '\n",
      "                    '  \"name\": \"search\",\\n    \"arguments\": \"Population Guangzhou\"\\n'\n",
      "                    '}\\nObservation: [\\'Guangzhou has a population of 15 million '\n",
      "                    'inhabitants as of 2021.\\']\\n\\n\\nAction:\\n{\\n    \"name\": '\n",
      "                    '\"search\",\\n    \"arguments\": \"Population Shanghai\"\\n}\\n'\n",
      "                    'Observation: \\'26 million (2019)\\'\\n\\nAction:\\n{\\n  \"name\": '\n",
      "                    '\"final_answer\",\\n  \"arguments\": \"Shanghai\"\\n}\\n\\n\\nAbove '\n",
      "                    'example were using notional tools that might not exist for '\n",
      "                    'you. You only have access to these tools:\\n\\n\\n- '\n",
      "                    'python_interpreter: This is a tool that evaluates python '\n",
      "                    'code. It can be used to perform calculations.\\n    Takes '\n",
      "                    'inputs: {\\'code\\': {\\'type\\': \\'string\\', \\'description\\': '\n",
      "                    '\\'The code snippet to evaluate. All variables used in this '\n",
      "                    'snippet must be defined in this same snippet, else you will '\n",
      "                    'get an error. This code can only import the following python '\n",
      "                    'libraries: None.\\'}}\\n    Returns an output of type: string\\n\\n'\n",
      "                    '- web_search: Performs a duckduckgo web search based on your '\n",
      "                    'query (think a Google search) then returns the top search '\n",
      "                    'results.\\n    Takes inputs: {\\'query\\': {\\'type\\': '\n",
      "                    '\\'string\\', \\'description\\': \\'The search query to '\n",
      "                    'perform.\\'}}\\n    Returns an output of type: string\\n\\n- '\n",
      "                    'visit_webpage: Visits a webpage at the given url and reads '\n",
      "                    'its content as a markdown string. Use this to browse '\n",
      "                    'webpages.\\n    Takes inputs: {\\'url\\': {\\'type\\': '\n",
      "                    '\\'string\\', \\'description\\': \\'The url of the webpage to '\n",
      "                    'visit.\\'}}\\n    Returns an output of type: string\\n\\n- '\n",
      "                    'final_answer: Provides a final answer to the given problem.\\n '\n",
      "                    '   Takes inputs: {\\'answer\\': {\\'type\\': \\'any\\', '\n",
      "                    '\\'description\\': \\'The final answer to the problem\\'}}\\n    '\n",
      "                    'Returns an output of type: any\\n\\n\\n\\nHere are the rules you '\n",
      "                    'should always follow to solve your task:\\n1. ALWAYS provide '\n",
      "                    'a tool call, else you will fail.\\n2. Always use the right '\n",
      "                    'arguments for the tools. Never use variable names as the '\n",
      "                    'action arguments, use the value instead.\\n3. Call a tool '\n",
      "                    'only when needed: do not call the search agent if you do not '\n",
      "                    'need information, try to solve the task yourself.\\nIf no '\n",
      "                    'tool call is needed, use final_answer tool to return your '\n",
      "                    'answer.\\n4. Never re-do a tool call that you previously did '\n",
      "                    'with the exact same parameters.\\n\\nNow Begin! If you solve '\n",
      "                    'the task correctly, you will receive a reward of $1,000,000.'\n",
      "            }\n",
      "        ]\n",
      "    },\n",
      "    {\n",
      "        'role': smolagents.models.MessageRole(''),\n",
      "        'content': [\n",
      "            {\n",
      "                'type': 'text',\n",
      "                'text':\n",
      "                    \"New task:\\nCould you get me the title of the page at url \"\n",
      "                    \"'https://huggingface.co/blog'?\"\n",
      "            }\n",
      "        ]\n",
      "    }\n",
      "]\n"
     ]
    }
   ],
   "source": [
    "pprint(agent.memory.steps[1].model_input_messages)"
   ]
  },
  {
   "cell_type": "code",
   "execution_count": 18,
   "id": "6470b191-4081-4d78-bde1-6afe570a2111",
   "metadata": {},
   "outputs": [],
   "source": [
    "# print(agent.system_prompt_template)"
   ]
  },
  {
   "cell_type": "markdown",
   "id": "70672a9e-d0a1-4f22-aea8-d37847bcf207",
   "metadata": {},
   "source": [
    "## Planning Steps"
   ]
  },
  {
   "cell_type": "code",
   "execution_count": 25,
   "id": "5f17360f-38ea-4069-af3f-7e698ecfeb45",
   "metadata": {},
   "outputs": [],
   "source": [
    "agent = CodeAgent(tools=[], model=model, add_base_tools=True, planning_interval=3)"
   ]
  },
  {
   "cell_type": "code",
   "execution_count": 23,
   "id": "2b9427d1-fc3e-426f-ab1c-bdc96c663408",
   "metadata": {},
   "outputs": [
    {
     "data": {
      "text/html": [
       "<pre style=\"white-space:pre;overflow-x:auto;line-height:normal;font-family:Menlo,'DejaVu Sans Mono',consolas,'Courier New',monospace\"><span style=\"color: #d4b702; text-decoration-color: #d4b702\">╭──────────────────────────────────────────────────── </span><span style=\"color: #d4b702; text-decoration-color: #d4b702; font-weight: bold\">New run</span><span style=\"color: #d4b702; text-decoration-color: #d4b702\"> ────────────────────────────────────────────────────╮</span>\n",
       "<span style=\"color: #d4b702; text-decoration-color: #d4b702\">│</span>                                                                                                                 <span style=\"color: #d4b702; text-decoration-color: #d4b702\">│</span>\n",
       "<span style=\"color: #d4b702; text-decoration-color: #d4b702\">│</span> <span style=\"font-weight: bold\">How long would a cheetah at full speed take to run the length of Pont Alexandre III?</span>                            <span style=\"color: #d4b702; text-decoration-color: #d4b702\">│</span>\n",
       "<span style=\"color: #d4b702; text-decoration-color: #d4b702\">│</span>                                                                                                                 <span style=\"color: #d4b702; text-decoration-color: #d4b702\">│</span>\n",
       "<span style=\"color: #d4b702; text-decoration-color: #d4b702\">╰─ OpenAIServerModel - gpt-4o-mini ───────────────────────────────────────────────────────────────────────────────╯</span>\n",
       "</pre>\n"
      ],
      "text/plain": [
       "\u001b[38;2;212;183;2m╭─\u001b[0m\u001b[38;2;212;183;2m───────────────────────────────────────────────────\u001b[0m\u001b[38;2;212;183;2m \u001b[0m\u001b[1;38;2;212;183;2mNew run\u001b[0m\u001b[38;2;212;183;2m \u001b[0m\u001b[38;2;212;183;2m───────────────────────────────────────────────────\u001b[0m\u001b[38;2;212;183;2m─╮\u001b[0m\n",
       "\u001b[38;2;212;183;2m│\u001b[0m                                                                                                                 \u001b[38;2;212;183;2m│\u001b[0m\n",
       "\u001b[38;2;212;183;2m│\u001b[0m \u001b[1mHow long would a cheetah at full speed take to run the length of Pont Alexandre III?\u001b[0m                            \u001b[38;2;212;183;2m│\u001b[0m\n",
       "\u001b[38;2;212;183;2m│\u001b[0m                                                                                                                 \u001b[38;2;212;183;2m│\u001b[0m\n",
       "\u001b[38;2;212;183;2m╰─\u001b[0m\u001b[38;2;212;183;2m OpenAIServerModel - gpt-4o-mini \u001b[0m\u001b[38;2;212;183;2m──────────────────────────────────────────────────────────────────────────────\u001b[0m\u001b[38;2;212;183;2m─╯\u001b[0m\n"
      ]
     },
     "metadata": {},
     "output_type": "display_data"
    },
    {
     "data": {
      "text/html": [
       "<pre style=\"white-space:pre;overflow-x:auto;line-height:normal;font-family:Menlo,'DejaVu Sans Mono',consolas,'Courier New',monospace\"><span style=\"color: #d4b702; text-decoration-color: #d4b702\">━━━━━━━━━━━━━━━━━━━━━━━━━━━━━━━━━━━━━━━━━━━━━━━━━━━━━ </span><span style=\"font-weight: bold\">Step </span><span style=\"color: #008080; text-decoration-color: #008080; font-weight: bold\">1</span><span style=\"color: #d4b702; text-decoration-color: #d4b702\"> ━━━━━━━━━━━━━━━━━━━━━━━━━━━━━━━━━━━━━━━━━━━━━━━━━━━━━━</span>\n",
       "</pre>\n"
      ],
      "text/plain": [
       "\u001b[38;2;212;183;2m━━━━━━━━━━━━━━━━━━━━━━━━━━━━━━━━━━━━━━━━━━━━━━━━━━━━━ \u001b[0m\u001b[1mStep \u001b[0m\u001b[1;36m1\u001b[0m\u001b[38;2;212;183;2m ━━━━━━━━━━━━━━━━━━━━━━━━━━━━━━━━━━━━━━━━━━━━━━━━━━━━━━\u001b[0m\n"
      ]
     },
     "metadata": {},
     "output_type": "display_data"
    },
    {
     "data": {
      "text/html": [
       "<pre style=\"white-space:pre;overflow-x:auto;line-height:normal;font-family:Menlo,'DejaVu Sans Mono',consolas,'Courier New',monospace\"> ─ <span style=\"font-weight: bold\">Executing parsed code:</span> ──────────────────────────────────────────────────────────────────────────────────────── \n",
       "  <span style=\"color: #f8f8f2; text-decoration-color: #f8f8f2; background-color: #272822\">pont_length_search </span><span style=\"color: #ff4689; text-decoration-color: #ff4689; background-color: #272822\">=</span><span style=\"color: #f8f8f2; text-decoration-color: #f8f8f2; background-color: #272822\"> web_search(query</span><span style=\"color: #ff4689; text-decoration-color: #ff4689; background-color: #272822\">=</span><span style=\"color: #e6db74; text-decoration-color: #e6db74; background-color: #272822\">\"Pont Alexandre III length\"</span><span style=\"color: #f8f8f2; text-decoration-color: #f8f8f2; background-color: #272822\">)</span><span style=\"background-color: #272822\">                                             </span>  \n",
       "  <span style=\"color: #f8f8f2; text-decoration-color: #f8f8f2; background-color: #272822\">print(</span><span style=\"color: #e6db74; text-decoration-color: #e6db74; background-color: #272822\">\"Pont Alexandre III length:\"</span><span style=\"color: #f8f8f2; text-decoration-color: #f8f8f2; background-color: #272822\">, pont_length_search)</span><span style=\"background-color: #272822\">                                                        </span>  \n",
       " ───────────────────────────────────────────────────────────────────────────────────────────────────────────────── \n",
       "</pre>\n"
      ],
      "text/plain": [
       " ─ \u001b[1mExecuting parsed code:\u001b[0m ──────────────────────────────────────────────────────────────────────────────────────── \n",
       "  \u001b[38;2;248;248;242;48;2;39;40;34mpont_length_search\u001b[0m\u001b[38;2;248;248;242;48;2;39;40;34m \u001b[0m\u001b[38;2;255;70;137;48;2;39;40;34m=\u001b[0m\u001b[38;2;248;248;242;48;2;39;40;34m \u001b[0m\u001b[38;2;248;248;242;48;2;39;40;34mweb_search\u001b[0m\u001b[38;2;248;248;242;48;2;39;40;34m(\u001b[0m\u001b[38;2;248;248;242;48;2;39;40;34mquery\u001b[0m\u001b[38;2;255;70;137;48;2;39;40;34m=\u001b[0m\u001b[38;2;230;219;116;48;2;39;40;34m\"\u001b[0m\u001b[38;2;230;219;116;48;2;39;40;34mPont Alexandre III length\u001b[0m\u001b[38;2;230;219;116;48;2;39;40;34m\"\u001b[0m\u001b[38;2;248;248;242;48;2;39;40;34m)\u001b[0m\u001b[48;2;39;40;34m                                             \u001b[0m  \n",
       "  \u001b[38;2;248;248;242;48;2;39;40;34mprint\u001b[0m\u001b[38;2;248;248;242;48;2;39;40;34m(\u001b[0m\u001b[38;2;230;219;116;48;2;39;40;34m\"\u001b[0m\u001b[38;2;230;219;116;48;2;39;40;34mPont Alexandre III length:\u001b[0m\u001b[38;2;230;219;116;48;2;39;40;34m\"\u001b[0m\u001b[38;2;248;248;242;48;2;39;40;34m,\u001b[0m\u001b[38;2;248;248;242;48;2;39;40;34m \u001b[0m\u001b[38;2;248;248;242;48;2;39;40;34mpont_length_search\u001b[0m\u001b[38;2;248;248;242;48;2;39;40;34m)\u001b[0m\u001b[48;2;39;40;34m                                                        \u001b[0m  \n",
       " ───────────────────────────────────────────────────────────────────────────────────────────────────────────────── \n"
      ]
     },
     "metadata": {},
     "output_type": "display_data"
    },
    {
     "data": {
      "text/html": [
       "<pre style=\"white-space:pre;overflow-x:auto;line-height:normal;font-family:Menlo,'DejaVu Sans Mono',consolas,'Courier New',monospace\"><span style=\"font-weight: bold\">Execution logs:</span>\n",
       "Pont Alexandre III length: ## Search Results\n",
       "\n",
       "[Pont Alexandre III - Wikipedia](https://en.wikipedia.org/wiki/Pont_Alexandre_III)\n",
       "The Pont Alexandre III (French pronunciation: [pɔ̃ alɛksɑ̃dʁ tʁwa]) is a deck arch bridge that spans the Seine in \n",
       "Paris. It connects the Champs-Élysées quarter with those of the Invalides and Eiffel Tower.\n",
       "\n",
       "[The Pont Alexandre III is the most beautiful bridge in \n",
       "Paris.](https://monsieur-de-france.com/en/bridge-pont-alexandre-iii-paris-france)\n",
       "The Alexandre III Bridge in figures The Alexandre III Bridge at sunrise / Photo chosen by Monsieurdefrance.com: \n",
       "Manjik via dépositphotos. The bridge is 152 meters long in total, but the arch is 107 meters long and 45 meters \n",
       "wide. It is made of cast steel and rests on two enormous \"abutments\" that withstand the pressure exerted by the \n",
       "arch.\n",
       "\n",
       "[10 Fun Facts About The Pont Alexandre III](https://art-facts.com/facts-about-the-pont-alexandre-iii/)\n",
       "1. The bridge spans the River Seine The Pont Alexandre III (\"pont\" means \"bridge in French) spans the famous River \n",
       "Seine in Paris. It's one of the most famous bridges in the city and is located in a very important area. It \n",
       "connects the neighborhood of the Champs-Élysées, the most famous avenue in the city, and the neighborhood where we \n",
       "can find two other famous landmarks, Les ...\n",
       "\n",
       "[17 Famous Bridges in France: Architectural Time Travel - Salut from \n",
       "Paris](https://www.salutfromparis.com/famous-bridges-in-france/)\n",
       "Its slender design offers minimal obstruction to the view, making a journey across it an unforgettable experience. \n",
       "The Millau Viaduct not only symbolizes architectural and engineering prowess but also human ingenuity, representing\n",
       "the pinnacle of famous bridges in France. #2 Pont Alexandre III, Paris (built in 1900, 160m length)\n",
       "\n",
       "[Pont Alexandre III, Paris, France - \n",
       "LatLong](https://www.latlong.net/place/pont-alexandre-iii-paris-france-32915.html)\n",
       "Pont Alexandre III, Paris, France Lat Long Coordinates Info The latitude of Pont Alexandre III, Paris, France is \n",
       "48.863869, and the longitude is 2.313427. Pont Alexandre III, Paris, France is located at France country in the \n",
       "Bridges place category with the gps coordinates of 48° 51' 49.9284'' N and 2° 18' 48.3372'' E.\n",
       "\n",
       "[Pont Alexandre III - Come to \n",
       "Paris](https://www.cometoparis.com/paris-guide/paris-monuments/pont-alexandre-iii-s951)\n",
       "The inscription reads 'On April 14th 1900, Emile Loubet, President of the French Republic, opened the Exposition \n",
       "Universelle and inaugurated the Pont Alexandre III'. At 154 metres in length and 45 metres in width, this enormous \n",
       "bridge connects the Esplanade des Invalides to the Avenue Wilson Churchill.\n",
       "\n",
       "[Pont Alexandre III's lavish decoration - Travel France \n",
       "Online](https://www.travelfranceonline.com/pont-alexandre-iiis-lavish-decoration/)\n",
       "The Pont Alexandre III is the widest and lowest bridge in Paris; it indeed measures 154 meters in length and 40 \n",
       "meters in width. Pont Alexandre III, a masterpiece of metal architecture\n",
       "\n",
       "[Pont Alexandre III - Seine](https://seine.com/bridges/pont-alexandre-iii.php)\n",
       "The Pont Alexandre III is known for its stunning design, which features ornate Art Nouveau decorations, sculptures,\n",
       "and lamp posts. The bridge is 160 meters long and has a single span that is supported by two massive pillars \n",
       "decorated with golden statues of Pegasus, the winged horse of Greek mythology.\n",
       "\n",
       "[Pont Alexandre III - Paris](https://www.paris.si/pont-alexandre-iii/)\n",
       "The Pont Alexandre III ranks as the most exuberant bridge in the whole of Paris. With its many lampshade \n",
       "decorations, the bridge lights up at night, providing a captivating sight when darkness falls.\n",
       "\n",
       "[Pont Alexandre Iii (EN) - TravelMate - \n",
       "MyWoWo](https://travelmate.tech/en/france/paris/invalides/building/pont-alexandre-iii)\n",
       "The Alexander III Bridge is one of the most famous bridges in Paris. It was built between 1896 and 1900 and spans \n",
       "the Seine River, connecting the Esplanade des Invalides with the Avenue des Champs-Élysées. It is known for its \n",
       "exquisite and elegant architectural style, which combines elements of classical architecture with Art Nouveau \n",
       "decoration. The bridge is adorned with numerous statues ...\n",
       "\n",
       "Out: None\n",
       "</pre>\n"
      ],
      "text/plain": [
       "\u001b[1mExecution logs:\u001b[0m\n",
       "Pont Alexandre III length: ## Search Results\n",
       "\n",
       "[Pont Alexandre III - Wikipedia](https://en.wikipedia.org/wiki/Pont_Alexandre_III)\n",
       "The Pont Alexandre III (French pronunciation: [pɔ̃ alɛksɑ̃dʁ tʁwa]) is a deck arch bridge that spans the Seine in \n",
       "Paris. It connects the Champs-Élysées quarter with those of the Invalides and Eiffel Tower.\n",
       "\n",
       "[The Pont Alexandre III is the most beautiful bridge in \n",
       "Paris.](https://monsieur-de-france.com/en/bridge-pont-alexandre-iii-paris-france)\n",
       "The Alexandre III Bridge in figures The Alexandre III Bridge at sunrise / Photo chosen by Monsieurdefrance.com: \n",
       "Manjik via dépositphotos. The bridge is 152 meters long in total, but the arch is 107 meters long and 45 meters \n",
       "wide. It is made of cast steel and rests on two enormous \"abutments\" that withstand the pressure exerted by the \n",
       "arch.\n",
       "\n",
       "[10 Fun Facts About The Pont Alexandre III](https://art-facts.com/facts-about-the-pont-alexandre-iii/)\n",
       "1. The bridge spans the River Seine The Pont Alexandre III (\"pont\" means \"bridge in French) spans the famous River \n",
       "Seine in Paris. It's one of the most famous bridges in the city and is located in a very important area. It \n",
       "connects the neighborhood of the Champs-Élysées, the most famous avenue in the city, and the neighborhood where we \n",
       "can find two other famous landmarks, Les ...\n",
       "\n",
       "[17 Famous Bridges in France: Architectural Time Travel - Salut from \n",
       "Paris](https://www.salutfromparis.com/famous-bridges-in-france/)\n",
       "Its slender design offers minimal obstruction to the view, making a journey across it an unforgettable experience. \n",
       "The Millau Viaduct not only symbolizes architectural and engineering prowess but also human ingenuity, representing\n",
       "the pinnacle of famous bridges in France. #2 Pont Alexandre III, Paris (built in 1900, 160m length)\n",
       "\n",
       "[Pont Alexandre III, Paris, France - \n",
       "LatLong](https://www.latlong.net/place/pont-alexandre-iii-paris-france-32915.html)\n",
       "Pont Alexandre III, Paris, France Lat Long Coordinates Info The latitude of Pont Alexandre III, Paris, France is \n",
       "48.863869, and the longitude is 2.313427. Pont Alexandre III, Paris, France is located at France country in the \n",
       "Bridges place category with the gps coordinates of 48° 51' 49.9284'' N and 2° 18' 48.3372'' E.\n",
       "\n",
       "[Pont Alexandre III - Come to \n",
       "Paris](https://www.cometoparis.com/paris-guide/paris-monuments/pont-alexandre-iii-s951)\n",
       "The inscription reads 'On April 14th 1900, Emile Loubet, President of the French Republic, opened the Exposition \n",
       "Universelle and inaugurated the Pont Alexandre III'. At 154 metres in length and 45 metres in width, this enormous \n",
       "bridge connects the Esplanade des Invalides to the Avenue Wilson Churchill.\n",
       "\n",
       "[Pont Alexandre III's lavish decoration - Travel France \n",
       "Online](https://www.travelfranceonline.com/pont-alexandre-iiis-lavish-decoration/)\n",
       "The Pont Alexandre III is the widest and lowest bridge in Paris; it indeed measures 154 meters in length and 40 \n",
       "meters in width. Pont Alexandre III, a masterpiece of metal architecture\n",
       "\n",
       "[Pont Alexandre III - Seine](https://seine.com/bridges/pont-alexandre-iii.php)\n",
       "The Pont Alexandre III is known for its stunning design, which features ornate Art Nouveau decorations, sculptures,\n",
       "and lamp posts. The bridge is 160 meters long and has a single span that is supported by two massive pillars \n",
       "decorated with golden statues of Pegasus, the winged horse of Greek mythology.\n",
       "\n",
       "[Pont Alexandre III - Paris](https://www.paris.si/pont-alexandre-iii/)\n",
       "The Pont Alexandre III ranks as the most exuberant bridge in the whole of Paris. With its many lampshade \n",
       "decorations, the bridge lights up at night, providing a captivating sight when darkness falls.\n",
       "\n",
       "[Pont Alexandre Iii (EN) - TravelMate - \n",
       "MyWoWo](https://travelmate.tech/en/france/paris/invalides/building/pont-alexandre-iii)\n",
       "The Alexander III Bridge is one of the most famous bridges in Paris. It was built between 1896 and 1900 and spans \n",
       "the Seine River, connecting the Esplanade des Invalides with the Avenue des Champs-Élysées. It is known for its \n",
       "exquisite and elegant architectural style, which combines elements of classical architecture with Art Nouveau \n",
       "decoration. The bridge is adorned with numerous statues ...\n",
       "\n",
       "Out: None\n"
      ]
     },
     "metadata": {},
     "output_type": "display_data"
    },
    {
     "data": {
      "text/html": [
       "<pre style=\"white-space:pre;overflow-x:auto;line-height:normal;font-family:Menlo,'DejaVu Sans Mono',consolas,'Courier New',monospace\"><span style=\"color: #7f7f7f; text-decoration-color: #7f7f7f\">[Step 0: Duration 7.88 seconds| Input tokens: 2,090 | Output tokens: 118]</span>\n",
       "</pre>\n"
      ],
      "text/plain": [
       "\u001b[2m[Step 0: Duration 7.88 seconds| Input tokens: 2,090 | Output tokens: 118]\u001b[0m\n"
      ]
     },
     "metadata": {},
     "output_type": "display_data"
    },
    {
     "data": {
      "text/html": [
       "<pre style=\"white-space:pre;overflow-x:auto;line-height:normal;font-family:Menlo,'DejaVu Sans Mono',consolas,'Courier New',monospace\">────────────────────────────────────────────────── <span style=\"font-weight: bold\">Updated plan</span> ───────────────────────────────────────────────────\n",
       "I still need to solve the task I was given:\n",
       "```\n",
       "How long would a cheetah at full speed take to run the length of Pont Alexandre III?\n",
       "```\n",
       "\n",
       "Here is my new/updated plan of action to solve the task:\n",
       "```\n",
       "1. Search for the average maximum speed of a cheetah to determine how fast it can run.\n",
       "2. Calculate the time it takes for a cheetah to run the length of the Pont Alexandre III using the formula: time = \n",
       "distance/speed, where distance is 154 meters and speed is the maximum speed of a cheetah.\n",
       "3. Present the calculated time as the final answer.\n",
       "\n",
       "\n",
       "```\n",
       "</pre>\n"
      ],
      "text/plain": [
       "────────────────────────────────────────────────── \u001b[1mUpdated plan\u001b[0m ───────────────────────────────────────────────────\n",
       "I still need to solve the task I was given:\n",
       "```\n",
       "How long would a cheetah at full speed take to run the length of Pont Alexandre III?\n",
       "```\n",
       "\n",
       "Here is my new/updated plan of action to solve the task:\n",
       "```\n",
       "1. Search for the average maximum speed of a cheetah to determine how fast it can run.\n",
       "2. Calculate the time it takes for a cheetah to run the length of the Pont Alexandre III using the formula: time = \n",
       "distance/speed, where distance is 154 meters and speed is the maximum speed of a cheetah.\n",
       "3. Present the calculated time as the final answer.\n",
       "\n",
       "\n",
       "```\n"
      ]
     },
     "metadata": {},
     "output_type": "display_data"
    },
    {
     "data": {
      "text/html": [
       "<pre style=\"white-space:pre;overflow-x:auto;line-height:normal;font-family:Menlo,'DejaVu Sans Mono',consolas,'Courier New',monospace\"><span style=\"color: #d4b702; text-decoration-color: #d4b702\">━━━━━━━━━━━━━━━━━━━━━━━━━━━━━━━━━━━━━━━━━━━━━━━━━━━━━ </span><span style=\"font-weight: bold\">Step </span><span style=\"color: #008080; text-decoration-color: #008080; font-weight: bold\">2</span><span style=\"color: #d4b702; text-decoration-color: #d4b702\"> ━━━━━━━━━━━━━━━━━━━━━━━━━━━━━━━━━━━━━━━━━━━━━━━━━━━━━━</span>\n",
       "</pre>\n"
      ],
      "text/plain": [
       "\u001b[38;2;212;183;2m━━━━━━━━━━━━━━━━━━━━━━━━━━━━━━━━━━━━━━━━━━━━━━━━━━━━━ \u001b[0m\u001b[1mStep \u001b[0m\u001b[1;36m2\u001b[0m\u001b[38;2;212;183;2m ━━━━━━━━━━━━━━━━━━━━━━━━━━━━━━━━━━━━━━━━━━━━━━━━━━━━━━\u001b[0m\n"
      ]
     },
     "metadata": {},
     "output_type": "display_data"
    },
    {
     "data": {
      "text/html": [
       "<pre style=\"white-space:pre;overflow-x:auto;line-height:normal;font-family:Menlo,'DejaVu Sans Mono',consolas,'Courier New',monospace\"> ─ <span style=\"font-weight: bold\">Executing parsed code:</span> ──────────────────────────────────────────────────────────────────────────────────────── \n",
       "  <span style=\"color: #f8f8f2; text-decoration-color: #f8f8f2; background-color: #272822\">cheetah_speed_search </span><span style=\"color: #ff4689; text-decoration-color: #ff4689; background-color: #272822\">=</span><span style=\"color: #f8f8f2; text-decoration-color: #f8f8f2; background-color: #272822\"> web_search(query</span><span style=\"color: #ff4689; text-decoration-color: #ff4689; background-color: #272822\">=</span><span style=\"color: #e6db74; text-decoration-color: #e6db74; background-color: #272822\">\"average speed of a cheetah\"</span><span style=\"color: #f8f8f2; text-decoration-color: #f8f8f2; background-color: #272822\">)</span><span style=\"background-color: #272822\">                                          </span>  \n",
       "  <span style=\"color: #f8f8f2; text-decoration-color: #f8f8f2; background-color: #272822\">print(</span><span style=\"color: #e6db74; text-decoration-color: #e6db74; background-color: #272822\">\"Average speed of a cheetah:\"</span><span style=\"color: #f8f8f2; text-decoration-color: #f8f8f2; background-color: #272822\">, cheetah_speed_search)</span><span style=\"background-color: #272822\">                                                     </span>  \n",
       " ───────────────────────────────────────────────────────────────────────────────────────────────────────────────── \n",
       "</pre>\n"
      ],
      "text/plain": [
       " ─ \u001b[1mExecuting parsed code:\u001b[0m ──────────────────────────────────────────────────────────────────────────────────────── \n",
       "  \u001b[38;2;248;248;242;48;2;39;40;34mcheetah_speed_search\u001b[0m\u001b[38;2;248;248;242;48;2;39;40;34m \u001b[0m\u001b[38;2;255;70;137;48;2;39;40;34m=\u001b[0m\u001b[38;2;248;248;242;48;2;39;40;34m \u001b[0m\u001b[38;2;248;248;242;48;2;39;40;34mweb_search\u001b[0m\u001b[38;2;248;248;242;48;2;39;40;34m(\u001b[0m\u001b[38;2;248;248;242;48;2;39;40;34mquery\u001b[0m\u001b[38;2;255;70;137;48;2;39;40;34m=\u001b[0m\u001b[38;2;230;219;116;48;2;39;40;34m\"\u001b[0m\u001b[38;2;230;219;116;48;2;39;40;34maverage speed of a cheetah\u001b[0m\u001b[38;2;230;219;116;48;2;39;40;34m\"\u001b[0m\u001b[38;2;248;248;242;48;2;39;40;34m)\u001b[0m\u001b[48;2;39;40;34m                                          \u001b[0m  \n",
       "  \u001b[38;2;248;248;242;48;2;39;40;34mprint\u001b[0m\u001b[38;2;248;248;242;48;2;39;40;34m(\u001b[0m\u001b[38;2;230;219;116;48;2;39;40;34m\"\u001b[0m\u001b[38;2;230;219;116;48;2;39;40;34mAverage speed of a cheetah:\u001b[0m\u001b[38;2;230;219;116;48;2;39;40;34m\"\u001b[0m\u001b[38;2;248;248;242;48;2;39;40;34m,\u001b[0m\u001b[38;2;248;248;242;48;2;39;40;34m \u001b[0m\u001b[38;2;248;248;242;48;2;39;40;34mcheetah_speed_search\u001b[0m\u001b[38;2;248;248;242;48;2;39;40;34m)\u001b[0m\u001b[48;2;39;40;34m                                                     \u001b[0m  \n",
       " ───────────────────────────────────────────────────────────────────────────────────────────────────────────────── \n"
      ]
     },
     "metadata": {},
     "output_type": "display_data"
    },
    {
     "data": {
      "text/html": [
       "<pre style=\"white-space:pre;overflow-x:auto;line-height:normal;font-family:Menlo,'DejaVu Sans Mono',consolas,'Courier New',monospace\"><span style=\"font-weight: bold\">Execution logs:</span>\n",
       "Average speed of a cheetah: ## Search Results\n",
       "\n",
       "[How Fast Can a Cheetah Run? - ThoughtCo](https://www.thoughtco.com/how-fast-can-a-cheetah-run-4587031)\n",
       "While a cheetah's top speed ranges from 65 to 75 mph (104 to 120 km/h), its average speed is only 40 mph (64 \n",
       "km/hr), punctuated by short bursts at its top speed. In addition to speed, a cheetah attains high acceleration. It \n",
       "can reach a speed of 47 mph (75 km/hr) in two seconds, or go from zero to 60 mph in 3 seconds and three strides.\n",
       "\n",
       "[Cheetah - Wikipedia](https://en.wikipedia.org/wiki/Cheetah)\n",
       "The cheetah (Acinonyx jubatus) is a large cat and the fastest land animal. It has a tawny to creamy white or pale \n",
       "buff fur that is marked with evenly spaced, solid black spots. ... their run was interspersed with a few short \n",
       "bursts of a few seconds when they attained peak speeds. The average speed recorded during the high speed phase was \n",
       "53.64 ...\n",
       "\n",
       "[How Fast Can a Cheetah Run? Top Speed, 6 Unique Features](https://storyteller.travel/how-fast-can-a-cheetah-run/)\n",
       "Cheetahs average speed is just 40 mph (64 km/h) but can quickly accelerate to its top speed. Fastest Cheetah \n",
       "Recorded. The fastest recorded speed was by a cheetah named Sarah. Sarah the cheetah was recorded doing a top speed\n",
       "of 61 mph (98 km/h) during a 100-meter dash while living at the Cincinnati Zoo in Ohio. Sadly, Sarah passed away in\n",
       "...\n",
       "\n",
       "[Cheetah | Smithsonian's National Zoo and Conservation Biology \n",
       "Institute](https://nationalzoo.si.edu/animals/cheetah)\n",
       "Built for speed, the cheetah can accelerate from zero to 45 in just 2.5 seconds and reach top speeds of 60 to 70 \n",
       "mph, making it the fastest land mammal! ... Cub mortality is high in both the wild and captivity. On average 30 \n",
       "percent of all cubs born in human care die within one month of birth, and in Tanzania's Serengeti National Park, \n",
       "about 90 ...\n",
       "\n",
       "[What makes a cheetah run so fast? | HowStuffWorks](https://animals.howstuffworks.com/mammals/cheetah-speed.htm)\n",
       "The cheetah is the fastest land animal, achieving a top speed of about 70 mph (113 kph) [sources: Blue Lion, \n",
       "Defenders of Wildlife].This incredible speed comes with a price, though -- a cheetah is a rather puny large cat. \n",
       "(It looks a lot like a leopard, but you can tell a cheetah by the bilateral, teardrop-shaped stripes running from \n",
       "either side of its nose to its eyes.)\n",
       "\n",
       "[How fast is a cheetah? - Tsavo Trust](https://tsavotrust.org/how-fast-is-a-cheetah/)\n",
       "The recorded average speed, timed with a handheld stopwatch, stood at an impressive 63.7 mph or 102.5 km/h. Years \n",
       "later, in 2015, Sarah, a cheetah living at the Cincinnati Zoo, clocked in at 61 mph or 98.2 km/h over a 100-meter \n",
       "stretch. Although impressive, neither of these officially recorded speeds are quite as fast as the 120 km/h claimed\n",
       "by ...\n",
       "\n",
       "[How fast can a cheetah run? 22 fastest animals \n",
       "ranked](https://www.runwithcaroline.com/how-fast-can-a-cheetah-run/)\n",
       "The average speeds for humans in the table below are based on runners aged between 20-40 and calculated using the \n",
       "average running speed per mile in a 5k. Human/animal: Running speed (mph) Fastest man ... With its small head, \n",
       "flattened rib cage and long, lean legs, the cheetah is made for speed with its aerodynamic features. The cheetah \n",
       "has an ...\n",
       "\n",
       "[How Fast Does A Cheetah Run? - Sciencing](https://www.sciencing.com/how-fast-does-cheetah-run-4577113/)\n",
       "The record for the fastest cheetah sprint time on Earth belongs to a cheetah named Sarah who lives at the \n",
       "Cincinnati Zoo. She ran 100 meters in 5.95 seconds in 2015, which beat her old record of 100 meters in 6.13 \n",
       "seconds. This converts to ~61 mph, which is the average speed of a car on a freeway.\n",
       "\n",
       "[Speed of a Cheetah - The Physics Factbook - The Physics \n",
       "Hypertextbook](https://hypertextbook.com/facts/1999/AlexSchuster.shtml)\n",
       "\"The cheetah is capable of speed up to 72 mph (114 km/h) and can maintain this speed over an average prey chase of \n",
       "3.5 miles.\" 32 m/s: The cheetah (Acinonyx jubatus) is one of the fastest mammals found in the animal kingdom today.\n",
       "I have searched through many books and other references to find that the maximum speed of a cheetah is documented \n",
       "...\n",
       "\n",
       "[How fast does a cheetah run? The science of a cheetah's \n",
       "speed](https://africafreak.com/how-fast-does-a-cheetah-run)\n",
       "The top speed of a mature cheetah is around 120 kph (roughly 75 mph). It takes a lot of energy to run this fast, so\n",
       "sprinting isn't a regular part of a cheetah's day.. How fast can a cheetah run in a minute? A cheetah can reach 120\n",
       "km/h in a minute. With its slender body and fast-twitch muscle fibers, the cheetah accelerates at 10 meters per \n",
       "second squared.\n",
       "\n",
       "Out: None\n",
       "</pre>\n"
      ],
      "text/plain": [
       "\u001b[1mExecution logs:\u001b[0m\n",
       "Average speed of a cheetah: ## Search Results\n",
       "\n",
       "[How Fast Can a Cheetah Run? - ThoughtCo](https://www.thoughtco.com/how-fast-can-a-cheetah-run-4587031)\n",
       "While a cheetah's top speed ranges from 65 to 75 mph (104 to 120 km/h), its average speed is only 40 mph (64 \n",
       "km/hr), punctuated by short bursts at its top speed. In addition to speed, a cheetah attains high acceleration. It \n",
       "can reach a speed of 47 mph (75 km/hr) in two seconds, or go from zero to 60 mph in 3 seconds and three strides.\n",
       "\n",
       "[Cheetah - Wikipedia](https://en.wikipedia.org/wiki/Cheetah)\n",
       "The cheetah (Acinonyx jubatus) is a large cat and the fastest land animal. It has a tawny to creamy white or pale \n",
       "buff fur that is marked with evenly spaced, solid black spots. ... their run was interspersed with a few short \n",
       "bursts of a few seconds when they attained peak speeds. The average speed recorded during the high speed phase was \n",
       "53.64 ...\n",
       "\n",
       "[How Fast Can a Cheetah Run? Top Speed, 6 Unique Features](https://storyteller.travel/how-fast-can-a-cheetah-run/)\n",
       "Cheetahs average speed is just 40 mph (64 km/h) but can quickly accelerate to its top speed. Fastest Cheetah \n",
       "Recorded. The fastest recorded speed was by a cheetah named Sarah. Sarah the cheetah was recorded doing a top speed\n",
       "of 61 mph (98 km/h) during a 100-meter dash while living at the Cincinnati Zoo in Ohio. Sadly, Sarah passed away in\n",
       "...\n",
       "\n",
       "[Cheetah | Smithsonian's National Zoo and Conservation Biology \n",
       "Institute](https://nationalzoo.si.edu/animals/cheetah)\n",
       "Built for speed, the cheetah can accelerate from zero to 45 in just 2.5 seconds and reach top speeds of 60 to 70 \n",
       "mph, making it the fastest land mammal! ... Cub mortality is high in both the wild and captivity. On average 30 \n",
       "percent of all cubs born in human care die within one month of birth, and in Tanzania's Serengeti National Park, \n",
       "about 90 ...\n",
       "\n",
       "[What makes a cheetah run so fast? | HowStuffWorks](https://animals.howstuffworks.com/mammals/cheetah-speed.htm)\n",
       "The cheetah is the fastest land animal, achieving a top speed of about 70 mph (113 kph) [sources: Blue Lion, \n",
       "Defenders of Wildlife].This incredible speed comes with a price, though -- a cheetah is a rather puny large cat. \n",
       "(It looks a lot like a leopard, but you can tell a cheetah by the bilateral, teardrop-shaped stripes running from \n",
       "either side of its nose to its eyes.)\n",
       "\n",
       "[How fast is a cheetah? - Tsavo Trust](https://tsavotrust.org/how-fast-is-a-cheetah/)\n",
       "The recorded average speed, timed with a handheld stopwatch, stood at an impressive 63.7 mph or 102.5 km/h. Years \n",
       "later, in 2015, Sarah, a cheetah living at the Cincinnati Zoo, clocked in at 61 mph or 98.2 km/h over a 100-meter \n",
       "stretch. Although impressive, neither of these officially recorded speeds are quite as fast as the 120 km/h claimed\n",
       "by ...\n",
       "\n",
       "[How fast can a cheetah run? 22 fastest animals \n",
       "ranked](https://www.runwithcaroline.com/how-fast-can-a-cheetah-run/)\n",
       "The average speeds for humans in the table below are based on runners aged between 20-40 and calculated using the \n",
       "average running speed per mile in a 5k. Human/animal: Running speed (mph) Fastest man ... With its small head, \n",
       "flattened rib cage and long, lean legs, the cheetah is made for speed with its aerodynamic features. The cheetah \n",
       "has an ...\n",
       "\n",
       "[How Fast Does A Cheetah Run? - Sciencing](https://www.sciencing.com/how-fast-does-cheetah-run-4577113/)\n",
       "The record for the fastest cheetah sprint time on Earth belongs to a cheetah named Sarah who lives at the \n",
       "Cincinnati Zoo. She ran 100 meters in 5.95 seconds in 2015, which beat her old record of 100 meters in 6.13 \n",
       "seconds. This converts to ~61 mph, which is the average speed of a car on a freeway.\n",
       "\n",
       "[Speed of a Cheetah - The Physics Factbook - The Physics \n",
       "Hypertextbook](https://hypertextbook.com/facts/1999/AlexSchuster.shtml)\n",
       "\"The cheetah is capable of speed up to 72 mph (114 km/h) and can maintain this speed over an average prey chase of \n",
       "3.5 miles.\" 32 m/s: The cheetah (Acinonyx jubatus) is one of the fastest mammals found in the animal kingdom today.\n",
       "I have searched through many books and other references to find that the maximum speed of a cheetah is documented \n",
       "...\n",
       "\n",
       "[How fast does a cheetah run? The science of a cheetah's \n",
       "speed](https://africafreak.com/how-fast-does-a-cheetah-run)\n",
       "The top speed of a mature cheetah is around 120 kph (roughly 75 mph). It takes a lot of energy to run this fast, so\n",
       "sprinting isn't a regular part of a cheetah's day.. How fast can a cheetah run in a minute? A cheetah can reach 120\n",
       "km/h in a minute. With its slender body and fast-twitch muscle fibers, the cheetah accelerates at 10 meters per \n",
       "second squared.\n",
       "\n",
       "Out: None\n"
      ]
     },
     "metadata": {},
     "output_type": "display_data"
    },
    {
     "data": {
      "text/html": [
       "<pre style=\"white-space:pre;overflow-x:auto;line-height:normal;font-family:Menlo,'DejaVu Sans Mono',consolas,'Courier New',monospace\"><span style=\"color: #7f7f7f; text-decoration-color: #7f7f7f\">[Step 1: Duration 15.84 seconds| Input tokens: 5,628 | Output tokens: 203]</span>\n",
       "</pre>\n"
      ],
      "text/plain": [
       "\u001b[2m[Step 1: Duration 15.84 seconds| Input tokens: 5,628 | Output tokens: 203]\u001b[0m\n"
      ]
     },
     "metadata": {},
     "output_type": "display_data"
    },
    {
     "data": {
      "text/html": [
       "<pre style=\"white-space:pre;overflow-x:auto;line-height:normal;font-family:Menlo,'DejaVu Sans Mono',consolas,'Courier New',monospace\"><span style=\"color: #d4b702; text-decoration-color: #d4b702\">━━━━━━━━━━━━━━━━━━━━━━━━━━━━━━━━━━━━━━━━━━━━━━━━━━━━━ </span><span style=\"font-weight: bold\">Step </span><span style=\"color: #008080; text-decoration-color: #008080; font-weight: bold\">3</span><span style=\"color: #d4b702; text-decoration-color: #d4b702\"> ━━━━━━━━━━━━━━━━━━━━━━━━━━━━━━━━━━━━━━━━━━━━━━━━━━━━━━</span>\n",
       "</pre>\n"
      ],
      "text/plain": [
       "\u001b[38;2;212;183;2m━━━━━━━━━━━━━━━━━━━━━━━━━━━━━━━━━━━━━━━━━━━━━━━━━━━━━ \u001b[0m\u001b[1mStep \u001b[0m\u001b[1;36m3\u001b[0m\u001b[38;2;212;183;2m ━━━━━━━━━━━━━━━━━━━━━━━━━━━━━━━━━━━━━━━━━━━━━━━━━━━━━━\u001b[0m\n"
      ]
     },
     "metadata": {},
     "output_type": "display_data"
    },
    {
     "data": {
      "text/html": [
       "<pre style=\"white-space:pre;overflow-x:auto;line-height:normal;font-family:Menlo,'DejaVu Sans Mono',consolas,'Courier New',monospace\"> ─ <span style=\"font-weight: bold\">Executing parsed code:</span> ──────────────────────────────────────────────────────────────────────────────────────── \n",
       "  <span style=\"color: #959077; text-decoration-color: #959077; background-color: #272822\">### 1. Facts given in the task</span><span style=\"background-color: #272822\">                                                                                 </span>  \n",
       "  <span style=\"color: #ff4689; text-decoration-color: #ff4689; background-color: #272822\">-</span><span style=\"color: #f8f8f2; text-decoration-color: #f8f8f2; background-color: #272822\"> A cheetah at full speed needs to be timed to run the length of the Pont Alexandre III</span><span style=\"color: #ff4689; text-decoration-color: #ff4689; background-color: #272822\">.</span><span style=\"background-color: #272822\">                       </span>  \n",
       "  <span style=\"background-color: #272822\">                                                                                                               </span>  \n",
       "  <span style=\"color: #959077; text-decoration-color: #959077; background-color: #272822\">### 2. Facts that we have learned</span><span style=\"background-color: #272822\">                                                                              </span>  \n",
       "  <span style=\"color: #ff4689; text-decoration-color: #ff4689; background-color: #272822\">-</span><span style=\"color: #f8f8f2; text-decoration-color: #f8f8f2; background-color: #272822\"> The length of Pont Alexandre III </span><span style=\"color: #ff4689; text-decoration-color: #ff4689; background-color: #272822\">is</span><span style=\"color: #f8f8f2; text-decoration-color: #f8f8f2; background-color: #272822\"> approximately </span><span style=\"color: #ae81ff; text-decoration-color: #ae81ff; background-color: #272822\">154</span><span style=\"color: #f8f8f2; text-decoration-color: #f8f8f2; background-color: #272822\"> meters</span><span style=\"color: #ff4689; text-decoration-color: #ff4689; background-color: #272822\">.</span><span style=\"background-color: #272822\">                                                </span>  \n",
       "  <span style=\"color: #ff4689; text-decoration-color: #ff4689; background-color: #272822\">-</span><span style=\"color: #f8f8f2; text-decoration-color: #f8f8f2; background-color: #272822\"> Cheetahs have an average speed of approximately </span><span style=\"color: #ae81ff; text-decoration-color: #ae81ff; background-color: #272822\">40</span><span style=\"color: #f8f8f2; text-decoration-color: #f8f8f2; background-color: #272822\"> mph (</span><span style=\"color: #ae81ff; text-decoration-color: #ae81ff; background-color: #272822\">64</span><span style=\"color: #f8f8f2; text-decoration-color: #f8f8f2; background-color: #272822\"> km</span><span style=\"color: #ff4689; text-decoration-color: #ff4689; background-color: #272822\">/</span><span style=\"color: #f8f8f2; text-decoration-color: #f8f8f2; background-color: #272822\">h), but they can achieve maximum speeds ranging</span>  \n",
       "  <span style=\"color: #ff4689; text-decoration-color: #ff4689; background-color: #272822\">from</span><span style=\"color: #f8f8f2; text-decoration-color: #f8f8f2; background-color: #272822\"> </span><span style=\"color: #ae81ff; text-decoration-color: #ae81ff; background-color: #272822\">65</span><span style=\"color: #f8f8f2; text-decoration-color: #f8f8f2; background-color: #272822\"> to </span><span style=\"color: #ae81ff; text-decoration-color: #ae81ff; background-color: #272822\">75</span><span style=\"color: #f8f8f2; text-decoration-color: #f8f8f2; background-color: #272822\"> mph (</span><span style=\"color: #ae81ff; text-decoration-color: #ae81ff; background-color: #272822\">104</span><span style=\"color: #f8f8f2; text-decoration-color: #f8f8f2; background-color: #272822\"> to </span><span style=\"color: #ae81ff; text-decoration-color: #ae81ff; background-color: #272822\">120</span><span style=\"color: #f8f8f2; text-decoration-color: #f8f8f2; background-color: #272822\"> km</span><span style=\"color: #ff4689; text-decoration-color: #ff4689; background-color: #272822\">/</span><span style=\"color: #f8f8f2; text-decoration-color: #f8f8f2; background-color: #272822\">h)</span><span style=\"color: #ff4689; text-decoration-color: #ff4689; background-color: #272822\">.</span><span style=\"background-color: #272822\">                                                                           </span>  \n",
       "  <span style=\"background-color: #272822\">                                                                                                               </span>  \n",
       "  <span style=\"color: #959077; text-decoration-color: #959077; background-color: #272822\">### 3. Facts still to derive</span><span style=\"background-color: #272822\">                                                                                   </span>  \n",
       "  <span style=\"color: #ff4689; text-decoration-color: #ff4689; background-color: #272822\">-</span><span style=\"color: #f8f8f2; text-decoration-color: #f8f8f2; background-color: #272822\"> The exact speed I will use </span><span style=\"color: #66d9ef; text-decoration-color: #66d9ef; background-color: #272822\">for</span><span style=\"color: #f8f8f2; text-decoration-color: #f8f8f2; background-color: #272822\"> calculating the time</span><span style=\"color: #ff4689; text-decoration-color: #ff4689; background-color: #272822\">.</span><span style=\"color: #f8f8f2; text-decoration-color: #f8f8f2; background-color: #272822\"> For the sake of this calculation, I will use the average</span>  \n",
       "  <span style=\"color: #f8f8f2; text-decoration-color: #f8f8f2; background-color: #272822\">maximum speed of a cheetah which </span><span style=\"color: #ff4689; text-decoration-color: #ff4689; background-color: #272822\">is</span><span style=\"color: #f8f8f2; text-decoration-color: #f8f8f2; background-color: #272822\"> commonly accepted </span><span style=\"color: #66d9ef; text-decoration-color: #66d9ef; background-color: #272822\">as</span><span style=\"color: #f8f8f2; text-decoration-color: #f8f8f2; background-color: #272822\"> about </span><span style=\"color: #ae81ff; text-decoration-color: #ae81ff; background-color: #272822\">75</span><span style=\"color: #f8f8f2; text-decoration-color: #f8f8f2; background-color: #272822\"> mph (</span><span style=\"color: #ae81ff; text-decoration-color: #ae81ff; background-color: #272822\">120</span><span style=\"color: #f8f8f2; text-decoration-color: #f8f8f2; background-color: #272822\"> km</span><span style=\"color: #ff4689; text-decoration-color: #ff4689; background-color: #272822\">/</span><span style=\"color: #f8f8f2; text-decoration-color: #f8f8f2; background-color: #272822\">h)</span><span style=\"color: #ff4689; text-decoration-color: #ff4689; background-color: #272822\">.</span><span style=\"background-color: #272822\">                              </span>  \n",
       "  <span style=\"background-color: #272822\">                                                                                                               </span>  \n",
       "  <span style=\"color: #959077; text-decoration-color: #959077; background-color: #272822\">### 4. Facts to further calculate</span><span style=\"background-color: #272822\">                                                                              </span>  \n",
       "  <span style=\"color: #ff4689; text-decoration-color: #ff4689; background-color: #272822\">-</span><span style=\"color: #f8f8f2; text-decoration-color: #f8f8f2; background-color: #272822\"> The time it would take </span><span style=\"color: #66d9ef; text-decoration-color: #66d9ef; background-color: #272822\">for</span><span style=\"color: #f8f8f2; text-decoration-color: #f8f8f2; background-color: #272822\"> a cheetah to run the length of Pont Alexandre III using the formula: time </span><span style=\"color: #ff4689; text-decoration-color: #ff4689; background-color: #272822\">=</span><span style=\"color: #f8f8f2; text-decoration-color: #f8f8f2; background-color: #272822\"> </span><span style=\"background-color: #272822\">      </span>  \n",
       "  <span style=\"color: #f8f8f2; text-decoration-color: #f8f8f2; background-color: #272822\">distance</span><span style=\"color: #ff4689; text-decoration-color: #ff4689; background-color: #272822\">/</span><span style=\"color: #f8f8f2; text-decoration-color: #f8f8f2; background-color: #272822\">speed, where distance </span><span style=\"color: #ff4689; text-decoration-color: #ff4689; background-color: #272822\">is</span><span style=\"color: #f8f8f2; text-decoration-color: #f8f8f2; background-color: #272822\"> </span><span style=\"color: #ae81ff; text-decoration-color: #ae81ff; background-color: #272822\">154</span><span style=\"color: #f8f8f2; text-decoration-color: #f8f8f2; background-color: #272822\"> meters </span><span style=\"color: #ff4689; text-decoration-color: #ff4689; background-color: #272822\">and</span><span style=\"color: #f8f8f2; text-decoration-color: #f8f8f2; background-color: #272822\"> speed </span><span style=\"color: #ff4689; text-decoration-color: #ff4689; background-color: #272822\">is</span><span style=\"color: #f8f8f2; text-decoration-color: #f8f8f2; background-color: #272822\"> </span><span style=\"color: #ae81ff; text-decoration-color: #ae81ff; background-color: #272822\">75</span><span style=\"color: #f8f8f2; text-decoration-color: #f8f8f2; background-color: #272822\"> mph (</span><span style=\"color: #ae81ff; text-decoration-color: #ae81ff; background-color: #272822\">120</span><span style=\"color: #f8f8f2; text-decoration-color: #f8f8f2; background-color: #272822\"> km</span><span style=\"color: #ff4689; text-decoration-color: #ff4689; background-color: #272822\">/</span><span style=\"color: #f8f8f2; text-decoration-color: #f8f8f2; background-color: #272822\">h </span><span style=\"color: #ff4689; text-decoration-color: #ff4689; background-color: #272822\">or</span><span style=\"color: #f8f8f2; text-decoration-color: #f8f8f2; background-color: #272822\"> </span><span style=\"color: #ae81ff; text-decoration-color: #ae81ff; background-color: #272822\">33.33</span><span style=\"color: #f8f8f2; text-decoration-color: #f8f8f2; background-color: #272822\"> m</span><span style=\"color: #ff4689; text-decoration-color: #ff4689; background-color: #272822\">/</span><span style=\"color: #f8f8f2; text-decoration-color: #f8f8f2; background-color: #272822\">s)</span><span style=\"color: #ff4689; text-decoration-color: #ff4689; background-color: #272822\">.</span><span style=\"background-color: #272822\">                      </span>  \n",
       "  <span style=\"background-color: #272822\">                                                                                                               </span>  \n",
       "  <span style=\"color: #f8f8f2; text-decoration-color: #f8f8f2; background-color: #272822\">pont_length_meters </span><span style=\"color: #ff4689; text-decoration-color: #ff4689; background-color: #272822\">=</span><span style=\"color: #f8f8f2; text-decoration-color: #f8f8f2; background-color: #272822\"> </span><span style=\"color: #ae81ff; text-decoration-color: #ae81ff; background-color: #272822\">154</span><span style=\"color: #f8f8f2; text-decoration-color: #f8f8f2; background-color: #272822\">  </span><span style=\"color: #959077; text-decoration-color: #959077; background-color: #272822\"># Pont Alexandre III length in meters</span><span style=\"background-color: #272822\">                                                </span>  \n",
       "  <span style=\"color: #f8f8f2; text-decoration-color: #f8f8f2; background-color: #272822\">cheetah_speed_mps </span><span style=\"color: #ff4689; text-decoration-color: #ff4689; background-color: #272822\">=</span><span style=\"color: #f8f8f2; text-decoration-color: #f8f8f2; background-color: #272822\"> </span><span style=\"color: #ae81ff; text-decoration-color: #ae81ff; background-color: #272822\">75</span><span style=\"color: #f8f8f2; text-decoration-color: #f8f8f2; background-color: #272822\"> </span><span style=\"color: #ff4689; text-decoration-color: #ff4689; background-color: #272822\">*</span><span style=\"color: #f8f8f2; text-decoration-color: #f8f8f2; background-color: #272822\"> </span><span style=\"color: #ae81ff; text-decoration-color: #ae81ff; background-color: #272822\">0.44704</span><span style=\"color: #f8f8f2; text-decoration-color: #f8f8f2; background-color: #272822\">  </span><span style=\"color: #959077; text-decoration-color: #959077; background-color: #272822\"># Convert 75 mph to meters per second</span><span style=\"background-color: #272822\">                                        </span>  \n",
       "  <span style=\"color: #f8f8f2; text-decoration-color: #f8f8f2; background-color: #272822\">time_taken_seconds </span><span style=\"color: #ff4689; text-decoration-color: #ff4689; background-color: #272822\">=</span><span style=\"color: #f8f8f2; text-decoration-color: #f8f8f2; background-color: #272822\"> pont_length_meters </span><span style=\"color: #ff4689; text-decoration-color: #ff4689; background-color: #272822\">/</span><span style=\"color: #f8f8f2; text-decoration-color: #f8f8f2; background-color: #272822\"> cheetah_speed_mps</span><span style=\"background-color: #272822\">                                                    </span>  \n",
       "  <span style=\"color: #f8f8f2; text-decoration-color: #f8f8f2; background-color: #272822\">print(</span><span style=\"color: #e6db74; text-decoration-color: #e6db74; background-color: #272822\">\"Time taken for a cheetah to run the length of Pont Alexandre III:\"</span><span style=\"color: #f8f8f2; text-decoration-color: #f8f8f2; background-color: #272822\">, time_taken_seconds)</span><span style=\"background-color: #272822\">                 </span>  \n",
       " ───────────────────────────────────────────────────────────────────────────────────────────────────────────────── \n",
       "</pre>\n"
      ],
      "text/plain": [
       " ─ \u001b[1mExecuting parsed code:\u001b[0m ──────────────────────────────────────────────────────────────────────────────────────── \n",
       "  \u001b[38;2;149;144;119;48;2;39;40;34m### 1. Facts given in the task\u001b[0m\u001b[48;2;39;40;34m                                                                                 \u001b[0m  \n",
       "  \u001b[38;2;255;70;137;48;2;39;40;34m-\u001b[0m\u001b[38;2;248;248;242;48;2;39;40;34m \u001b[0m\u001b[38;2;248;248;242;48;2;39;40;34mA\u001b[0m\u001b[38;2;248;248;242;48;2;39;40;34m \u001b[0m\u001b[38;2;248;248;242;48;2;39;40;34mcheetah\u001b[0m\u001b[38;2;248;248;242;48;2;39;40;34m \u001b[0m\u001b[38;2;248;248;242;48;2;39;40;34mat\u001b[0m\u001b[38;2;248;248;242;48;2;39;40;34m \u001b[0m\u001b[38;2;248;248;242;48;2;39;40;34mfull\u001b[0m\u001b[38;2;248;248;242;48;2;39;40;34m \u001b[0m\u001b[38;2;248;248;242;48;2;39;40;34mspeed\u001b[0m\u001b[38;2;248;248;242;48;2;39;40;34m \u001b[0m\u001b[38;2;248;248;242;48;2;39;40;34mneeds\u001b[0m\u001b[38;2;248;248;242;48;2;39;40;34m \u001b[0m\u001b[38;2;248;248;242;48;2;39;40;34mto\u001b[0m\u001b[38;2;248;248;242;48;2;39;40;34m \u001b[0m\u001b[38;2;248;248;242;48;2;39;40;34mbe\u001b[0m\u001b[38;2;248;248;242;48;2;39;40;34m \u001b[0m\u001b[38;2;248;248;242;48;2;39;40;34mtimed\u001b[0m\u001b[38;2;248;248;242;48;2;39;40;34m \u001b[0m\u001b[38;2;248;248;242;48;2;39;40;34mto\u001b[0m\u001b[38;2;248;248;242;48;2;39;40;34m \u001b[0m\u001b[38;2;248;248;242;48;2;39;40;34mrun\u001b[0m\u001b[38;2;248;248;242;48;2;39;40;34m \u001b[0m\u001b[38;2;248;248;242;48;2;39;40;34mthe\u001b[0m\u001b[38;2;248;248;242;48;2;39;40;34m \u001b[0m\u001b[38;2;248;248;242;48;2;39;40;34mlength\u001b[0m\u001b[38;2;248;248;242;48;2;39;40;34m \u001b[0m\u001b[38;2;248;248;242;48;2;39;40;34mof\u001b[0m\u001b[38;2;248;248;242;48;2;39;40;34m \u001b[0m\u001b[38;2;248;248;242;48;2;39;40;34mthe\u001b[0m\u001b[38;2;248;248;242;48;2;39;40;34m \u001b[0m\u001b[38;2;248;248;242;48;2;39;40;34mPont\u001b[0m\u001b[38;2;248;248;242;48;2;39;40;34m \u001b[0m\u001b[38;2;248;248;242;48;2;39;40;34mAlexandre\u001b[0m\u001b[38;2;248;248;242;48;2;39;40;34m \u001b[0m\u001b[38;2;248;248;242;48;2;39;40;34mIII\u001b[0m\u001b[38;2;255;70;137;48;2;39;40;34m.\u001b[0m\u001b[48;2;39;40;34m                       \u001b[0m  \n",
       "  \u001b[48;2;39;40;34m                                                                                                               \u001b[0m  \n",
       "  \u001b[38;2;149;144;119;48;2;39;40;34m### 2. Facts that we have learned\u001b[0m\u001b[48;2;39;40;34m                                                                              \u001b[0m  \n",
       "  \u001b[38;2;255;70;137;48;2;39;40;34m-\u001b[0m\u001b[38;2;248;248;242;48;2;39;40;34m \u001b[0m\u001b[38;2;248;248;242;48;2;39;40;34mThe\u001b[0m\u001b[38;2;248;248;242;48;2;39;40;34m \u001b[0m\u001b[38;2;248;248;242;48;2;39;40;34mlength\u001b[0m\u001b[38;2;248;248;242;48;2;39;40;34m \u001b[0m\u001b[38;2;248;248;242;48;2;39;40;34mof\u001b[0m\u001b[38;2;248;248;242;48;2;39;40;34m \u001b[0m\u001b[38;2;248;248;242;48;2;39;40;34mPont\u001b[0m\u001b[38;2;248;248;242;48;2;39;40;34m \u001b[0m\u001b[38;2;248;248;242;48;2;39;40;34mAlexandre\u001b[0m\u001b[38;2;248;248;242;48;2;39;40;34m \u001b[0m\u001b[38;2;248;248;242;48;2;39;40;34mIII\u001b[0m\u001b[38;2;248;248;242;48;2;39;40;34m \u001b[0m\u001b[38;2;255;70;137;48;2;39;40;34mis\u001b[0m\u001b[38;2;248;248;242;48;2;39;40;34m \u001b[0m\u001b[38;2;248;248;242;48;2;39;40;34mapproximately\u001b[0m\u001b[38;2;248;248;242;48;2;39;40;34m \u001b[0m\u001b[38;2;174;129;255;48;2;39;40;34m154\u001b[0m\u001b[38;2;248;248;242;48;2;39;40;34m \u001b[0m\u001b[38;2;248;248;242;48;2;39;40;34mmeters\u001b[0m\u001b[38;2;255;70;137;48;2;39;40;34m.\u001b[0m\u001b[48;2;39;40;34m                                                \u001b[0m  \n",
       "  \u001b[38;2;255;70;137;48;2;39;40;34m-\u001b[0m\u001b[38;2;248;248;242;48;2;39;40;34m \u001b[0m\u001b[38;2;248;248;242;48;2;39;40;34mCheetahs\u001b[0m\u001b[38;2;248;248;242;48;2;39;40;34m \u001b[0m\u001b[38;2;248;248;242;48;2;39;40;34mhave\u001b[0m\u001b[38;2;248;248;242;48;2;39;40;34m \u001b[0m\u001b[38;2;248;248;242;48;2;39;40;34man\u001b[0m\u001b[38;2;248;248;242;48;2;39;40;34m \u001b[0m\u001b[38;2;248;248;242;48;2;39;40;34maverage\u001b[0m\u001b[38;2;248;248;242;48;2;39;40;34m \u001b[0m\u001b[38;2;248;248;242;48;2;39;40;34mspeed\u001b[0m\u001b[38;2;248;248;242;48;2;39;40;34m \u001b[0m\u001b[38;2;248;248;242;48;2;39;40;34mof\u001b[0m\u001b[38;2;248;248;242;48;2;39;40;34m \u001b[0m\u001b[38;2;248;248;242;48;2;39;40;34mapproximately\u001b[0m\u001b[38;2;248;248;242;48;2;39;40;34m \u001b[0m\u001b[38;2;174;129;255;48;2;39;40;34m40\u001b[0m\u001b[38;2;248;248;242;48;2;39;40;34m \u001b[0m\u001b[38;2;248;248;242;48;2;39;40;34mmph\u001b[0m\u001b[38;2;248;248;242;48;2;39;40;34m \u001b[0m\u001b[38;2;248;248;242;48;2;39;40;34m(\u001b[0m\u001b[38;2;174;129;255;48;2;39;40;34m64\u001b[0m\u001b[38;2;248;248;242;48;2;39;40;34m \u001b[0m\u001b[38;2;248;248;242;48;2;39;40;34mkm\u001b[0m\u001b[38;2;255;70;137;48;2;39;40;34m/\u001b[0m\u001b[38;2;248;248;242;48;2;39;40;34mh\u001b[0m\u001b[38;2;248;248;242;48;2;39;40;34m)\u001b[0m\u001b[38;2;248;248;242;48;2;39;40;34m,\u001b[0m\u001b[38;2;248;248;242;48;2;39;40;34m \u001b[0m\u001b[38;2;248;248;242;48;2;39;40;34mbut\u001b[0m\u001b[38;2;248;248;242;48;2;39;40;34m \u001b[0m\u001b[38;2;248;248;242;48;2;39;40;34mthey\u001b[0m\u001b[38;2;248;248;242;48;2;39;40;34m \u001b[0m\u001b[38;2;248;248;242;48;2;39;40;34mcan\u001b[0m\u001b[38;2;248;248;242;48;2;39;40;34m \u001b[0m\u001b[38;2;248;248;242;48;2;39;40;34machieve\u001b[0m\u001b[38;2;248;248;242;48;2;39;40;34m \u001b[0m\u001b[38;2;248;248;242;48;2;39;40;34mmaximum\u001b[0m\u001b[38;2;248;248;242;48;2;39;40;34m \u001b[0m\u001b[38;2;248;248;242;48;2;39;40;34mspeeds\u001b[0m\u001b[38;2;248;248;242;48;2;39;40;34m \u001b[0m\u001b[38;2;248;248;242;48;2;39;40;34mranging\u001b[0m  \n",
       "  \u001b[38;2;255;70;137;48;2;39;40;34mfrom\u001b[0m\u001b[38;2;248;248;242;48;2;39;40;34m \u001b[0m\u001b[38;2;174;129;255;48;2;39;40;34m65\u001b[0m\u001b[38;2;248;248;242;48;2;39;40;34m \u001b[0m\u001b[38;2;248;248;242;48;2;39;40;34mto\u001b[0m\u001b[38;2;248;248;242;48;2;39;40;34m \u001b[0m\u001b[38;2;174;129;255;48;2;39;40;34m75\u001b[0m\u001b[38;2;248;248;242;48;2;39;40;34m \u001b[0m\u001b[38;2;248;248;242;48;2;39;40;34mmph\u001b[0m\u001b[38;2;248;248;242;48;2;39;40;34m \u001b[0m\u001b[38;2;248;248;242;48;2;39;40;34m(\u001b[0m\u001b[38;2;174;129;255;48;2;39;40;34m104\u001b[0m\u001b[38;2;248;248;242;48;2;39;40;34m \u001b[0m\u001b[38;2;248;248;242;48;2;39;40;34mto\u001b[0m\u001b[38;2;248;248;242;48;2;39;40;34m \u001b[0m\u001b[38;2;174;129;255;48;2;39;40;34m120\u001b[0m\u001b[38;2;248;248;242;48;2;39;40;34m \u001b[0m\u001b[38;2;248;248;242;48;2;39;40;34mkm\u001b[0m\u001b[38;2;255;70;137;48;2;39;40;34m/\u001b[0m\u001b[38;2;248;248;242;48;2;39;40;34mh\u001b[0m\u001b[38;2;248;248;242;48;2;39;40;34m)\u001b[0m\u001b[38;2;255;70;137;48;2;39;40;34m.\u001b[0m\u001b[48;2;39;40;34m                                                                           \u001b[0m  \n",
       "  \u001b[48;2;39;40;34m                                                                                                               \u001b[0m  \n",
       "  \u001b[38;2;149;144;119;48;2;39;40;34m### 3. Facts still to derive\u001b[0m\u001b[48;2;39;40;34m                                                                                   \u001b[0m  \n",
       "  \u001b[38;2;255;70;137;48;2;39;40;34m-\u001b[0m\u001b[38;2;248;248;242;48;2;39;40;34m \u001b[0m\u001b[38;2;248;248;242;48;2;39;40;34mThe\u001b[0m\u001b[38;2;248;248;242;48;2;39;40;34m \u001b[0m\u001b[38;2;248;248;242;48;2;39;40;34mexact\u001b[0m\u001b[38;2;248;248;242;48;2;39;40;34m \u001b[0m\u001b[38;2;248;248;242;48;2;39;40;34mspeed\u001b[0m\u001b[38;2;248;248;242;48;2;39;40;34m \u001b[0m\u001b[38;2;248;248;242;48;2;39;40;34mI\u001b[0m\u001b[38;2;248;248;242;48;2;39;40;34m \u001b[0m\u001b[38;2;248;248;242;48;2;39;40;34mwill\u001b[0m\u001b[38;2;248;248;242;48;2;39;40;34m \u001b[0m\u001b[38;2;248;248;242;48;2;39;40;34muse\u001b[0m\u001b[38;2;248;248;242;48;2;39;40;34m \u001b[0m\u001b[38;2;102;217;239;48;2;39;40;34mfor\u001b[0m\u001b[38;2;248;248;242;48;2;39;40;34m \u001b[0m\u001b[38;2;248;248;242;48;2;39;40;34mcalculating\u001b[0m\u001b[38;2;248;248;242;48;2;39;40;34m \u001b[0m\u001b[38;2;248;248;242;48;2;39;40;34mthe\u001b[0m\u001b[38;2;248;248;242;48;2;39;40;34m \u001b[0m\u001b[38;2;248;248;242;48;2;39;40;34mtime\u001b[0m\u001b[38;2;255;70;137;48;2;39;40;34m.\u001b[0m\u001b[38;2;248;248;242;48;2;39;40;34m \u001b[0m\u001b[38;2;248;248;242;48;2;39;40;34mFor\u001b[0m\u001b[38;2;248;248;242;48;2;39;40;34m \u001b[0m\u001b[38;2;248;248;242;48;2;39;40;34mthe\u001b[0m\u001b[38;2;248;248;242;48;2;39;40;34m \u001b[0m\u001b[38;2;248;248;242;48;2;39;40;34msake\u001b[0m\u001b[38;2;248;248;242;48;2;39;40;34m \u001b[0m\u001b[38;2;248;248;242;48;2;39;40;34mof\u001b[0m\u001b[38;2;248;248;242;48;2;39;40;34m \u001b[0m\u001b[38;2;248;248;242;48;2;39;40;34mthis\u001b[0m\u001b[38;2;248;248;242;48;2;39;40;34m \u001b[0m\u001b[38;2;248;248;242;48;2;39;40;34mcalculation\u001b[0m\u001b[38;2;248;248;242;48;2;39;40;34m,\u001b[0m\u001b[38;2;248;248;242;48;2;39;40;34m \u001b[0m\u001b[38;2;248;248;242;48;2;39;40;34mI\u001b[0m\u001b[38;2;248;248;242;48;2;39;40;34m \u001b[0m\u001b[38;2;248;248;242;48;2;39;40;34mwill\u001b[0m\u001b[38;2;248;248;242;48;2;39;40;34m \u001b[0m\u001b[38;2;248;248;242;48;2;39;40;34muse\u001b[0m\u001b[38;2;248;248;242;48;2;39;40;34m \u001b[0m\u001b[38;2;248;248;242;48;2;39;40;34mthe\u001b[0m\u001b[38;2;248;248;242;48;2;39;40;34m \u001b[0m\u001b[38;2;248;248;242;48;2;39;40;34maverage\u001b[0m  \n",
       "  \u001b[38;2;248;248;242;48;2;39;40;34mmaximum\u001b[0m\u001b[38;2;248;248;242;48;2;39;40;34m \u001b[0m\u001b[38;2;248;248;242;48;2;39;40;34mspeed\u001b[0m\u001b[38;2;248;248;242;48;2;39;40;34m \u001b[0m\u001b[38;2;248;248;242;48;2;39;40;34mof\u001b[0m\u001b[38;2;248;248;242;48;2;39;40;34m \u001b[0m\u001b[38;2;248;248;242;48;2;39;40;34ma\u001b[0m\u001b[38;2;248;248;242;48;2;39;40;34m \u001b[0m\u001b[38;2;248;248;242;48;2;39;40;34mcheetah\u001b[0m\u001b[38;2;248;248;242;48;2;39;40;34m \u001b[0m\u001b[38;2;248;248;242;48;2;39;40;34mwhich\u001b[0m\u001b[38;2;248;248;242;48;2;39;40;34m \u001b[0m\u001b[38;2;255;70;137;48;2;39;40;34mis\u001b[0m\u001b[38;2;248;248;242;48;2;39;40;34m \u001b[0m\u001b[38;2;248;248;242;48;2;39;40;34mcommonly\u001b[0m\u001b[38;2;248;248;242;48;2;39;40;34m \u001b[0m\u001b[38;2;248;248;242;48;2;39;40;34maccepted\u001b[0m\u001b[38;2;248;248;242;48;2;39;40;34m \u001b[0m\u001b[38;2;102;217;239;48;2;39;40;34mas\u001b[0m\u001b[38;2;248;248;242;48;2;39;40;34m \u001b[0m\u001b[38;2;248;248;242;48;2;39;40;34mabout\u001b[0m\u001b[38;2;248;248;242;48;2;39;40;34m \u001b[0m\u001b[38;2;174;129;255;48;2;39;40;34m75\u001b[0m\u001b[38;2;248;248;242;48;2;39;40;34m \u001b[0m\u001b[38;2;248;248;242;48;2;39;40;34mmph\u001b[0m\u001b[38;2;248;248;242;48;2;39;40;34m \u001b[0m\u001b[38;2;248;248;242;48;2;39;40;34m(\u001b[0m\u001b[38;2;174;129;255;48;2;39;40;34m120\u001b[0m\u001b[38;2;248;248;242;48;2;39;40;34m \u001b[0m\u001b[38;2;248;248;242;48;2;39;40;34mkm\u001b[0m\u001b[38;2;255;70;137;48;2;39;40;34m/\u001b[0m\u001b[38;2;248;248;242;48;2;39;40;34mh\u001b[0m\u001b[38;2;248;248;242;48;2;39;40;34m)\u001b[0m\u001b[38;2;255;70;137;48;2;39;40;34m.\u001b[0m\u001b[48;2;39;40;34m                              \u001b[0m  \n",
       "  \u001b[48;2;39;40;34m                                                                                                               \u001b[0m  \n",
       "  \u001b[38;2;149;144;119;48;2;39;40;34m### 4. Facts to further calculate\u001b[0m\u001b[48;2;39;40;34m                                                                              \u001b[0m  \n",
       "  \u001b[38;2;255;70;137;48;2;39;40;34m-\u001b[0m\u001b[38;2;248;248;242;48;2;39;40;34m \u001b[0m\u001b[38;2;248;248;242;48;2;39;40;34mThe\u001b[0m\u001b[38;2;248;248;242;48;2;39;40;34m \u001b[0m\u001b[38;2;248;248;242;48;2;39;40;34mtime\u001b[0m\u001b[38;2;248;248;242;48;2;39;40;34m \u001b[0m\u001b[38;2;248;248;242;48;2;39;40;34mit\u001b[0m\u001b[38;2;248;248;242;48;2;39;40;34m \u001b[0m\u001b[38;2;248;248;242;48;2;39;40;34mwould\u001b[0m\u001b[38;2;248;248;242;48;2;39;40;34m \u001b[0m\u001b[38;2;248;248;242;48;2;39;40;34mtake\u001b[0m\u001b[38;2;248;248;242;48;2;39;40;34m \u001b[0m\u001b[38;2;102;217;239;48;2;39;40;34mfor\u001b[0m\u001b[38;2;248;248;242;48;2;39;40;34m \u001b[0m\u001b[38;2;248;248;242;48;2;39;40;34ma\u001b[0m\u001b[38;2;248;248;242;48;2;39;40;34m \u001b[0m\u001b[38;2;248;248;242;48;2;39;40;34mcheetah\u001b[0m\u001b[38;2;248;248;242;48;2;39;40;34m \u001b[0m\u001b[38;2;248;248;242;48;2;39;40;34mto\u001b[0m\u001b[38;2;248;248;242;48;2;39;40;34m \u001b[0m\u001b[38;2;248;248;242;48;2;39;40;34mrun\u001b[0m\u001b[38;2;248;248;242;48;2;39;40;34m \u001b[0m\u001b[38;2;248;248;242;48;2;39;40;34mthe\u001b[0m\u001b[38;2;248;248;242;48;2;39;40;34m \u001b[0m\u001b[38;2;248;248;242;48;2;39;40;34mlength\u001b[0m\u001b[38;2;248;248;242;48;2;39;40;34m \u001b[0m\u001b[38;2;248;248;242;48;2;39;40;34mof\u001b[0m\u001b[38;2;248;248;242;48;2;39;40;34m \u001b[0m\u001b[38;2;248;248;242;48;2;39;40;34mPont\u001b[0m\u001b[38;2;248;248;242;48;2;39;40;34m \u001b[0m\u001b[38;2;248;248;242;48;2;39;40;34mAlexandre\u001b[0m\u001b[38;2;248;248;242;48;2;39;40;34m \u001b[0m\u001b[38;2;248;248;242;48;2;39;40;34mIII\u001b[0m\u001b[38;2;248;248;242;48;2;39;40;34m \u001b[0m\u001b[38;2;248;248;242;48;2;39;40;34musing\u001b[0m\u001b[38;2;248;248;242;48;2;39;40;34m \u001b[0m\u001b[38;2;248;248;242;48;2;39;40;34mthe\u001b[0m\u001b[38;2;248;248;242;48;2;39;40;34m \u001b[0m\u001b[38;2;248;248;242;48;2;39;40;34mformula\u001b[0m\u001b[38;2;248;248;242;48;2;39;40;34m:\u001b[0m\u001b[38;2;248;248;242;48;2;39;40;34m \u001b[0m\u001b[38;2;248;248;242;48;2;39;40;34mtime\u001b[0m\u001b[38;2;248;248;242;48;2;39;40;34m \u001b[0m\u001b[38;2;255;70;137;48;2;39;40;34m=\u001b[0m\u001b[38;2;248;248;242;48;2;39;40;34m \u001b[0m\u001b[48;2;39;40;34m      \u001b[0m  \n",
       "  \u001b[38;2;248;248;242;48;2;39;40;34mdistance\u001b[0m\u001b[38;2;255;70;137;48;2;39;40;34m/\u001b[0m\u001b[38;2;248;248;242;48;2;39;40;34mspeed\u001b[0m\u001b[38;2;248;248;242;48;2;39;40;34m,\u001b[0m\u001b[38;2;248;248;242;48;2;39;40;34m \u001b[0m\u001b[38;2;248;248;242;48;2;39;40;34mwhere\u001b[0m\u001b[38;2;248;248;242;48;2;39;40;34m \u001b[0m\u001b[38;2;248;248;242;48;2;39;40;34mdistance\u001b[0m\u001b[38;2;248;248;242;48;2;39;40;34m \u001b[0m\u001b[38;2;255;70;137;48;2;39;40;34mis\u001b[0m\u001b[38;2;248;248;242;48;2;39;40;34m \u001b[0m\u001b[38;2;174;129;255;48;2;39;40;34m154\u001b[0m\u001b[38;2;248;248;242;48;2;39;40;34m \u001b[0m\u001b[38;2;248;248;242;48;2;39;40;34mmeters\u001b[0m\u001b[38;2;248;248;242;48;2;39;40;34m \u001b[0m\u001b[38;2;255;70;137;48;2;39;40;34mand\u001b[0m\u001b[38;2;248;248;242;48;2;39;40;34m \u001b[0m\u001b[38;2;248;248;242;48;2;39;40;34mspeed\u001b[0m\u001b[38;2;248;248;242;48;2;39;40;34m \u001b[0m\u001b[38;2;255;70;137;48;2;39;40;34mis\u001b[0m\u001b[38;2;248;248;242;48;2;39;40;34m \u001b[0m\u001b[38;2;174;129;255;48;2;39;40;34m75\u001b[0m\u001b[38;2;248;248;242;48;2;39;40;34m \u001b[0m\u001b[38;2;248;248;242;48;2;39;40;34mmph\u001b[0m\u001b[38;2;248;248;242;48;2;39;40;34m \u001b[0m\u001b[38;2;248;248;242;48;2;39;40;34m(\u001b[0m\u001b[38;2;174;129;255;48;2;39;40;34m120\u001b[0m\u001b[38;2;248;248;242;48;2;39;40;34m \u001b[0m\u001b[38;2;248;248;242;48;2;39;40;34mkm\u001b[0m\u001b[38;2;255;70;137;48;2;39;40;34m/\u001b[0m\u001b[38;2;248;248;242;48;2;39;40;34mh\u001b[0m\u001b[38;2;248;248;242;48;2;39;40;34m \u001b[0m\u001b[38;2;255;70;137;48;2;39;40;34mor\u001b[0m\u001b[38;2;248;248;242;48;2;39;40;34m \u001b[0m\u001b[38;2;174;129;255;48;2;39;40;34m33.33\u001b[0m\u001b[38;2;248;248;242;48;2;39;40;34m \u001b[0m\u001b[38;2;248;248;242;48;2;39;40;34mm\u001b[0m\u001b[38;2;255;70;137;48;2;39;40;34m/\u001b[0m\u001b[38;2;248;248;242;48;2;39;40;34ms\u001b[0m\u001b[38;2;248;248;242;48;2;39;40;34m)\u001b[0m\u001b[38;2;255;70;137;48;2;39;40;34m.\u001b[0m\u001b[48;2;39;40;34m                      \u001b[0m  \n",
       "  \u001b[48;2;39;40;34m                                                                                                               \u001b[0m  \n",
       "  \u001b[38;2;248;248;242;48;2;39;40;34mpont_length_meters\u001b[0m\u001b[38;2;248;248;242;48;2;39;40;34m \u001b[0m\u001b[38;2;255;70;137;48;2;39;40;34m=\u001b[0m\u001b[38;2;248;248;242;48;2;39;40;34m \u001b[0m\u001b[38;2;174;129;255;48;2;39;40;34m154\u001b[0m\u001b[38;2;248;248;242;48;2;39;40;34m  \u001b[0m\u001b[38;2;149;144;119;48;2;39;40;34m# Pont Alexandre III length in meters\u001b[0m\u001b[48;2;39;40;34m                                                \u001b[0m  \n",
       "  \u001b[38;2;248;248;242;48;2;39;40;34mcheetah_speed_mps\u001b[0m\u001b[38;2;248;248;242;48;2;39;40;34m \u001b[0m\u001b[38;2;255;70;137;48;2;39;40;34m=\u001b[0m\u001b[38;2;248;248;242;48;2;39;40;34m \u001b[0m\u001b[38;2;174;129;255;48;2;39;40;34m75\u001b[0m\u001b[38;2;248;248;242;48;2;39;40;34m \u001b[0m\u001b[38;2;255;70;137;48;2;39;40;34m*\u001b[0m\u001b[38;2;248;248;242;48;2;39;40;34m \u001b[0m\u001b[38;2;174;129;255;48;2;39;40;34m0.44704\u001b[0m\u001b[38;2;248;248;242;48;2;39;40;34m  \u001b[0m\u001b[38;2;149;144;119;48;2;39;40;34m# Convert 75 mph to meters per second\u001b[0m\u001b[48;2;39;40;34m                                        \u001b[0m  \n",
       "  \u001b[38;2;248;248;242;48;2;39;40;34mtime_taken_seconds\u001b[0m\u001b[38;2;248;248;242;48;2;39;40;34m \u001b[0m\u001b[38;2;255;70;137;48;2;39;40;34m=\u001b[0m\u001b[38;2;248;248;242;48;2;39;40;34m \u001b[0m\u001b[38;2;248;248;242;48;2;39;40;34mpont_length_meters\u001b[0m\u001b[38;2;248;248;242;48;2;39;40;34m \u001b[0m\u001b[38;2;255;70;137;48;2;39;40;34m/\u001b[0m\u001b[38;2;248;248;242;48;2;39;40;34m \u001b[0m\u001b[38;2;248;248;242;48;2;39;40;34mcheetah_speed_mps\u001b[0m\u001b[48;2;39;40;34m                                                    \u001b[0m  \n",
       "  \u001b[38;2;248;248;242;48;2;39;40;34mprint\u001b[0m\u001b[38;2;248;248;242;48;2;39;40;34m(\u001b[0m\u001b[38;2;230;219;116;48;2;39;40;34m\"\u001b[0m\u001b[38;2;230;219;116;48;2;39;40;34mTime taken for a cheetah to run the length of Pont Alexandre III:\u001b[0m\u001b[38;2;230;219;116;48;2;39;40;34m\"\u001b[0m\u001b[38;2;248;248;242;48;2;39;40;34m,\u001b[0m\u001b[38;2;248;248;242;48;2;39;40;34m \u001b[0m\u001b[38;2;248;248;242;48;2;39;40;34mtime_taken_seconds\u001b[0m\u001b[38;2;248;248;242;48;2;39;40;34m)\u001b[0m\u001b[48;2;39;40;34m                 \u001b[0m  \n",
       " ───────────────────────────────────────────────────────────────────────────────────────────────────────────────── \n"
      ]
     },
     "metadata": {},
     "output_type": "display_data"
    },
    {
     "data": {
      "text/html": [
       "<pre style=\"white-space:pre;overflow-x:auto;line-height:normal;font-family:Menlo,'DejaVu Sans Mono',consolas,'Courier New',monospace\"><span style=\"font-weight: bold\">Execution logs:</span>\n",
       "Average speed of a cheetah: ## Search Results\n",
       "\n",
       "[How Fast Can a Cheetah Run? - ThoughtCo](https://www.thoughtco.com/how-fast-can-a-cheetah-run-4587031)\n",
       "While a cheetah's top speed ranges from 65 to 75 mph (104 to 120 km/h), its average speed is only 40 mph (64 \n",
       "km/hr), punctuated by short bursts at its top speed. In addition to speed, a cheetah attains high acceleration. It \n",
       "can reach a speed of 47 mph (75 km/hr) in two seconds, or go from zero to 60 mph in 3 seconds and three strides.\n",
       "\n",
       "[Cheetah - Wikipedia](https://en.wikipedia.org/wiki/Cheetah)\n",
       "The cheetah (Acinonyx jubatus) is a large cat and the fastest land animal. It has a tawny to creamy white or pale \n",
       "buff fur that is marked with evenly spaced, solid black spots. ... their run was interspersed with a few short \n",
       "bursts of a few seconds when they attained peak speeds. The average speed recorded during the high speed phase was \n",
       "53.64 ...\n",
       "\n",
       "[How Fast Can a Cheetah Run? Top Speed, 6 Unique Features](https://storyteller.travel/how-fast-can-a-cheetah-run/)\n",
       "Cheetahs average speed is just 40 mph (64 km/h) but can quickly accelerate to its top speed. Fastest Cheetah \n",
       "Recorded. The fastest recorded speed was by a cheetah named Sarah. Sarah the cheetah was recorded doing a top speed\n",
       "of 61 mph (98 km/h) during a 100-meter dash while living at the Cincinnati Zoo in Ohio. Sadly, Sarah passed away in\n",
       "...\n",
       "\n",
       "[Cheetah | Smithsonian's National Zoo and Conservation Biology \n",
       "Institute](https://nationalzoo.si.edu/animals/cheetah)\n",
       "Built for speed, the cheetah can accelerate from zero to 45 in just 2.5 seconds and reach top speeds of 60 to 70 \n",
       "mph, making it the fastest land mammal! ... Cub mortality is high in both the wild and captivity. On average 30 \n",
       "percent of all cubs born in human care die within one month of birth, and in Tanzania's Serengeti National Park, \n",
       "about 90 ...\n",
       "\n",
       "[What makes a cheetah run so fast? | HowStuffWorks](https://animals.howstuffworks.com/mammals/cheetah-speed.htm)\n",
       "The cheetah is the fastest land animal, achieving a top speed of about 70 mph (113 kph) [sources: Blue Lion, \n",
       "Defenders of Wildlife].This incredible speed comes with a price, though -- a cheetah is a rather puny large cat. \n",
       "(It looks a lot like a leopard, but you can tell a cheetah by the bilateral, teardrop-shaped stripes running from \n",
       "either side of its nose to its eyes.)\n",
       "\n",
       "[How fast is a cheetah? - Tsavo Trust](https://tsavotrust.org/how-fast-is-a-cheetah/)\n",
       "The recorded average speed, timed with a handheld stopwatch, stood at an impressive 63.7 mph or 102.5 km/h. Years \n",
       "later, in 2015, Sarah, a cheetah living at the Cincinnati Zoo, clocked in at 61 mph or 98.2 km/h over a 100-meter \n",
       "stretch. Although impressive, neither of these officially recorded speeds are quite as fast as the 120 km/h claimed\n",
       "by ...\n",
       "\n",
       "[How fast can a cheetah run? 22 fastest animals \n",
       "ranked](https://www.runwithcaroline.com/how-fast-can-a-cheetah-run/)\n",
       "The average speeds for humans in the table below are based on runners aged between 20-40 and calculated using the \n",
       "average running speed per mile in a 5k. Human/animal: Running speed (mph) Fastest man ... With its small head, \n",
       "flattened rib cage and long, lean legs, the cheetah is made for speed with its aerodynamic features. The cheetah \n",
       "has an ...\n",
       "\n",
       "[How Fast Does A Cheetah Run? - Sciencing](https://www.sciencing.com/how-fast-does-cheetah-run-4577113/)\n",
       "The record for the fastest cheetah sprint time on Earth belongs to a cheetah named Sarah who lives at the \n",
       "Cincinnati Zoo. She ran 100 meters in 5.95 seconds in 2015, which beat her old record of 100 meters in 6.13 \n",
       "seconds. This converts to ~61 mph, which is the average speed of a car on a freeway.\n",
       "\n",
       "[Speed of a Cheetah - The Physics Factbook - The Physics \n",
       "Hypertextbook](https://hypertextbook.com/facts/1999/AlexSchuster.shtml)\n",
       "\"The cheetah is capable of speed up to 72 mph (114 km/h) and can maintain this speed over an average prey chase of \n",
       "3.5 miles.\" 32 m/s: The cheetah (Acinonyx jubatus) is one of the fastest mammals found in the animal kingdom today.\n",
       "I have searched through many books and other references to find that the maximum speed of a cheetah is documented \n",
       "...\n",
       "\n",
       "[How fast does a cheetah run? The science of a cheetah's \n",
       "speed](https://africafreak.com/how-fast-does-a-cheetah-run)\n",
       "The top speed of a mature cheetah is around 120 kph (roughly 75 mph). It takes a lot of energy to run this fast, so\n",
       "sprinting isn't a regular part of a cheetah's day.. How fast can a cheetah run in a minute? A cheetah can reach 120\n",
       "km/h in a minute. With its slender body and fast-twitch muscle fibers, the cheetah accelerates at 10 meters per \n",
       "second squared.\n",
       "\n",
       "</pre>\n"
      ],
      "text/plain": [
       "\u001b[1mExecution logs:\u001b[0m\n",
       "Average speed of a cheetah: ## Search Results\n",
       "\n",
       "[How Fast Can a Cheetah Run? - ThoughtCo](https://www.thoughtco.com/how-fast-can-a-cheetah-run-4587031)\n",
       "While a cheetah's top speed ranges from 65 to 75 mph (104 to 120 km/h), its average speed is only 40 mph (64 \n",
       "km/hr), punctuated by short bursts at its top speed. In addition to speed, a cheetah attains high acceleration. It \n",
       "can reach a speed of 47 mph (75 km/hr) in two seconds, or go from zero to 60 mph in 3 seconds and three strides.\n",
       "\n",
       "[Cheetah - Wikipedia](https://en.wikipedia.org/wiki/Cheetah)\n",
       "The cheetah (Acinonyx jubatus) is a large cat and the fastest land animal. It has a tawny to creamy white or pale \n",
       "buff fur that is marked with evenly spaced, solid black spots. ... their run was interspersed with a few short \n",
       "bursts of a few seconds when they attained peak speeds. The average speed recorded during the high speed phase was \n",
       "53.64 ...\n",
       "\n",
       "[How Fast Can a Cheetah Run? Top Speed, 6 Unique Features](https://storyteller.travel/how-fast-can-a-cheetah-run/)\n",
       "Cheetahs average speed is just 40 mph (64 km/h) but can quickly accelerate to its top speed. Fastest Cheetah \n",
       "Recorded. The fastest recorded speed was by a cheetah named Sarah. Sarah the cheetah was recorded doing a top speed\n",
       "of 61 mph (98 km/h) during a 100-meter dash while living at the Cincinnati Zoo in Ohio. Sadly, Sarah passed away in\n",
       "...\n",
       "\n",
       "[Cheetah | Smithsonian's National Zoo and Conservation Biology \n",
       "Institute](https://nationalzoo.si.edu/animals/cheetah)\n",
       "Built for speed, the cheetah can accelerate from zero to 45 in just 2.5 seconds and reach top speeds of 60 to 70 \n",
       "mph, making it the fastest land mammal! ... Cub mortality is high in both the wild and captivity. On average 30 \n",
       "percent of all cubs born in human care die within one month of birth, and in Tanzania's Serengeti National Park, \n",
       "about 90 ...\n",
       "\n",
       "[What makes a cheetah run so fast? | HowStuffWorks](https://animals.howstuffworks.com/mammals/cheetah-speed.htm)\n",
       "The cheetah is the fastest land animal, achieving a top speed of about 70 mph (113 kph) [sources: Blue Lion, \n",
       "Defenders of Wildlife].This incredible speed comes with a price, though -- a cheetah is a rather puny large cat. \n",
       "(It looks a lot like a leopard, but you can tell a cheetah by the bilateral, teardrop-shaped stripes running from \n",
       "either side of its nose to its eyes.)\n",
       "\n",
       "[How fast is a cheetah? - Tsavo Trust](https://tsavotrust.org/how-fast-is-a-cheetah/)\n",
       "The recorded average speed, timed with a handheld stopwatch, stood at an impressive 63.7 mph or 102.5 km/h. Years \n",
       "later, in 2015, Sarah, a cheetah living at the Cincinnati Zoo, clocked in at 61 mph or 98.2 km/h over a 100-meter \n",
       "stretch. Although impressive, neither of these officially recorded speeds are quite as fast as the 120 km/h claimed\n",
       "by ...\n",
       "\n",
       "[How fast can a cheetah run? 22 fastest animals \n",
       "ranked](https://www.runwithcaroline.com/how-fast-can-a-cheetah-run/)\n",
       "The average speeds for humans in the table below are based on runners aged between 20-40 and calculated using the \n",
       "average running speed per mile in a 5k. Human/animal: Running speed (mph) Fastest man ... With its small head, \n",
       "flattened rib cage and long, lean legs, the cheetah is made for speed with its aerodynamic features. The cheetah \n",
       "has an ...\n",
       "\n",
       "[How Fast Does A Cheetah Run? - Sciencing](https://www.sciencing.com/how-fast-does-cheetah-run-4577113/)\n",
       "The record for the fastest cheetah sprint time on Earth belongs to a cheetah named Sarah who lives at the \n",
       "Cincinnati Zoo. She ran 100 meters in 5.95 seconds in 2015, which beat her old record of 100 meters in 6.13 \n",
       "seconds. This converts to ~61 mph, which is the average speed of a car on a freeway.\n",
       "\n",
       "[Speed of a Cheetah - The Physics Factbook - The Physics \n",
       "Hypertextbook](https://hypertextbook.com/facts/1999/AlexSchuster.shtml)\n",
       "\"The cheetah is capable of speed up to 72 mph (114 km/h) and can maintain this speed over an average prey chase of \n",
       "3.5 miles.\" 32 m/s: The cheetah (Acinonyx jubatus) is one of the fastest mammals found in the animal kingdom today.\n",
       "I have searched through many books and other references to find that the maximum speed of a cheetah is documented \n",
       "...\n",
       "\n",
       "[How fast does a cheetah run? The science of a cheetah's \n",
       "speed](https://africafreak.com/how-fast-does-a-cheetah-run)\n",
       "The top speed of a mature cheetah is around 120 kph (roughly 75 mph). It takes a lot of energy to run this fast, so\n",
       "sprinting isn't a regular part of a cheetah's day.. How fast can a cheetah run in a minute? A cheetah can reach 120\n",
       "km/h in a minute. With its slender body and fast-twitch muscle fibers, the cheetah accelerates at 10 meters per \n",
       "second squared.\n",
       "\n"
      ]
     },
     "metadata": {},
     "output_type": "display_data"
    },
    {
     "data": {
      "text/html": [
       "<pre style=\"white-space:pre;overflow-x:auto;line-height:normal;font-family:Menlo,'DejaVu Sans Mono',consolas,'Courier New',monospace\"><span style=\"color: #800000; text-decoration-color: #800000; font-weight: bold\">Code parsing failed on line </span><span style=\"color: #800000; text-decoration-color: #800000; font-weight: bold\">2</span><span style=\"color: #800000; text-decoration-color: #800000; font-weight: bold\"> due to: SyntaxError</span>\n",
       "<span style=\"color: #800000; text-decoration-color: #800000; font-weight: bold\">- A cheetah at full speed needs to be timed to run the length of the Pont Alexandre III.</span>\n",
       "<span style=\"color: #800000; text-decoration-color: #800000; font-weight: bold\">     ^</span>\n",
       "<span style=\"color: #800000; text-decoration-color: #800000; font-weight: bold\">Error: invalid syntax (&lt;unknown&gt;, line </span><span style=\"color: #800000; text-decoration-color: #800000; font-weight: bold\">2</span><span style=\"color: #800000; text-decoration-color: #800000; font-weight: bold\">)</span>\n",
       "</pre>\n"
      ],
      "text/plain": [
       "\u001b[1;31mCode parsing failed on line \u001b[0m\u001b[1;31m2\u001b[0m\u001b[1;31m due to: SyntaxError\u001b[0m\n",
       "\u001b[1;31m- A cheetah at full speed needs to be timed to run the length of the Pont Alexandre III.\u001b[0m\n",
       "\u001b[1;31m     ^\u001b[0m\n",
       "\u001b[1;31mError: invalid syntax \u001b[0m\u001b[1;31m(\u001b[0m\u001b[1;31m<\u001b[0m\u001b[1;31munknown\u001b[0m\u001b[1;31m>\u001b[0m\u001b[1;31m, line \u001b[0m\u001b[1;31m2\u001b[0m\u001b[1;31m)\u001b[0m\n"
      ]
     },
     "metadata": {},
     "output_type": "display_data"
    },
    {
     "data": {
      "text/html": [
       "<pre style=\"white-space:pre;overflow-x:auto;line-height:normal;font-family:Menlo,'DejaVu Sans Mono',consolas,'Courier New',monospace\"><span style=\"color: #7f7f7f; text-decoration-color: #7f7f7f\">[Step 2: Duration 6.92 seconds| Input tokens: 10,553 | Output tokens: 616]</span>\n",
       "</pre>\n"
      ],
      "text/plain": [
       "\u001b[2m[Step 2: Duration 6.92 seconds| Input tokens: 10,553 | Output tokens: 616]\u001b[0m\n"
      ]
     },
     "metadata": {},
     "output_type": "display_data"
    },
    {
     "data": {
      "text/html": [
       "<pre style=\"white-space:pre;overflow-x:auto;line-height:normal;font-family:Menlo,'DejaVu Sans Mono',consolas,'Courier New',monospace\">────────────────────────────────────────────────── <span style=\"font-weight: bold\">Updated plan</span> ───────────────────────────────────────────────────\n",
       "I still need to solve the task I was given:\n",
       "```\n",
       "How long would a cheetah at full speed take to run the length of Pont Alexandre III?\n",
       "```\n",
       "\n",
       "Here is my new/updated plan of action to solve the task:\n",
       "```\n",
       "1. Define the length of the Pont Alexandre III in meters (154 meters).\n",
       "2. Convert the cheetah's maximum speed of 75 mph to meters per second.\n",
       "3. Use the formula time = distance/speed to calculate the time it takes for the cheetah to run the length of the \n",
       "Pont Alexandre III.\n",
       "4. Provide the calculated time as the final answer.\n",
       "\n",
       "\n",
       "```\n",
       "</pre>\n"
      ],
      "text/plain": [
       "────────────────────────────────────────────────── \u001b[1mUpdated plan\u001b[0m ───────────────────────────────────────────────────\n",
       "I still need to solve the task I was given:\n",
       "```\n",
       "How long would a cheetah at full speed take to run the length of Pont Alexandre III?\n",
       "```\n",
       "\n",
       "Here is my new/updated plan of action to solve the task:\n",
       "```\n",
       "1. Define the length of the Pont Alexandre III in meters (154 meters).\n",
       "2. Convert the cheetah's maximum speed of 75 mph to meters per second.\n",
       "3. Use the formula time = distance/speed to calculate the time it takes for the cheetah to run the length of the \n",
       "Pont Alexandre III.\n",
       "4. Provide the calculated time as the final answer.\n",
       "\n",
       "\n",
       "```\n"
      ]
     },
     "metadata": {},
     "output_type": "display_data"
    },
    {
     "data": {
      "text/html": [
       "<pre style=\"white-space:pre;overflow-x:auto;line-height:normal;font-family:Menlo,'DejaVu Sans Mono',consolas,'Courier New',monospace\"><span style=\"color: #d4b702; text-decoration-color: #d4b702\">━━━━━━━━━━━━━━━━━━━━━━━━━━━━━━━━━━━━━━━━━━━━━━━━━━━━━ </span><span style=\"font-weight: bold\">Step </span><span style=\"color: #008080; text-decoration-color: #008080; font-weight: bold\">4</span><span style=\"color: #d4b702; text-decoration-color: #d4b702\"> ━━━━━━━━━━━━━━━━━━━━━━━━━━━━━━━━━━━━━━━━━━━━━━━━━━━━━━</span>\n",
       "</pre>\n"
      ],
      "text/plain": [
       "\u001b[38;2;212;183;2m━━━━━━━━━━━━━━━━━━━━━━━━━━━━━━━━━━━━━━━━━━━━━━━━━━━━━ \u001b[0m\u001b[1mStep \u001b[0m\u001b[1;36m4\u001b[0m\u001b[38;2;212;183;2m ━━━━━━━━━━━━━━━━━━━━━━━━━━━━━━━━━━━━━━━━━━━━━━━━━━━━━━\u001b[0m\n"
      ]
     },
     "metadata": {},
     "output_type": "display_data"
    },
    {
     "data": {
      "text/html": [
       "<pre style=\"white-space:pre;overflow-x:auto;line-height:normal;font-family:Menlo,'DejaVu Sans Mono',consolas,'Courier New',monospace\"> ─ <span style=\"font-weight: bold\">Executing parsed code:</span> ──────────────────────────────────────────────────────────────────────────────────────── \n",
       "  <span style=\"color: #f8f8f2; text-decoration-color: #f8f8f2; background-color: #272822\">pont_length_meters </span><span style=\"color: #ff4689; text-decoration-color: #ff4689; background-color: #272822\">=</span><span style=\"color: #f8f8f2; text-decoration-color: #f8f8f2; background-color: #272822\"> </span><span style=\"color: #ae81ff; text-decoration-color: #ae81ff; background-color: #272822\">154</span><span style=\"color: #f8f8f2; text-decoration-color: #f8f8f2; background-color: #272822\">  </span><span style=\"color: #959077; text-decoration-color: #959077; background-color: #272822\"># Length of Pont Alexandre III in meters</span><span style=\"background-color: #272822\">                                             </span>  \n",
       "  <span style=\"color: #f8f8f2; text-decoration-color: #f8f8f2; background-color: #272822\">cheetah_speed_mps </span><span style=\"color: #ff4689; text-decoration-color: #ff4689; background-color: #272822\">=</span><span style=\"color: #f8f8f2; text-decoration-color: #f8f8f2; background-color: #272822\"> </span><span style=\"color: #ae81ff; text-decoration-color: #ae81ff; background-color: #272822\">75</span><span style=\"color: #f8f8f2; text-decoration-color: #f8f8f2; background-color: #272822\"> </span><span style=\"color: #ff4689; text-decoration-color: #ff4689; background-color: #272822\">*</span><span style=\"color: #f8f8f2; text-decoration-color: #f8f8f2; background-color: #272822\"> </span><span style=\"color: #ae81ff; text-decoration-color: #ae81ff; background-color: #272822\">0.44704</span><span style=\"color: #f8f8f2; text-decoration-color: #f8f8f2; background-color: #272822\">  </span><span style=\"color: #959077; text-decoration-color: #959077; background-color: #272822\"># Convert 75 mph to meters per second</span><span style=\"background-color: #272822\">                                        </span>  \n",
       "  <span style=\"color: #f8f8f2; text-decoration-color: #f8f8f2; background-color: #272822\">time_taken_seconds </span><span style=\"color: #ff4689; text-decoration-color: #ff4689; background-color: #272822\">=</span><span style=\"color: #f8f8f2; text-decoration-color: #f8f8f2; background-color: #272822\"> pont_length_meters </span><span style=\"color: #ff4689; text-decoration-color: #ff4689; background-color: #272822\">/</span><span style=\"color: #f8f8f2; text-decoration-color: #f8f8f2; background-color: #272822\"> cheetah_speed_mps</span><span style=\"background-color: #272822\">                                                    </span>  \n",
       "  <span style=\"color: #f8f8f2; text-decoration-color: #f8f8f2; background-color: #272822\">final_answer(time_taken_seconds)  </span><span style=\"color: #959077; text-decoration-color: #959077; background-color: #272822\"># Display the final answer</span><span style=\"background-color: #272822\">                                                   </span>  \n",
       " ───────────────────────────────────────────────────────────────────────────────────────────────────────────────── \n",
       "</pre>\n"
      ],
      "text/plain": [
       " ─ \u001b[1mExecuting parsed code:\u001b[0m ──────────────────────────────────────────────────────────────────────────────────────── \n",
       "  \u001b[38;2;248;248;242;48;2;39;40;34mpont_length_meters\u001b[0m\u001b[38;2;248;248;242;48;2;39;40;34m \u001b[0m\u001b[38;2;255;70;137;48;2;39;40;34m=\u001b[0m\u001b[38;2;248;248;242;48;2;39;40;34m \u001b[0m\u001b[38;2;174;129;255;48;2;39;40;34m154\u001b[0m\u001b[38;2;248;248;242;48;2;39;40;34m  \u001b[0m\u001b[38;2;149;144;119;48;2;39;40;34m# Length of Pont Alexandre III in meters\u001b[0m\u001b[48;2;39;40;34m                                             \u001b[0m  \n",
       "  \u001b[38;2;248;248;242;48;2;39;40;34mcheetah_speed_mps\u001b[0m\u001b[38;2;248;248;242;48;2;39;40;34m \u001b[0m\u001b[38;2;255;70;137;48;2;39;40;34m=\u001b[0m\u001b[38;2;248;248;242;48;2;39;40;34m \u001b[0m\u001b[38;2;174;129;255;48;2;39;40;34m75\u001b[0m\u001b[38;2;248;248;242;48;2;39;40;34m \u001b[0m\u001b[38;2;255;70;137;48;2;39;40;34m*\u001b[0m\u001b[38;2;248;248;242;48;2;39;40;34m \u001b[0m\u001b[38;2;174;129;255;48;2;39;40;34m0.44704\u001b[0m\u001b[38;2;248;248;242;48;2;39;40;34m  \u001b[0m\u001b[38;2;149;144;119;48;2;39;40;34m# Convert 75 mph to meters per second\u001b[0m\u001b[48;2;39;40;34m                                        \u001b[0m  \n",
       "  \u001b[38;2;248;248;242;48;2;39;40;34mtime_taken_seconds\u001b[0m\u001b[38;2;248;248;242;48;2;39;40;34m \u001b[0m\u001b[38;2;255;70;137;48;2;39;40;34m=\u001b[0m\u001b[38;2;248;248;242;48;2;39;40;34m \u001b[0m\u001b[38;2;248;248;242;48;2;39;40;34mpont_length_meters\u001b[0m\u001b[38;2;248;248;242;48;2;39;40;34m \u001b[0m\u001b[38;2;255;70;137;48;2;39;40;34m/\u001b[0m\u001b[38;2;248;248;242;48;2;39;40;34m \u001b[0m\u001b[38;2;248;248;242;48;2;39;40;34mcheetah_speed_mps\u001b[0m\u001b[48;2;39;40;34m                                                    \u001b[0m  \n",
       "  \u001b[38;2;248;248;242;48;2;39;40;34mfinal_answer\u001b[0m\u001b[38;2;248;248;242;48;2;39;40;34m(\u001b[0m\u001b[38;2;248;248;242;48;2;39;40;34mtime_taken_seconds\u001b[0m\u001b[38;2;248;248;242;48;2;39;40;34m)\u001b[0m\u001b[38;2;248;248;242;48;2;39;40;34m  \u001b[0m\u001b[38;2;149;144;119;48;2;39;40;34m# Display the final answer\u001b[0m\u001b[48;2;39;40;34m                                                   \u001b[0m  \n",
       " ───────────────────────────────────────────────────────────────────────────────────────────────────────────────── \n"
      ]
     },
     "metadata": {},
     "output_type": "display_data"
    },
    {
     "data": {
      "text/html": [
       "<pre style=\"white-space:pre;overflow-x:auto;line-height:normal;font-family:Menlo,'DejaVu Sans Mono',consolas,'Courier New',monospace\"><span style=\"color: #d4b702; text-decoration-color: #d4b702; font-weight: bold\">Out - Final answer: 4.593175853018373</span>\n",
       "</pre>\n"
      ],
      "text/plain": [
       "\u001b[1;38;2;212;183;2mOut - Final answer: 4.593175853018373\u001b[0m\n"
      ]
     },
     "metadata": {},
     "output_type": "display_data"
    },
    {
     "data": {
      "text/html": [
       "<pre style=\"white-space:pre;overflow-x:auto;line-height:normal;font-family:Menlo,'DejaVu Sans Mono',consolas,'Courier New',monospace\"><span style=\"color: #7f7f7f; text-decoration-color: #7f7f7f\">[Step 3: Duration 11.40 seconds| Input tokens: 18,052 | Output tokens: 694]</span>\n",
       "</pre>\n"
      ],
      "text/plain": [
       "\u001b[2m[Step 3: Duration 11.40 seconds| Input tokens: 18,052 | Output tokens: 694]\u001b[0m\n"
      ]
     },
     "metadata": {},
     "output_type": "display_data"
    },
    {
     "data": {
      "text/plain": [
       "4.593175853018373"
      ]
     },
     "execution_count": 23,
     "metadata": {},
     "output_type": "execute_result"
    }
   ],
   "source": [
    "result = agent.run(\n",
    "    \"How long would a cheetah at full speed take to run the length of Pont Alexandre III?\",\n",
    ")\n",
    "result"
   ]
  },
  {
   "cell_type": "code",
   "execution_count": 26,
   "id": "c1e131fc-0e5f-41a4-8c3c-60d7d64f3f26",
   "metadata": {},
   "outputs": [
    {
     "data": {
      "text/html": [
       "<pre style=\"white-space:pre;overflow-x:auto;line-height:normal;font-family:Menlo,'DejaVu Sans Mono',consolas,'Courier New',monospace\"><span style=\"color: #d4b702; text-decoration-color: #d4b702\">╭──────────────────────────────────────────────────── </span><span style=\"color: #d4b702; text-decoration-color: #d4b702; font-weight: bold\">New run</span><span style=\"color: #d4b702; text-decoration-color: #d4b702\"> ────────────────────────────────────────────────────╮</span>\n",
       "<span style=\"color: #d4b702; text-decoration-color: #d4b702\">│</span>                                                                                                                 <span style=\"color: #d4b702; text-decoration-color: #d4b702\">│</span>\n",
       "<span style=\"color: #d4b702; text-decoration-color: #d4b702\">│</span> <span style=\"font-weight: bold\">How long would it take for a great indian bustard to run the full length of the golden bridge in sanfranciso?</span>   <span style=\"color: #d4b702; text-decoration-color: #d4b702\">│</span>\n",
       "<span style=\"color: #d4b702; text-decoration-color: #d4b702\">│</span>                                                                                                                 <span style=\"color: #d4b702; text-decoration-color: #d4b702\">│</span>\n",
       "<span style=\"color: #d4b702; text-decoration-color: #d4b702\">╰─ OpenAIServerModel - gpt-4o-mini ───────────────────────────────────────────────────────────────────────────────╯</span>\n",
       "</pre>\n"
      ],
      "text/plain": [
       "\u001b[38;2;212;183;2m╭─\u001b[0m\u001b[38;2;212;183;2m───────────────────────────────────────────────────\u001b[0m\u001b[38;2;212;183;2m \u001b[0m\u001b[1;38;2;212;183;2mNew run\u001b[0m\u001b[38;2;212;183;2m \u001b[0m\u001b[38;2;212;183;2m───────────────────────────────────────────────────\u001b[0m\u001b[38;2;212;183;2m─╮\u001b[0m\n",
       "\u001b[38;2;212;183;2m│\u001b[0m                                                                                                                 \u001b[38;2;212;183;2m│\u001b[0m\n",
       "\u001b[38;2;212;183;2m│\u001b[0m \u001b[1mHow long would it take for a great indian bustard to run the full length of the golden bridge in sanfranciso?\u001b[0m   \u001b[38;2;212;183;2m│\u001b[0m\n",
       "\u001b[38;2;212;183;2m│\u001b[0m                                                                                                                 \u001b[38;2;212;183;2m│\u001b[0m\n",
       "\u001b[38;2;212;183;2m╰─\u001b[0m\u001b[38;2;212;183;2m OpenAIServerModel - gpt-4o-mini \u001b[0m\u001b[38;2;212;183;2m──────────────────────────────────────────────────────────────────────────────\u001b[0m\u001b[38;2;212;183;2m─╯\u001b[0m\n"
      ]
     },
     "metadata": {},
     "output_type": "display_data"
    },
    {
     "data": {
      "text/html": [
       "<pre style=\"white-space:pre;overflow-x:auto;line-height:normal;font-family:Menlo,'DejaVu Sans Mono',consolas,'Courier New',monospace\"><span style=\"color: #d4b702; text-decoration-color: #d4b702\">━━━━━━━━━━━━━━━━━━━━━━━━━━━━━━━━━━━━━━━━━━━━━━━━━━━━━ </span><span style=\"font-weight: bold\">Step </span><span style=\"color: #008080; text-decoration-color: #008080; font-weight: bold\">1</span><span style=\"color: #d4b702; text-decoration-color: #d4b702\"> ━━━━━━━━━━━━━━━━━━━━━━━━━━━━━━━━━━━━━━━━━━━━━━━━━━━━━━</span>\n",
       "</pre>\n"
      ],
      "text/plain": [
       "\u001b[38;2;212;183;2m━━━━━━━━━━━━━━━━━━━━━━━━━━━━━━━━━━━━━━━━━━━━━━━━━━━━━ \u001b[0m\u001b[1mStep \u001b[0m\u001b[1;36m1\u001b[0m\u001b[38;2;212;183;2m ━━━━━━━━━━━━━━━━━━━━━━━━━━━━━━━━━━━━━━━━━━━━━━━━━━━━━━\u001b[0m\n"
      ]
     },
     "metadata": {},
     "output_type": "display_data"
    },
    {
     "data": {
      "text/html": [
       "<pre style=\"white-space:pre;overflow-x:auto;line-height:normal;font-family:Menlo,'DejaVu Sans Mono',consolas,'Courier New',monospace\"> ─ <span style=\"font-weight: bold\">Executing parsed code:</span> ──────────────────────────────────────────────────────────────────────────────────────── \n",
       "  <span style=\"color: #f8f8f2; text-decoration-color: #f8f8f2; background-color: #272822\">bridge_length </span><span style=\"color: #ff4689; text-decoration-color: #ff4689; background-color: #272822\">=</span><span style=\"color: #f8f8f2; text-decoration-color: #f8f8f2; background-color: #272822\"> web_search(query</span><span style=\"color: #ff4689; text-decoration-color: #ff4689; background-color: #272822\">=</span><span style=\"color: #e6db74; text-decoration-color: #e6db74; background-color: #272822\">\"length of the Golden Gate Bridge\"</span><span style=\"color: #f8f8f2; text-decoration-color: #f8f8f2; background-color: #272822\">)</span><span style=\"background-color: #272822\">                                           </span>  \n",
       "  <span style=\"color: #f8f8f2; text-decoration-color: #f8f8f2; background-color: #272822\">bustard_speed </span><span style=\"color: #ff4689; text-decoration-color: #ff4689; background-color: #272822\">=</span><span style=\"color: #f8f8f2; text-decoration-color: #f8f8f2; background-color: #272822\"> web_search(query</span><span style=\"color: #ff4689; text-decoration-color: #ff4689; background-color: #272822\">=</span><span style=\"color: #e6db74; text-decoration-color: #e6db74; background-color: #272822\">\"average running speed of great Indian bustard\"</span><span style=\"color: #f8f8f2; text-decoration-color: #f8f8f2; background-color: #272822\">)</span><span style=\"background-color: #272822\">                              </span>  \n",
       "  <span style=\"color: #f8f8f2; text-decoration-color: #f8f8f2; background-color: #272822\">print(</span><span style=\"color: #e6db74; text-decoration-color: #e6db74; background-color: #272822\">\"Bridge length:\"</span><span style=\"color: #f8f8f2; text-decoration-color: #f8f8f2; background-color: #272822\">, bridge_length)</span><span style=\"background-color: #272822\">                                                                         </span>  \n",
       "  <span style=\"color: #f8f8f2; text-decoration-color: #f8f8f2; background-color: #272822\">print(</span><span style=\"color: #e6db74; text-decoration-color: #e6db74; background-color: #272822\">\"Bustard speed:\"</span><span style=\"color: #f8f8f2; text-decoration-color: #f8f8f2; background-color: #272822\">, bustard_speed)</span><span style=\"background-color: #272822\">                                                                         </span>  \n",
       " ───────────────────────────────────────────────────────────────────────────────────────────────────────────────── \n",
       "</pre>\n"
      ],
      "text/plain": [
       " ─ \u001b[1mExecuting parsed code:\u001b[0m ──────────────────────────────────────────────────────────────────────────────────────── \n",
       "  \u001b[38;2;248;248;242;48;2;39;40;34mbridge_length\u001b[0m\u001b[38;2;248;248;242;48;2;39;40;34m \u001b[0m\u001b[38;2;255;70;137;48;2;39;40;34m=\u001b[0m\u001b[38;2;248;248;242;48;2;39;40;34m \u001b[0m\u001b[38;2;248;248;242;48;2;39;40;34mweb_search\u001b[0m\u001b[38;2;248;248;242;48;2;39;40;34m(\u001b[0m\u001b[38;2;248;248;242;48;2;39;40;34mquery\u001b[0m\u001b[38;2;255;70;137;48;2;39;40;34m=\u001b[0m\u001b[38;2;230;219;116;48;2;39;40;34m\"\u001b[0m\u001b[38;2;230;219;116;48;2;39;40;34mlength of the Golden Gate Bridge\u001b[0m\u001b[38;2;230;219;116;48;2;39;40;34m\"\u001b[0m\u001b[38;2;248;248;242;48;2;39;40;34m)\u001b[0m\u001b[48;2;39;40;34m                                           \u001b[0m  \n",
       "  \u001b[38;2;248;248;242;48;2;39;40;34mbustard_speed\u001b[0m\u001b[38;2;248;248;242;48;2;39;40;34m \u001b[0m\u001b[38;2;255;70;137;48;2;39;40;34m=\u001b[0m\u001b[38;2;248;248;242;48;2;39;40;34m \u001b[0m\u001b[38;2;248;248;242;48;2;39;40;34mweb_search\u001b[0m\u001b[38;2;248;248;242;48;2;39;40;34m(\u001b[0m\u001b[38;2;248;248;242;48;2;39;40;34mquery\u001b[0m\u001b[38;2;255;70;137;48;2;39;40;34m=\u001b[0m\u001b[38;2;230;219;116;48;2;39;40;34m\"\u001b[0m\u001b[38;2;230;219;116;48;2;39;40;34maverage running speed of great Indian bustard\u001b[0m\u001b[38;2;230;219;116;48;2;39;40;34m\"\u001b[0m\u001b[38;2;248;248;242;48;2;39;40;34m)\u001b[0m\u001b[48;2;39;40;34m                              \u001b[0m  \n",
       "  \u001b[38;2;248;248;242;48;2;39;40;34mprint\u001b[0m\u001b[38;2;248;248;242;48;2;39;40;34m(\u001b[0m\u001b[38;2;230;219;116;48;2;39;40;34m\"\u001b[0m\u001b[38;2;230;219;116;48;2;39;40;34mBridge length:\u001b[0m\u001b[38;2;230;219;116;48;2;39;40;34m\"\u001b[0m\u001b[38;2;248;248;242;48;2;39;40;34m,\u001b[0m\u001b[38;2;248;248;242;48;2;39;40;34m \u001b[0m\u001b[38;2;248;248;242;48;2;39;40;34mbridge_length\u001b[0m\u001b[38;2;248;248;242;48;2;39;40;34m)\u001b[0m\u001b[48;2;39;40;34m                                                                         \u001b[0m  \n",
       "  \u001b[38;2;248;248;242;48;2;39;40;34mprint\u001b[0m\u001b[38;2;248;248;242;48;2;39;40;34m(\u001b[0m\u001b[38;2;230;219;116;48;2;39;40;34m\"\u001b[0m\u001b[38;2;230;219;116;48;2;39;40;34mBustard speed:\u001b[0m\u001b[38;2;230;219;116;48;2;39;40;34m\"\u001b[0m\u001b[38;2;248;248;242;48;2;39;40;34m,\u001b[0m\u001b[38;2;248;248;242;48;2;39;40;34m \u001b[0m\u001b[38;2;248;248;242;48;2;39;40;34mbustard_speed\u001b[0m\u001b[38;2;248;248;242;48;2;39;40;34m)\u001b[0m\u001b[48;2;39;40;34m                                                                         \u001b[0m  \n",
       " ───────────────────────────────────────────────────────────────────────────────────────────────────────────────── \n"
      ]
     },
     "metadata": {},
     "output_type": "display_data"
    },
    {
     "data": {
      "text/html": [
       "<pre style=\"white-space:pre;overflow-x:auto;line-height:normal;font-family:Menlo,'DejaVu Sans Mono',consolas,'Courier New',monospace\"><span style=\"font-weight: bold\">Execution logs:</span>\n",
       "Bridge length: ## Search Results\n",
       "\n",
       "[Golden Gate Bridge - Wikipedia](https://en.wikipedia.org/wiki/Golden_Gate_Bridge)\n",
       "The Golden Gate Bridge is a suspension bridge spanning the Golden Gate, the one-mile-wide (1.6 km) ... The total \n",
       "length of the Golden Gate Bridge from abutment to abutment is 8,981 feet (2,737 m). [56] The Golden Gate Bridge's \n",
       "clearance above high water averages 220 feet ...\n",
       "\n",
       "[Golden Gate Bridge ‑ Length, Facts &amp; Height | \n",
       "HISTORY](https://www.history.com/topics/landmarks/golden-gate-bridge)\n",
       "The Golden Gate Bridge, opened in 1937, is an iconic suspension bridge connecting the city of San Francisco to \n",
       "Marin County, California. It spans almost two miles across the Golden Gate, the ...\n",
       "\n",
       "[Design &amp; Construction Stats - Statistics &amp; Data | Golden \n",
       "Gate](https://www.goldengate.org/bridge/history-research/statistics-data/design-construction-stats/)\n",
       "Total length of Bridge including approaches from abutment to abutment is 1.7 miles (8,981 ft or 2,737 m). ... The \n",
       "Golden Gate Bridge has 250 pairs of vertical suspender ropes that are spaced 50 feet apart across both sides of the\n",
       "Bridge. Each suspender rope is 2-11/16 inches in diameter. All of the ropes were replaced between 1972 and 1976 ...\n",
       "\n",
       "[Golden Gate Bridge | History, Construction, &amp; Facts | \n",
       "Britannica](https://www.britannica.com/topic/Golden-Gate-Bridge)\n",
       "Golden Gate Bridge, suspension bridge spanning the Golden Gate in California to link San Francisco with Marin \n",
       "county to the north. Upon its completion in 1937, it was the tallest and longest suspension bridge in the world. \n",
       "Learn more about the history and construction of the Golden Gate Bridge.\n",
       "\n",
       "[How Long is the Golden Gate Bridge? - U.S. National Park \n",
       "Service](https://www.nps.gov/places/000/how-long-is-the-golden-gate-bridge.htm)\n",
       "For four years, from January 1933 to April 1937, bridge construction proceeded. Upon opening in May 1937, the \n",
       "Golden Gate Bridge was the longest suspension bridge in the world. The middle span between the 44,000-ton towers \n",
       "stretches 4,200 feet. Even today, few suspension bridges are as long, and none more spectacular.\n",
       "\n",
       "[Facts &amp; Figures About the Bridge - Exhibits Area 1 | Golden \n",
       "Gate](https://www.goldengate.org/exhibits/facts-and-figures-about-the-bridge/)\n",
       "Learn about the history, construction, and features of the Golden Gate Bridge, the world's longest suspension \n",
       "bridge when it opened in 1937. The main span of the bridge is 4,200 feet (1,280 m) long, and the total length is \n",
       "1.7 miles (2,737 m).\n",
       "\n",
       "[How Big is the Golden Gate Bridge? - Dimensions \n",
       "Guide](https://www.dimensionsguide.com/how-big-is-the-golden-gate-bridge/)\n",
       "The dimensions of the Golden Gate Bridge made it the longest suspension bridge span when it was finished in 1937. \n",
       "It is 1.7 mi (2.7 km) or 8,981 ft (2,737.4 m) long. Other bridges have surpassed it in length.\n",
       "\n",
       "[Golden Gate Bridge Fun Facts - The Presidio (San \n",
       "Francisco)](https://presidio.gov/explore/blog/golden-gate-bridge-fun-facts)\n",
       "How long is the Golden Gate Bridge? When it opened, the Golden Gate Bridge was the longest and tallest suspension \n",
       "bridge in the world. The Golden Gate Bridge measures 8,981 ft in total length, which equates to 1.7 miles (or 2.7 \n",
       "kilometers), making it a true wonder of engineering ingenuity. How high is the Golden Gate Bridge from the ocean?\n",
       "\n",
       "[The Golden Gate Bridge: Facts, History &amp; Profile - \n",
       "Infoplease](https://www.infoplease.com/geography/monuments-landmarks/the-golden-gate-bridge)\n",
       "Fast Golden Gate Bridge Facts. Length: ... The Golden Gate Bridge is a suspension bridge, which means that the \n",
       "roadway is suspended from two main cables that are anchored to massive concrete anchorages on either side of the \n",
       "bridge. The bridge is 1.7 miles long and 90 feet wide, making it remain one of the longest suspension bridges in \n",
       "the world\n",
       "\n",
       "[Golden Gate Bridge - \n",
       "HistoricBridges.org](https://historicbridges.org/bridges/browser/?bridgebrowser=california/goldengate/)\n",
       "The Golden Gate Bridge is one of the most well-known and beloved bridges in the world. Breaking records for main \n",
       "span length and tower height when built, the bridge today remains among the country's largest suspension bridges. \n",
       "... Total length of Bridge including approaches from abutment to abutment: 1.7 miles = 8,981 ft = 2,737 m\n",
       "Bustard speed: ## Search Results\n",
       "\n",
       "[Great Indian bustard - Wikipedia](https://en.wikipedia.org/wiki/Great_Indian_bustard)\n",
       "The great Indian bustard (Ardeotis nigriceps) or Indian bustard is a bustard occurring on the Indian \n",
       "subcontinent.It is a large bird with a horizontal body and long bare legs, and is among the heaviest of the flying \n",
       "birds. Once common on the dry grasslands and shrubland in India, as few as 150 individuals were estimated to \n",
       "survive as of 2018, reduced from an estimated 250 individuals in 2011.\n",
       "\n",
       "[PDF](https://www.conservationindia.org/wp-content/files_mf/Running-Out-of-Time.pdf)\n",
       "Running out of time? The great Indian bustard Ardeotis nigriceps—status, viability, and conservation strategies \n",
       "Sutirtha Dutta &amp; Asad R. Rahmani &amp; Yadvendradev V. Jhala Received: 24 January 2010 /Revised: 1 November 2010 \n",
       "/Accepted: 2 November 2010 # Springer-Verlag 2010 Abstract The endemic great Indian bustard (GIB) is\n",
       "\n",
       "[Fun Great Bustard Facts For Kids - Kidadl](https://kidadl.com/facts/animals-nature/great-bustard-facts)\n",
       "A Great Bustard usually walks very slowly and prefers to run than fly when disturbed by intruders. The running \n",
       "speed is not measured but is known to run faster than Red foxes, whose speed is 30 mph. The Great Bustard is a good\n",
       "flier and reaches a speed range of 30-61 mph (48-98 kph) while migrating.\n",
       "\n",
       "[(PDF) Running out of time? The great Indian bustard ... - \n",
       "ResearchGate](https://www.researchgate.net/publication/226681970_Running_out_of_time_The_great_Indian_bustard_Ardeo\n",
       "tis_nigriceps-status_viability_and_conservation_strategies)\n",
       "The endemic great Indian bustard (GIB) is evolutionarily trapped between open nesting and k-selection that \n",
       "endangers its persistence under prevailing levels of habitat loss and hunting.\n",
       "\n",
       "[Great Indian Bustards (GIBs) - Vajiram &amp; \n",
       "Ravi](https://vajiramandravi.com/upsc-daily-current-affairs/prelims-pointers/great-indian-bustards-gibs/)\n",
       "About Great Indian Bustard: It is a bustard found on the Indian subcontinent. It is among the heaviest of the \n",
       "flying birds. Habitat: It inhabits dry grasslands and scrublands. Distribution: It is found mainly in the Thar \n",
       "Desert of Rajasthan that holds about 100 individuals.Also found in the arid regions of Maharashtra (Solapur), \n",
       "Karnataka (Bellary and Haveri) and Andhra Pradesh (Kurnool)\n",
       "\n",
       "[Out of Sight: The Rann, Thar, and the Great Indian \n",
       "Bustard](https://roundglasssustain.com/species/the-great-indian-bustard)\n",
       "The great Indian bustard was once in the running to become the national bird of India, strongly supported by \n",
       "ornithologist Salim Ali. However, some accounts say the Indian peafowl won, mostly because the jurors were afraid \n",
       "the GIB's name could be easily misspelt. Photo: Aseem Kothiala\n",
       "\n",
       "[Fun Great Indian Bustard Facts For Kids - \n",
       "Kidadl](https://kidadl.com/facts/animals-nature/great-indian-bustard-facts)\n",
       "A great Indian bustard is a tall bird with a large horizontal body, a long neck having brownish patches, and long \n",
       "bare legs. They appear similar to the ostrich. However, this species of birds could easily be distinguished by \n",
       "their black crown on the forehead, contrasting with the pale neck and head.\n",
       "\n",
       "[Great Indian Bustard: Fight Against Extinction](https://bhuchisworld.com/great-indian-bustard/)\n",
       "The Great Indian Bustard (Ardeotis nigriceps) is one of the heaviest flying birds in the world, native to the \n",
       "Indian subcontinent. Standing tall at nearly 4 feet, this majestic grassland bird is known for its long legs, broad\n",
       "wings, and distinctive black crown on its head. These birds are adapted to live in dry, arid regions, particularly \n",
       "the ...\n",
       "\n",
       "[Great Indian Bustard; Desert National Park, Rajasthan - Bubo \n",
       "Birding](https://bubobirding.com/species/great-indian-bustard/)\n",
       "Great Indian Bustard is one of India's rarest birds, in danger of extinction. Found in Rajasthan's Desert National \n",
       "Park, its population is only about 150 birds ... Dutta, S., Rahmani, A.R. &amp; Jhala, Y.V. Running out of time? The \n",
       "Great Indian bustard Ardeotis nigriceps—status, viability, and conservation strategies. Eur J Wildl Res 57, 615 ...\n",
       "\n",
       "[Great Indian Bustard - Vajiram &amp; \n",
       "Ravi](https://vajiramandravi.com/upsc-daily-current-affairs/prelims-pointers/gib-upsc/)\n",
       "About Great Indian Bustard. It is a bustard found on the Indian subcontinent. Scientific Name: Ardeotis nigriceps; \n",
       "It is among the heaviest of the flying birds. Distribution: The species has a current viable population of 100- 150\n",
       "individuals in India and mainly survives in the Thar Desert of Rajasthan that holds about 100 individuals.\n",
       "\n",
       "Out: None\n",
       "</pre>\n"
      ],
      "text/plain": [
       "\u001b[1mExecution logs:\u001b[0m\n",
       "Bridge length: ## Search Results\n",
       "\n",
       "[Golden Gate Bridge - Wikipedia](https://en.wikipedia.org/wiki/Golden_Gate_Bridge)\n",
       "The Golden Gate Bridge is a suspension bridge spanning the Golden Gate, the one-mile-wide (1.6 km) ... The total \n",
       "length of the Golden Gate Bridge from abutment to abutment is 8,981 feet (2,737 m). [56] The Golden Gate Bridge's \n",
       "clearance above high water averages 220 feet ...\n",
       "\n",
       "[Golden Gate Bridge ‑ Length, Facts & Height | \n",
       "HISTORY](https://www.history.com/topics/landmarks/golden-gate-bridge)\n",
       "The Golden Gate Bridge, opened in 1937, is an iconic suspension bridge connecting the city of San Francisco to \n",
       "Marin County, California. It spans almost two miles across the Golden Gate, the ...\n",
       "\n",
       "[Design & Construction Stats - Statistics & Data | Golden \n",
       "Gate](https://www.goldengate.org/bridge/history-research/statistics-data/design-construction-stats/)\n",
       "Total length of Bridge including approaches from abutment to abutment is 1.7 miles (8,981 ft or 2,737 m). ... The \n",
       "Golden Gate Bridge has 250 pairs of vertical suspender ropes that are spaced 50 feet apart across both sides of the\n",
       "Bridge. Each suspender rope is 2-11/16 inches in diameter. All of the ropes were replaced between 1972 and 1976 ...\n",
       "\n",
       "[Golden Gate Bridge | History, Construction, & Facts | \n",
       "Britannica](https://www.britannica.com/topic/Golden-Gate-Bridge)\n",
       "Golden Gate Bridge, suspension bridge spanning the Golden Gate in California to link San Francisco with Marin \n",
       "county to the north. Upon its completion in 1937, it was the tallest and longest suspension bridge in the world. \n",
       "Learn more about the history and construction of the Golden Gate Bridge.\n",
       "\n",
       "[How Long is the Golden Gate Bridge? - U.S. National Park \n",
       "Service](https://www.nps.gov/places/000/how-long-is-the-golden-gate-bridge.htm)\n",
       "For four years, from January 1933 to April 1937, bridge construction proceeded. Upon opening in May 1937, the \n",
       "Golden Gate Bridge was the longest suspension bridge in the world. The middle span between the 44,000-ton towers \n",
       "stretches 4,200 feet. Even today, few suspension bridges are as long, and none more spectacular.\n",
       "\n",
       "[Facts & Figures About the Bridge - Exhibits Area 1 | Golden \n",
       "Gate](https://www.goldengate.org/exhibits/facts-and-figures-about-the-bridge/)\n",
       "Learn about the history, construction, and features of the Golden Gate Bridge, the world's longest suspension \n",
       "bridge when it opened in 1937. The main span of the bridge is 4,200 feet (1,280 m) long, and the total length is \n",
       "1.7 miles (2,737 m).\n",
       "\n",
       "[How Big is the Golden Gate Bridge? - Dimensions \n",
       "Guide](https://www.dimensionsguide.com/how-big-is-the-golden-gate-bridge/)\n",
       "The dimensions of the Golden Gate Bridge made it the longest suspension bridge span when it was finished in 1937. \n",
       "It is 1.7 mi (2.7 km) or 8,981 ft (2,737.4 m) long. Other bridges have surpassed it in length.\n",
       "\n",
       "[Golden Gate Bridge Fun Facts - The Presidio (San \n",
       "Francisco)](https://presidio.gov/explore/blog/golden-gate-bridge-fun-facts)\n",
       "How long is the Golden Gate Bridge? When it opened, the Golden Gate Bridge was the longest and tallest suspension \n",
       "bridge in the world. The Golden Gate Bridge measures 8,981 ft in total length, which equates to 1.7 miles (or 2.7 \n",
       "kilometers), making it a true wonder of engineering ingenuity. How high is the Golden Gate Bridge from the ocean?\n",
       "\n",
       "[The Golden Gate Bridge: Facts, History & Profile - \n",
       "Infoplease](https://www.infoplease.com/geography/monuments-landmarks/the-golden-gate-bridge)\n",
       "Fast Golden Gate Bridge Facts. Length: ... The Golden Gate Bridge is a suspension bridge, which means that the \n",
       "roadway is suspended from two main cables that are anchored to massive concrete anchorages on either side of the \n",
       "bridge. The bridge is 1.7 miles long and 90 feet wide, making it remain one of the longest suspension bridges in \n",
       "the world\n",
       "\n",
       "[Golden Gate Bridge - \n",
       "HistoricBridges.org](https://historicbridges.org/bridges/browser/?bridgebrowser=california/goldengate/)\n",
       "The Golden Gate Bridge is one of the most well-known and beloved bridges in the world. Breaking records for main \n",
       "span length and tower height when built, the bridge today remains among the country's largest suspension bridges. \n",
       "... Total length of Bridge including approaches from abutment to abutment: 1.7 miles = 8,981 ft = 2,737 m\n",
       "Bustard speed: ## Search Results\n",
       "\n",
       "[Great Indian bustard - Wikipedia](https://en.wikipedia.org/wiki/Great_Indian_bustard)\n",
       "The great Indian bustard (Ardeotis nigriceps) or Indian bustard is a bustard occurring on the Indian \n",
       "subcontinent.It is a large bird with a horizontal body and long bare legs, and is among the heaviest of the flying \n",
       "birds. Once common on the dry grasslands and shrubland in India, as few as 150 individuals were estimated to \n",
       "survive as of 2018, reduced from an estimated 250 individuals in 2011.\n",
       "\n",
       "[PDF](https://www.conservationindia.org/wp-content/files_mf/Running-Out-of-Time.pdf)\n",
       "Running out of time? The great Indian bustard Ardeotis nigriceps—status, viability, and conservation strategies \n",
       "Sutirtha Dutta & Asad R. Rahmani & Yadvendradev V. Jhala Received: 24 January 2010 /Revised: 1 November 2010 \n",
       "/Accepted: 2 November 2010 # Springer-Verlag 2010 Abstract The endemic great Indian bustard (GIB) is\n",
       "\n",
       "[Fun Great Bustard Facts For Kids - Kidadl](https://kidadl.com/facts/animals-nature/great-bustard-facts)\n",
       "A Great Bustard usually walks very slowly and prefers to run than fly when disturbed by intruders. The running \n",
       "speed is not measured but is known to run faster than Red foxes, whose speed is 30 mph. The Great Bustard is a good\n",
       "flier and reaches a speed range of 30-61 mph (48-98 kph) while migrating.\n",
       "\n",
       "[(PDF) Running out of time? The great Indian bustard ... - \n",
       "ResearchGate](https://www.researchgate.net/publication/226681970_Running_out_of_time_The_great_Indian_bustard_Ardeo\n",
       "tis_nigriceps-status_viability_and_conservation_strategies)\n",
       "The endemic great Indian bustard (GIB) is evolutionarily trapped between open nesting and k-selection that \n",
       "endangers its persistence under prevailing levels of habitat loss and hunting.\n",
       "\n",
       "[Great Indian Bustards (GIBs) - Vajiram & \n",
       "Ravi](https://vajiramandravi.com/upsc-daily-current-affairs/prelims-pointers/great-indian-bustards-gibs/)\n",
       "About Great Indian Bustard: It is a bustard found on the Indian subcontinent. It is among the heaviest of the \n",
       "flying birds. Habitat: It inhabits dry grasslands and scrublands. Distribution: It is found mainly in the Thar \n",
       "Desert of Rajasthan that holds about 100 individuals.Also found in the arid regions of Maharashtra (Solapur), \n",
       "Karnataka (Bellary and Haveri) and Andhra Pradesh (Kurnool)\n",
       "\n",
       "[Out of Sight: The Rann, Thar, and the Great Indian \n",
       "Bustard](https://roundglasssustain.com/species/the-great-indian-bustard)\n",
       "The great Indian bustard was once in the running to become the national bird of India, strongly supported by \n",
       "ornithologist Salim Ali. However, some accounts say the Indian peafowl won, mostly because the jurors were afraid \n",
       "the GIB's name could be easily misspelt. Photo: Aseem Kothiala\n",
       "\n",
       "[Fun Great Indian Bustard Facts For Kids - \n",
       "Kidadl](https://kidadl.com/facts/animals-nature/great-indian-bustard-facts)\n",
       "A great Indian bustard is a tall bird with a large horizontal body, a long neck having brownish patches, and long \n",
       "bare legs. They appear similar to the ostrich. However, this species of birds could easily be distinguished by \n",
       "their black crown on the forehead, contrasting with the pale neck and head.\n",
       "\n",
       "[Great Indian Bustard: Fight Against Extinction](https://bhuchisworld.com/great-indian-bustard/)\n",
       "The Great Indian Bustard (Ardeotis nigriceps) is one of the heaviest flying birds in the world, native to the \n",
       "Indian subcontinent. Standing tall at nearly 4 feet, this majestic grassland bird is known for its long legs, broad\n",
       "wings, and distinctive black crown on its head. These birds are adapted to live in dry, arid regions, particularly \n",
       "the ...\n",
       "\n",
       "[Great Indian Bustard; Desert National Park, Rajasthan - Bubo \n",
       "Birding](https://bubobirding.com/species/great-indian-bustard/)\n",
       "Great Indian Bustard is one of India's rarest birds, in danger of extinction. Found in Rajasthan's Desert National \n",
       "Park, its population is only about 150 birds ... Dutta, S., Rahmani, A.R. & Jhala, Y.V. Running out of time? The \n",
       "Great Indian bustard Ardeotis nigriceps—status, viability, and conservation strategies. Eur J Wildl Res 57, 615 ...\n",
       "\n",
       "[Great Indian Bustard - Vajiram & \n",
       "Ravi](https://vajiramandravi.com/upsc-daily-current-affairs/prelims-pointers/gib-upsc/)\n",
       "About Great Indian Bustard. It is a bustard found on the Indian subcontinent. Scientific Name: Ardeotis nigriceps; \n",
       "It is among the heaviest of the flying birds. Distribution: The species has a current viable population of 100- 150\n",
       "individuals in India and mainly survives in the Thar Desert of Rajasthan that holds about 100 individuals.\n",
       "\n",
       "Out: None\n"
      ]
     },
     "metadata": {},
     "output_type": "display_data"
    },
    {
     "data": {
      "text/html": [
       "<pre style=\"white-space:pre;overflow-x:auto;line-height:normal;font-family:Menlo,'DejaVu Sans Mono',consolas,'Courier New',monospace\"><span style=\"color: #7f7f7f; text-decoration-color: #7f7f7f\">[Step 0: Duration 12.97 seconds| Input tokens: 2,096 | Output tokens: 176]</span>\n",
       "</pre>\n"
      ],
      "text/plain": [
       "\u001b[2m[Step 0: Duration 12.97 seconds| Input tokens: 2,096 | Output tokens: 176]\u001b[0m\n"
      ]
     },
     "metadata": {},
     "output_type": "display_data"
    },
    {
     "data": {
      "text/html": [
       "<pre style=\"white-space:pre;overflow-x:auto;line-height:normal;font-family:Menlo,'DejaVu Sans Mono',consolas,'Courier New',monospace\"><span style=\"color: #d4b702; text-decoration-color: #d4b702\">━━━━━━━━━━━━━━━━━━━━━━━━━━━━━━━━━━━━━━━━━━━━━━━━━━━━━ </span><span style=\"font-weight: bold\">Step </span><span style=\"color: #008080; text-decoration-color: #008080; font-weight: bold\">2</span><span style=\"color: #d4b702; text-decoration-color: #d4b702\"> ━━━━━━━━━━━━━━━━━━━━━━━━━━━━━━━━━━━━━━━━━━━━━━━━━━━━━━</span>\n",
       "</pre>\n"
      ],
      "text/plain": [
       "\u001b[38;2;212;183;2m━━━━━━━━━━━━━━━━━━━━━━━━━━━━━━━━━━━━━━━━━━━━━━━━━━━━━ \u001b[0m\u001b[1mStep \u001b[0m\u001b[1;36m2\u001b[0m\u001b[38;2;212;183;2m ━━━━━━━━━━━━━━━━━━━━━━━━━━━━━━━━━━━━━━━━━━━━━━━━━━━━━━\u001b[0m\n"
      ]
     },
     "metadata": {},
     "output_type": "display_data"
    },
    {
     "data": {
      "text/html": [
       "<pre style=\"white-space:pre;overflow-x:auto;line-height:normal;font-family:Menlo,'DejaVu Sans Mono',consolas,'Courier New',monospace\"> ─ <span style=\"font-weight: bold\">Executing parsed code:</span> ──────────────────────────────────────────────────────────────────────────────────────── \n",
       "  <span style=\"background-color: #272822\">                                                                                                               </span>  \n",
       " ───────────────────────────────────────────────────────────────────────────────────────────────────────────────── \n",
       "</pre>\n"
      ],
      "text/plain": [
       " ─ \u001b[1mExecuting parsed code:\u001b[0m ──────────────────────────────────────────────────────────────────────────────────────── \n",
       "  \u001b[48;2;39;40;34m                                                                                                               \u001b[0m  \n",
       " ───────────────────────────────────────────────────────────────────────────────────────────────────────────────── \n"
      ]
     },
     "metadata": {},
     "output_type": "display_data"
    },
    {
     "data": {
      "text/html": [
       "<pre style=\"white-space:pre;overflow-x:auto;line-height:normal;font-family:Menlo,'DejaVu Sans Mono',consolas,'Courier New',monospace\">Out: None\n",
       "</pre>\n"
      ],
      "text/plain": [
       "Out: None\n"
      ]
     },
     "metadata": {},
     "output_type": "display_data"
    },
    {
     "data": {
      "text/html": [
       "<pre style=\"white-space:pre;overflow-x:auto;line-height:normal;font-family:Menlo,'DejaVu Sans Mono',consolas,'Courier New',monospace\"><span style=\"color: #7f7f7f; text-decoration-color: #7f7f7f\">[Step 1: Duration 1.09 seconds| Input tokens: 6,608 | Output tokens: 176]</span>\n",
       "</pre>\n"
      ],
      "text/plain": [
       "\u001b[2m[Step 1: Duration 1.09 seconds| Input tokens: 6,608 | Output tokens: 176]\u001b[0m\n"
      ]
     },
     "metadata": {},
     "output_type": "display_data"
    },
    {
     "data": {
      "text/html": [
       "<pre style=\"white-space:pre;overflow-x:auto;line-height:normal;font-family:Menlo,'DejaVu Sans Mono',consolas,'Courier New',monospace\">────────────────────────────────────────────────── <span style=\"font-weight: bold\">Updated plan</span> ───────────────────────────────────────────────────\n",
       "I still need to solve the task I was given:\n",
       "```\n",
       "How long would it take for a great indian bustard to run the full length of the golden bridge in sanfranciso?\n",
       "```\n",
       "\n",
       "Here is my new/updated plan of action to solve the task:\n",
       "```\n",
       "1. Assume an average speed of 30 mph for the great Indian bustard, as a baseline running speed in a non-migratory \n",
       "context.\n",
       "2. Gather the length of the Golden Gate Bridge, which is 8,981 feet.\n",
       "3. Convert the assumed speed of 30 mph into feet per hour for accurate calculations.\n",
       "4. Calculate the time it would take for the great Indian bustard to run the full length of the Golden Gate Bridge \n",
       "using the formula time = distance/speed.\n",
       "5. Convert the result into minutes for easier interpretation.\n",
       "6. Return the final answer.\n",
       "\n",
       "\n",
       "```\n",
       "</pre>\n"
      ],
      "text/plain": [
       "────────────────────────────────────────────────── \u001b[1mUpdated plan\u001b[0m ───────────────────────────────────────────────────\n",
       "I still need to solve the task I was given:\n",
       "```\n",
       "How long would it take for a great indian bustard to run the full length of the golden bridge in sanfranciso?\n",
       "```\n",
       "\n",
       "Here is my new/updated plan of action to solve the task:\n",
       "```\n",
       "1. Assume an average speed of 30 mph for the great Indian bustard, as a baseline running speed in a non-migratory \n",
       "context.\n",
       "2. Gather the length of the Golden Gate Bridge, which is 8,981 feet.\n",
       "3. Convert the assumed speed of 30 mph into feet per hour for accurate calculations.\n",
       "4. Calculate the time it would take for the great Indian bustard to run the full length of the Golden Gate Bridge \n",
       "using the formula time = distance/speed.\n",
       "5. Convert the result into minutes for easier interpretation.\n",
       "6. Return the final answer.\n",
       "\n",
       "\n",
       "```\n"
      ]
     },
     "metadata": {},
     "output_type": "display_data"
    },
    {
     "data": {
      "text/html": [
       "<pre style=\"white-space:pre;overflow-x:auto;line-height:normal;font-family:Menlo,'DejaVu Sans Mono',consolas,'Courier New',monospace\"><span style=\"color: #d4b702; text-decoration-color: #d4b702\">━━━━━━━━━━━━━━━━━━━━━━━━━━━━━━━━━━━━━━━━━━━━━━━━━━━━━ </span><span style=\"font-weight: bold\">Step </span><span style=\"color: #008080; text-decoration-color: #008080; font-weight: bold\">3</span><span style=\"color: #d4b702; text-decoration-color: #d4b702\"> ━━━━━━━━━━━━━━━━━━━━━━━━━━━━━━━━━━━━━━━━━━━━━━━━━━━━━━</span>\n",
       "</pre>\n"
      ],
      "text/plain": [
       "\u001b[38;2;212;183;2m━━━━━━━━━━━━━━━━━━━━━━━━━━━━━━━━━━━━━━━━━━━━━━━━━━━━━ \u001b[0m\u001b[1mStep \u001b[0m\u001b[1;36m3\u001b[0m\u001b[38;2;212;183;2m ━━━━━━━━━━━━━━━━━━━━━━━━━━━━━━━━━━━━━━━━━━━━━━━━━━━━━━\u001b[0m\n"
      ]
     },
     "metadata": {},
     "output_type": "display_data"
    },
    {
     "data": {
      "text/html": [
       "<pre style=\"white-space:pre;overflow-x:auto;line-height:normal;font-family:Menlo,'DejaVu Sans Mono',consolas,'Courier New',monospace\"> ─ <span style=\"font-weight: bold\">Executing parsed code:</span> ──────────────────────────────────────────────────────────────────────────────────────── \n",
       "  <span style=\"color: #f8f8f2; text-decoration-color: #f8f8f2; background-color: #272822\">bridge_length_feet </span><span style=\"color: #ff4689; text-decoration-color: #ff4689; background-color: #272822\">=</span><span style=\"color: #f8f8f2; text-decoration-color: #f8f8f2; background-color: #272822\"> </span><span style=\"color: #ae81ff; text-decoration-color: #ae81ff; background-color: #272822\">8981</span><span style=\"color: #f8f8f2; text-decoration-color: #f8f8f2; background-color: #272822\">  </span><span style=\"color: #959077; text-decoration-color: #959077; background-color: #272822\"># length of the Golden Gate Bridge in feet</span><span style=\"background-color: #272822\">                                          </span>  \n",
       "  <span style=\"color: #f8f8f2; text-decoration-color: #f8f8f2; background-color: #272822\">bustard_speed_mph </span><span style=\"color: #ff4689; text-decoration-color: #ff4689; background-color: #272822\">=</span><span style=\"color: #f8f8f2; text-decoration-color: #f8f8f2; background-color: #272822\"> </span><span style=\"color: #ae81ff; text-decoration-color: #ae81ff; background-color: #272822\">30</span><span style=\"color: #f8f8f2; text-decoration-color: #f8f8f2; background-color: #272822\">  </span><span style=\"color: #959077; text-decoration-color: #959077; background-color: #272822\"># average speed in miles per hour</span><span style=\"background-color: #272822\">                                                      </span>  \n",
       "  <span style=\"color: #f8f8f2; text-decoration-color: #f8f8f2; background-color: #272822\">bustard_speed_fph </span><span style=\"color: #ff4689; text-decoration-color: #ff4689; background-color: #272822\">=</span><span style=\"color: #f8f8f2; text-decoration-color: #f8f8f2; background-color: #272822\"> bustard_speed_mph </span><span style=\"color: #ff4689; text-decoration-color: #ff4689; background-color: #272822\">*</span><span style=\"color: #f8f8f2; text-decoration-color: #f8f8f2; background-color: #272822\"> </span><span style=\"color: #ae81ff; text-decoration-color: #ae81ff; background-color: #272822\">5280</span><span style=\"color: #f8f8f2; text-decoration-color: #f8f8f2; background-color: #272822\">  </span><span style=\"color: #959077; text-decoration-color: #959077; background-color: #272822\"># convert speed to feet per hour</span><span style=\"background-color: #272822\">                                 </span>  \n",
       "  <span style=\"background-color: #272822\">                                                                                                               </span>  \n",
       "  <span style=\"color: #f8f8f2; text-decoration-color: #f8f8f2; background-color: #272822\">time_hours </span><span style=\"color: #ff4689; text-decoration-color: #ff4689; background-color: #272822\">=</span><span style=\"color: #f8f8f2; text-decoration-color: #f8f8f2; background-color: #272822\"> bridge_length_feet </span><span style=\"color: #ff4689; text-decoration-color: #ff4689; background-color: #272822\">/</span><span style=\"color: #f8f8f2; text-decoration-color: #f8f8f2; background-color: #272822\"> bustard_speed_fph  </span><span style=\"color: #959077; text-decoration-color: #959077; background-color: #272822\"># time in hours</span><span style=\"background-color: #272822\">                                           </span>  \n",
       "  <span style=\"color: #f8f8f2; text-decoration-color: #f8f8f2; background-color: #272822\">time_minutes </span><span style=\"color: #ff4689; text-decoration-color: #ff4689; background-color: #272822\">=</span><span style=\"color: #f8f8f2; text-decoration-color: #f8f8f2; background-color: #272822\"> time_hours </span><span style=\"color: #ff4689; text-decoration-color: #ff4689; background-color: #272822\">*</span><span style=\"color: #f8f8f2; text-decoration-color: #f8f8f2; background-color: #272822\"> </span><span style=\"color: #ae81ff; text-decoration-color: #ae81ff; background-color: #272822\">60</span><span style=\"color: #f8f8f2; text-decoration-color: #f8f8f2; background-color: #272822\">  </span><span style=\"color: #959077; text-decoration-color: #959077; background-color: #272822\"># convert time to minutes</span><span style=\"background-color: #272822\">                                                      </span>  \n",
       "  <span style=\"color: #f8f8f2; text-decoration-color: #f8f8f2; background-color: #272822\">final_answer(time_minutes)</span><span style=\"background-color: #272822\">                                                                                     </span>  \n",
       " ───────────────────────────────────────────────────────────────────────────────────────────────────────────────── \n",
       "</pre>\n"
      ],
      "text/plain": [
       " ─ \u001b[1mExecuting parsed code:\u001b[0m ──────────────────────────────────────────────────────────────────────────────────────── \n",
       "  \u001b[38;2;248;248;242;48;2;39;40;34mbridge_length_feet\u001b[0m\u001b[38;2;248;248;242;48;2;39;40;34m \u001b[0m\u001b[38;2;255;70;137;48;2;39;40;34m=\u001b[0m\u001b[38;2;248;248;242;48;2;39;40;34m \u001b[0m\u001b[38;2;174;129;255;48;2;39;40;34m8981\u001b[0m\u001b[38;2;248;248;242;48;2;39;40;34m  \u001b[0m\u001b[38;2;149;144;119;48;2;39;40;34m# length of the Golden Gate Bridge in feet\u001b[0m\u001b[48;2;39;40;34m                                          \u001b[0m  \n",
       "  \u001b[38;2;248;248;242;48;2;39;40;34mbustard_speed_mph\u001b[0m\u001b[38;2;248;248;242;48;2;39;40;34m \u001b[0m\u001b[38;2;255;70;137;48;2;39;40;34m=\u001b[0m\u001b[38;2;248;248;242;48;2;39;40;34m \u001b[0m\u001b[38;2;174;129;255;48;2;39;40;34m30\u001b[0m\u001b[38;2;248;248;242;48;2;39;40;34m  \u001b[0m\u001b[38;2;149;144;119;48;2;39;40;34m# average speed in miles per hour\u001b[0m\u001b[48;2;39;40;34m                                                      \u001b[0m  \n",
       "  \u001b[38;2;248;248;242;48;2;39;40;34mbustard_speed_fph\u001b[0m\u001b[38;2;248;248;242;48;2;39;40;34m \u001b[0m\u001b[38;2;255;70;137;48;2;39;40;34m=\u001b[0m\u001b[38;2;248;248;242;48;2;39;40;34m \u001b[0m\u001b[38;2;248;248;242;48;2;39;40;34mbustard_speed_mph\u001b[0m\u001b[38;2;248;248;242;48;2;39;40;34m \u001b[0m\u001b[38;2;255;70;137;48;2;39;40;34m*\u001b[0m\u001b[38;2;248;248;242;48;2;39;40;34m \u001b[0m\u001b[38;2;174;129;255;48;2;39;40;34m5280\u001b[0m\u001b[38;2;248;248;242;48;2;39;40;34m  \u001b[0m\u001b[38;2;149;144;119;48;2;39;40;34m# convert speed to feet per hour\u001b[0m\u001b[48;2;39;40;34m                                 \u001b[0m  \n",
       "  \u001b[48;2;39;40;34m                                                                                                               \u001b[0m  \n",
       "  \u001b[38;2;248;248;242;48;2;39;40;34mtime_hours\u001b[0m\u001b[38;2;248;248;242;48;2;39;40;34m \u001b[0m\u001b[38;2;255;70;137;48;2;39;40;34m=\u001b[0m\u001b[38;2;248;248;242;48;2;39;40;34m \u001b[0m\u001b[38;2;248;248;242;48;2;39;40;34mbridge_length_feet\u001b[0m\u001b[38;2;248;248;242;48;2;39;40;34m \u001b[0m\u001b[38;2;255;70;137;48;2;39;40;34m/\u001b[0m\u001b[38;2;248;248;242;48;2;39;40;34m \u001b[0m\u001b[38;2;248;248;242;48;2;39;40;34mbustard_speed_fph\u001b[0m\u001b[38;2;248;248;242;48;2;39;40;34m  \u001b[0m\u001b[38;2;149;144;119;48;2;39;40;34m# time in hours\u001b[0m\u001b[48;2;39;40;34m                                           \u001b[0m  \n",
       "  \u001b[38;2;248;248;242;48;2;39;40;34mtime_minutes\u001b[0m\u001b[38;2;248;248;242;48;2;39;40;34m \u001b[0m\u001b[38;2;255;70;137;48;2;39;40;34m=\u001b[0m\u001b[38;2;248;248;242;48;2;39;40;34m \u001b[0m\u001b[38;2;248;248;242;48;2;39;40;34mtime_hours\u001b[0m\u001b[38;2;248;248;242;48;2;39;40;34m \u001b[0m\u001b[38;2;255;70;137;48;2;39;40;34m*\u001b[0m\u001b[38;2;248;248;242;48;2;39;40;34m \u001b[0m\u001b[38;2;174;129;255;48;2;39;40;34m60\u001b[0m\u001b[38;2;248;248;242;48;2;39;40;34m  \u001b[0m\u001b[38;2;149;144;119;48;2;39;40;34m# convert time to minutes\u001b[0m\u001b[48;2;39;40;34m                                                      \u001b[0m  \n",
       "  \u001b[38;2;248;248;242;48;2;39;40;34mfinal_answer\u001b[0m\u001b[38;2;248;248;242;48;2;39;40;34m(\u001b[0m\u001b[38;2;248;248;242;48;2;39;40;34mtime_minutes\u001b[0m\u001b[38;2;248;248;242;48;2;39;40;34m)\u001b[0m\u001b[48;2;39;40;34m                                                                                     \u001b[0m  \n",
       " ───────────────────────────────────────────────────────────────────────────────────────────────────────────────── \n"
      ]
     },
     "metadata": {},
     "output_type": "display_data"
    },
    {
     "data": {
      "text/html": [
       "<pre style=\"white-space:pre;overflow-x:auto;line-height:normal;font-family:Menlo,'DejaVu Sans Mono',consolas,'Courier New',monospace\"><span style=\"color: #d4b702; text-decoration-color: #d4b702; font-weight: bold\">Out - Final answer: 3.4018939393939394</span>\n",
       "</pre>\n"
      ],
      "text/plain": [
       "\u001b[1;38;2;212;183;2mOut - Final answer: 3.4018939393939394\u001b[0m\n"
      ]
     },
     "metadata": {},
     "output_type": "display_data"
    },
    {
     "data": {
      "text/html": [
       "<pre style=\"white-space:pre;overflow-x:auto;line-height:normal;font-family:Menlo,'DejaVu Sans Mono',consolas,'Courier New',monospace\"><span style=\"color: #7f7f7f; text-decoration-color: #7f7f7f\">[Step 2: Duration 17.09 seconds| Input tokens: 11,792 | Output tokens: 384]</span>\n",
       "</pre>\n"
      ],
      "text/plain": [
       "\u001b[2m[Step 2: Duration 17.09 seconds| Input tokens: 11,792 | Output tokens: 384]\u001b[0m\n"
      ]
     },
     "metadata": {},
     "output_type": "display_data"
    },
    {
     "data": {
      "text/plain": [
       "3.4018939393939394"
      ]
     },
     "execution_count": 26,
     "metadata": {},
     "output_type": "execute_result"
    }
   ],
   "source": [
    "result = agent.run(\n",
    "    \"How long would it take for a great indian bustard to run the full length of the golden bridge in sanfranciso?\",\n",
    ")\n",
    "result"
   ]
  },
  {
   "cell_type": "markdown",
   "id": "1825a908-999b-4f83-ae70-14e6c11e7ecc",
   "metadata": {},
   "source": [
    "## Tools from HF Spaces"
   ]
  },
  {
   "cell_type": "code",
   "execution_count": 31,
   "id": "fb3b0dfc-60d3-43ad-8114-d64ab16351a0",
   "metadata": {},
   "outputs": [],
   "source": [
    "from smolagents import Tool, load_tool"
   ]
  },
  {
   "cell_type": "code",
   "execution_count": 35,
   "id": "1b1cd5ac-32b8-4319-a493-6e6f4094a27a",
   "metadata": {},
   "outputs": [
    {
     "name": "stdout",
     "output_type": "stream",
     "text": [
      "Loaded as API: https://black-forest-labs-flux-1-schnell.hf.space ✔\n"
     ]
    },
    {
     "name": "stderr",
     "output_type": "stream",
     "text": [
      "Since `api_name` was not defined, it was automatically set to the first available API: `/infer`.\n"
     ]
    }
   ],
   "source": [
    "image_generation_tool = Tool.from_space(\n",
    "    \"black-forest-labs/FLUX.1-schnell\",\n",
    "    name=\"image_generator\",\n",
    "    description=\"Generate an image from a prompt\"\n",
    ")"
   ]
  },
  {
   "cell_type": "code",
   "execution_count": 37,
   "id": "07d8dadb-d5fc-43d6-b062-fbc260d3bfad",
   "metadata": {},
   "outputs": [],
   "source": [
    "# image_generation_tool(\"A sunny beach\")"
   ]
  },
  {
   "cell_type": "code",
   "execution_count": null,
   "id": "767e60b0-7c71-4029-a6e0-fac234fe59eb",
   "metadata": {},
   "outputs": [],
   "source": []
  }
 ],
 "metadata": {
  "kernelspec": {
   "display_name": "Python 3 (ipykernel)",
   "language": "python",
   "name": "python3"
  },
  "language_info": {
   "codemirror_mode": {
    "name": "ipython",
    "version": 3
   },
   "file_extension": ".py",
   "mimetype": "text/x-python",
   "name": "python",
   "nbconvert_exporter": "python",
   "pygments_lexer": "ipython3",
   "version": "3.10.16"
  }
 },
 "nbformat": 4,
 "nbformat_minor": 5
}

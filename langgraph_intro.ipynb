{
 "cells": [
  {
   "cell_type": "code",
   "execution_count": 2,
   "id": "f2db0a18-c9cb-4155-8c39-ec4efe0ae7bd",
   "metadata": {},
   "outputs": [],
   "source": [
    "!pip install langgraph langchain-openai tavily-python langchain-community --quiet"
   ]
  },
  {
   "cell_type": "code",
   "execution_count": null,
   "id": "98fcf6ba-1b68-4250-bbb5-1c9278b406ef",
   "metadata": {},
   "outputs": [],
   "source": []
  },
  {
   "cell_type": "code",
   "execution_count": 3,
   "id": "379f9797-32a7-4bd0-a236-b2ce055784c8",
   "metadata": {},
   "outputs": [],
   "source": [
    "import os"
   ]
  },
  {
   "cell_type": "code",
   "execution_count": 7,
   "id": "0b2f864d-70d0-49c4-8d4f-4a55e3b555b7",
   "metadata": {},
   "outputs": [],
   "source": [
    "os.environ[\"TAVILY_API_KEY\"] = \"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\"\n",
    "\n",
    "os.environ[\"LANGSMITH_TRACING\"]=\"true\"\n",
    "os.environ[\"LANGSMITH_ENDPOINT\"]=\"https://api.smith.langchain.com\"\n",
    "os.environ[\"LANGSMITH_API_KEY\"]=\"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\"\n",
    "\n",
    "os.environ[\"LANGCHAIN_ENDPOINT\"]=\"https://api.smith.langchain.com\"\n",
    "os.environ[\"LANGCHAIN_API_KEY\"]=\"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\"\n",
    "os.environ[\"LANGSMITH_PROJECT\"]=\"langgraph-intro\""
   ]
  },
  {
   "cell_type": "code",
   "execution_count": 8,
   "id": "9cde4c6d-32c2-4414-a05e-88bbf8916ae2",
   "metadata": {},
   "outputs": [],
   "source": [
    "from typing import Annotated\n",
    "\n",
    "from langchain_openai import ChatOpenAI\n",
    "from langchain_community.tools.tavily_search import TavilySearchResults\n",
    "from langchain_core.messages import BaseMessage\n",
    "from typing_extensions import TypedDict\n",
    "\n",
    "from langgraph.graph import StateGraph\n",
    "from langgraph.graph.message import add_messages\n",
    "from langgraph.prebuilt import ToolNode, tools_condition\n",
    "\n",
    "\n",
    "class State(TypedDict):\n",
    "    messages: Annotated[list, add_messages]\n",
    "\n",
    "\n",
    "graph_builder = StateGraph(State)"
   ]
  },
  {
   "cell_type": "code",
   "execution_count": 9,
   "id": "a918f10a-48d6-41d6-82b7-7cc5d50d85d4",
   "metadata": {},
   "outputs": [],
   "source": [
    "tool = TavilySearchResults(max_results=2)\n",
    "tools = [tool]\n",
    "llm = ChatOpenAI(model=\"gpt-4o-mini\")\n",
    "llm_with_tools = llm.bind_tools(tools)"
   ]
  },
  {
   "cell_type": "code",
   "execution_count": 10,
   "id": "a41ca231-1f83-460a-b04e-d1d549fa550d",
   "metadata": {},
   "outputs": [],
   "source": [
    "def chatbot(state: State):\n",
    "    return {\"messages\": [llm_with_tools.invoke(state[\"messages\"])]}\n",
    "\n",
    "# add a chatbot node\n",
    "graph_builder.add_node(\"chatbot\", chatbot)\n",
    "\n",
    "# add a tool node\n",
    "tool_node = ToolNode(tools=[tool])\n",
    "graph_builder.add_node(\"tools\", tool_node)\n",
    "\n",
    "# create an edge\n",
    "graph_builder.add_conditional_edges(\n",
    "    \"chatbot\",\n",
    "    tools_condition,\n",
    ")\n",
    "# Any time a tool is called, we return to the chatbot to decide the next step\n",
    "graph_builder.add_edge(\"tools\", \"chatbot\")\n",
    "graph_builder.set_entry_point(\"chatbot\")\n",
    "graph = graph_builder.compile()"
   ]
  },
  {
   "cell_type": "code",
   "execution_count": 11,
   "id": "5ba9cfcf-88f4-4f33-ac29-9d9bb74ad314",
   "metadata": {},
   "outputs": [
    {
     "data": {
      "image/png": "[encoded data removed]",
      "text/plain": [
       "<IPython.core.display.Image object>"
      ]
     },
     "metadata": {},
     "output_type": "display_data"
    }
   ],
   "source": [
    "from IPython.display import Image, display\n",
    "\n",
    "try:\n",
    "    display(Image(graph.get_graph().draw_mermaid_png()))\n",
    "except Exception:\n",
    "    # This requires some extra dependencies and is optional\n",
    "    pass"
   ]
  },
  {
   "cell_type": "code",
   "execution_count": 14,
   "id": "4e3ccc39-b8c9-4c1a-95fe-d4e4fc66125b",
   "metadata": {
    "collapsed": true,
    "jupyter": {
     "outputs_hidden": true
    }
   },
   "outputs": [
    {
     "name": "stdin",
     "output_type": "stream",
     "text": [
      "User:  what do you know about langchain\n"
     ]
    },
    {
     "name": "stdout",
     "output_type": "stream",
     "text": [
      "Assistant: \n",
      "Assistant: [{\"url\": \"https://python.langchain.com/docs/introduction/\", \"content\": \"How to use tools in a chain How to migrate from legacy LangChain agents to LangGraph How to use chat models to call tools LangChain is a framework for developing applications powered by large language models (LLMs). Development: Build your applications using LangChain's open-source building blocks, components, and third-party integrations. langchain: Chains, agents, and retrieval strategies that make up an application's cognitive architecture. LangServe: Deploy LangChain chains as REST APIs. LangSmith: A developer platform that lets you debug, test, evaluate, and monitor LLM applications. Build stateful, multi-actor applications with LLMs. Integrates smoothly with LangChain, but can be used without it. LangChain is part of a rich ecosystem of tools that integrate with our framework and build on top of it.\"}, {\"url\": \"https://www.geeksforgeeks.org/introduction-to-langchain/\", \"content\": \"Data Structures and Algorithms\\nML & Data Science\\nWeb Development\\nLanguages\\nInterview Corner\\nCS Subjects\\nJobs\\nPractice\\nContests\\nIntroduction to Langchain\\nLangChain is an open-source framework designed to simplify the creation of applications using large language models (LLMs). LangChain follows a general pipeline where a user asks a question to the language model where the vector representation of the question is used to do a similarity search in the vector database and the relevant information is fetched from the vector database and the response is later fed to the language model. LangChain Key Concepts:\\nThe main properties of LangChain Framework are :\\nSetting up the environment\\nInstallation of langchain is very simple and similar as you install other libraries using the pip command.\\n Next, we create a .env file and store our API key in it as follows:\\nPython\\nNow, I am creating a new file named ‘lang.py’ where I will be using the LangChain framework to generate responses. We start by importing long-chain and initializing an LLM as follows:\\nPython\\nWe are initializing it with a high temperature which means that the results will be random and less accurate.\"}]\n",
      "Assistant: LangChain is an open-source framework that simplifies the development of applications powered by large language models (LLMs). It provides a structure for building applications using various components, integrating third-party tools, and leveraging cognitive architectures. Here are some key features of LangChain:\n",
      "\n",
      "1. **Framework Structure**: LangChain includes chains, agents, and retrieval strategies that form the cognitive architecture of an application.\n",
      "2. **Application Development**: Users can create applications using LangChain's building blocks and open-source components.\n",
      "3. **Deployment**: LangChain allows developers to deploy their chains as REST APIs via a component known as LangServe.\n",
      "4. **Debugging and Monitoring**: It includes a platform called LangSmith for testing, evaluating, and monitoring LLM applications.\n",
      "5. **Vector Search Integration**: The framework supports similarity searches in vector databases based on questions or inputs to retrieve relevant information.\n",
      "\n",
      "For installation, LangChain can be added similarly to other Python libraries using the pip command, and developers can set up their environments through a `.env` file for API keys.\n",
      "\n",
      "Further details and documentation can be found on their official site: [LangChain Documentation](https://python.langchain.com/docs/introduction/) and [GeeksforGeeks Article](https://www.geeksforgeeks.org/introduction-to-langchain/).\n"
     ]
    },
    {
     "name": "stdin",
     "output_type": "stream",
     "text": [
      "User:  is langchain an llm provider ?\n"
     ]
    },
    {
     "name": "stdout",
     "output_type": "stream",
     "text": [
      "Assistant: \n",
      "Assistant: [{\"url\": \"https://metaschool.so/articles/what-is-langchain-complete-guide-2025\", \"content\": \"LangChain is an open-source framework that streamlines the development of applications with features that make use of large language models (LLMs). It provides a suite of tools and integrations that make the task of integrating with an LLM easier (and supports linking with many popular LLMs including the GPT models), for example in tasks such as natural language processing, data retrieval, and interaction with various data sources. LangChain’s modular architecture supports key features like memory (to maintain context over interactions), tool integration (such as APIs and databases), and an agent framework for decision-making and task execution. Developers can leverage LangChain’s pre-built modules and chains to rapidly prototype and scale AI applications, integrating LLMs with APIs, databases, and other tools to enhance natural language understanding and generation capabilities.\"}, {\"url\": \"https://www.freecodecamp.org/news/beginners-guide-to-langchain/\", \"content\": \"LangChain is a popular framework for creating LLM-powered apps. It was built with these and other factors in mind, and provides a wide range of integrations with closed-source model providers (like OpenAI, Anthropic, and Google), open source models, and other third-party components like vectorstores.\"}]\n",
      "Assistant: LangChain is not an LLM provider itself; rather, it is an open-source framework designed to streamline the development of applications that utilize large language models (LLMs). It offers tools and integrations to make working with various LLMs (including popular ones like GPT models) easier within applications. LangChain supports features like memory, tool integration, and an agent framework to enhance tasks such as natural language processing and data retrieval. \n",
      "\n",
      "In essence, while LangChain facilitates the use of LLMs in applications, it does not provide LLMs directly but connects with various model providers.\n"
     ]
    },
    {
     "name": "stdin",
     "output_type": "stream",
     "text": [
      "User:  does it help you train or finetune models?\n"
     ]
    },
    {
     "name": "stdout",
     "output_type": "stream",
     "text": [
      "Assistant: I don't have the capability to train or finetune models myself. However, I can provide information and guidance on how model training and fine-tuning can be done, as well as the concepts and methodologies involved in the process. If you have specific questions about model training or fine-tuning, feel free to ask!\n"
     ]
    },
    {
     "name": "stdin",
     "output_type": "stream",
     "text": [
      "User:  can you train models using langchain\n"
     ]
    },
    {
     "name": "stdout",
     "output_type": "stream",
     "text": [
      "Assistant: Yes, LangChain is a framework designed for developing applications powered by language models. It provides various functionalities, including model training, handling data, and integration with various LLMs (Large Language Models). With LangChain, you can build sophisticated applications that utilize language models for tasks like question answering, summarization, and other NLP tasks.\n",
      "\n",
      "While LangChain itself does not directly train models from scratch, it allows developers to fine-tune existing models and manage workflows that involve model inference, prompt engineering, and connecting to external data sources. For training models, you generally use a machine learning library or framework alongside LangChain for managing the model training process.\n"
     ]
    },
    {
     "name": "stdin",
     "output_type": "stream",
     "text": [
      "User:  what can i use to train my own llm models\n"
     ]
    },
    {
     "name": "stdout",
     "output_type": "stream",
     "text": [
      "Assistant: \n",
      "Assistant: [{\"url\": \"https://airbyte.com/data-engineering-resources/how-to-train-llm-with-your-own-data\", \"content\": \"So, when you train an LLM on the focused dataset, it does not have to process large amounts of data to find precise answers to your queries. This improves the performance of LLMs and also makes your business workflow efficient. To Control Training Datasets. To train LLMs on your own data, you first need to prepare your industry-specific dataset.\"}, {\"url\": \"https://alican-kiraz1.medium.com/build-your-own-llm-a-complete-guide-to-training-llm-models-with-hugging-face-transformers-bf15cbc86a58\", \"content\": \"Afterward, we'll train a base LLM model, create our own LLM, and upload it to Hugging Face. While reading this article, you can also experiment with the sample training code I've provided. With this code, you can download a model from Hugging Face and train it on a suitable dataset (with Instruction, Input, and Output columns).\"}]\n",
      "Assistant: To train your own LLM (Large Language Model) models, you can follow these resources:\n",
      "\n",
      "1. **Data Preparation**: It's essential to start by preparing your industry-specific dataset. Training an LLM on focused data improves its performance for your particular needs. You can find guidance on preparing datasets for LLM training [here](https://airbyte.com/data-engineering-resources/how-to-train-llm-with-your-own-data).\n",
      "\n",
      "2. **Using Hugging Face Transformers**: A comprehensive guide is available that walks you through the process of building your own LLM, including code examples for downloading a base model and training it on your data. You can check out this tutorial [here](https://alican-kiraz1.medium.com/build-your-own-llm-a-complete-guide-to-training-llm-models-with-hugging-face-transformers-bf15cbc86a58).\n",
      "\n",
      "These sources cover various aspects of LLM training, from dataset preparation to implementation using popular tools like Hugging Face.\n",
      "User: What do you know about LangGraph?\n",
      "Assistant: \n",
      "Assistant: [{\"url\": \"https://www.datacamp.com/tutorial/langgraph-tutorial\", \"content\": \"LangGraph is a library within the LangChain ecosystem that simplifies the development of complex, multi-agent large language model (LLM) applications. Learn how to use LangGraph to create stateful, flexible, and scalable systems with nodes, edges, and state management.\"}, {\"url\": \"https://langchain-ai.github.io/langgraph/\", \"content\": \"LangGraph is a library for creating stateful, multi-actor applications with LLMs, using graphs to define flows and cycles. Learn how to use LangGraph to build tool-calling agents, integrate with LangChain, and deploy to production with LangGraph Platform.\"}]\n"
     ]
    },
    {
     "name": "stdin",
     "output_type": "stream",
     "text": [
      "User:  quit\n"
     ]
    },
    {
     "name": "stdout",
     "output_type": "stream",
     "text": [
      "Assistant: LangGraph is a library within the LangChain ecosystem designed to simplify the development of complex, multi-agent applications that utilize large language models (LLMs). Here are some key features of LangGraph:\n",
      "\n",
      "1. **Stateful Systems**: LangGraph allows for the creation of stateful applications, meaning that it can manage the state of interactions over time, which is crucial for building responsive AI-driven applications.\n",
      "\n",
      "2. **Graph-Based Structure**: It uses graphs to define the flows and cycles of interactions, making it easier to visualize and manage the relationships between different components of the application.\n",
      "\n",
      "3. **Tool-Calling Agents**: LangGraph supports the development of agents that can call various tools and APIs, enabling more dynamic interactions and functionalities.\n",
      "\n",
      "4. **Integration with LangChain**: It seamlessly integrates with the broader LangChain ecosystem, allowing developers to take advantage of additional tools and libraries available there.\n",
      "\n",
      "5. **Deployment**: The library not only facilitates development but also supports deployment to production, making it suitable for real-world applications.\n",
      "\n",
      "For more detailed information, you can refer to the [LangGraph documentation](https://langchain-ai.github.io/langgraph/) and read a tutorial available on [DataCamp](https://www.datacamp.com/tutorial/langgraph-tutorial).\n"
     ]
    }
   ],
   "source": [
    "def stream_graph_updates(user_input: str):\n",
    "    for event in graph.stream({\"messages\": [{\"role\": \"user\", \"content\": user_input}]}):\n",
    "        for value in event.values():\n",
    "            print(\"Assistant:\", value[\"messages\"][-1].content)\n",
    "\n",
    "\n",
    "while True:\n",
    "    try:\n",
    "        user_input = input(\"User: \")\n",
    "        if user_input.lower() in [\"quit\", \"exit\", \"q\"]:\n",
    "            print(\"Goodbye!\")\n",
    "            break\n",
    "\n",
    "        stream_graph_updates(user_input)\n",
    "    except:\n",
    "        # fallback if input() is not available\n",
    "        user_input = \"What do you know about LangGraph?\"\n",
    "        print(\"User: \" + user_input)\n",
    "        stream_graph_updates(user_input)\n",
    "        break"
   ]
  },
  {
   "cell_type": "markdown",
   "id": "9fa6475a-d687-4f3e-be30-43d4244bb90d",
   "metadata": {},
   "source": [
    "### Memory Saving using Checkpointer\n",
    "\n",
    "Allows you to save the state at a certain point, so LLMs can have access to earlier messages/context"
   ]
  },
  {
   "cell_type": "code",
   "execution_count": 15,
   "id": "fd2ceca2-82a5-4f74-9024-eb20d527ec16",
   "metadata": {},
   "outputs": [],
   "source": [
    "from langgraph.checkpoint.memory import MemorySaver\n",
    "\n",
    "memory = MemorySaver()"
   ]
  },
  {
   "cell_type": "code",
   "execution_count": 17,
   "id": "7f82d6e3-57e4-4048-ab52-a17f3d4d674a",
   "metadata": {},
   "outputs": [],
   "source": [
    "graph_builder = StateGraph(State)\n",
    "\n",
    "def chatbot(state: State):\n",
    "    return {\"messages\": [llm_with_tools.invoke(state[\"messages\"])]}\n",
    "\n",
    "# add a chatbot node\n",
    "graph_builder.add_node(\"chatbot\", chatbot)\n",
    "\n",
    "# add a tool node\n",
    "tool_node = ToolNode(tools=[tool])\n",
    "graph_builder.add_node(\"tools\", tool_node)\n",
    "\n",
    "# create an edge\n",
    "graph_builder.add_conditional_edges(\n",
    "    \"chatbot\",\n",
    "    tools_condition,\n",
    ")\n",
    "# Any time a tool is called, we return to the chatbot to decide the next step\n",
    "graph_builder.add_edge(\"tools\", \"chatbot\")\n",
    "graph_builder.set_entry_point(\"chatbot\")\n",
    "\n",
    "# build the graph using checkpointer\n",
    "graph = graph_builder.compile(checkpointer=memory)"
   ]
  },
  {
   "cell_type": "code",
   "execution_count": 18,
   "id": "76fec986-48da-4b31-b24e-9618ba4ec832",
   "metadata": {},
   "outputs": [
    {
     "name": "stdout",
     "output_type": "stream",
     "text": [
      "================================\u001b[1m Human Message \u001b[0m=================================\n",
      "\n",
      "Hi there! My name is Will.\n",
      "==================================\u001b[1m Ai Message \u001b[0m==================================\n",
      "\n",
      "Hi Will! How can I assist you today?\n"
     ]
    }
   ],
   "source": [
    "config = {\"configurable\": {\"thread_id\": \"1\"}}\n",
    "user_input = \"Hi there! My name is Will.\"\n",
    "\n",
    "# The config is the **second positional argument** to stream() or invoke()!\n",
    "events = graph.stream(\n",
    "    {\"messages\": [{\"role\": \"user\", \"content\": user_input}]},\n",
    "    config,\n",
    "    stream_mode=\"values\",\n",
    ")\n",
    "for event in events:\n",
    "    event[\"messages\"][-1].pretty_print()"
   ]
  },
  {
   "cell_type": "code",
   "execution_count": 20,
   "id": "1c63fdd2-6185-4cc5-a2cc-3429a1226584",
   "metadata": {},
   "outputs": [
    {
     "name": "stdout",
     "output_type": "stream",
     "text": [
      "================================\u001b[1m Human Message \u001b[0m=================================\n",
      "\n",
      "Remember my name?\n",
      "==================================\u001b[1m Ai Message \u001b[0m==================================\n",
      "\n",
      "I'm sorry, but I don't have the ability to remember personal information or previous interactions. How can I assist you today?\n"
     ]
    }
   ],
   "source": [
    "user_input = \"Remember my name?\"\n",
    "\n",
    "# The config is the **second positional argument** to stream() or invoke()!\n",
    "events = graph.stream(\n",
    "    {\"messages\": [{\"role\": \"user\", \"content\": user_input}]},\n",
    "    config,# {\"configurable\": {\"thread_id\": \"2\"}},#config,\n",
    "    stream_mode=\"values\",\n",
    ")\n",
    "for event in events:\n",
    "    event[\"messages\"][-1].pretty_print()"
   ]
  },
  {
   "cell_type": "code",
   "execution_count": 22,
   "id": "6b59d27b-d69f-4ac5-9d94-be61b192c4d8",
   "metadata": {},
   "outputs": [],
   "source": [
    "# snapshot = graph.get_state(config)\n",
    "# snapshot"
   ]
  },
  {
   "cell_type": "code",
   "execution_count": null,
   "id": "0046fcd3-3851-476b-8dfa-744097677f89",
   "metadata": {},
   "outputs": [],
   "source": []
  },
  {
   "cell_type": "code",
   "execution_count": null,
   "id": "d88b8002-5798-432b-9271-d9271264821d",
   "metadata": {},
   "outputs": [],
   "source": []
  }
 ],
 "metadata": {
  "kernelspec": {
   "display_name": "Python 3 (ipykernel)",
   "language": "python",
   "name": "python3"
  },
  "language_info": {
   "codemirror_mode": {
    "name": "ipython",
    "version": 3
   },
   "file_extension": ".py",
   "mimetype": "text/x-python",
   "name": "python",
   "nbconvert_exporter": "python",
   "pygments_lexer": "ipython3",
   "version": "3.9.7"
  }
 },
 "nbformat": 4,
 "nbformat_minor": 5
}

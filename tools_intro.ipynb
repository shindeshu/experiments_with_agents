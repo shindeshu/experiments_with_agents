{
 "cells": [
  {
   "cell_type": "code",
   "execution_count": 1,
   "id": "e4f36103-3e41-4638-a0f1-5a90e678a591",
   "metadata": {},
   "outputs": [],
   "source": [
    "import os\n",
    "\n",
    "# os.environ[\"OPENAI_API_KEY\"]"
   ]
  },
  {
   "cell_type": "code",
   "execution_count": 9,
   "id": "b18d982c-b07f-4d5f-b637-c490fe834e8f",
   "metadata": {},
   "outputs": [],
   "source": [
    "from langsmith import Client\n",
    "client = Client()\n",
    "project_runs = client.list_runs(project_name=\"pr-overcooked-worth-22\")"
   ]
  },
  {
   "cell_type": "code",
   "execution_count": 4,
   "id": "dc803020-73e4-439e-8c32-7f0c8795862d",
   "metadata": {},
   "outputs": [],
   "source": [
    "!pip install langfree --quiet"
   ]
  },
  {
   "cell_type": "code",
   "execution_count": 11,
   "id": "059d4f30-fa54-4694-a679-668a9e88ea7e",
   "metadata": {},
   "outputs": [
    {
     "data": {
      "text/plain": [
       "<class 'langsmith.schemas.Run'>(id=ceb7f3ce-a67f-48b4-9264-a45bb1290445, name='ChatOpenAI', run_type='llm')"
      ]
     },
     "execution_count": 11,
     "metadata": {},
     "output_type": "execute_result"
    }
   ],
   "source": [
    "i"
   ]
  },
  {
   "cell_type": "code",
   "execution_count": null,
   "id": "47065590-bfbb-462e-bf5f-121262d1134b",
   "metadata": {},
   "outputs": [],
   "source": []
  },
  {
   "cell_type": "code",
   "execution_count": 12,
   "id": "81b2eace-1f0b-49c4-b954-ca684578aac0",
   "metadata": {},
   "outputs": [
    {
     "ename": "Exception",
     "evalue": "You must set the environment variable LANGCHAIN_API_KEY",
     "output_type": "error",
     "traceback": [
      "\u001b[1;31m---------------------------------------------------------------------------\u001b[0m",
      "\u001b[1;31mException\u001b[0m                                 Traceback (most recent call last)",
      "Cell \u001b[1;32mIn[12], line 1\u001b[0m\n\u001b[1;32m----> 1\u001b[0m \u001b[38;5;28;01mfrom\u001b[39;00m \u001b[38;5;21;01mlangfree\u001b[39;00m\u001b[38;5;21;01m.\u001b[39;00m\u001b[38;5;21;01mruns\u001b[39;00m \u001b[38;5;28;01mimport\u001b[39;00m get_recent_runs\n\u001b[0;32m      2\u001b[0m runs \u001b[38;5;241m=\u001b[39m get_recent_runs(last_n_days\u001b[38;5;241m=\u001b[39m\u001b[38;5;241m3\u001b[39m, limit\u001b[38;5;241m=\u001b[39m\u001b[38;5;241m5\u001b[39m)\n",
      "File \u001b[1;32mD:\\Anaconda\\lib\\site-packages\\langfree\\runs.py:49\u001b[0m\n\u001b[0;32m     46\u001b[0m     \u001b[38;5;28;01mreturn\u001b[39;00m val\n\u001b[0;32m     48\u001b[0m \u001b[38;5;66;03m# %% ../nbs/01_runs.ipynb 6\u001b[39;00m\n\u001b[1;32m---> 49\u001b[0m \u001b[43mcheck_api_key\u001b[49m\u001b[43m(\u001b[49m\u001b[38;5;124;43m\"\u001b[39;49m\u001b[38;5;124;43mLANGCHAIN_API_KEY\u001b[39;49m\u001b[38;5;124;43m\"\u001b[39;49m\u001b[43m)\u001b[49m\n\u001b[0;32m     50\u001b[0m check_api_key(\u001b[38;5;124m\"\u001b[39m\u001b[38;5;124mLANGCHAIN_ENDPOINT\u001b[39m\u001b[38;5;124m\"\u001b[39m)\n\u001b[0;32m     51\u001b[0m check_api_key(\u001b[38;5;124m\"\u001b[39m\u001b[38;5;124mLANGSMITH_PROJECT_ID\u001b[39m\u001b[38;5;124m\"\u001b[39m)\n",
      "File \u001b[1;32mD:\\Anaconda\\lib\\site-packages\\langfree\\runs.py:45\u001b[0m, in \u001b[0;36mcheck_api_key\u001b[1;34m(nm)\u001b[0m\n\u001b[0;32m     43\u001b[0m \u001b[38;5;28;01mdef\u001b[39;00m \u001b[38;5;21mcheck_api_key\u001b[39m(nm\u001b[38;5;241m=\u001b[39m\u001b[38;5;124m\"\u001b[39m\u001b[38;5;124mLANGCHAIN_HUB_API_KEY\u001b[39m\u001b[38;5;124m\"\u001b[39m):\n\u001b[0;32m     44\u001b[0m     val \u001b[38;5;241m=\u001b[39m os\u001b[38;5;241m.\u001b[39mgetenv(nm)\n\u001b[1;32m---> 45\u001b[0m     \u001b[38;5;28;01mif\u001b[39;00m \u001b[38;5;129;01mnot\u001b[39;00m val: \u001b[38;5;28;01mraise\u001b[39;00m \u001b[38;5;167;01mException\u001b[39;00m(\u001b[38;5;124mf\u001b[39m\u001b[38;5;124m\"\u001b[39m\u001b[38;5;124mYou must set the environment variable \u001b[39m\u001b[38;5;132;01m{\u001b[39;00mnm\u001b[38;5;132;01m}\u001b[39;00m\u001b[38;5;124m\"\u001b[39m)\n\u001b[0;32m     46\u001b[0m     \u001b[38;5;28;01mreturn\u001b[39;00m val\n",
      "\u001b[1;31mException\u001b[0m: You must set the environment variable LANGCHAIN_API_KEY"
     ]
    }
   ],
   "source": [
    "from langfree.runs import get_recent_runs\n",
    "runs = get_recent_runs(last_n_days=3, limit=5)"
   ]
  },
  {
   "cell_type": "code",
   "execution_count": null,
   "id": "92e4b427-d509-48fb-96f9-8778c9c5d297",
   "metadata": {},
   "outputs": [],
   "source": [
    "from langfree.chatrecord import ChatRecordSet\n",
    "llm_data = ChatRecordSet.from_runs(runs)"
   ]
  },
  {
   "cell_type": "code",
   "execution_count": null,
   "id": "4151792d-d084-450e-b65a-d4eb5aa378f8",
   "metadata": {},
   "outputs": [],
   "source": []
  },
  {
   "cell_type": "code",
   "execution_count": 13,
   "id": "f2bd140b-86fb-45b4-bbc8-78888160ebf5",
   "metadata": {},
   "outputs": [],
   "source": [
    "os.environ[\"LANGSMITH_TRACING\"]=\"true\"\n",
    "os.environ[\"LANGSMITH_ENDPOINT\"]=\"https://api.smith.langchain.com\"\n",
    "os.environ[\"LANGSMITH_API_KEY\"]=\"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\"\n",
    "os.environ[\"LANGSMITH_PROJECT\"]=\"pr-overcooked-worth-22\"\n",
    "\n",
    "os.environ[\"LANGCHAIN_ENDPOINT\"]=\"https://api.smith.langchain.com\"\n",
    "os.environ[\"LANGCHAIN_API_KEY\"]=\"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\"\n",
    "os.environ[\"LANGSMITH_PROJECT\"]=\"pr-oavercooked-worth-22\""
   ]
  },
  {
   "cell_type": "markdown",
   "id": "7c6e7bb3-411e-438b-809b-aa37c4de8baf",
   "metadata": {},
   "source": [
    "\n",
    "### Testing out the OpenAI model"
   ]
  },
  {
   "cell_type": "code",
   "execution_count": 3,
   "id": "79403d69-b1fc-40d1-a4cf-f8d9747a0ff6",
   "metadata": {},
   "outputs": [],
   "source": [
    "from openai import OpenAI\n",
    "client = OpenAI()\n",
    "\n",
    "response = client.chat.completions.create(\n",
    "    messages=[{\n",
    "        \"role\": \"user\",\n",
    "        \"content\": \"Say this is a test\",\n",
    "    }],\n",
    "    model=\"gpt-4o-mini\",\n",
    ")"
   ]
  },
  {
   "cell_type": "code",
   "execution_count": 4,
   "id": "485f8613-8b36-4214-bcba-dfbdcac5c214",
   "metadata": {},
   "outputs": [
    {
     "data": {
      "text/plain": [
       "ChatCompletion(id='chatcmpl-AttEo6SAdUJdhf0EkEJeebm2CVSRT', choices=[Choice(finish_reason='stop', index=0, logprobs=None, message=ChatCompletionMessage(content='This is a test.', refusal=None, role='assistant', audio=None, function_call=None, tool_calls=None))], created=1737883738, model='gpt-4o-mini-2024-07-18', object='chat.completion', service_tier='default', system_fingerprint='fp_72ed7ab54c', usage=CompletionUsage(completion_tokens=6, prompt_tokens=12, total_tokens=18, completion_tokens_details=CompletionTokensDetails(audio_tokens=0, reasoning_tokens=0, accepted_prediction_tokens=0, rejected_prediction_tokens=0), prompt_tokens_details=PromptTokensDetails(audio_tokens=0, cached_tokens=0)))"
      ]
     },
     "execution_count": 4,
     "metadata": {},
     "output_type": "execute_result"
    }
   ],
   "source": [
    "response"
   ]
  },
  {
   "cell_type": "code",
   "execution_count": 28,
   "id": "af379988-2859-44cd-bb4b-21aba6eb05f0",
   "metadata": {},
   "outputs": [],
   "source": [
    "# !pip install langchain langchain-openai"
   ]
  },
  {
   "cell_type": "markdown",
   "id": "5a9af1fc-73d1-4979-b843-8b6072ca00db",
   "metadata": {},
   "source": [
    "# Basic Tool Calling"
   ]
  },
  {
   "cell_type": "code",
   "execution_count": 3,
   "id": "356f130a-693f-4c52-9baf-faa1322e190c",
   "metadata": {},
   "outputs": [],
   "source": [
    "from langchain_openai import ChatOpenAI\n",
    "from langchain_core.tools import tool\n",
    "from langchain_core.messages import HumanMessage\n"
   ]
  },
  {
   "cell_type": "code",
   "execution_count": 4,
   "id": "cab3504a-0efa-4875-88ed-152e1323a5c3",
   "metadata": {},
   "outputs": [],
   "source": [
    "llm = ChatOpenAI(model=\"gpt-4o-mini\")"
   ]
  },
  {
   "cell_type": "markdown",
   "id": "62315080-0459-4e5d-b9e4-a32bc1330194",
   "metadata": {},
   "source": [
    "### Defining Tools Using Functions\n",
    "\n",
    "Tools can be defined using functions. By using a langchain decorator, or pydantic model, or from the BaseTool langchain class."
   ]
  },
  {
   "cell_type": "code",
   "execution_count": 5,
   "id": "12e609e6-f416-4b5d-99e4-9c7eaebaa862",
   "metadata": {},
   "outputs": [],
   "source": [
    "# The function name, type hints, and docstring are all part of the tool\n",
    "# schema that's passed to the model. Defining good, descriptive schemas\n",
    "# is an extension of prompt engineering and is an important part of\n",
    "# getting models to perform well.\n",
    "\n",
    "@tool\n",
    "def add(a: int, b: int) -> int:\n",
    "    \"\"\"Add two integers.\n",
    "    \"\"\"\n",
    "    return a + b\n",
    "\n",
    "@tool\n",
    "def multiply(a: int, b: int) -> int:\n",
    "    \"\"\"Multiply two integers.\n",
    "    \"\"\"\n",
    "    return a * b"
   ]
  },
  {
   "cell_type": "code",
   "execution_count": 6,
   "id": "25fbe62a-6df5-4ac9-ac51-7c38d2cf7a36",
   "metadata": {},
   "outputs": [
    {
     "name": "stdout",
     "output_type": "stream",
     "text": [
      "multiply\n",
      "Multiply two integers.\n",
      "{'a': {'title': 'A', 'type': 'integer'}, 'b': {'title': 'B', 'type': 'integer'}}\n"
     ]
    }
   ],
   "source": [
    "print(multiply.name)\n",
    "print(multiply.description)\n",
    "print(multiply.args)"
   ]
  },
  {
   "cell_type": "code",
   "execution_count": 7,
   "id": "c719a7c9-7b54-49bc-aa47-055157c544e4",
   "metadata": {},
   "outputs": [
    {
     "data": {
      "text/plain": [
       "{'description': 'Multiply two integers.',\n",
       " 'properties': {'a': {'title': 'A', 'type': 'integer'},\n",
       "  'b': {'title': 'B', 'type': 'integer'}},\n",
       " 'required': ['a', 'b'],\n",
       " 'title': 'multiply',\n",
       " 'type': 'object'}"
      ]
     },
     "execution_count": 7,
     "metadata": {},
     "output_type": "execute_result"
    }
   ],
   "source": [
    "multiply.args_schema.model_json_schema()"
   ]
  },
  {
   "cell_type": "code",
   "execution_count": 8,
   "id": "46c64e43-9fca-4b4e-a991-fec9785e304a",
   "metadata": {},
   "outputs": [
    {
     "data": {
      "text/plain": [
       "6"
      ]
     },
     "execution_count": 8,
     "metadata": {},
     "output_type": "execute_result"
    }
   ],
   "source": [
    "multiply.invoke({\"a\":2, \"b\":3})"
   ]
  },
  {
   "cell_type": "markdown",
   "id": "3cf9d9a4-cd01-493d-93d0-dc7b607780f4",
   "metadata": {},
   "source": [
    "### Binding Tools to LLM and Calling"
   ]
  },
  {
   "cell_type": "code",
   "execution_count": 9,
   "id": "d20d0e07-fba3-4b06-af1a-091b2522548b",
   "metadata": {},
   "outputs": [],
   "source": [
    "tools = [add, multiply]"
   ]
  },
  {
   "cell_type": "code",
   "execution_count": 10,
   "id": "b6df47ba-d76f-4bcd-9ccd-4e52b2895228",
   "metadata": {},
   "outputs": [
    {
     "data": {
      "text/plain": [
       "AIMessage(content='', additional_kwargs={'tool_calls': [{'id': 'call_GVIiZojA2g1614xJFqknEVIy', 'function': {'arguments': '{\"a\":3,\"b\":12}', 'name': 'multiply'}, 'type': 'function'}], 'refusal': None}, response_metadata={'token_usage': {'completion_tokens': 18, 'prompt_tokens': 73, 'total_tokens': 91, 'completion_tokens_details': {'accepted_prediction_tokens': 0, 'audio_tokens': 0, 'reasoning_tokens': 0, 'rejected_prediction_tokens': 0}, 'prompt_tokens_details': {'audio_tokens': 0, 'cached_tokens': 0}}, 'model_name': 'gpt-4o-mini-2024-07-18', 'system_fingerprint': 'fp_81274e7ad2', 'finish_reason': 'tool_calls', 'logprobs': None}, id='run-db81620f-f527-49c3-b26a-1fd5a0f10138-0', tool_calls=[{'name': 'multiply', 'args': {'a': 3, 'b': 12}, 'id': 'call_GVIiZojA2g1614xJFqknEVIy', 'type': 'tool_call'}], usage_metadata={'input_tokens': 73, 'output_tokens': 18, 'total_tokens': 91, 'input_token_details': {'audio': 0, 'cache_read': 0}, 'output_token_details': {'audio': 0, 'reasoning': 0}})"
      ]
     },
     "execution_count": 10,
     "metadata": {},
     "output_type": "execute_result"
    }
   ],
   "source": [
    "llm_with_tools = llm.bind_tools(tools)\n",
    "\n",
    "query = \"What is 3 * 12?\"\n",
    "\n",
    "message = llm_with_tools.invoke(query)\n",
    "message"
   ]
  },
  {
   "cell_type": "code",
   "execution_count": 11,
   "id": "8c42fb97-f76a-4186-ba23-c4646bd6d6a8",
   "metadata": {},
   "outputs": [
    {
     "data": {
      "text/plain": [
       "[{'name': 'multiply',\n",
       "  'args': {'a': 3, 'b': 12},\n",
       "  'id': 'call_GVIiZojA2g1614xJFqknEVIy',\n",
       "  'type': 'tool_call'}]"
      ]
     },
     "execution_count": 11,
     "metadata": {},
     "output_type": "execute_result"
    }
   ],
   "source": [
    "message.tool_calls"
   ]
  },
  {
   "cell_type": "markdown",
   "id": "86de5e73-89e5-49ff-b942-1f4f692b44e4",
   "metadata": {},
   "source": [
    "### Multiple Tool Calls"
   ]
  },
  {
   "cell_type": "code",
   "execution_count": 12,
   "id": "0c8a7d1d-fe97-4629-9f31-f3649cb8247a",
   "metadata": {},
   "outputs": [
    {
     "data": {
      "text/plain": [
       "[{'name': 'multiply',\n",
       "  'args': {'a': 3, 'b': 12},\n",
       "  'id': 'call_EMmy4ZrWYtVl57H2hNE84dGW',\n",
       "  'type': 'tool_call'},\n",
       " {'name': 'add',\n",
       "  'args': {'a': 11, 'b': 49},\n",
       "  'id': 'call_SKi71mbxCQylVq32lDSqIG7w',\n",
       "  'type': 'tool_call'}]"
      ]
     },
     "execution_count": 12,
     "metadata": {},
     "output_type": "execute_result"
    }
   ],
   "source": [
    "query = \"What is 3 * 12? Also, what is 11 + 49?\"\n",
    "\n",
    "llm_with_tools.invoke(query).tool_calls"
   ]
  },
  {
   "cell_type": "markdown",
   "id": "46709628-7da3-4be1-990d-3bca5ca15805",
   "metadata": {},
   "source": [
    "Optional: Pydantic output parsers, assuming the tool is defined using pydantic."
   ]
  },
  {
   "cell_type": "markdown",
   "id": "ce99865d-1f65-41f2-abe1-fcf9d2ab5b9c",
   "metadata": {},
   "source": [
    "### Pass tool results back to Model"
   ]
  },
  {
   "cell_type": "code",
   "execution_count": 13,
   "id": "e0643654-01c8-469e-ade8-5ce278776fd0",
   "metadata": {},
   "outputs": [
    {
     "name": "stdout",
     "output_type": "stream",
     "text": [
      "[{'name': 'multiply', 'args': {'a': 3, 'b': 12}, 'id': 'call_LxytXaczgE4VfkuifofjU7Rf', 'type': 'tool_call'}, {'name': 'add', 'args': {'a': 11, 'b': 49}, 'id': 'call_W4PSWguamjusm6NQWL7VcId9', 'type': 'tool_call'}]\n"
     ]
    }
   ],
   "source": [
    "query = \"What is 3 * 12? Also, what is 11 + 49?\"\n",
    "\n",
    "messages = [HumanMessage(query)]\n",
    "\n",
    "ai_msg = llm_with_tools.invoke(messages)\n",
    "\n",
    "print(ai_msg.tool_calls)\n",
    "\n",
    "messages.append(ai_msg)"
   ]
  },
  {
   "cell_type": "code",
   "execution_count": 14,
   "id": "2757133d-268d-4c97-a33d-dc10d4b47338",
   "metadata": {},
   "outputs": [
    {
     "data": {
      "text/plain": [
       "[HumanMessage(content='What is 3 * 12? Also, what is 11 + 49?', additional_kwargs={}, response_metadata={}),\n",
       " AIMessage(content='', additional_kwargs={'tool_calls': [{'id': 'call_LxytXaczgE4VfkuifofjU7Rf', 'function': {'arguments': '{\"a\": 3, \"b\": 12}', 'name': 'multiply'}, 'type': 'function'}, {'id': 'call_W4PSWguamjusm6NQWL7VcId9', 'function': {'arguments': '{\"a\": 11, \"b\": 49}', 'name': 'add'}, 'type': 'function'}], 'refusal': None}, response_metadata={'token_usage': {'completion_tokens': 51, 'prompt_tokens': 83, 'total_tokens': 134, 'completion_tokens_details': {'accepted_prediction_tokens': 0, 'audio_tokens': 0, 'reasoning_tokens': 0, 'rejected_prediction_tokens': 0}, 'prompt_tokens_details': {'audio_tokens': 0, 'cached_tokens': 0}}, 'model_name': 'gpt-4o-mini-2024-07-18', 'system_fingerprint': 'fp_bd83329f63', 'finish_reason': 'tool_calls', 'logprobs': None}, id='run-dd0f1fd6-4636-4f50-aeda-49544991e0fc-0', tool_calls=[{'name': 'multiply', 'args': {'a': 3, 'b': 12}, 'id': 'call_LxytXaczgE4VfkuifofjU7Rf', 'type': 'tool_call'}, {'name': 'add', 'args': {'a': 11, 'b': 49}, 'id': 'call_W4PSWguamjusm6NQWL7VcId9', 'type': 'tool_call'}], usage_metadata={'input_tokens': 83, 'output_tokens': 51, 'total_tokens': 134, 'input_token_details': {'audio': 0, 'cache_read': 0}, 'output_token_details': {'audio': 0, 'reasoning': 0}}),\n",
       " ToolMessage(content='36', name='multiply', tool_call_id='call_LxytXaczgE4VfkuifofjU7Rf'),\n",
       " ToolMessage(content='60', name='add', tool_call_id='call_W4PSWguamjusm6NQWL7VcId9')]"
      ]
     },
     "execution_count": 14,
     "metadata": {},
     "output_type": "execute_result"
    }
   ],
   "source": [
    "tools_dict = {\"add\": add, \"multiply\": multiply}\n",
    "\n",
    "for tool_call in ai_msg.tool_calls:\n",
    "    tool_output = tools_dict[tool_call[\"name\"]].invoke(tool_call)\n",
    "    messages.append(tool_output)\n",
    "\n",
    "messages"
   ]
  },
  {
   "cell_type": "code",
   "execution_count": 15,
   "id": "48de9cb8-89ef-4ff9-b460-2cce476e1430",
   "metadata": {},
   "outputs": [],
   "source": [
    "final_output = llm_with_tools.invoke(messages)"
   ]
  },
  {
   "cell_type": "code",
   "execution_count": 16,
   "id": "f1dc2998-bdcb-46c6-861c-020995e312cb",
   "metadata": {},
   "outputs": [
    {
     "data": {
      "text/plain": [
       "'The result of \\\\(3 \\\\times 12\\\\) is 36, and the result of \\\\(11 + 49\\\\) is 60.'"
      ]
     },
     "execution_count": 16,
     "metadata": {},
     "output_type": "execute_result"
    }
   ],
   "source": [
    "final_output.content"
   ]
  },
  {
   "cell_type": "markdown",
   "id": "12f62114-a04a-4d58-9577-0a300085acd8",
   "metadata": {},
   "source": [
    "### More Tools"
   ]
  },
  {
   "cell_type": "code",
   "execution_count": 17,
   "id": "c82508f5-b6d6-4cc7-85f9-a33e393a4182",
   "metadata": {},
   "outputs": [],
   "source": [
    "from collections import Counter\n",
    "\n",
    "@tool\n",
    "def character_count(string, char):\n",
    "    \"\"\"counts the number of given character in the given string\n",
    "    \"\"\"\n",
    "    return Counter(string).get(char, 0)"
   ]
  },
  {
   "cell_type": "code",
   "execution_count": 18,
   "id": "4539611a-db37-4e2c-96ef-78cb58add98e",
   "metadata": {},
   "outputs": [
    {
     "data": {
      "text/plain": [
       "3"
      ]
     },
     "execution_count": 18,
     "metadata": {},
     "output_type": "execute_result"
    }
   ],
   "source": [
    "character_count.invoke({\"string\":\"strawberry\", \"char\":\"r\"})"
   ]
  },
  {
   "cell_type": "code",
   "execution_count": 19,
   "id": "3a17be3e-f2dc-4d30-8885-e992d700bbfe",
   "metadata": {},
   "outputs": [],
   "source": [
    "llm_with_tools = llm.bind_tools([add, multiply, character_count])"
   ]
  },
  {
   "cell_type": "code",
   "execution_count": 20,
   "id": "b9853f6b-44a1-40e0-9374-3606b40f10de",
   "metadata": {},
   "outputs": [
    {
     "name": "stdout",
     "output_type": "stream",
     "text": [
      "####################################################################################################\n",
      "[{'name': 'character_count', 'args': {'string': 'strawberry', 'char': 'w'}, 'id': 'call_2e5bXzCZHtjWC9wc46MwwBZB', 'type': 'tool_call'}, {'name': 'add', 'args': {'a': 3, 'b': 78}, 'id': 'call_34uswHF4PSwQFfcfHpyFz73j', 'type': 'tool_call'}]\n",
      "####################################################################################################\n"
     ]
    },
    {
     "data": {
      "text/plain": [
       "'There is 1 \\'w\\' in the word \"strawberry.\" Also, the sum of 3 and 78 is 81.'"
      ]
     },
     "execution_count": 20,
     "metadata": {},
     "output_type": "execute_result"
    }
   ],
   "source": [
    "query = \"How many 'w's are present in the word strawberry? Also what is 3+78\"\n",
    "messages = [HumanMessage(query)]\n",
    "\n",
    "ai_msg = llm_with_tools.invoke(messages)\n",
    "print(\"#\"*100)\n",
    "print(ai_msg.tool_calls)\n",
    "messages.append(ai_msg)\n",
    "\n",
    "tools_dict = {\"add\": add, \"multiply\": multiply, \"character_count\": character_count}\n",
    "print(\"#\"*100)\n",
    "for tool_call in ai_msg.tool_calls:\n",
    "    tool_output = tools_dict[tool_call[\"name\"]].invoke(tool_call)\n",
    "    messages.append(tool_output)\n",
    "final_output = llm_with_tools.invoke(messages)\n",
    "final_output.content"
   ]
  },
  {
   "cell_type": "markdown",
   "id": "bca20274-7fe2-45a0-ad26-107fa76d20d3",
   "metadata": {},
   "source": [
    "### Tool-Ception\n",
    "\n",
    "Nested query that requires you to pass output of function calls to another function call.\n",
    "\n",
    "In while loop, keep performing the tool calls till you get an answer."
   ]
  },
  {
   "cell_type": "code",
   "execution_count": 27,
   "id": "9b7c6d82-1013-46a5-8815-534f4cf426b5",
   "metadata": {},
   "outputs": [
    {
     "data": {
      "text/plain": [
       "'The sum of the number of \\'r\\'s in \"strawberry\" and the number of \\'b\\'s in \"blueberry\" is 5.'"
      ]
     },
     "execution_count": 27,
     "metadata": {},
     "output_type": "execute_result"
    }
   ],
   "source": [
    "query = \"What is the sum of the number of r's in strawberry and the number of b's in blueberry\"\n",
    "messages = [HumanMessage(query)]\n",
    "\n",
    "output = llm_with_tools.invoke(messages)\n",
    "messages.append(output)\n",
    "while len(output.content) == 0 and len(output.tool_calls) !=0:\n",
    "    for tool_call in output.tool_calls:\n",
    "        tool_output = tools_dict[tool_call[\"name\"]].invoke(tool_call)\n",
    "        messages.append(tool_output)\n",
    "    output = llm_with_tools.invoke(messages)\n",
    "    messages.append(output)\n",
    "output.content"
   ]
  },
  {
   "cell_type": "code",
   "execution_count": null,
   "id": "fd5ba444-362b-4ea8-ad90-b6d733ae70b6",
   "metadata": {},
   "outputs": [],
   "source": []
  },
  {
   "cell_type": "code",
   "execution_count": null,
   "id": "dadaab9d-e2ad-495d-8302-adfd0d2d2bb9",
   "metadata": {},
   "outputs": [],
   "source": []
  },
  {
   "cell_type": "code",
   "execution_count": null,
   "id": "f982c3f7-10f0-4777-ba3b-ef965ead7f64",
   "metadata": {},
   "outputs": [],
   "source": []
  },
  {
   "cell_type": "code",
   "execution_count": 49,
   "id": "13e9d280-2d77-47f0-9d03-5aa03595c098",
   "metadata": {},
   "outputs": [],
   "source": [
    "# !pip install -U langsmith openai"
   ]
  },
  {
   "cell_type": "code",
   "execution_count": null,
   "id": "0c90cac9-6a6c-48f7-9fa1-04b8e53ac75e",
   "metadata": {},
   "outputs": [],
   "source": []
  }
 ],
 "metadata": {
  "kernelspec": {
   "display_name": "Python 3 (ipykernel)",
   "language": "python",
   "name": "python3"
  },
  "language_info": {
   "codemirror_mode": {
    "name": "ipython",
    "version": 3
   },
   "file_extension": ".py",
   "mimetype": "text/x-python",
   "name": "python",
   "nbconvert_exporter": "python",
   "pygments_lexer": "ipython3",
   "version": "3.10.16"
  }
 },
 "nbformat": 4,
 "nbformat_minor": 5
}
